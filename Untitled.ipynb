{
 "cells": [
  {
   "cell_type": "code",
   "execution_count": 1,
   "id": "355abaae-dcce-4b51-9744-5a41ff9d2d5a",
   "metadata": {},
   "outputs": [],
   "source": [
    "model = \"yolox-s\"\n",
    "num_accelerators = 1\n",
    "total_batch_size = 2"
   ]
  },
  {
   "cell_type": "code",
   "execution_count": 2,
   "id": "cb363a9f-fbd6-48ae-8c8a-23bed718ac3a",
   "metadata": {},
   "outputs": [],
   "source": [
    "env_var_options = \"NEURON_RT_ASYNC_EXEC_MAX_INFLIGHT_REQUESTS=3  \" + \\\n",
    "    \"NEURON_CC_FLAGS=\\'--cache_dir=./compiler_cache --model-type=cnn-training\\'\"\n"
   ]
  },
  {
   "cell_type": "code",
   "execution_count": 3,
   "id": "9c029114-86ef-4354-85ad-cc9beee29c53",
   "metadata": {},
   "outputs": [],
   "source": [
    "!source /opt/aws_neuronx_venv_pytorch_2_1/bin/activate"
   ]
  },
  {
   "cell_type": "code",
   "execution_count": 9,
   "id": "d32761f7-6075-413c-8b5b-9e9388e92eb5",
   "metadata": {
    "scrolled": true
   },
   "outputs": [
    {
     "name": "stdout",
     "output_type": "stream",
     "text": [
      "Compile model\n",
      "Running command: \n",
      "NEURON_RT_ASYNC_EXEC_MAX_INFLIGHT_REQUESTS=3  NEURON_CC_FLAGS='--cache_dir=./compiler_cache --model-type=cnn-training' neuron_parallel_compile python -m    yolox.tools.train     -n yolox-s     -d 1     -b 2     \n",
      "2024-08-28 14:33:05.000880:  89282  INFO ||NEURON_PARALLEL_COMPILE||: Removing existing workdir /tmp/ubuntu/parallel_compile_workdir\n",
      "2024-08-28 14:33:05.000880:  89282  INFO ||NEURON_PARALLEL_COMPILE||: Running trial run (add option to terminate trial run early; also ignore trial run's generated outputs, i.e. loss, checkpoints)\n",
      "2024-08-28 14:33:05.000880:  89282  INFO ||NEURON_PARALLEL_COMPILE||: Running cmd: ['python', '-m', 'yolox.tools.train', '-n', 'yolox-s', '-d', '1', '-b', '2']\n",
      "/bin/sh: 1: nvidia-smi: not found\n",
      "2024-08-28 14:33:16 | INFO     | yolox.core.trainer:137 - args: Namespace(experiment_name='yolox_s', name='yolox-s', dist_backend='nccl', dist_url=None, batch_size=2, devices=1, exp_file=None, resume=False, ckpt=None, start_epoch=None, num_machines=1, machine_rank=0, fp16=False, cache=None, occupy=False, logger='tensorboard', opts=[])\n",
      "2024-08-28 14:33:16 | INFO     | yolox.core.trainer:138 - exp value:\n",
      "╒���════���═��══════��═══���╤═══��═════════��════��══���════��═╕\n",
      "│ keys              │ values                     │\n",
      "╞═══════���═══���════��══╪═���════���═════════���════��═════���╡\n",
      "│ seed              �� None                       │\n",
      "├──────────────────��┼───��────��────��────��────���────┤\n",
      "│ output_dir        │ './YOLOX_outputs'          │\n",
      "├──��─────���────���────���┼────────���────���────��─────────┤\n",
      "│ print_interval    │ 10                         │\n",
      "├���───���──���──────���──���─┼───���─────���─────���───��────────┤\n",
      "��� eval_interval     │ 10                         │\n",
      "├��─────���─────���──────┼─��──────────��──────���───���────┤\n",
      "│ dataset           │ None                       │\n",
      "├───────��───────���───���────────���──��───────���───��────┤\n",
      "�� num_classes       │ 80                         │\n",
      "├────��─────���────��───┼───────────���───��────���─��─────��\n",
      "│ depth             │ 0.33                       │\n",
      "├��────��──��──��────��──┼─���──���──���─��──���──��────���─────���─┤\n",
      "│ width             │ 0.5                        ���\n",
      "├──���──��──��────��──��──┼──────────────���───────────��─┤\n",
      "│ act               �� 'silu'                     │\n",
      "���────��──────────────┼──────���────���──���───��─────────┤\n",
      "�� data_num_workers  │ 4                          │\n",
      "├──��───────────���────��──────��────────────��──��─────┤\n",
      "│ input_size        │ (640, 640)                 │\n",
      "├───��───���───��───��──��┼─��──���──��──��────���───────���───���┤\n",
      "│ multiscale_range  │ 5                          │\n",
      "��────���──────────���───��───────────��─────��──────────���\n",
      "│ data_dir          ��� None                       │\n",
      "├���─────���────────────���────��────────────────���────��─┤\n",
      "│ train_ann         │ 'instances_train2017.json' │\n",
      "��─────��──────��──��──���┼─��──���───���──��───���───��────��───���\n",
      "│ val_ann           │ 'instances_val2017.json'   ��\n",
      "├────────��────���─────┼─���──────────���──���──��────���───��┤\n",
      "│ test_ann          │ 'instances_test2017.json'  │\n",
      "├───���──��──��─────────┼─��────���──��───────��─���─────��──┤\n",
      "│ mosaic_prob       │ 1.0                        │\n",
      "├──���────��─────���─────┼────���────��───────────���──────���\n",
      "│ mixup_prob        │ 1.0                        │\n",
      "├───────────���────���──┼─��───��──────────���────��─────���┤\n",
      "│ hsv_prob          │ 1.0                        ���\n",
      "├─────────���────��────┼──────���────��───────────���────��\n",
      "│ flip_prob         │ 0.5                        │\n",
      "├─���────��────────────┼───���────��────��─────��─────���──┤\n",
      "│ degrees           ��� 10.0                       │\n",
      "├─────���────��─────���──┼─��─────���────��──────────��────┤\n",
      "│ translate         │ 0.1                        │\n",
      "├──���────────────────���────��─────���────��──────────���─┤\n",
      "│ mosaic_scale      �� (0.1, 2)                   ��\n",
      "├──────────────────���┼───��────��──────────���────���───┤\n",
      "��� enable_mixup      │ True                       │\n",
      "├��─────��────��────��──┼───────��─────��─────���────────┤\n",
      "│ mixup_scale       │ (0.5, 1.5)                 │\n",
      "├────────��─────���────��─────���──────────��─────���─────��\n",
      "│ shear             │ 2.0                        │\n",
      "├──────��──────────��─┼─────────────��────��─────────┤\n",
      "│ warmup_epochs     │ 5                          │\n",
      "├────────��─────���────┼──���──���───���───��───��──────���──��┤\n",
      "│ max_epoch         │ 300                        │\n",
      "├���───��──────��────���──┼���─��────���──���────────��──���──���──��\n",
      "│ warmup_lr         │ 0                          │\n",
      "├───────���────��──────┼─────────���────��────��──��─────┤\n",
      "│ min_lr_ratio      │ 0.05                       │\n",
      "├───────────��───────┼──���───────────���───────────���─┤\n",
      "│ basic_lr_per_img  ��� 0.00015625                 ��\n",
      "├─────────���────��────┼���───���──���──��─────────���───��───┤\n",
      "│ scheduler         │ 'yoloxwarmcos'             ��\n",
      "├─��─────────��─────���─┼───────���───��──��────��───��──��─┤\n",
      "�� no_aug_epochs     │ 15                         │\n",
      "├───���───────────────┼���─────────────���───────��─────┤\n",
      "│ ema               │ True                       │\n",
      "├─────���─────────────┼��───────────��───────────��───┤\n",
      "│ weight_decay      │ 0.0005                     │\n",
      "├──────────���────────┼─��───────��───────��─────���────┤\n",
      "│ momentum          │ 0.9                        │\n",
      "├──���─────��─────���────┼─────────���────��──────────���──��\n",
      "│ save_history_ckpt │ True                       ��\n",
      "├──��──��───��──���──────┼���───���──���──��────���─────���─────���┤\n",
      "│ exp_name          ��� 'yolox_s'                  │\n",
      "���────���──────────���───┼───���─────���─────��───────────���┤\n",
      "│ test_size         │ (640, 640)                 │\n",
      "├���───────────���──────┼───��──────────���─────────────���\n",
      "│ test_conf         │ 0.01                       │\n",
      "├───��───────────���───┼─���────��──────────���──��───────���\n",
      "│ nmsthre           �� 0.65                       │\n",
      "��═══���══��════���═════���═╧═══��════════��══��════���═══════╛\n",
      "2024-08-28 14:33:17 | INFO     | yolox.core.trainer:142 - Model Summary: Params: 8.97M, Gflops: 26.93\n",
      "2024-08-28 14:33:17 | INFO     | yolox.data.datasets.coco:63 - loading annotations into memory...\n",
      "2024-08-28 14:33:27 | INFO     | yolox.data.datasets.coco:63 - Done (t=10.63s)\n",
      "2024-08-28 14:33:27 | INFO     | pycocotools.coco:86 - creating index...\n",
      "2024-08-28 14:33:28 | INFO     | pycocotools.coco:86 - index created!\n",
      "2024-08-28 14:33:52 | INFO     | yolox.core.trainer:159 - init prefetcher, this might take one minute or less...\n",
      "2024-08-28 14:33:52 | INFO     | yolox.data.datasets.coco:63 - loading annotations into memory...\n",
      "2024-08-28 14:33:53 | INFO     | yolox.data.datasets.coco:63 - Done (t=0.27s)\n",
      "2024-08-28 14:33:53 | INFO     | pycocotools.coco:86 - creating index...\n",
      "2024-08-28 14:33:53 | INFO     | pycocotools.coco:86 - index created!\n",
      "2024-08-28 14:33:54 | INFO     | yolox.core.trainer:196 - Training start...\n",
      "2024-08-28 14:33:54 | INFO     | yolox.core.trainer:197 - \n",
      "YOLOX(\n",
      "  (backbone): YOLOPAFPN(\n",
      "    (backbone): CSPDarknet(\n",
      "      (stem): Focus(\n",
      "        (conv): BaseConv(\n",
      "          (conv): Conv2d(12, 32, kernel_size=(3, 3), stride=(1, 1), padding=(1, 1), bias=False)\n",
      "          (bn): BatchNorm2d(32, eps=0.001, momentum=0.03, affine=True, track_running_stats=True)\n",
      "          (act): SiLU(inplace=True)\n",
      "        )\n",
      "      )\n",
      "      (dark2): Sequential(\n",
      "        (0): BaseConv(\n",
      "          (conv): Conv2d(32, 64, kernel_size=(3, 3), stride=(2, 2), padding=(1, 1), bias=False)\n",
      "          (bn): BatchNorm2d(64, eps=0.001, momentum=0.03, affine=True, track_running_stats=True)\n",
      "          (act): SiLU(inplace=True)\n",
      "        )\n",
      "        (1): CSPLayer(\n",
      "          (conv1): BaseConv(\n",
      "            (conv): Conv2d(64, 32, kernel_size=(1, 1), stride=(1, 1), bias=False)\n",
      "            (bn): BatchNorm2d(32, eps=0.001, momentum=0.03, affine=True, track_running_stats=True)\n",
      "            (act): SiLU(inplace=True)\n",
      "          )\n",
      "          (conv2): BaseConv(\n",
      "            (conv): Conv2d(64, 32, kernel_size=(1, 1), stride=(1, 1), bias=False)\n",
      "            (bn): BatchNorm2d(32, eps=0.001, momentum=0.03, affine=True, track_running_stats=True)\n",
      "            (act): SiLU(inplace=True)\n",
      "          )\n",
      "          (conv3): BaseConv(\n",
      "            (conv): Conv2d(64, 64, kernel_size=(1, 1), stride=(1, 1), bias=False)\n",
      "            (bn): BatchNorm2d(64, eps=0.001, momentum=0.03, affine=True, track_running_stats=True)\n",
      "            (act): SiLU(inplace=True)\n",
      "          )\n",
      "          (m): Sequential(\n",
      "            (0): Bottleneck(\n",
      "              (conv1): BaseConv(\n",
      "                (conv): Conv2d(32, 32, kernel_size=(1, 1), stride=(1, 1), bias=False)\n",
      "                (bn): BatchNorm2d(32, eps=0.001, momentum=0.03, affine=True, track_running_stats=True)\n",
      "                (act): SiLU(inplace=True)\n",
      "              )\n",
      "              (conv2): BaseConv(\n",
      "                (conv): Conv2d(32, 32, kernel_size=(3, 3), stride=(1, 1), padding=(1, 1), bias=False)\n",
      "                (bn): BatchNorm2d(32, eps=0.001, momentum=0.03, affine=True, track_running_stats=True)\n",
      "                (act): SiLU(inplace=True)\n",
      "              )\n",
      "            )\n",
      "          )\n",
      "        )\n",
      "      )\n",
      "      (dark3): Sequential(\n",
      "        (0): BaseConv(\n",
      "          (conv): Conv2d(64, 128, kernel_size=(3, 3), stride=(2, 2), padding=(1, 1), bias=False)\n",
      "          (bn): BatchNorm2d(128, eps=0.001, momentum=0.03, affine=True, track_running_stats=True)\n",
      "          (act): SiLU(inplace=True)\n",
      "        )\n",
      "        (1): CSPLayer(\n",
      "          (conv1): BaseConv(\n",
      "            (conv): Conv2d(128, 64, kernel_size=(1, 1), stride=(1, 1), bias=False)\n",
      "            (bn): BatchNorm2d(64, eps=0.001, momentum=0.03, affine=True, track_running_stats=True)\n",
      "            (act): SiLU(inplace=True)\n",
      "          )\n",
      "          (conv2): BaseConv(\n",
      "            (conv): Conv2d(128, 64, kernel_size=(1, 1), stride=(1, 1), bias=False)\n",
      "            (bn): BatchNorm2d(64, eps=0.001, momentum=0.03, affine=True, track_running_stats=True)\n",
      "            (act): SiLU(inplace=True)\n",
      "          )\n",
      "          (conv3): BaseConv(\n",
      "            (conv): Conv2d(128, 128, kernel_size=(1, 1), stride=(1, 1), bias=False)\n",
      "            (bn): BatchNorm2d(128, eps=0.001, momentum=0.03, affine=True, track_running_stats=True)\n",
      "            (act): SiLU(inplace=True)\n",
      "          )\n",
      "          (m): Sequential(\n",
      "            (0): Bottleneck(\n",
      "              (conv1): BaseConv(\n",
      "                (conv): Conv2d(64, 64, kernel_size=(1, 1), stride=(1, 1), bias=False)\n",
      "                (bn): BatchNorm2d(64, eps=0.001, momentum=0.03, affine=True, track_running_stats=True)\n",
      "                (act): SiLU(inplace=True)\n",
      "              )\n",
      "              (conv2): BaseConv(\n",
      "                (conv): Conv2d(64, 64, kernel_size=(3, 3), stride=(1, 1), padding=(1, 1), bias=False)\n",
      "                (bn): BatchNorm2d(64, eps=0.001, momentum=0.03, affine=True, track_running_stats=True)\n",
      "                (act): SiLU(inplace=True)\n",
      "              )\n",
      "            )\n",
      "            (1): Bottleneck(\n",
      "              (conv1): BaseConv(\n",
      "                (conv): Conv2d(64, 64, kernel_size=(1, 1), stride=(1, 1), bias=False)\n",
      "                (bn): BatchNorm2d(64, eps=0.001, momentum=0.03, affine=True, track_running_stats=True)\n",
      "                (act): SiLU(inplace=True)\n",
      "              )\n",
      "              (conv2): BaseConv(\n",
      "                (conv): Conv2d(64, 64, kernel_size=(3, 3), stride=(1, 1), padding=(1, 1), bias=False)\n",
      "                (bn): BatchNorm2d(64, eps=0.001, momentum=0.03, affine=True, track_running_stats=True)\n",
      "                (act): SiLU(inplace=True)\n",
      "              )\n",
      "            )\n",
      "            (2): Bottleneck(\n",
      "              (conv1): BaseConv(\n",
      "                (conv): Conv2d(64, 64, kernel_size=(1, 1), stride=(1, 1), bias=False)\n",
      "                (bn): BatchNorm2d(64, eps=0.001, momentum=0.03, affine=True, track_running_stats=True)\n",
      "                (act): SiLU(inplace=True)\n",
      "              )\n",
      "              (conv2): BaseConv(\n",
      "                (conv): Conv2d(64, 64, kernel_size=(3, 3), stride=(1, 1), padding=(1, 1), bias=False)\n",
      "                (bn): BatchNorm2d(64, eps=0.001, momentum=0.03, affine=True, track_running_stats=True)\n",
      "                (act): SiLU(inplace=True)\n",
      "              )\n",
      "            )\n",
      "          )\n",
      "        )\n",
      "      )\n",
      "      (dark4): Sequential(\n",
      "        (0): BaseConv(\n",
      "          (conv): Conv2d(128, 256, kernel_size=(3, 3), stride=(2, 2), padding=(1, 1), bias=False)\n",
      "          (bn): BatchNorm2d(256, eps=0.001, momentum=0.03, affine=True, track_running_stats=True)\n",
      "          (act): SiLU(inplace=True)\n",
      "        )\n",
      "        (1): CSPLayer(\n",
      "          (conv1): BaseConv(\n",
      "            (conv): Conv2d(256, 128, kernel_size=(1, 1), stride=(1, 1), bias=False)\n",
      "            (bn): BatchNorm2d(128, eps=0.001, momentum=0.03, affine=True, track_running_stats=True)\n",
      "            (act): SiLU(inplace=True)\n",
      "          )\n",
      "          (conv2): BaseConv(\n",
      "            (conv): Conv2d(256, 128, kernel_size=(1, 1), stride=(1, 1), bias=False)\n",
      "            (bn): BatchNorm2d(128, eps=0.001, momentum=0.03, affine=True, track_running_stats=True)\n",
      "            (act): SiLU(inplace=True)\n",
      "          )\n",
      "          (conv3): BaseConv(\n",
      "            (conv): Conv2d(256, 256, kernel_size=(1, 1), stride=(1, 1), bias=False)\n",
      "            (bn): BatchNorm2d(256, eps=0.001, momentum=0.03, affine=True, track_running_stats=True)\n",
      "            (act): SiLU(inplace=True)\n",
      "          )\n",
      "          (m): Sequential(\n",
      "            (0): Bottleneck(\n",
      "              (conv1): BaseConv(\n",
      "                (conv): Conv2d(128, 128, kernel_size=(1, 1), stride=(1, 1), bias=False)\n",
      "                (bn): BatchNorm2d(128, eps=0.001, momentum=0.03, affine=True, track_running_stats=True)\n",
      "                (act): SiLU(inplace=True)\n",
      "              )\n",
      "              (conv2): BaseConv(\n",
      "                (conv): Conv2d(128, 128, kernel_size=(3, 3), stride=(1, 1), padding=(1, 1), bias=False)\n",
      "                (bn): BatchNorm2d(128, eps=0.001, momentum=0.03, affine=True, track_running_stats=True)\n",
      "                (act): SiLU(inplace=True)\n",
      "              )\n",
      "            )\n",
      "            (1): Bottleneck(\n",
      "              (conv1): BaseConv(\n",
      "                (conv): Conv2d(128, 128, kernel_size=(1, 1), stride=(1, 1), bias=False)\n",
      "                (bn): BatchNorm2d(128, eps=0.001, momentum=0.03, affine=True, track_running_stats=True)\n",
      "                (act): SiLU(inplace=True)\n",
      "              )\n",
      "              (conv2): BaseConv(\n",
      "                (conv): Conv2d(128, 128, kernel_size=(3, 3), stride=(1, 1), padding=(1, 1), bias=False)\n",
      "                (bn): BatchNorm2d(128, eps=0.001, momentum=0.03, affine=True, track_running_stats=True)\n",
      "                (act): SiLU(inplace=True)\n",
      "              )\n",
      "            )\n",
      "            (2): Bottleneck(\n",
      "              (conv1): BaseConv(\n",
      "                (conv): Conv2d(128, 128, kernel_size=(1, 1), stride=(1, 1), bias=False)\n",
      "                (bn): BatchNorm2d(128, eps=0.001, momentum=0.03, affine=True, track_running_stats=True)\n",
      "                (act): SiLU(inplace=True)\n",
      "              )\n",
      "              (conv2): BaseConv(\n",
      "                (conv): Conv2d(128, 128, kernel_size=(3, 3), stride=(1, 1), padding=(1, 1), bias=False)\n",
      "                (bn): BatchNorm2d(128, eps=0.001, momentum=0.03, affine=True, track_running_stats=True)\n",
      "                (act): SiLU(inplace=True)\n",
      "              )\n",
      "            )\n",
      "          )\n",
      "        )\n",
      "      )\n",
      "      (dark5): Sequential(\n",
      "        (0): BaseConv(\n",
      "          (conv): Conv2d(256, 512, kernel_size=(3, 3), stride=(2, 2), padding=(1, 1), bias=False)\n",
      "          (bn): BatchNorm2d(512, eps=0.001, momentum=0.03, affine=True, track_running_stats=True)\n",
      "          (act): SiLU(inplace=True)\n",
      "        )\n",
      "        (1): SPPBottleneck(\n",
      "          (conv1): BaseConv(\n",
      "            (conv): Conv2d(512, 256, kernel_size=(1, 1), stride=(1, 1), bias=False)\n",
      "            (bn): BatchNorm2d(256, eps=0.001, momentum=0.03, affine=True, track_running_stats=True)\n",
      "            (act): SiLU(inplace=True)\n",
      "          )\n",
      "          (m): ModuleList(\n",
      "            (0): MaxPool2d(kernel_size=5, stride=1, padding=2, dilation=1, ceil_mode=False)\n",
      "            (1): MaxPool2d(kernel_size=9, stride=1, padding=4, dilation=1, ceil_mode=False)\n",
      "            (2): MaxPool2d(kernel_size=13, stride=1, padding=6, dilation=1, ceil_mode=False)\n",
      "          )\n",
      "          (conv2): BaseConv(\n",
      "            (conv): Conv2d(1024, 512, kernel_size=(1, 1), stride=(1, 1), bias=False)\n",
      "            (bn): BatchNorm2d(512, eps=0.001, momentum=0.03, affine=True, track_running_stats=True)\n",
      "            (act): SiLU(inplace=True)\n",
      "          )\n",
      "        )\n",
      "        (2): CSPLayer(\n",
      "          (conv1): BaseConv(\n",
      "            (conv): Conv2d(512, 256, kernel_size=(1, 1), stride=(1, 1), bias=False)\n",
      "            (bn): BatchNorm2d(256, eps=0.001, momentum=0.03, affine=True, track_running_stats=True)\n",
      "            (act): SiLU(inplace=True)\n",
      "          )\n",
      "          (conv2): BaseConv(\n",
      "            (conv): Conv2d(512, 256, kernel_size=(1, 1), stride=(1, 1), bias=False)\n",
      "            (bn): BatchNorm2d(256, eps=0.001, momentum=0.03, affine=True, track_running_stats=True)\n",
      "            (act): SiLU(inplace=True)\n",
      "          )\n",
      "          (conv3): BaseConv(\n",
      "            (conv): Conv2d(512, 512, kernel_size=(1, 1), stride=(1, 1), bias=False)\n",
      "            (bn): BatchNorm2d(512, eps=0.001, momentum=0.03, affine=True, track_running_stats=True)\n",
      "            (act): SiLU(inplace=True)\n",
      "          )\n",
      "          (m): Sequential(\n",
      "            (0): Bottleneck(\n",
      "              (conv1): BaseConv(\n",
      "                (conv): Conv2d(256, 256, kernel_size=(1, 1), stride=(1, 1), bias=False)\n",
      "                (bn): BatchNorm2d(256, eps=0.001, momentum=0.03, affine=True, track_running_stats=True)\n",
      "                (act): SiLU(inplace=True)\n",
      "              )\n",
      "              (conv2): BaseConv(\n",
      "                (conv): Conv2d(256, 256, kernel_size=(3, 3), stride=(1, 1), padding=(1, 1), bias=False)\n",
      "                (bn): BatchNorm2d(256, eps=0.001, momentum=0.03, affine=True, track_running_stats=True)\n",
      "                (act): SiLU(inplace=True)\n",
      "              )\n",
      "            )\n",
      "          )\n",
      "        )\n",
      "      )\n",
      "    )\n",
      "    (upsample): Upsample(scale_factor=2.0, mode='nearest')\n",
      "    (lateral_conv0): BaseConv(\n",
      "      (conv): Conv2d(512, 256, kernel_size=(1, 1), stride=(1, 1), bias=False)\n",
      "      (bn): BatchNorm2d(256, eps=0.001, momentum=0.03, affine=True, track_running_stats=True)\n",
      "      (act): SiLU(inplace=True)\n",
      "    )\n",
      "    (C3_p4): CSPLayer(\n",
      "      (conv1): BaseConv(\n",
      "        (conv): Conv2d(512, 128, kernel_size=(1, 1), stride=(1, 1), bias=False)\n",
      "        (bn): BatchNorm2d(128, eps=0.001, momentum=0.03, affine=True, track_running_stats=True)\n",
      "        (act): SiLU(inplace=True)\n",
      "      )\n",
      "      (conv2): BaseConv(\n",
      "        (conv): Conv2d(512, 128, kernel_size=(1, 1), stride=(1, 1), bias=False)\n",
      "        (bn): BatchNorm2d(128, eps=0.001, momentum=0.03, affine=True, track_running_stats=True)\n",
      "        (act): SiLU(inplace=True)\n",
      "      )\n",
      "      (conv3): BaseConv(\n",
      "        (conv): Conv2d(256, 256, kernel_size=(1, 1), stride=(1, 1), bias=False)\n",
      "        (bn): BatchNorm2d(256, eps=0.001, momentum=0.03, affine=True, track_running_stats=True)\n",
      "        (act): SiLU(inplace=True)\n",
      "      )\n",
      "      (m): Sequential(\n",
      "        (0): Bottleneck(\n",
      "          (conv1): BaseConv(\n",
      "            (conv): Conv2d(128, 128, kernel_size=(1, 1), stride=(1, 1), bias=False)\n",
      "            (bn): BatchNorm2d(128, eps=0.001, momentum=0.03, affine=True, track_running_stats=True)\n",
      "            (act): SiLU(inplace=True)\n",
      "          )\n",
      "          (conv2): BaseConv(\n",
      "            (conv): Conv2d(128, 128, kernel_size=(3, 3), stride=(1, 1), padding=(1, 1), bias=False)\n",
      "            (bn): BatchNorm2d(128, eps=0.001, momentum=0.03, affine=True, track_running_stats=True)\n",
      "            (act): SiLU(inplace=True)\n",
      "          )\n",
      "        )\n",
      "      )\n",
      "    )\n",
      "    (reduce_conv1): BaseConv(\n",
      "      (conv): Conv2d(256, 128, kernel_size=(1, 1), stride=(1, 1), bias=False)\n",
      "      (bn): BatchNorm2d(128, eps=0.001, momentum=0.03, affine=True, track_running_stats=True)\n",
      "      (act): SiLU(inplace=True)\n",
      "    )\n",
      "    (C3_p3): CSPLayer(\n",
      "      (conv1): BaseConv(\n",
      "        (conv): Conv2d(256, 64, kernel_size=(1, 1), stride=(1, 1), bias=False)\n",
      "        (bn): BatchNorm2d(64, eps=0.001, momentum=0.03, affine=True, track_running_stats=True)\n",
      "        (act): SiLU(inplace=True)\n",
      "      )\n",
      "      (conv2): BaseConv(\n",
      "        (conv): Conv2d(256, 64, kernel_size=(1, 1), stride=(1, 1), bias=False)\n",
      "        (bn): BatchNorm2d(64, eps=0.001, momentum=0.03, affine=True, track_running_stats=True)\n",
      "        (act): SiLU(inplace=True)\n",
      "      )\n",
      "      (conv3): BaseConv(\n",
      "        (conv): Conv2d(128, 128, kernel_size=(1, 1), stride=(1, 1), bias=False)\n",
      "        (bn): BatchNorm2d(128, eps=0.001, momentum=0.03, affine=True, track_running_stats=True)\n",
      "        (act): SiLU(inplace=True)\n",
      "      )\n",
      "      (m): Sequential(\n",
      "        (0): Bottleneck(\n",
      "          (conv1): BaseConv(\n",
      "            (conv): Conv2d(64, 64, kernel_size=(1, 1), stride=(1, 1), bias=False)\n",
      "            (bn): BatchNorm2d(64, eps=0.001, momentum=0.03, affine=True, track_running_stats=True)\n",
      "            (act): SiLU(inplace=True)\n",
      "          )\n",
      "          (conv2): BaseConv(\n",
      "            (conv): Conv2d(64, 64, kernel_size=(3, 3), stride=(1, 1), padding=(1, 1), bias=False)\n",
      "            (bn): BatchNorm2d(64, eps=0.001, momentum=0.03, affine=True, track_running_stats=True)\n",
      "            (act): SiLU(inplace=True)\n",
      "          )\n",
      "        )\n",
      "      )\n",
      "    )\n",
      "    (bu_conv2): BaseConv(\n",
      "      (conv): Conv2d(128, 128, kernel_size=(3, 3), stride=(2, 2), padding=(1, 1), bias=False)\n",
      "      (bn): BatchNorm2d(128, eps=0.001, momentum=0.03, affine=True, track_running_stats=True)\n",
      "      (act): SiLU(inplace=True)\n",
      "    )\n",
      "    (C3_n3): CSPLayer(\n",
      "      (conv1): BaseConv(\n",
      "        (conv): Conv2d(256, 128, kernel_size=(1, 1), stride=(1, 1), bias=False)\n",
      "        (bn): BatchNorm2d(128, eps=0.001, momentum=0.03, affine=True, track_running_stats=True)\n",
      "        (act): SiLU(inplace=True)\n",
      "      )\n",
      "      (conv2): BaseConv(\n",
      "        (conv): Conv2d(256, 128, kernel_size=(1, 1), stride=(1, 1), bias=False)\n",
      "        (bn): BatchNorm2d(128, eps=0.001, momentum=0.03, affine=True, track_running_stats=True)\n",
      "        (act): SiLU(inplace=True)\n",
      "      )\n",
      "      (conv3): BaseConv(\n",
      "        (conv): Conv2d(256, 256, kernel_size=(1, 1), stride=(1, 1), bias=False)\n",
      "        (bn): BatchNorm2d(256, eps=0.001, momentum=0.03, affine=True, track_running_stats=True)\n",
      "        (act): SiLU(inplace=True)\n",
      "      )\n",
      "      (m): Sequential(\n",
      "        (0): Bottleneck(\n",
      "          (conv1): BaseConv(\n",
      "            (conv): Conv2d(128, 128, kernel_size=(1, 1), stride=(1, 1), bias=False)\n",
      "            (bn): BatchNorm2d(128, eps=0.001, momentum=0.03, affine=True, track_running_stats=True)\n",
      "            (act): SiLU(inplace=True)\n",
      "          )\n",
      "          (conv2): BaseConv(\n",
      "            (conv): Conv2d(128, 128, kernel_size=(3, 3), stride=(1, 1), padding=(1, 1), bias=False)\n",
      "            (bn): BatchNorm2d(128, eps=0.001, momentum=0.03, affine=True, track_running_stats=True)\n",
      "            (act): SiLU(inplace=True)\n",
      "          )\n",
      "        )\n",
      "      )\n",
      "    )\n",
      "    (bu_conv1): BaseConv(\n",
      "      (conv): Conv2d(256, 256, kernel_size=(3, 3), stride=(2, 2), padding=(1, 1), bias=False)\n",
      "      (bn): BatchNorm2d(256, eps=0.001, momentum=0.03, affine=True, track_running_stats=True)\n",
      "      (act): SiLU(inplace=True)\n",
      "    )\n",
      "    (C3_n4): CSPLayer(\n",
      "      (conv1): BaseConv(\n",
      "        (conv): Conv2d(512, 256, kernel_size=(1, 1), stride=(1, 1), bias=False)\n",
      "        (bn): BatchNorm2d(256, eps=0.001, momentum=0.03, affine=True, track_running_stats=True)\n",
      "        (act): SiLU(inplace=True)\n",
      "      )\n",
      "      (conv2): BaseConv(\n",
      "        (conv): Conv2d(512, 256, kernel_size=(1, 1), stride=(1, 1), bias=False)\n",
      "        (bn): BatchNorm2d(256, eps=0.001, momentum=0.03, affine=True, track_running_stats=True)\n",
      "        (act): SiLU(inplace=True)\n",
      "      )\n",
      "      (conv3): BaseConv(\n",
      "        (conv): Conv2d(512, 512, kernel_size=(1, 1), stride=(1, 1), bias=False)\n",
      "        (bn): BatchNorm2d(512, eps=0.001, momentum=0.03, affine=True, track_running_stats=True)\n",
      "        (act): SiLU(inplace=True)\n",
      "      )\n",
      "      (m): Sequential(\n",
      "        (0): Bottleneck(\n",
      "          (conv1): BaseConv(\n",
      "            (conv): Conv2d(256, 256, kernel_size=(1, 1), stride=(1, 1), bias=False)\n",
      "            (bn): BatchNorm2d(256, eps=0.001, momentum=0.03, affine=True, track_running_stats=True)\n",
      "            (act): SiLU(inplace=True)\n",
      "          )\n",
      "          (conv2): BaseConv(\n",
      "            (conv): Conv2d(256, 256, kernel_size=(3, 3), stride=(1, 1), padding=(1, 1), bias=False)\n",
      "            (bn): BatchNorm2d(256, eps=0.001, momentum=0.03, affine=True, track_running_stats=True)\n",
      "            (act): SiLU(inplace=True)\n",
      "          )\n",
      "        )\n",
      "      )\n",
      "    )\n",
      "  )\n",
      "  (head): YOLOXHead(\n",
      "    (cls_convs): ModuleList(\n",
      "      (0-2): 3 x Sequential(\n",
      "        (0): BaseConv(\n",
      "          (conv): Conv2d(128, 128, kernel_size=(3, 3), stride=(1, 1), padding=(1, 1), bias=False)\n",
      "          (bn): BatchNorm2d(128, eps=0.001, momentum=0.03, affine=True, track_running_stats=True)\n",
      "          (act): SiLU(inplace=True)\n",
      "        )\n",
      "        (1): BaseConv(\n",
      "          (conv): Conv2d(128, 128, kernel_size=(3, 3), stride=(1, 1), padding=(1, 1), bias=False)\n",
      "          (bn): BatchNorm2d(128, eps=0.001, momentum=0.03, affine=True, track_running_stats=True)\n",
      "          (act): SiLU(inplace=True)\n",
      "        )\n",
      "      )\n",
      "    )\n",
      "    (reg_convs): ModuleList(\n",
      "      (0-2): 3 x Sequential(\n",
      "        (0): BaseConv(\n",
      "          (conv): Conv2d(128, 128, kernel_size=(3, 3), stride=(1, 1), padding=(1, 1), bias=False)\n",
      "          (bn): BatchNorm2d(128, eps=0.001, momentum=0.03, affine=True, track_running_stats=True)\n",
      "          (act): SiLU(inplace=True)\n",
      "        )\n",
      "        (1): BaseConv(\n",
      "          (conv): Conv2d(128, 128, kernel_size=(3, 3), stride=(1, 1), padding=(1, 1), bias=False)\n",
      "          (bn): BatchNorm2d(128, eps=0.001, momentum=0.03, affine=True, track_running_stats=True)\n",
      "          (act): SiLU(inplace=True)\n",
      "        )\n",
      "      )\n",
      "    )\n",
      "    (cls_preds): ModuleList(\n",
      "      (0-2): 3 x Conv2d(128, 80, kernel_size=(1, 1), stride=(1, 1))\n",
      "    )\n",
      "    (reg_preds): ModuleList(\n",
      "      (0-2): 3 x Conv2d(128, 4, kernel_size=(1, 1), stride=(1, 1))\n",
      "    )\n",
      "    (obj_preds): ModuleList(\n",
      "      (0-2): 3 x Conv2d(128, 1, kernel_size=(1, 1), stride=(1, 1))\n",
      "    )\n",
      "    (stems): ModuleList(\n",
      "      (0): BaseConv(\n",
      "        (conv): Conv2d(128, 128, kernel_size=(1, 1), stride=(1, 1), bias=False)\n",
      "        (bn): BatchNorm2d(128, eps=0.001, momentum=0.03, affine=True, track_running_stats=True)\n",
      "        (act): SiLU(inplace=True)\n",
      "      )\n",
      "      (1): BaseConv(\n",
      "        (conv): Conv2d(256, 128, kernel_size=(1, 1), stride=(1, 1), bias=False)\n",
      "        (bn): BatchNorm2d(128, eps=0.001, momentum=0.03, affine=True, track_running_stats=True)\n",
      "        (act): SiLU(inplace=True)\n",
      "      )\n",
      "      (2): BaseConv(\n",
      "        (conv): Conv2d(512, 128, kernel_size=(1, 1), stride=(1, 1), bias=False)\n",
      "        (bn): BatchNorm2d(128, eps=0.001, momentum=0.03, affine=True, track_running_stats=True)\n",
      "        (act): SiLU(inplace=True)\n",
      "      )\n",
      "    )\n",
      "    (l1_loss): L1Loss()\n",
      "    (bcewithlog_loss): BCEWithLogitsLoss()\n",
      "    (iou_loss): IOUloss()\n",
      "  )\n",
      ")\n",
      "2024-08-28 14:33:54 | INFO     | yolox.core.trainer:218 - ---> start train epoch 1\n",
      "2024-08-28 14:33:54.000244:  89298  INFO ||NEURON_CACHE||: Compile cache path: ./compiler_cache\n",
      "2024-08-28 14:33:54.000245:  89298  INFO ||NEURON_CC_WRAPPER||: Extracting graphs (/home/ubuntu/neuron-adoption/compiler_cache/neuronxcc-2.14.227.0+2d4f85be/MODULE_728667847965197534+ade7b014/model.hlo_module.pb) for ahead-of-time parallel compilation. No compilation was done.\n",
      "2024-08-28 14:33:54.000667:  89298  INFO ||NEURON_CACHE||: Compile cache path: ./compiler_cache\n",
      "2024-08-28 14:33:54.000667:  89298  INFO ||NEURON_CC_WRAPPER||: Extracting graphs (/home/ubuntu/neuron-adoption/compiler_cache/neuronxcc-2.14.227.0+2d4f85be/MODULE_11790936170214357810+ade7b014/model.hlo_module.pb) for ahead-of-time parallel compilation. No compilation was done.\n",
      "2024-08-28 14:33:54.000672:  89298  INFO ||NEURON_CACHE||: Compile cache path: ./compiler_cache\n",
      "2024-08-28 14:33:54.000672:  89298  INFO ||NEURON_CC_WRAPPER||: Extracting graphs (/home/ubuntu/neuron-adoption/compiler_cache/neuronxcc-2.14.227.0+2d4f85be/MODULE_1125504261445974865+ade7b014/model.hlo_module.pb) for ahead-of-time parallel compilation. No compilation was done.\n",
      "2024-08-28 14:33:54.000677:  89298  INFO ||NEURON_CACHE||: Compile cache path: ./compiler_cache\n",
      "2024-08-28 14:33:54.000677:  89298  INFO ||NEURON_CC_WRAPPER||: Extracting graphs (/home/ubuntu/neuron-adoption/compiler_cache/neuronxcc-2.14.227.0+2d4f85be/MODULE_15969353125873384268+ade7b014/model.hlo_module.pb) for ahead-of-time parallel compilation. No compilation was done.\n",
      "2024-08-28 14:33:54 | ERROR    | yolox.core.trainer:80 - Exception in training: \n",
      "2024-08-28 14:33:54 | INFO     | yolox.core.trainer:200 - Training of experiment is done and the best AP is 0.00\n",
      "2024-08-28 14:33:54.000831:  89298  INFO ||NEURON_CACHE||: Compile cache path: ./compiler_cache\n",
      "2024-08-28 14:33:54.000831:  89298  INFO ||NEURON_CC_WRAPPER||: Extracting graphs (/home/ubuntu/neuron-adoption/compiler_cache/neuronxcc-2.14.227.0+2d4f85be/MODULE_3941120121036684346+ade7b014/model.hlo_module.pb) for ahead-of-time parallel compilation. No compilation was done.\n",
      "2024-08-28 14:33:54.000886:  89298  INFO ||NEURON_CACHE||: Compile cache path: ./compiler_cache\n",
      "2024-08-28 14:33:54.000887:  89298  INFO ||NEURON_CC_WRAPPER||: Extracting graphs (/home/ubuntu/neuron-adoption/compiler_cache/neuronxcc-2.14.227.0+2d4f85be/MODULE_15457411607563270555+ade7b014/model.hlo_module.pb) for ahead-of-time parallel compilation. No compilation was done.\n",
      "2024-08-28 14:33:54.000945:  89298  INFO ||NEURON_CACHE||: Compile cache path: ./compiler_cache\n",
      "2024-08-28 14:33:54.000945:  89298  INFO ||NEURON_CC_WRAPPER||: Extracting graphs (/home/ubuntu/neuron-adoption/compiler_cache/neuronxcc-2.14.227.0+2d4f85be/MODULE_18058599337860878096+ade7b014/model.hlo_module.pb) for ahead-of-time parallel compilation. No compilation was done.\n",
      "2024-08-28 14:33:55.000051:  89298  INFO ||NEURON_CACHE||: Compile cache path: ./compiler_cache\n",
      "2024-08-28 14:33:55.000052:  89298  INFO ||NEURON_CC_WRAPPER||: Extracting graphs (/home/ubuntu/neuron-adoption/compiler_cache/neuronxcc-2.14.227.0+2d4f85be/MODULE_574121371570057209+ade7b014/model.hlo_module.pb) for ahead-of-time parallel compilation. No compilation was done.\n",
      "2024-08-28 14:33:55.000080:  89298  INFO ||NEURON_CACHE||: Compile cache path: ./compiler_cache\n",
      "2024-08-28 14:33:55.000080:  89298  INFO ||NEURON_CC_WRAPPER||: Extracting graphs (/home/ubuntu/neuron-adoption/compiler_cache/neuronxcc-2.14.227.0+2d4f85be/MODULE_15969353125873384268+ade7b014/model.hlo_module.pb) for ahead-of-time parallel compilation. No compilation was done.\n",
      "2024-08-28 14:33:55.000136:  89298  INFO ||NEURON_CACHE||: Compile cache path: ./compiler_cache\n",
      "2024-08-28 14:33:55.000136:  89298  INFO ||NEURON_CC_WRAPPER||: Extracting graphs (/home/ubuntu/neuron-adoption/compiler_cache/neuronxcc-2.14.227.0+2d4f85be/MODULE_5435820529794839630+ade7b014/model.hlo_module.pb) for ahead-of-time parallel compilation. No compilation was done.\n",
      "2024-08-28 14:33:54 | ERROR    | yolox.core.launch:98 - An error has been caught in function 'launch', process 'MainProcess' (89298), thread 'MainThread' (140163404870272):\n",
      "Traceback (most recent call last):\n",
      "\n",
      "  File \"/usr/lib/python3.10/runpy.py\", line 196, in _run_module_as_main\n",
      "    return _run_code(code, main_globals, None,\n",
      "           │         │     └ {'__name__': '__main__', '__doc__': None, '__package__': 'yolox.tools', '__loader__': <_frozen_importlib_external.SourceFileL...\n",
      "           ��         ��� <code object <module> at 0x7f7a558b09d0, file \"/home/ubuntu/neuron-adoption/tools/train.py\", line 1>\n",
      "           └ <function _run_code at 0x7f7a558a92d0>\n",
      "  File \"/usr/lib/python3.10/runpy.py\", line 86, in _run_code\n",
      "    exec(code, run_globals)\n",
      "         ��     ��� {'__name__': '__main__', '__doc__': None, '__package__': 'yolox.tools', '__loader__': <_frozen_importlib_external.SourceFileL...\n",
      "         └ <code object <module> at 0x7f7a558b09d0, file \"/home/ubuntu/neuron-adoption/tools/train.py\", line 1>\n",
      "\n",
      "  File \"/home/ubuntu/neuron-adoption/tools/train.py\", line 138, in <module>\n",
      "    launch(\n",
      "    └ <function launch at 0x7f7994f90d30>\n",
      "\n",
      "> File \"/home/ubuntu/neuron-adoption/yolox/core/launch.py\", line 98, in launch\n",
      "    main_func(*args)\n",
      "    ���          �� (╒═���═��═══���══���═══════���╤══════���═����═����═��═══════���═����═��══���════����═��══���════������═���══���═��═══════��══���═����═��══��════������═������═�����═������═���════��════��═���...\n",
      "    └ <function main at 0x7f7987012170>\n",
      "\n",
      "  File \"/home/ubuntu/neuron-adoption/tools/train.py\", line 118, in main\n",
      "    trainer.train()\n",
      "    │       �� <function Trainer.train at 0x7f7950fd3be0>\n",
      "    └ <yolox.core.trainer.Trainer object at 0x7f7950ff4370>\n",
      "\n",
      "  File \"/home/ubuntu/neuron-adoption/yolox/core/trainer.py\", line 78, in train\n",
      "    self.train_in_epoch()\n",
      "    │    �� <function Trainer.train_in_epoch at 0x7f7950fec4c0>\n",
      "    └ <yolox.core.trainer.Trainer object at 0x7f7950ff4370>\n",
      "\n",
      "  File \"/home/ubuntu/neuron-adoption/yolox/core/trainer.py\", line 88, in train_in_epoch\n",
      "    self.train_in_iter()\n",
      "    │    └ <function Trainer.train_in_iter at 0x7f7950fec550>\n",
      "    �� <yolox.core.trainer.Trainer object at 0x7f7950ff4370>\n",
      "\n",
      "  File \"/home/ubuntu/neuron-adoption/yolox/core/trainer.py\", line 95, in train_in_iter\n",
      "    self.train_one_iter()\n",
      "    │    └ <function Trainer.train_one_iter at 0x7f7950fec5e0>\n",
      "    ��� <yolox.core.trainer.Trainer object at 0x7f7950ff4370>\n",
      "\n",
      "  File \"/home/ubuntu/neuron-adoption/yolox/core/trainer.py\", line 112, in train_one_iter\n",
      "    outputs = self.model(inps, targets)\n",
      "              │    │     │     �� tensor([[[  0.0000,  74.6590, 375.3213, 101.8838, 280.9055],\n",
      "              ��    ���     │                [  0.0000, 310.2207, 369.4168, 296.7347, 301.5461],\n",
      "              │    ���     │          ...\n",
      "              │    │     ��� tensor([[[[ 77.,  77.,  77.,  ..., 194., 193., 191.],\n",
      "              ���    ��                 [ 77.,  77.,  77.,  ..., 200., 199., 200.],\n",
      "              ���    │                 [ 77., ...\n",
      "              │    └ YOLOX(\n",
      "              │        (backbone): YOLOPAFPN(\n",
      "              │          (backbone): CSPDarknet(\n",
      "              │            (stem): Focus(\n",
      "              │              (conv): BaseConv(\n",
      "              │                (conv): ...\n",
      "              └ <yolox.core.trainer.Trainer object at 0x7f7950ff4370>\n",
      "\n",
      "  File \"/opt/aws_neuronx_venv_pytorch_2_1/lib/python3.10/site-packages/torch/nn/modules/module.py\", line 1518, in _wrapped_call_impl\n",
      "    return self._call_impl(*args, **kwargs)\n",
      "           │    │           │       └ {}\n",
      "           │    ���           └ (tensor([[[[ 77.,  77.,  77.,  ..., 194., 193., 191.],\n",
      "           │    │                       [ 77.,  77.,  77.,  ..., 200., 199., 200.],\n",
      "           │    │                       [ 77.,...\n",
      "           │    �� <function Module._call_impl at 0x7f79a9795120>\n",
      "           └ YOLOX(\n",
      "               (backbone): YOLOPAFPN(\n",
      "                 (backbone): CSPDarknet(\n",
      "                   (stem): Focus(\n",
      "                     (conv): BaseConv(\n",
      "                       (conv): ...\n",
      "  File \"/opt/aws_neuronx_venv_pytorch_2_1/lib/python3.10/site-packages/torch/nn/modules/module.py\", line 1527, in _call_impl\n",
      "    return forward_call(*args, **kwargs)\n",
      "           │             │       └ {}\n",
      "           ���             ��� (tensor([[[[ 77.,  77.,  77.,  ..., 194., 193., 191.],\n",
      "           │                         [ 77.,  77.,  77.,  ..., 200., 199., 200.],\n",
      "           ��                         [ 77.,...\n",
      "           └ <bound method YOLOX.forward of YOLOX(\n",
      "               (backbone): YOLOPAFPN(\n",
      "                 (backbone): CSPDarknet(\n",
      "                   (stem): Focus(\n",
      "                     (conv...\n",
      "\n",
      "  File \"/home/ubuntu/neuron-adoption/yolox/models/yolox.py\", line 34, in forward\n",
      "    loss, iou_loss, conf_loss, cls_loss, l1_loss, num_fg = self.head(\n",
      "                                                           ��� YOLOX(\n",
      "                                                               (backbone): YOLOPAFPN(\n",
      "                                                                 (backbone): CSPDarknet(\n",
      "                                                                   (stem): Focus(\n",
      "                                                                     (conv): BaseConv(\n",
      "                                                                       (conv): ...\n",
      "\n",
      "  File \"/opt/aws_neuronx_venv_pytorch_2_1/lib/python3.10/site-packages/torch/nn/modules/module.py\", line 1518, in _wrapped_call_impl\n",
      "    return self._call_impl(*args, **kwargs)\n",
      "           │    │           ���       └ {}\n",
      "           │    │           └ ((tensor([[[[162., 162., 163.,  ..., 133., 133., 133.],\n",
      "           │    │                       [133., 133., 134.,  ..., 136., 136., 137.],\n",
      "           │    │                       [138....\n",
      "           │    └ <function Module._call_impl at 0x7f79a9795120>\n",
      "           ��� YOLOXHead(\n",
      "               (cls_convs): ModuleList(\n",
      "                 (0-2): 3 x Sequential(\n",
      "                   (0): BaseConv(\n",
      "                     (conv): Conv2d(128, 128, kernel...\n",
      "  File \"/opt/aws_neuronx_venv_pytorch_2_1/lib/python3.10/site-packages/torch/nn/modules/module.py\", line 1527, in _call_impl\n",
      "    return forward_call(*args, **kwargs)\n",
      "           │             │       └ {}\n",
      "           ��             └ ((tensor([[[[162., 162., 163.,  ..., 133., 133., 133.],\n",
      "           │                         [133., 133., 134.,  ..., 136., 136., 137.],\n",
      "           │                         [138....\n",
      "           └ <bound method YOLOXHead.forward of YOLOXHead(\n",
      "               (cls_convs): ModuleList(\n",
      "                 (0-2): 3 x Sequential(\n",
      "                   (0): BaseConv(\n",
      "                 ...\n",
      "\n",
      "  File \"/home/ubuntu/neuron-adoption/yolox/models/yolo_head.py\", line 204, in forward\n",
      "    return self.get_losses(\n",
      "           │    └ <function YOLOXHead.get_losses at 0x7f795100eb00>\n",
      "           �� YOLOXHead(\n",
      "               (cls_convs): ModuleList(\n",
      "                 (0-2): 3 x Sequential(\n",
      "                   (0): BaseConv(\n",
      "                     (conv): Conv2d(128, 128, kernel...\n",
      "\n",
      "  File \"/home/ubuntu/neuron-adoption/yolox/models/yolo_head.py\", line 404, in get_losses\n",
      "    self.iou_loss(bbox_preds.view(-1, 4)[fg_masks], reg_targets)\n",
      "    │             │          ��           ��          �� tensor([], device='xla:0', size=(0, 4))\n",
      "    │             │          ���           └ tensor([False, False, False,  ..., False, False, False], device='xla:0')\n",
      "    ��             ��          �� <method 'view' of 'torch._C._TensorBase' objects>\n",
      "    │             └ tensor([[[0., 0., 0., 0.],\n",
      "    ��                        [0., 0., 0., 0.],\n",
      "    │                        [0., 0., 0., 0.],\n",
      "    │                        ...,\n",
      "    ��                        [0., 0., 0., 0.],\n",
      "    │                  ...\n",
      "    └ YOLOXHead(\n",
      "        (cls_convs): ModuleList(\n",
      "          (0-2): 3 x Sequential(\n",
      "            (0): BaseConv(\n",
      "              (conv): Conv2d(128, 128, kernel...\n",
      "\n",
      "  File \"/opt/aws_neuronx_venv_pytorch_2_1/lib/python3.10/site-packages/torch/nn/modules/module.py\", line 1518, in _wrapped_call_impl\n",
      "    return self._call_impl(*args, **kwargs)\n",
      "           │    ��           │       └ {}\n",
      "           ��    │           └ (tensor([[0., 0., 0., 0.],\n",
      "           │    │                     [0., 0., 0., 0.],\n",
      "           ���    ��                     [0., 0., 0., 0.],\n",
      "           ���    ��                     ...,\n",
      "           │    ��                     [0., 0., 0., 0.],\n",
      "           │    │                    ...\n",
      "           │    └ <function Module._call_impl at 0x7f79a9795120>\n",
      "           ��� IOUloss()\n",
      "  File \"/opt/aws_neuronx_venv_pytorch_2_1/lib/python3.10/site-packages/torch/nn/modules/module.py\", line 1527, in _call_impl\n",
      "    return forward_call(*args, **kwargs)\n",
      "           │             │       └ {}\n",
      "           ��             └ (tensor([[0., 0., 0., 0.],\n",
      "           │                       [0., 0., 0., 0.],\n",
      "           │                       [0., 0., 0., 0.],\n",
      "           │                       ...,\n",
      "           │                       [0., 0., 0., 0.],\n",
      "           │                      ...\n",
      "           └ <bound method IOUloss.forward of IOUloss()>\n",
      "\n",
      "  File \"/home/ubuntu/neuron-adoption/yolox/models/losses.py\", line 12, in forward\n",
      "    assert pred.shape[0] == target.shape[0]\n",
      "           │    │           │      ��� <attribute 'shape' of 'torch._C._TensorBase' objects>\n",
      "           │    │           └ tensor([], device='xla:0', size=(0, 4))\n",
      "           ��    └ <attribute 'shape' of 'torch._C._TensorBase' objects>\n",
      "           └ tensor([[0., 0., 0., 0.],\n",
      "                     [0., 0., 0., 0.],\n",
      "                     [0., 0., 0., 0.],\n",
      "                     ...,\n",
      "                     [0., 0., 0., 0.],\n",
      "                     ...\n",
      "\n",
      "AssertionError: assert pred.shape[0] == target.shape[0]\n",
      "2024-08-28 14:34:01.000382:  89282  INFO ||NEURON_PARALLEL_COMPILE||: New graph list from script 10: /home/ubuntu/neuron-adoption/compiler_cache/neuronxcc-2.14.227.0+2d4f85be/MODULE_728667847965197534+ade7b014/model.hlo_module.pb\n",
      "\t/home/ubuntu/neuron-adoption/compiler_cache/neuronxcc-2.14.227.0+2d4f85be/MODULE_11790936170214357810+ade7b014/model.hlo_module.pb\n",
      "\t/home/ubuntu/neuron-adoption/compiler_cache/neuronxcc-2.14.227.0+2d4f85be/MODULE_1125504261445974865+ade7b014/model.hlo_module.pb\n",
      "\t/home/ubuntu/neuron-adoption/compiler_cache/neuronxcc-2.14.227.0+2d4f85be/MODULE_15969353125873384268+ade7b014/model.hlo_module.pb\n",
      "\t/home/ubuntu/neuron-adoption/compiler_cache/neuronxcc-2.14.227.0+2d4f85be/MODULE_3941120121036684346+ade7b014/model.hlo_module.pb\n",
      "\t/home/ubuntu/neuron-adoption/compiler_cache/neuronxcc-2.14.227.0+2d4f85be/MODULE_15457411607563270555+ade7b014/model.hlo_module.pb\n",
      "\t/home/ubuntu/neuron-adoption/compiler_cache/neuronxcc-2.14.227.0+2d4f85be/MODULE_18058599337860878096+ade7b014/model.hlo_module.pb\n",
      "\t/home/ubuntu/neuron-adoption/compiler_cache/neuronxcc-2.14.227.0+2d4f85be/MODULE_574121371570057209+ade7b014/model.hlo_module.pb\n",
      "\t/home/ubuntu/neuron-adoption/compiler_cache/neuronxcc-2.14.227.0+2d4f85be/MODULE_15969353125873384268+ade7b014/model.hlo_module.pb\n",
      "\t/home/ubuntu/neuron-adoption/compiler_cache/neuronxcc-2.14.227.0+2d4f85be/MODULE_5435820529794839630+ade7b014/model.hlo_module.pb\n",
      "2024-08-28 14:34:01.000382:  89282  INFO ||NEURON_CACHE||: Compile cache path: ./compiler_cache\n",
      "2024-08-28 14:34:01.000414:  89622  INFO ||NEURON_PARALLEL_COMPILE||: worker 0 starts dynamic scheduleing on 10....\n",
      "2024-08-28 14:34:01.000415:  89623  INFO ||NEURON_PARALLEL_COMPILE||: worker 1 starts dynamic scheduleing on 10....\n",
      "2024-08-28 14:34:01.000415:  89624  INFO ||NEURON_PARALLEL_COMPILE||: worker 2 starts dynamic scheduleing on 10....\n",
      "2024-08-28 14:34:01.000415:  89625  INFO ||NEURON_PARALLEL_COMPILE||: worker 3 starts dynamic scheduleing on 10....\n",
      "2024-08-28 14:34:01.000415:  89626  INFO ||NEURON_PARALLEL_COMPILE||: worker 4 starts dynamic scheduleing on 10....\n",
      "2024-08-28 14:34:01.000415:  89627  INFO ||NEURON_PARALLEL_COMPILE||: worker 5 starts dynamic scheduleing on 10....\n",
      "2024-08-28 14:34:01.000415:  89624  INFO ||NEURON_PARALLEL_COMPILE||: worker 2 finished with num of tasks 0....\n",
      "2024-08-28 14:34:01.000415:  89628  INFO ||NEURON_PARALLEL_COMPILE||: worker 6 starts dynamic scheduleing on 10....\n",
      "2024-08-28 14:34:01.000415:  89625  INFO ||NEURON_PARALLEL_COMPILE||: worker 3 finished with num of tasks 0....\n",
      "2024-08-28 14:34:01.000415:  89626  INFO ||NEURON_PARALLEL_COMPILE||: worker 4 finished with num of tasks 0....\n",
      "2024-08-28 14:34:01.000415:  89627  INFO ||NEURON_PARALLEL_COMPILE||: worker 5 finished with num of tasks 0....\n",
      "2024-08-28 14:34:01.000416:  89628  INFO ||NEURON_PARALLEL_COMPILE||: worker 6 finished with num of tasks 0....\n",
      "2024-08-28 14:34:01.000416:  89629  INFO ||NEURON_PARALLEL_COMPILE||: worker 7 starts dynamic scheduleing on 10....\n",
      "2024-08-28 14:34:01.000417:  89629  INFO ||NEURON_PARALLEL_COMPILE||: worker 7 finished with num of tasks 0....\n",
      "2024-08-28 14:34:01.000417:  89622  INFO ||NEURON_CC_WRAPPER||: Call compiler with cmd: neuronx-cc compile --target=trn1 --framework=XLA /tmp/ubuntu/neuroncc_compile_workdir/ce83b6e8-4936-4c20-bc71-c2c5e49a29b7/model.MODULE_5435820529794839630+ade7b014.hlo_module.pb --output /tmp/ubuntu/neuroncc_compile_workdir/ce83b6e8-4936-4c20-bc71-c2c5e49a29b7/model.MODULE_5435820529794839630+ade7b014.neff --model-type=cnn-training --verbose=35\n",
      "2024-08-28 14:34:01.000418:  89623  INFO ||NEURON_CC_WRAPPER||: Call compiler with cmd: neuronx-cc compile --target=trn1 --framework=XLA /tmp/ubuntu/neuroncc_compile_workdir/291ad540-e36d-4e45-91ad-434125114009/model.MODULE_574121371570057209+ade7b014.hlo_module.pb --output /tmp/ubuntu/neuroncc_compile_workdir/291ad540-e36d-4e45-91ad-434125114009/model.MODULE_574121371570057209+ade7b014.neff --model-type=cnn-training --verbose=35\n",
      "2024-08-28 14:34:01.000420:  89628  INFO ||NEURON_CACHE||: Current remaining items are 16, locked are 2, failed are 0, done are 124, total is 142\n",
      "2024-08-28 14:34:01.000420:  89624  INFO ||NEURON_CACHE||: Current remaining items are 16, locked are 2, failed are 0, done are 124, total is 142\n",
      "2024-08-28 14:34:01.000420:  89626  INFO ||NEURON_CACHE||: Current remaining items are 16, locked are 2, failed are 0, done are 124, total is 142\n",
      "2024-08-28 14:34:01.000420:  89627  INFO ||NEURON_CACHE||: Current remaining items are 16, locked are 2, failed are 0, done are 124, total is 142\n",
      "2024-08-28 14:34:01.000420:  89625  INFO ||NEURON_CACHE||: Current remaining items are 16, locked are 2, failed are 0, done are 124, total is 142\n",
      "2024-08-28 14:34:01.000421:  89629  INFO ||NEURON_CACHE||: Current remaining items are 16, locked are 2, failed are 0, done are 124, total is 142\n",
      "......\n",
      "Compiler status PASS\n",
      "2024-08-28 14:34:57.000766:  89623  INFO ||NEURON_PARALLEL_COMPILE||: worker 1 finished with num of tasks 1....\n",
      "2024-08-28 14:34:57.000768:  89623  INFO ||NEURON_CACHE||: Current remaining items are 16, locked are 1, failed are 0, done are 125, total is 142\n",
      "\n",
      "Compiler status PASS\n",
      "2024-08-28 14:34:58.000641:  89622  INFO ||NEURON_PARALLEL_COMPILE||: worker 0 finished with num of tasks 1....\n",
      "2024-08-28 14:34:58.000643:  89622  INFO ||NEURON_CACHE||: Current remaining items are 16, locked are 0, failed are 0, done are 126, total is 142\n",
      "2024-08-28 14:34:58.000657:  89282  INFO ||NEURON_PARALLEL_COMPILE||: {\n",
      "    \"compilation_summary\": {\n",
      "        \"true\": 2\n",
      "    },\n",
      "    \"compilation_report\": {\n",
      "        \"/home/ubuntu/neuron-adoption/compiler_cache/neuronxcc-2.14.227.0+2d4f85be/MODULE_5435820529794839630+ade7b014/model.hlo_module.pb\": {\n",
      "            \"status\": true,\n",
      "            \"retry\": 0,\n",
      "            \"compile_time\": 57.2256224155426\n",
      "        },\n",
      "        \"/home/ubuntu/neuron-adoption/compiler_cache/neuronxcc-2.14.227.0+2d4f85be/MODULE_574121371570057209+ade7b014/model.hlo_module.pb\": {\n",
      "            \"status\": true,\n",
      "            \"retry\": 0,\n",
      "            \"compile_time\": 56.3502676486969\n",
      "        }\n",
      "    },\n",
      "    \"start_time\": 1724855641.3825026,\n",
      "    \"compilation_time\": 57.274657011032104\n",
      "}\n",
      "2024-08-28 14:34:58.000657:  89282  INFO ||NEURON_PARALLEL_COMPILE||: Total graphs: 2\n",
      "2024-08-28 14:34:58.000657:  89282  INFO ||NEURON_PARALLEL_COMPILE||: Total successful compilations: 2\n",
      "2024-08-28 14:34:58.000657:  89282  INFO ||NEURON_PARALLEL_COMPILE||: Total failed compilations: 0\n",
      "Compilation Success!!!\n",
      "CPU times: user 26.9 ms, sys: 35.7 ms, total: 62.6 ms\n",
      "Wall time: 1min 55s\n"
     ]
    }
   ],
   "source": [
    "%%time\n",
    "import subprocess\n",
    "print(\"Compile model\")\n",
    "COMPILE_CMD = f\"\"\"{env_var_options} neuron_parallel_compile python -m \\\n",
    "   yolox.tools.train \\\n",
    "    -n {model} \\\n",
    "    -d {num_accelerators} \\\n",
    "    -b {total_batch_size} \\\n",
    "    \"\"\"\n",
    "\n",
    "print(f'Running command: \\n{COMPILE_CMD}')\n",
    "if subprocess.check_call(COMPILE_CMD,shell=True):\n",
    "   print(\"There was an error with the compilation command\")\n",
    "else:\n",
    "   print(\"Compilation Success!!!\")"
   ]
  },
  {
   "cell_type": "code",
   "execution_count": 1,
   "id": "071f7b26-b224-4538-bd6c-6a3d323686d5",
   "metadata": {},
   "outputs": [],
   "source": [
    "import torch_xla.distributed.xla_backend\n",
    "import torch_xla\n",
    "import torch_xla.debug.metrics as met\n",
    "import torch_xla.distributed.parallel_loader as pl\n",
    "import torch_xla.utils.utils as xu\n",
    "import torch_xla.core.xla_model as xm\n",
    "import torch_xla.distributed.xla_multiprocessing as xmp"
   ]
  },
  {
   "cell_type": "code",
   "execution_count": 2,
   "id": "d880e4b8-38d3-458c-994c-a7fbb1631533",
   "metadata": {},
   "outputs": [],
   "source": [
    "import torch "
   ]
  },
  {
   "cell_type": "code",
   "execution_count": 3,
   "id": "23705c52-b381-4b5d-8b89-d66fac678cc9",
   "metadata": {},
   "outputs": [],
   "source": [
    "device = xm.xla_device()"
   ]
  },
  {
   "cell_type": "code",
   "execution_count": 13,
   "id": "65913172-098c-4f8e-840e-91bd30831e78",
   "metadata": {},
   "outputs": [],
   "source": [
    "tens = torch.randn((2,120,5))"
   ]
  },
  {
   "cell_type": "code",
   "execution_count": 14,
   "id": "ae0ea001-86eb-43d1-abef-247281aa642d",
   "metadata": {},
   "outputs": [],
   "source": [
    "tens = tens.to(device)"
   ]
  },
  {
   "cell_type": "code",
   "execution_count": 18,
   "id": "3c685dad-95fb-4165-87b4-fab124e0bd74",
   "metadata": {},
   "outputs": [],
   "source": [
    "batch_idx = 1"
   ]
  },
  {
   "cell_type": "code",
   "execution_count": 4,
   "id": "d2f9ad70-3444-4fe0-b8a1-d17c6a037b7e",
   "metadata": {},
   "outputs": [],
   "source": [
    "nlabel = torch.tensor([ 1, 11], device='xla:0')"
   ]
  },
  {
   "cell_type": "code",
   "execution_count": 5,
   "id": "699e97fd-816f-4b02-8a3d-4672ca25e3f7",
   "metadata": {},
   "outputs": [
    {
     "data": {
      "text/plain": [
       "tensor([ 1, 11], device='xla:0')"
      ]
     },
     "execution_count": 5,
     "metadata": {},
     "output_type": "execute_result"
    }
   ],
   "source": [
    "nlabel"
   ]
  },
  {
   "cell_type": "code",
   "execution_count": 6,
   "id": "70c684cc-ed14-4612-b08b-9de33c64135d",
   "metadata": {},
   "outputs": [
    {
     "name": "stdout",
     "output_type": "stream",
     "text": [
      "2024-08-27 15:57:19.000657:  70723  INFO ||NEURON_CACHE||: Compile cache path: /var/tmp/neuron-compile-cache\n",
      "2024-08-27 15:57:19.000659:  70723  INFO ||NEURON_CC_WRAPPER||: Using a cached neff at /var/tmp/neuron-compile-cache/neuronxcc-2.14.227.0+2d4f85be/MODULE_16647071372593374447+d41d8cd9/model.neff. Exiting with a successfully compiled graph.\n"
     ]
    },
    {
     "data": {
      "text/plain": [
       "tensor(1, device='xla:0')"
      ]
     },
     "execution_count": 6,
     "metadata": {},
     "output_type": "execute_result"
    }
   ],
   "source": [
    "nlabel[0]"
   ]
  },
  {
   "cell_type": "code",
   "execution_count": 7,
   "id": "4d66478f-21cb-4fc8-9ba5-0a0da83a0a31",
   "metadata": {},
   "outputs": [
    {
     "name": "stdout",
     "output_type": "stream",
     "text": [
      "2024-08-27 15:57:24.000065:  70723  INFO ||NEURON_CACHE||: Compile cache path: /var/tmp/neuron-compile-cache\n",
      "2024-08-27 15:57:24.000067:  70723  INFO ||NEURON_CC_WRAPPER||: Using a cached neff at /var/tmp/neuron-compile-cache/neuronxcc-2.14.227.0+2d4f85be/MODULE_1801352655633372538+d41d8cd9/model.neff. Exiting with a successfully compiled graph.\n"
     ]
    },
    {
     "data": {
      "text/plain": [
       "tensor(16., device='xla:0')"
      ]
     },
     "execution_count": 7,
     "metadata": {},
     "output_type": "execute_result"
    }
   ],
   "source": [
    "(nlabel[1])+5.0"
   ]
  },
  {
   "cell_type": "code",
   "execution_count": 19,
   "id": "bc1ef592-9001-4941-a759-0ddd5ecce603",
   "metadata": {},
   "outputs": [],
   "source": [
    "not_labels = torch.tensor([[False, False,  True,  True, False, False,  True,  True, False, False,\n",
    "          True,  True, False, False,  True,  True, False, False,  True,  True,\n",
    "         False, False,  True,  True, False, False,  True,  True, False, False,\n",
    "          True,  True, False, False,  True,  True, False, False,  True,  True,\n",
    "         False, False,  True,  True, False, False,  True,  True, False, False,\n",
    "          True,  True, False, False,  True,  True, False, False,  True,  True,\n",
    "         False, False,  True,  True, False, False,  True,  True, False, False,\n",
    "          True,  True, False, False,  True,  True, False, False,  True,  True,\n",
    "         False, False,  True,  True, False, False,  True,  True, False, False,\n",
    "          True,  True, False, False,  True,  True, False, False,  True,  True,\n",
    "         False, False,  True,  True, False, False,  True,  True, False, False,\n",
    "          True,  True, False, False,  True,  True, False, False,  True,  True],\n",
    "        [False, False,  True,  True, False, False,  True,  True, False, False,\n",
    "          True,  True, False, False,  True,  True, False, False,  True,  True,\n",
    "         False, False,  True,  True, False, False,  True,  True, False, False,\n",
    "          True,  True, False, False,  True,  True, False, False,  True,  True,\n",
    "         False, False,  True,  True, False, False,  True,  True, False, False,\n",
    "          True,  True, False, False,  True,  True, False, False,  True,  True,\n",
    "         False, False,  True,  True, False, False,  True,  True, False, False,\n",
    "          True,  True, False, False,  True,  True, False, False,  True,  True,\n",
    "         False, False,  True,  True, False, False,  True,  True, False, False,\n",
    "          True,  True, False, False,  True,  True, False, False,  True,  True,\n",
    "         False, False,  True,  True, False, False,  True,  True, False, False,\n",
    "          True,  True, False, False,  True,  True, False, False,  True,  True]],\n",
    "       device='xla:0').sum(dim=1)"
   ]
  },
  {
   "cell_type": "code",
   "execution_count": 25,
   "id": "cae9758d-736d-4ea1-b19b-d20f51ca4f9e",
   "metadata": {},
   "outputs": [
    {
     "name": "stdout",
     "output_type": "stream",
     "text": [
      "2024-08-27 13:49:58.000466:  54555  INFO ||NEURON_CACHE||: Compile cache path: /var/tmp/neuron-compile-cache\n",
      "2024-08-27 13:49:58.000468:  54555  INFO ||NEURON_CC_WRAPPER||: Call compiler with cmd: neuronx-cc compile --target=trn1 --framework=XLA /tmp/ubuntu/neuroncc_compile_workdir/ae93512e-4b45-47cd-8ce3-120b12a08314/model.MODULE_3687020469296241480+d41d8cd9.hlo_module.pb --output /tmp/ubuntu/neuroncc_compile_workdir/ae93512e-4b45-47cd-8ce3-120b12a08314/model.MODULE_3687020469296241480+d41d8cd9.neff --verbose=35\n",
      ".\n",
      "Compiler status PASS\n"
     ]
    },
    {
     "data": {
      "text/plain": [
       "tensor([[0., 0., 1., 1., 0., 0., 1., 1., 0., 0., 1., 1., 0., 0., 1., 1., 0., 0.,\n",
       "         1., 1., 0., 0., 1., 1., 0., 0., 1., 1., 0., 0., 1., 1., 0., 0., 1., 1.,\n",
       "         0., 0., 1., 1., 0., 0., 1., 1., 0., 0., 1., 1., 0., 0., 1., 1., 0., 0.,\n",
       "         1., 1., 0., 0., 1., 1., 0., 0., 1., 1., 0., 0., 1., 1., 0., 0., 1., 1.,\n",
       "         0., 0., 1., 1., 0., 0., 1., 1., 0., 0., 1., 1., 0., 0., 1., 1., 0., 0.,\n",
       "         1., 1., 0., 0., 1., 1., 0., 0., 1., 1., 0., 0., 1., 1., 0., 0., 1., 1.,\n",
       "         0., 0., 1., 1., 0., 0., 1., 1., 0., 0., 1., 1.],\n",
       "        [0., 0., 1., 1., 0., 0., 1., 1., 0., 0., 1., 1., 0., 0., 1., 1., 0., 0.,\n",
       "         1., 1., 0., 0., 1., 1., 0., 0., 1., 1., 0., 0., 1., 1., 0., 0., 1., 1.,\n",
       "         0., 0., 1., 1., 0., 0., 1., 1., 0., 0., 1., 1., 0., 0., 1., 1., 0., 0.,\n",
       "         1., 1., 0., 0., 1., 1., 0., 0., 1., 1., 0., 0., 1., 1., 0., 0., 1., 1.,\n",
       "         0., 0., 1., 1., 0., 0., 1., 1., 0., 0., 1., 1., 0., 0., 1., 1., 0., 0.,\n",
       "         1., 1., 0., 0., 1., 1., 0., 0., 1., 1., 0., 0., 1., 1., 0., 0., 1., 1.,\n",
       "         0., 0., 1., 1., 0., 0., 1., 1., 0., 0., 1., 1.]], device='xla:0')"
      ]
     },
     "execution_count": 25,
     "metadata": {},
     "output_type": "execute_result"
    }
   ],
   "source": [
    "labels.float()"
   ]
  },
  {
   "cell_type": "code",
   "execution_count": 28,
   "id": "9e06d3b9-50b9-4837-96cf-3d30475a7829",
   "metadata": {},
   "outputs": [
    {
     "data": {
      "text/plain": [
       "torch.int64"
      ]
     },
     "execution_count": 28,
     "metadata": {},
     "output_type": "execute_result"
    }
   ],
   "source": [
    "labels.int().sum().dtype"
   ]
  },
  {
   "cell_type": "code",
   "execution_count": 22,
   "id": "af6306d9-e766-48ca-8670-ff78630708a2",
   "metadata": {},
   "outputs": [
    {
     "name": "stdout",
     "output_type": "stream",
     "text": [
      "2024-08-27 14:18:51.000587:  59328  INFO ||NEURON_CACHE||: Compile cache path: /var/tmp/neuron-compile-cache\n",
      "2024-08-27 14:18:51.000589:  59328  INFO ||NEURON_CC_WRAPPER||: Using a cached neff at /var/tmp/neuron-compile-cache/neuronxcc-2.14.227.0+2d4f85be/MODULE_5511776925357686574+d41d8cd9/model.neff. Exiting with a successfully compiled graph.\n"
     ]
    },
    {
     "data": {
      "text/plain": [
       "60"
      ]
     },
     "execution_count": 22,
     "metadata": {},
     "output_type": "execute_result"
    }
   ],
   "source": [
    "int(labels.int().sum(dim=1)[0])"
   ]
  },
  {
   "cell_type": "code",
   "execution_count": 18,
   "id": "c97cb3d6-b7a9-4f7e-9bc5-5f9e44e98277",
   "metadata": {},
   "outputs": [
    {
     "data": {
      "text/plain": [
       "tensor([[[-0.2449, -1.1971,  0.1564, -0.1102,  1.6893],\n",
       "         [ 0.4234,  0.1447,  0.1682, -0.2968, -0.3987],\n",
       "         [-1.5582,  0.7849, -0.8766, -0.5025,  1.9070],\n",
       "         ...,\n",
       "         [-0.6063,  0.0431, -0.8488, -0.2062, -0.9328],\n",
       "         [-0.5865, -0.1821, -1.0805,  1.3836, -1.2305],\n",
       "         [ 0.1348,  0.1601,  1.4559, -0.2639, -1.7168]],\n",
       "\n",
       "        [[-0.3150, -0.6927, -0.8262,  0.2997,  0.9659],\n",
       "         [-1.2939, -0.5188, -0.1757, -0.4744, -0.3728],\n",
       "         [ 1.3201, -1.8020, -0.3249,  0.2704,  0.6179],\n",
       "         ...,\n",
       "         [ 1.6895,  0.4514,  0.0423, -0.1617,  0.4631],\n",
       "         [ 0.4546,  0.2350, -0.5688, -0.2983,  1.6746],\n",
       "         [-0.8419, -0.4173, -0.2859,  0.4508, -0.4095]]], device='xla:0')"
      ]
     },
     "execution_count": 18,
     "metadata": {},
     "output_type": "execute_result"
    }
   ],
   "source": [
    "tens"
   ]
  },
  {
   "cell_type": "code",
   "execution_count": 19,
   "id": "fb6dd31e-b4b8-49a9-a8a8-f4a82765ea79",
   "metadata": {},
   "outputs": [
    {
     "data": {
      "text/plain": [
       "'torch.xla.FloatTensor'"
      ]
     },
     "execution_count": 19,
     "metadata": {},
     "output_type": "execute_result"
    }
   ],
   "source": [
    "tens.type()"
   ]
  },
  {
   "cell_type": "code",
   "execution_count": 20,
   "id": "3e4ba6e7-0571-4798-b5b0-0046619e48b1",
   "metadata": {},
   "outputs": [
    {
     "data": {
      "text/plain": [
       "torch.float32"
      ]
     },
     "execution_count": 20,
     "metadata": {},
     "output_type": "execute_result"
    }
   ],
   "source": [
    "tens.sum(dim=2).dtype"
   ]
  },
  {
   "cell_type": "code",
   "execution_count": 30,
   "id": "99a2a1b5-c9dd-406d-8a86-28cb647e8923",
   "metadata": {},
   "outputs": [
    {
     "name": "stdout",
     "output_type": "stream",
     "text": [
      "2024-08-27 12:58:00.000631:  49910  INFO ||NEURON_CACHE||: Compile cache path: /var/tmp/neuron-compile-cache\n",
      "2024-08-27 12:58:00.000634:  49910  INFO ||NEURON_CC_WRAPPER||: Call compiler with cmd: neuronx-cc compile --target=trn1 --framework=XLA /tmp/ubuntu/neuroncc_compile_workdir/03adde20-d67a-48c2-981e-192defd61efc/model.MODULE_6877146587899539883+d41d8cd9.hlo_module.pb --output /tmp/ubuntu/neuroncc_compile_workdir/03adde20-d67a-48c2-981e-192defd61efc/model.MODULE_6877146587899539883+d41d8cd9.neff --verbose=35\n",
      ".\n",
      "Compiler status PASS\n"
     ]
    },
    {
     "data": {
      "text/plain": [
       "tensor([62., 53.], device='xla:0')"
      ]
     },
     "execution_count": 30,
     "metadata": {},
     "output_type": "execute_result"
    }
   ],
   "source": [
    "(tens.sum(dim=2) > 0).to(dtype=tens.dtype).sum(dim=1)"
   ]
  },
  {
   "cell_type": "code",
   "execution_count": 23,
   "id": "d424439a-0515-47ff-bc10-f6fb855ac224",
   "metadata": {},
   "outputs": [
    {
     "data": {
      "text/plain": [
       "'torch.xla.BoolTensor'"
      ]
     },
     "execution_count": 23,
     "metadata": {},
     "output_type": "execute_result"
    }
   ],
   "source": [
    "(tens.sum(dim=2) > 0).type()"
   ]
  },
  {
   "cell_type": "code",
   "execution_count": 22,
   "id": "bcf0b2c0-d075-4b48-95fb-213fa1ee051e",
   "metadata": {},
   "outputs": [
    {
     "name": "stdout",
     "output_type": "stream",
     "text": [
      "2024-08-27 12:54:11.000622:  49910  INFO ||NEURON_CACHE||: Compile cache path: /var/tmp/neuron-compile-cache\n",
      "2024-08-27 12:54:11.000624:  49910  INFO ||NEURON_CC_WRAPPER||: Using a cached neff at /var/tmp/neuron-compile-cache/neuronxcc-2.14.227.0+2d4f85be/MODULE_11250971159319000456+d41d8cd9/model.neff. Exiting with a successfully compiled graph.\n"
     ]
    },
    {
     "data": {
      "text/plain": [
       "tensor([62, 53], device='xla:0')"
      ]
     },
     "execution_count": 22,
     "metadata": {},
     "output_type": "execute_result"
    }
   ],
   "source": [
    "(tens.sum(dim=2) > 0).sum(dim=1)"
   ]
  },
  {
   "cell_type": "code",
   "execution_count": 11,
   "id": "b080db64-9fd2-402b-8592-bd59d712519d",
   "metadata": {},
   "outputs": [],
   "source": [
    "nlabel = (tens.sum(dim=2) > 0).sum(dim=1)"
   ]
  },
  {
   "cell_type": "code",
   "execution_count": 14,
   "id": "4cf3c71c-b6f3-4d4c-926b-eb18b294c009",
   "metadata": {},
   "outputs": [
    {
     "data": {
      "text/plain": [
       "tensor([60, 67], device='xla:0')"
      ]
     },
     "execution_count": 14,
     "metadata": {},
     "output_type": "execute_result"
    }
   ],
   "source": [
    "nlabel"
   ]
  },
  {
   "cell_type": "code",
   "execution_count": 15,
   "id": "bedfc921-03a3-42a3-bf20-9e8da0bc9e0e",
   "metadata": {},
   "outputs": [
    {
     "name": "stdout",
     "output_type": "stream",
     "text": [
      "2024-08-27 12:19:50.000363:  49017  INFO ||NEURON_CACHE||: Compile cache path: /var/tmp/neuron-compile-cache\n",
      "2024-08-27 12:19:50.000366:  49017  INFO ||NEURON_CC_WRAPPER||: Call compiler with cmd: neuronx-cc compile --target=trn1 --framework=XLA /tmp/ubuntu/neuroncc_compile_workdir/d375e641-1c14-42c5-a39d-d229774269dd/model.MODULE_6039759920654611522+d41d8cd9.hlo_module.pb --output /tmp/ubuntu/neuroncc_compile_workdir/d375e641-1c14-42c5-a39d-d229774269dd/model.MODULE_6039759920654611522+d41d8cd9.neff --verbose=35\n",
      ".\n",
      "Compiler status PASS\n"
     ]
    }
   ],
   "source": [
    "num_gt = int(nlabel[batch_idx])"
   ]
  },
  {
   "cell_type": "code",
   "execution_count": 16,
   "id": "37953b0a-c2e3-4eaa-a6df-3cba95e3e1a9",
   "metadata": {},
   "outputs": [
    {
     "data": {
      "text/plain": [
       "67"
      ]
     },
     "execution_count": 16,
     "metadata": {},
     "output_type": "execute_result"
    }
   ],
   "source": [
    "num_gt"
   ]
  },
  {
   "cell_type": "code",
   "execution_count": 17,
   "id": "9e9eb9da-a00a-4a8f-807f-11e0abb8b8ce",
   "metadata": {},
   "outputs": [],
   "source": [
    "num_gts = 0.0"
   ]
  },
  {
   "cell_type": "code",
   "execution_count": 18,
   "id": "d947c51c-7fcd-4b9c-a568-506a68ab08c7",
   "metadata": {},
   "outputs": [],
   "source": [
    "num_gts += num_gt"
   ]
  },
  {
   "cell_type": "code",
   "execution_count": 19,
   "id": "fd0b2873-66f5-4c0a-b41a-3d34671464c4",
   "metadata": {},
   "outputs": [
    {
     "data": {
      "text/plain": [
       "67.0"
      ]
     },
     "execution_count": 19,
     "metadata": {},
     "output_type": "execute_result"
    }
   ],
   "source": [
    "num_gts"
   ]
  },
  {
   "cell_type": "code",
   "execution_count": 17,
   "id": "a1af89fe-034e-47e8-8506-5376f17ff1bb",
   "metadata": {},
   "outputs": [],
   "source": [
    "gt_classes = tens[0, :12, 1:5]"
   ]
  },
  {
   "cell_type": "code",
   "execution_count": 18,
   "id": "7f61db33-59b2-452d-85d6-96d9cfd1d457",
   "metadata": {},
   "outputs": [
    {
     "name": "stdout",
     "output_type": "stream",
     "text": [
      "2024-08-27 12:13:41.000522:  47388  INFO ||NEURON_CACHE||: Compile cache path: /var/tmp/neuron-compile-cache\n",
      "2024-08-27 12:13:41.000524:  47388  INFO ||NEURON_CC_WRAPPER||: Call compiler with cmd: neuronx-cc compile --target=trn1 --framework=XLA /tmp/ubuntu/neuroncc_compile_workdir/a3de99a1-4c13-483b-9d52-2ec497c6cd1c/model.MODULE_10441631103026055065+d41d8cd9.hlo_module.pb --output /tmp/ubuntu/neuroncc_compile_workdir/a3de99a1-4c13-483b-9d52-2ec497c6cd1c/model.MODULE_10441631103026055065+d41d8cd9.neff --verbose=35\n",
      ".\n",
      "Compiler status PASS\n"
     ]
    },
    {
     "data": {
      "text/plain": [
       "tensor([[-0.0070,  0.3554,  0.6552,  0.2503],\n",
       "        [ 0.7107, -0.6251,  0.3495,  0.0628],\n",
       "        [ 0.6770,  1.2086,  0.2129,  1.1978],\n",
       "        [-1.4641, -0.0977, -1.3328, -1.1305],\n",
       "        [-1.5518,  0.3596,  1.2465, -0.6324],\n",
       "        [ 2.1655,  0.7212, -0.2368,  0.8614],\n",
       "        [ 0.0651,  0.3983,  0.5659, -0.9727],\n",
       "        [ 0.0075, -2.6241, -1.0251, -0.5041],\n",
       "        [ 0.4719,  0.8205,  0.0857, -0.8424],\n",
       "        [-1.1100,  1.3116, -1.3192, -0.3926],\n",
       "        [ 0.2933,  0.8186, -1.5588,  1.1497],\n",
       "        [ 1.1985,  0.1529, -1.0026, -0.9975]], device='xla:0')"
      ]
     },
     "execution_count": 18,
     "metadata": {},
     "output_type": "execute_result"
    }
   ],
   "source": [
    "gt_classes"
   ]
  },
  {
   "cell_type": "code",
   "execution_count": 23,
   "id": "348aadb9-82d5-43d4-be83-68c8dd8c66ef",
   "metadata": {},
   "outputs": [],
   "source": [
    "n_tens = torch_xla.torch.tensor([[[1000,1223231,12131]]])"
   ]
  },
  {
   "cell_type": "code",
   "execution_count": 25,
   "id": "f7999adb-2dc5-4b8a-9b60-a79aac014c1a",
   "metadata": {},
   "outputs": [
    {
     "ename": "RuntimeError",
     "evalue": "linalg.vector_norm: Expected a floating point or complex tensor as input. Got Long",
     "output_type": "error",
     "traceback": [
      "\u001b[0;31m---------------------------------------------------------------------------\u001b[0m",
      "\u001b[0;31mRuntimeError\u001b[0m                              Traceback (most recent call last)",
      "Cell \u001b[0;32mIn[25], line 1\u001b[0m\n\u001b[0;32m----> 1\u001b[0m (\u001b[43mn_tens\u001b[49m\u001b[38;5;241;43m.\u001b[39;49m\u001b[43mnorm\u001b[49m\u001b[43m(\u001b[49m\u001b[43m)\u001b[49m)\u001b[38;5;241m.\u001b[39mto(torch\u001b[38;5;241m.\u001b[39mint64)\n",
      "File \u001b[0;32m/opt/aws_neuronx_venv_pytorch_2_1/lib/python3.10/site-packages/torch/_tensor.py:708\u001b[0m, in \u001b[0;36mTensor.norm\u001b[0;34m(self, p, dim, keepdim, dtype)\u001b[0m\n\u001b[1;32m    704\u001b[0m \u001b[38;5;28;01mif\u001b[39;00m has_torch_function_unary(\u001b[38;5;28mself\u001b[39m):\n\u001b[1;32m    705\u001b[0m     \u001b[38;5;28;01mreturn\u001b[39;00m handle_torch_function(\n\u001b[1;32m    706\u001b[0m         Tensor\u001b[38;5;241m.\u001b[39mnorm, (\u001b[38;5;28mself\u001b[39m,), \u001b[38;5;28mself\u001b[39m, p\u001b[38;5;241m=\u001b[39mp, dim\u001b[38;5;241m=\u001b[39mdim, keepdim\u001b[38;5;241m=\u001b[39mkeepdim, dtype\u001b[38;5;241m=\u001b[39mdtype\n\u001b[1;32m    707\u001b[0m     )\n\u001b[0;32m--> 708\u001b[0m \u001b[38;5;28;01mreturn\u001b[39;00m \u001b[43mtorch\u001b[49m\u001b[38;5;241;43m.\u001b[39;49m\u001b[43mnorm\u001b[49m\u001b[43m(\u001b[49m\u001b[38;5;28;43mself\u001b[39;49m\u001b[43m,\u001b[49m\u001b[43m \u001b[49m\u001b[43mp\u001b[49m\u001b[43m,\u001b[49m\u001b[43m \u001b[49m\u001b[43mdim\u001b[49m\u001b[43m,\u001b[49m\u001b[43m \u001b[49m\u001b[43mkeepdim\u001b[49m\u001b[43m,\u001b[49m\u001b[43m \u001b[49m\u001b[43mdtype\u001b[49m\u001b[38;5;241;43m=\u001b[39;49m\u001b[43mdtype\u001b[49m\u001b[43m)\u001b[49m\n",
      "File \u001b[0;32m/opt/aws_neuronx_venv_pytorch_2_1/lib/python3.10/site-packages/torch/functional.py:1595\u001b[0m, in \u001b[0;36mnorm\u001b[0;34m(input, p, dim, keepdim, out, dtype)\u001b[0m\n\u001b[1;32m   1593\u001b[0m \u001b[38;5;28;01mif\u001b[39;00m p \u001b[38;5;241m==\u001b[39m \u001b[38;5;124m\"\u001b[39m\u001b[38;5;124mfro\u001b[39m\u001b[38;5;124m\"\u001b[39m \u001b[38;5;129;01mand\u001b[39;00m (dim \u001b[38;5;129;01mis\u001b[39;00m \u001b[38;5;28;01mNone\u001b[39;00m \u001b[38;5;129;01mor\u001b[39;00m \u001b[38;5;28misinstance\u001b[39m(dim, \u001b[38;5;28mint\u001b[39m) \u001b[38;5;129;01mor\u001b[39;00m \u001b[38;5;28mlen\u001b[39m(dim) \u001b[38;5;241m<\u001b[39m\u001b[38;5;241m=\u001b[39m \u001b[38;5;241m2\u001b[39m):\n\u001b[1;32m   1594\u001b[0m     \u001b[38;5;28;01mif\u001b[39;00m out \u001b[38;5;129;01mis\u001b[39;00m \u001b[38;5;28;01mNone\u001b[39;00m:\n\u001b[0;32m-> 1595\u001b[0m         \u001b[38;5;28;01mreturn\u001b[39;00m \u001b[43mtorch\u001b[49m\u001b[38;5;241;43m.\u001b[39;49m\u001b[43mlinalg\u001b[49m\u001b[38;5;241;43m.\u001b[39;49m\u001b[43mvector_norm\u001b[49m\u001b[43m(\u001b[49m\u001b[38;5;28;43minput\u001b[39;49m\u001b[43m,\u001b[49m\u001b[43m \u001b[49m\u001b[38;5;241;43m2\u001b[39;49m\u001b[43m,\u001b[49m\u001b[43m \u001b[49m\u001b[43m_dim\u001b[49m\u001b[43m,\u001b[49m\u001b[43m \u001b[49m\u001b[43mkeepdim\u001b[49m\u001b[43m,\u001b[49m\u001b[43m \u001b[49m\u001b[43mdtype\u001b[49m\u001b[38;5;241;43m=\u001b[39;49m\u001b[43mdtype\u001b[49m\u001b[43m)\u001b[49m\n\u001b[1;32m   1596\u001b[0m     \u001b[38;5;28;01melse\u001b[39;00m:\n\u001b[1;32m   1597\u001b[0m         \u001b[38;5;28;01mreturn\u001b[39;00m torch\u001b[38;5;241m.\u001b[39mlinalg\u001b[38;5;241m.\u001b[39mvector_norm(\u001b[38;5;28minput\u001b[39m, \u001b[38;5;241m2\u001b[39m, _dim, keepdim, dtype\u001b[38;5;241m=\u001b[39mdtype, out\u001b[38;5;241m=\u001b[39mout)\n",
      "\u001b[0;31mRuntimeError\u001b[0m: linalg.vector_norm: Expected a floating point or complex tensor as input. Got Long"
     ]
    }
   ],
   "source": [
    "(n_tens.norm()).to(torch.int64)"
   ]
  },
  {
   "cell_type": "code",
   "execution_count": 20,
   "id": "1a3a6859-27dd-4ab8-82c6-07c40fba9cca",
   "metadata": {},
   "outputs": [],
   "source": [
    "n_tens = n_tens.to(device)"
   ]
  },
  {
   "cell_type": "code",
   "execution_count": 21,
   "id": "6da471de-941d-460b-8443-6116579fc5de",
   "metadata": {},
   "outputs": [
    {
     "data": {
      "text/plain": [
       "'torch.xla.LongTensor'"
      ]
     },
     "execution_count": 21,
     "metadata": {},
     "output_type": "execute_result"
    }
   ],
   "source": [
    "torch.stack((n_tens, n_tens), 2).view(1,2,1,3).type()"
   ]
  },
  {
   "cell_type": "code",
   "execution_count": 23,
   "id": "4173a228-4eae-4740-ba2c-493202cad341",
   "metadata": {},
   "outputs": [
    {
     "name": "stdout",
     "output_type": "stream",
     "text": [
      "2024-08-26 16:47:32.000558:  17656  INFO ||NEURON_CACHE||: Compile cache path: /var/tmp/neuron-compile-cache\n",
      "2024-08-26 16:47:32.000560:  17656  INFO ||NEURON_CC_WRAPPER||: Call compiler with cmd: neuronx-cc compile --target=trn1 --framework=XLA /tmp/ubuntu/neuroncc_compile_workdir/1f02e8d0-4c69-4361-b943-a91ce88f09d3/model.MODULE_16302122862933890670+d41d8cd9.hlo_module.pb --output /tmp/ubuntu/neuroncc_compile_workdir/1f02e8d0-4c69-4361-b943-a91ce88f09d3/model.MODULE_16302122862933890670+d41d8cd9.neff --verbose=35\n",
      ".\n",
      "Compiler status PASS\n"
     ]
    },
    {
     "data": {
      "text/plain": [
       "tensor([[0, 0, 0]], device='xla:0')"
      ]
     },
     "execution_count": 23,
     "metadata": {},
     "output_type": "execute_result"
    }
   ],
   "source": [
    "(n_tens < n_tens).type_as(n_tens).prod(dim=1)"
   ]
  },
  {
   "cell_type": "code",
   "execution_count": 18,
   "id": "7d0d7706-047b-4b5a-92a8-cb24213f65e8",
   "metadata": {},
   "outputs": [
    {
     "name": "stdout",
     "output_type": "stream",
     "text": [
      "2024-08-26 14:58:45.000366:  13842  INFO ||NEURON_CACHE||: Compile cache path: /var/tmp/neuron-compile-cache\n",
      "2024-08-26 14:58:45.000369:  13842  INFO ||NEURON_CC_WRAPPER||: Call compiler with cmd: neuronx-cc compile --target=trn1 --framework=XLA /tmp/ubuntu/neuroncc_compile_workdir/e684824e-fb48-467c-852b-e3ad912eb2a2/model.MODULE_11410224952559862343+d41d8cd9.hlo_module.pb --output /tmp/ubuntu/neuroncc_compile_workdir/e684824e-fb48-467c-852b-e3ad912eb2a2/model.MODULE_11410224952559862343+d41d8cd9.neff --verbose=35\n",
      ".\n",
      "Compiler status PASS\n"
     ]
    },
    {
     "data": {
      "text/plain": [
       "tensor([[[False, False, False]]], device='xla:0')"
      ]
     },
     "execution_count": 18,
     "metadata": {},
     "output_type": "execute_result"
    }
   ],
   "source": [
    "(n_tens < n_tens)"
   ]
  },
  {
   "cell_type": "code",
   "execution_count": 24,
   "id": "83b59796-0a46-4a38-8252-fbe180a9c834",
   "metadata": {},
   "outputs": [
    {
     "data": {
      "text/plain": [
       "'torch.xla.BoolTensor'"
      ]
     },
     "execution_count": 24,
     "metadata": {},
     "output_type": "execute_result"
    }
   ],
   "source": [
    "(n_tens < n_tens).type()"
   ]
  },
  {
   "cell_type": "code",
   "execution_count": null,
   "id": "a3dbfbb2-406a-4088-9ab5-19b50767f1cd",
   "metadata": {},
   "outputs": [],
   "source": []
  },
  {
   "cell_type": "code",
   "execution_count": 28,
   "id": "174a16e1-15b2-4d13-b767-c71b6450ecd6",
   "metadata": {},
   "outputs": [
    {
     "ename": "AttributeError",
     "evalue": "module 'torch_xla' has no attribute 'FloatTensor'",
     "output_type": "error",
     "traceback": [
      "\u001b[0;31m---------------------------------------------------------------------------\u001b[0m",
      "\u001b[0;31mAttributeError\u001b[0m                            Traceback (most recent call last)",
      "Cell \u001b[0;32mIn[28], line 1\u001b[0m\n\u001b[0;32m----> 1\u001b[0m (n_tens \u001b[38;5;241m<\u001b[39m n_tens)\u001b[38;5;241m.\u001b[39mtype(dtype\u001b[38;5;241m=\u001b[39m\u001b[43mtorch_xla\u001b[49m\u001b[38;5;241;43m.\u001b[39;49m\u001b[43mFloatTensor\u001b[49m)\n",
      "\u001b[0;31mAttributeError\u001b[0m: module 'torch_xla' has no attribute 'FloatTensor'"
     ]
    }
   ],
   "source": [
    "(n_tens < n_tens).type(dtype=torch_xla.FloatTensor)"
   ]
  },
  {
   "cell_type": "code",
   "execution_count": 21,
   "id": "af46082d-b9b8-4c24-b079-eb2d4ada5ab5",
   "metadata": {},
   "outputs": [
    {
     "ename": "ValueError",
     "evalue": "invalid type: 'torch.xla.LongTensor'",
     "output_type": "error",
     "traceback": [
      "\u001b[0;31m---------------------------------------------------------------------------\u001b[0m",
      "\u001b[0;31mValueError\u001b[0m                                Traceback (most recent call last)",
      "Cell \u001b[0;32mIn[21], line 1\u001b[0m\n\u001b[0;32m----> 1\u001b[0m \u001b[43m(\u001b[49m\u001b[43mn_tens\u001b[49m\u001b[43m \u001b[49m\u001b[38;5;241;43m<\u001b[39;49m\u001b[43m \u001b[49m\u001b[43mn_tens\u001b[49m\u001b[43m)\u001b[49m\u001b[38;5;241;43m.\u001b[39;49m\u001b[43mtype\u001b[49m\u001b[43m(\u001b[49m\u001b[38;5;124;43m\"\u001b[39;49m\u001b[38;5;124;43mtorch.xla.LongTensor\u001b[39;49m\u001b[38;5;124;43m\"\u001b[39;49m\u001b[43m)\u001b[49m\n",
      "\u001b[0;31mValueError\u001b[0m: invalid type: 'torch.xla.LongTensor'"
     ]
    }
   ],
   "source": [
    "(n_tens < n_tens).type(\"torch.xla.LongTensor\")"
   ]
  },
  {
   "cell_type": "code",
   "execution_count": 5,
   "id": "c306f8d1-3d40-46b4-ad6a-95e7efbc9760",
   "metadata": {},
   "outputs": [],
   "source": [
    "import torch"
   ]
  },
  {
   "cell_type": "code",
   "execution_count": 12,
   "id": "f2b5a5a6-3590-4e75-8f33-d7f1f310dbb2",
   "metadata": {},
   "outputs": [],
   "source": [
    "a = torch.tensor([[1,1,1,]])"
   ]
  },
  {
   "cell_type": "code",
   "execution_count": 13,
   "id": "86f92b7e-70d5-4f6c-9b34-fb9f2ffaea6a",
   "metadata": {},
   "outputs": [
    {
     "data": {
      "text/plain": [
       "tensor([[0., 0., 0.]])"
      ]
     },
     "execution_count": 13,
     "metadata": {},
     "output_type": "execute_result"
    }
   ],
   "source": [
    "(a > a).type('torch.FloatTensor')"
   ]
  },
  {
   "cell_type": "code",
   "execution_count": 14,
   "id": "4acc1a40-a47c-4a56-b4f2-524da1407c29",
   "metadata": {},
   "outputs": [
    {
     "ename": "SyntaxError",
     "evalue": "invalid syntax (1307965163.py, line 1)",
     "output_type": "error",
     "traceback": [
      "\u001b[0;36m  Cell \u001b[0;32mIn[14], line 1\u001b[0;36m\u001b[0m\n\u001b[0;31m    .type()\u001b[0m\n\u001b[0m    ^\u001b[0m\n\u001b[0;31mSyntaxError\u001b[0m\u001b[0;31m:\u001b[0m invalid syntax\n"
     ]
    }
   ],
   "source": [
    ".type()\n",
    "\n",
    "\n",
    ".to(dtype=...)\n",
    "\n"
   ]
  },
  {
   "cell_type": "code",
   "execution_count": null,
   "id": "3a9eabe2-6e43-416a-8bd4-2abe50cddf85",
   "metadata": {},
   "outputs": [],
   "source": []
  },
  {
   "cell_type": "code",
   "execution_count": null,
   "id": "5493342c-4b85-45c2-950b-ff6d34f47f72",
   "metadata": {},
   "outputs": [],
   "source": []
  }
 ],
 "metadata": {
  "kernelspec": {
   "display_name": "Python (torch-neuronx)",
   "language": "python",
   "name": "aws_neuron_venv_pytorch"
  },
  "language_info": {
   "codemirror_mode": {
    "name": "ipython",
    "version": 3
   },
   "file_extension": ".py",
   "mimetype": "text/x-python",
   "name": "python",
   "nbconvert_exporter": "python",
   "pygments_lexer": "ipython3",
   "version": "3.10.12"
  }
 },
 "nbformat": 4,
 "nbformat_minor": 5
}
