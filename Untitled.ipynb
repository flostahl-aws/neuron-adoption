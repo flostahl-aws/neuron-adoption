{
 "cells": [
  {
   "cell_type": "code",
   "execution_count": 1,
   "id": "355abaae-dcce-4b51-9744-5a41ff9d2d5a",
   "metadata": {},
   "outputs": [],
   "source": [
    "model = \"yolox-s\"\n",
    "num_accelerators = 1\n",
    "total_batch_size = 2"
   ]
  },
  {
   "cell_type": "code",
   "execution_count": 9,
   "id": "cb363a9f-fbd6-48ae-8c8a-23bed718ac3a",
   "metadata": {},
   "outputs": [],
   "source": [
    "env_var_options = \"NEURON_RT_ASYNC_EXEC_MAX_INFLIGHT_REQUESTS=3  \" + \\\n",
    "    \"NEURON_CC_FLAGS=\\'--cache_dir=./compiler_cache --model-type=cnn-training --target=trn1 --framework=XLA --retry_failed_compilation\\'\"\n"
   ]
  },
  {
   "cell_type": "code",
   "execution_count": 3,
   "id": "9c029114-86ef-4354-85ad-cc9beee29c53",
   "metadata": {},
   "outputs": [],
   "source": [
    "!source /opt/aws_neuronx_venv_pytorch_2_1/bin/activate"
   ]
  },
  {
   "cell_type": "code",
   "execution_count": 8,
   "id": "546779e9-bcea-43e0-8ae4-5537712a765f",
   "metadata": {},
   "outputs": [
    {
     "name": "stdout",
     "output_type": "stream",
     "text": [
      "Compile model\n",
      "Running command: \n",
      "NEURON_RT_ASYNC_EXEC_MAX_INFLIGHT_REQUESTS=3  NEURON_CC_FLAGS='--cache_dir=./compiler_cache --model-type=cnn-training' neuronx-cc compile --target=trn1 --framework=XLA python -m    yolox.tools.train     -n yolox-s     -d 1     -b 2     \n"
     ]
    },
    {
     "name": "stderr",
     "output_type": "stream",
     "text": [
      "usage: neuronx-cc compile [--framework {XLA}] [--target {trn1,inf2,trn1n}]\n",
      "                          [--enable-fast-loading-neuron-binaries]\n",
      "                          [--enable-fast-context-switch]\n",
      "                          [--auto-cast <cast mode>]\n",
      "                          [--auto-cast-type {fp16,bf16,tf32,fp8_e4m3}]\n",
      "                          [--output <filename>] [--optlevel {1,2,3}] [--help]\n",
      "                          [--model-type {transformer,unet-inference,generic}]\n",
      "                          [--distribution-strategy {fsdp,nemo,llm-training,generic}]\n",
      "                          [--verbose {debug|info|warning|user|off}]\n",
      "                          [--logfile <filename>]\n",
      "                          [--logfile-verbose {debug|info|warning|user}]\n",
      "                          [--enable-mixed-precision-accumulation]\n",
      "                          [--enable-saturate-infinity]\n",
      "                          [--hbm-scratchpad-page-size HBM_SCRATCHPAD_PAGE_SIZE]\n",
      "                          [<file_names> ...]\n",
      "neuronx-cc compile: error: unrecognized arguments: -m yolox.tools.train -n yolox-s -d 1 -b 2\n"
     ]
    },
    {
     "ename": "CalledProcessError",
     "evalue": "Command 'NEURON_RT_ASYNC_EXEC_MAX_INFLIGHT_REQUESTS=3  NEURON_CC_FLAGS='--cache_dir=./compiler_cache --model-type=cnn-training' neuronx-cc compile --target=trn1 --framework=XLA python -m    yolox.tools.train     -n yolox-s     -d 1     -b 2     ' returned non-zero exit status 2.",
     "output_type": "error",
     "traceback": [
      "\u001b[0;31m---------------------------------------------------------------------------\u001b[0m",
      "\u001b[0;31mCalledProcessError\u001b[0m                        Traceback (most recent call last)",
      "File \u001b[0;32m<timed exec>:11\u001b[0m\n",
      "File \u001b[0;32m/usr/lib/python3.10/subprocess.py:369\u001b[0m, in \u001b[0;36mcheck_call\u001b[0;34m(*popenargs, **kwargs)\u001b[0m\n\u001b[1;32m    367\u001b[0m     \u001b[38;5;28;01mif\u001b[39;00m cmd \u001b[38;5;129;01mis\u001b[39;00m \u001b[38;5;28;01mNone\u001b[39;00m:\n\u001b[1;32m    368\u001b[0m         cmd \u001b[38;5;241m=\u001b[39m popenargs[\u001b[38;5;241m0\u001b[39m]\n\u001b[0;32m--> 369\u001b[0m     \u001b[38;5;28;01mraise\u001b[39;00m CalledProcessError(retcode, cmd)\n\u001b[1;32m    370\u001b[0m \u001b[38;5;28;01mreturn\u001b[39;00m \u001b[38;5;241m0\u001b[39m\n",
      "\u001b[0;31mCalledProcessError\u001b[0m: Command 'NEURON_RT_ASYNC_EXEC_MAX_INFLIGHT_REQUESTS=3  NEURON_CC_FLAGS='--cache_dir=./compiler_cache --model-type=cnn-training' neuronx-cc compile --target=trn1 --framework=XLA python -m    yolox.tools.train     -n yolox-s     -d 1     -b 2     ' returned non-zero exit status 2."
     ]
    }
   ],
   "source": [
    "%%time\n",
    "import subprocess\n",
    "print(\"Compile model\")\n",
    "COMPILE_CMD = f\"\"\"{env_var_options} neuronx-cc compile --target=trn1 --framework=XLA python -m \\\n",
    "   yolox.tools.train \\\n",
    "    -n {model} \\\n",
    "    -d {num_accelerators} \\\n",
    "    -b {total_batch_size} \\\n",
    "    \"\"\"\n",
    "\n",
    "print(f'Running command: \\n{COMPILE_CMD}')\n",
    "if subprocess.check_call(COMPILE_CMD,shell=True):\n",
    "   print(\"There was an error with the compilation command\")\n",
    "else:\n",
    "   print(\"Compilation Success!!!\")"
   ]
  },
  {
   "cell_type": "code",
   "execution_count": 10,
   "id": "d32761f7-6075-413c-8b5b-9e9388e92eb5",
   "metadata": {
    "scrolled": true
   },
   "outputs": [
    {
     "name": "stdout",
     "output_type": "stream",
     "text": [
      "Compile model\n",
      "Running command: \n",
      "NEURON_RT_ASYNC_EXEC_MAX_INFLIGHT_REQUESTS=3  NEURON_CC_FLAGS='--cache_dir=./compiler_cache --model-type=cnn-training --target=trn1 --framework=XLA --retry_failed_compilation' neuron_parallel_compile python -m    yolox.tools.train     -n yolox-s     -d 1     -b 2     \n",
      "2024-08-28 17:49:39.000668:  102418  INFO ||NEURON_PARALLEL_COMPILE||: Removing existing workdir /tmp/ubuntu/parallel_compile_workdir\n",
      "2024-08-28 17:49:39.000668:  102418  INFO ||NEURON_PARALLEL_COMPILE||: Running trial run (add option to terminate trial run early; also ignore trial run's generated outputs, i.e. loss, checkpoints)\n",
      "2024-08-28 17:49:39.000668:  102418  INFO ||NEURON_PARALLEL_COMPILE||: Running cmd: ['python', '-m', 'yolox.tools.train', '-n', 'yolox-s', '-d', '1', '-b', '2']\n",
      "/bin/sh: 1: nvidia-smi: not found\n",
      "2024-08-28 17:49:50 | INFO     | yolox.core.trainer:137 - args: Namespace(experiment_name='yolox_s', name='yolox-s', dist_backend='nccl', dist_url=None, batch_size=2, devices=1, exp_file=None, resume=False, ckpt=None, start_epoch=None, num_machines=1, machine_rank=0, fp16=False, cache=None, occupy=False, logger='tensorboard', opts=[])\n",
      "2024-08-28 17:49:50 | INFO     | yolox.core.trainer:138 - exp value:\n",
      "���═════���═���══��═��═�����═��═╤════��═������═���═��══���═══���═���══��═��══╕\n",
      "│ keys              │ values                     │\n",
      "╞═════════════��══��═���╪══��═��══����═���═���═���══��═��══��═���═���═╡\n",
      "│ seed              �� None                       │\n",
      "├����─��─��─����────����─�����─�����──────��─────────────────��──��\n",
      "��� output_dir        ��� './YOLOX_outputs'          ���\n",
      "├──�����─────���─��──────���┼������─��──���─���────────��──��─����───���┤\n",
      "│ print_interval    │ 10                         ��\n",
      "├��──���─���─────���──��────┼────���─��───���─���────���─���─��───���──��\n",
      "│ eval_interval     ��� 10                         │\n",
      "├──���─�����───�����─────���──┼───────���─────────���─���──���──���─��┤\n",
      "│ dataset           │ None                       │\n",
      "├���─���─��─��──────��─��─�����┼─────������──────��──�����──���─���──���─��┤\n",
      "│ num_classes       │ 80                         │\n",
      "��──────���──��───��─���───┼──��─��──��─��───���─���─���──��─����────┤\n",
      "│ depth             �� 0.33                       ���\n",
      "����─��──────��─��──��─���─���┼���─�����─������─��─��────���────����──���──���┤\n",
      "│ width             │ 0.5                        ���\n",
      "├──���─��─��──��─�����─���────┼────���───────��─��─����────���─────┤\n",
      "│ act               │ 'silu'                     │\n",
      "├���─────��─��──��─��───���─┼���─��───────��─�����──���─���─��───────┤\n",
      "│ data_num_workers  │ 4                          │\n",
      "��─����─���─������─���─����──���─���─┼���─���──��─��──────�����─��─────────���┤\n",
      "�� input_size        ��� (640, 640)                 │\n",
      "├─���──���──��──���────────┼���──���─────���──────��─��──���─������─��─┤\n",
      "│ multiscale_range  │ 5                          │\n",
      "���──��─������─���─��────���──���─���─────────���──���─────��─������─���────���\n",
      "│ data_dir          ��� None                       ��\n",
      "├�����─����─����───────────┼──��─����─����─����──��─��─���───����────┤\n",
      "│ train_ann         �� 'instances_train2017.json' │\n",
      "├���─��──��─────────��─��─┼��─��─��─���─������───����─────���─���──��─���┤\n",
      "�� val_ann           │ 'instances_val2017.json'   ���\n",
      "├─────���─���──��─��──��──����─────��─���──��─��────��────────���─���\n",
      "│ test_ann          �� 'instances_test2017.json'  ���\n",
      "├��─������─���─���──��──���─������──┼���─���───��─�����────────�����───────��┤\n",
      "│ mosaic_prob       │ 1.0                        ��\n",
      "├──����─����─������─���────����─������─���─����────�����─����─����─������─����─����─��\n",
      "│ mixup_prob        �� 1.0                        ���\n",
      "├───�����─����──────────����─�����────���──����─����─������─���─────���─���┤\n",
      "│ hsv_prob          │ 1.0                        ��\n",
      "├───��─������─���──���─���─────���────���──���──���─���─������─���─��────────┤\n",
      "�� flip_prob         │ 0.5                        │\n",
      "���───���──���──���─���───���───����─�����─���──���─��──��─────��──����─������─���\n",
      "│ degrees           │ 10.0                       ��\n",
      "├─────���─��─���───────���─��─��─����────�����─�����─────��─�����─������──���\n",
      "│ translate         ��� 0.1                        │\n",
      "├──────────���─────����─����─������──���───����─����─����─������─�����─������─┤\n",
      "│ mosaic_scale      │ (0.1, 2)                   │\n",
      "├───���───����─────���─���─���┼������─��───���─��─��───────��────────��\n",
      "│ enable_mixup      │ True                       │\n",
      "├───���─������─�����─����─��������─��┼─����─������─���─����─�����─������─��─��──����─����┤\n",
      "�� mixup_scale       �� (0.5, 1.5)                 │\n",
      "├�����─������──────����─�����─������┼������────��─��──����─�����───���─������──���──┤\n",
      "│ shear             │ 2.0                        │\n",
      "��───────��─������────────����─�����──────��──����────���─���─���────┤\n",
      "│ warmup_epochs     │ 5                          │\n",
      "��──���─���──��─��────��──��─┼─��────────────���─���──��─────���──┤\n",
      "│ max_epoch         ��� 300                        │\n",
      "���─��─���──���──���─���────���─���┼─��─��─���──────���─���─���──��─��──────┤\n",
      "�� warmup_lr         �� 0                          │\n",
      "��─��────────���─���──��──��┼����─��──────────────���─�����─������─��─��\n",
      "│ min_lr_ratio      │ 0.05                       │\n",
      "���─���──��─��────────���──���┼���───���────��─����─��───��─�����──────���\n",
      "│ basic_lr_per_img  ��� 0.00015625                 │\n",
      "├──────���──���─���──��─��──┼────��──────────���──────────��─┤\n",
      "│ scheduler         ��� 'yoloxwarmcos'             │\n",
      "├��─����─────����─������─���─����┼�����──────���─���─���──��─��────────���─���\n",
      "│ no_aug_epochs     │ 15                         │\n",
      "├─────��───────────���─┼──���──���──����─�����──────����───────┤\n",
      "│ ema               │ True                       │\n",
      "├��───────��─��───��─������─���───────���─���─���──����─────────��─���┤\n",
      "│ weight_decay      │ 0.0005                     │\n",
      "�����─��──����─������─���─����────┼───��─��──��─���─������─────��─����─��───��\n",
      "│ momentum          │ 0.9                        │\n",
      "��───��────────���────���─┼────���─���──��─���───��─��──────────┤\n",
      "│ save_history_ckpt │ True                       │\n",
      "├���─���──��─��──��──��─���───┼───────────────────���────────┤\n",
      "�� exp_name          │ 'yolox_s'                  │\n",
      "������─���─����─����─������─������─������─������─������─������─������─������─������─������─���─����─����─��\n",
      "��� test_size         │ (640, 640)                 ���\n",
      "├───�����─����─����─����─����─����─����─����─����─��─����─��─��─���─������─────┤\n",
      "│ test_conf         │ 0.01                       ���\n",
      "├───��─���──��─��──�����─��������┼����─��─────��───────���─���──��─��───┤\n",
      "│ nmsthre           │ 0.65                       │\n",
      "��═══����═��═��═��══���═���══��╧��════��══��═════��═������═��═��═══��══╛\n",
      "2024-08-28 17:49:50 | INFO     | yolox.core.trainer:142 - Model Summary: Params: 8.97M, Gflops: 26.93\n",
      "2024-08-28 17:49:50 | INFO     | yolox.data.datasets.coco:63 - loading annotations into memory...\n",
      "2024-08-28 17:50:01 | INFO     | yolox.data.datasets.coco:63 - Done (t=10.82s)\n",
      "2024-08-28 17:50:01 | INFO     | pycocotools.coco:86 - creating index...\n",
      "2024-08-28 17:50:02 | INFO     | pycocotools.coco:86 - index created!\n",
      "2024-08-28 17:50:26 | INFO     | yolox.core.trainer:159 - init prefetcher, this might take one minute or less...\n",
      "2024-08-28 17:50:26 | INFO     | yolox.data.datasets.coco:63 - loading annotations into memory...\n",
      "2024-08-28 17:50:26 | INFO     | yolox.data.datasets.coco:63 - Done (t=0.26s)\n",
      "2024-08-28 17:50:26 | INFO     | pycocotools.coco:86 - creating index...\n",
      "2024-08-28 17:50:26 | INFO     | pycocotools.coco:86 - index created!\n",
      "2024-08-28 17:50:27 | INFO     | yolox.core.trainer:196 - Training start...\n",
      "2024-08-28 17:50:27 | INFO     | yolox.core.trainer:197 - \n",
      "YOLOX(\n",
      "  (backbone): YOLOPAFPN(\n",
      "    (backbone): CSPDarknet(\n",
      "      (stem): Focus(\n",
      "        (conv): BaseConv(\n",
      "          (conv): Conv2d(12, 32, kernel_size=(3, 3), stride=(1, 1), padding=(1, 1), bias=False)\n",
      "          (bn): BatchNorm2d(32, eps=0.001, momentum=0.03, affine=True, track_running_stats=True)\n",
      "          (act): SiLU(inplace=True)\n",
      "        )\n",
      "      )\n",
      "      (dark2): Sequential(\n",
      "        (0): BaseConv(\n",
      "          (conv): Conv2d(32, 64, kernel_size=(3, 3), stride=(2, 2), padding=(1, 1), bias=False)\n",
      "          (bn): BatchNorm2d(64, eps=0.001, momentum=0.03, affine=True, track_running_stats=True)\n",
      "          (act): SiLU(inplace=True)\n",
      "        )\n",
      "        (1): CSPLayer(\n",
      "          (conv1): BaseConv(\n",
      "            (conv): Conv2d(64, 32, kernel_size=(1, 1), stride=(1, 1), bias=False)\n",
      "            (bn): BatchNorm2d(32, eps=0.001, momentum=0.03, affine=True, track_running_stats=True)\n",
      "            (act): SiLU(inplace=True)\n",
      "          )\n",
      "          (conv2): BaseConv(\n",
      "            (conv): Conv2d(64, 32, kernel_size=(1, 1), stride=(1, 1), bias=False)\n",
      "            (bn): BatchNorm2d(32, eps=0.001, momentum=0.03, affine=True, track_running_stats=True)\n",
      "            (act): SiLU(inplace=True)\n",
      "          )\n",
      "          (conv3): BaseConv(\n",
      "            (conv): Conv2d(64, 64, kernel_size=(1, 1), stride=(1, 1), bias=False)\n",
      "            (bn): BatchNorm2d(64, eps=0.001, momentum=0.03, affine=True, track_running_stats=True)\n",
      "            (act): SiLU(inplace=True)\n",
      "          )\n",
      "          (m): Sequential(\n",
      "            (0): Bottleneck(\n",
      "              (conv1): BaseConv(\n",
      "                (conv): Conv2d(32, 32, kernel_size=(1, 1), stride=(1, 1), bias=False)\n",
      "                (bn): BatchNorm2d(32, eps=0.001, momentum=0.03, affine=True, track_running_stats=True)\n",
      "                (act): SiLU(inplace=True)\n",
      "              )\n",
      "              (conv2): BaseConv(\n",
      "                (conv): Conv2d(32, 32, kernel_size=(3, 3), stride=(1, 1), padding=(1, 1), bias=False)\n",
      "                (bn): BatchNorm2d(32, eps=0.001, momentum=0.03, affine=True, track_running_stats=True)\n",
      "                (act): SiLU(inplace=True)\n",
      "              )\n",
      "            )\n",
      "          )\n",
      "        )\n",
      "      )\n",
      "      (dark3): Sequential(\n",
      "        (0): BaseConv(\n",
      "          (conv): Conv2d(64, 128, kernel_size=(3, 3), stride=(2, 2), padding=(1, 1), bias=False)\n",
      "          (bn): BatchNorm2d(128, eps=0.001, momentum=0.03, affine=True, track_running_stats=True)\n",
      "          (act): SiLU(inplace=True)\n",
      "        )\n",
      "        (1): CSPLayer(\n",
      "          (conv1): BaseConv(\n",
      "            (conv): Conv2d(128, 64, kernel_size=(1, 1), stride=(1, 1), bias=False)\n",
      "            (bn): BatchNorm2d(64, eps=0.001, momentum=0.03, affine=True, track_running_stats=True)\n",
      "            (act): SiLU(inplace=True)\n",
      "          )\n",
      "          (conv2): BaseConv(\n",
      "            (conv): Conv2d(128, 64, kernel_size=(1, 1), stride=(1, 1), bias=False)\n",
      "            (bn): BatchNorm2d(64, eps=0.001, momentum=0.03, affine=True, track_running_stats=True)\n",
      "            (act): SiLU(inplace=True)\n",
      "          )\n",
      "          (conv3): BaseConv(\n",
      "            (conv): Conv2d(128, 128, kernel_size=(1, 1), stride=(1, 1), bias=False)\n",
      "            (bn): BatchNorm2d(128, eps=0.001, momentum=0.03, affine=True, track_running_stats=True)\n",
      "            (act): SiLU(inplace=True)\n",
      "          )\n",
      "          (m): Sequential(\n",
      "            (0): Bottleneck(\n",
      "              (conv1): BaseConv(\n",
      "                (conv): Conv2d(64, 64, kernel_size=(1, 1), stride=(1, 1), bias=False)\n",
      "                (bn): BatchNorm2d(64, eps=0.001, momentum=0.03, affine=True, track_running_stats=True)\n",
      "                (act): SiLU(inplace=True)\n",
      "              )\n",
      "              (conv2): BaseConv(\n",
      "                (conv): Conv2d(64, 64, kernel_size=(3, 3), stride=(1, 1), padding=(1, 1), bias=False)\n",
      "                (bn): BatchNorm2d(64, eps=0.001, momentum=0.03, affine=True, track_running_stats=True)\n",
      "                (act): SiLU(inplace=True)\n",
      "              )\n",
      "            )\n",
      "            (1): Bottleneck(\n",
      "              (conv1): BaseConv(\n",
      "                (conv): Conv2d(64, 64, kernel_size=(1, 1), stride=(1, 1), bias=False)\n",
      "                (bn): BatchNorm2d(64, eps=0.001, momentum=0.03, affine=True, track_running_stats=True)\n",
      "                (act): SiLU(inplace=True)\n",
      "              )\n",
      "              (conv2): BaseConv(\n",
      "                (conv): Conv2d(64, 64, kernel_size=(3, 3), stride=(1, 1), padding=(1, 1), bias=False)\n",
      "                (bn): BatchNorm2d(64, eps=0.001, momentum=0.03, affine=True, track_running_stats=True)\n",
      "                (act): SiLU(inplace=True)\n",
      "              )\n",
      "            )\n",
      "            (2): Bottleneck(\n",
      "              (conv1): BaseConv(\n",
      "                (conv): Conv2d(64, 64, kernel_size=(1, 1), stride=(1, 1), bias=False)\n",
      "                (bn): BatchNorm2d(64, eps=0.001, momentum=0.03, affine=True, track_running_stats=True)\n",
      "                (act): SiLU(inplace=True)\n",
      "              )\n",
      "              (conv2): BaseConv(\n",
      "                (conv): Conv2d(64, 64, kernel_size=(3, 3), stride=(1, 1), padding=(1, 1), bias=False)\n",
      "                (bn): BatchNorm2d(64, eps=0.001, momentum=0.03, affine=True, track_running_stats=True)\n",
      "                (act): SiLU(inplace=True)\n",
      "              )\n",
      "            )\n",
      "          )\n",
      "        )\n",
      "      )\n",
      "      (dark4): Sequential(\n",
      "        (0): BaseConv(\n",
      "          (conv): Conv2d(128, 256, kernel_size=(3, 3), stride=(2, 2), padding=(1, 1), bias=False)\n",
      "          (bn): BatchNorm2d(256, eps=0.001, momentum=0.03, affine=True, track_running_stats=True)\n",
      "          (act): SiLU(inplace=True)\n",
      "        )\n",
      "        (1): CSPLayer(\n",
      "          (conv1): BaseConv(\n",
      "            (conv): Conv2d(256, 128, kernel_size=(1, 1), stride=(1, 1), bias=False)\n",
      "            (bn): BatchNorm2d(128, eps=0.001, momentum=0.03, affine=True, track_running_stats=True)\n",
      "            (act): SiLU(inplace=True)\n",
      "          )\n",
      "          (conv2): BaseConv(\n",
      "            (conv): Conv2d(256, 128, kernel_size=(1, 1), stride=(1, 1), bias=False)\n",
      "            (bn): BatchNorm2d(128, eps=0.001, momentum=0.03, affine=True, track_running_stats=True)\n",
      "            (act): SiLU(inplace=True)\n",
      "          )\n",
      "          (conv3): BaseConv(\n",
      "            (conv): Conv2d(256, 256, kernel_size=(1, 1), stride=(1, 1), bias=False)\n",
      "            (bn): BatchNorm2d(256, eps=0.001, momentum=0.03, affine=True, track_running_stats=True)\n",
      "            (act): SiLU(inplace=True)\n",
      "          )\n",
      "          (m): Sequential(\n",
      "            (0): Bottleneck(\n",
      "              (conv1): BaseConv(\n",
      "                (conv): Conv2d(128, 128, kernel_size=(1, 1), stride=(1, 1), bias=False)\n",
      "                (bn): BatchNorm2d(128, eps=0.001, momentum=0.03, affine=True, track_running_stats=True)\n",
      "                (act): SiLU(inplace=True)\n",
      "              )\n",
      "              (conv2): BaseConv(\n",
      "                (conv): Conv2d(128, 128, kernel_size=(3, 3), stride=(1, 1), padding=(1, 1), bias=False)\n",
      "                (bn): BatchNorm2d(128, eps=0.001, momentum=0.03, affine=True, track_running_stats=True)\n",
      "                (act): SiLU(inplace=True)\n",
      "              )\n",
      "            )\n",
      "            (1): Bottleneck(\n",
      "              (conv1): BaseConv(\n",
      "                (conv): Conv2d(128, 128, kernel_size=(1, 1), stride=(1, 1), bias=False)\n",
      "                (bn): BatchNorm2d(128, eps=0.001, momentum=0.03, affine=True, track_running_stats=True)\n",
      "                (act): SiLU(inplace=True)\n",
      "              )\n",
      "              (conv2): BaseConv(\n",
      "                (conv): Conv2d(128, 128, kernel_size=(3, 3), stride=(1, 1), padding=(1, 1), bias=False)\n",
      "                (bn): BatchNorm2d(128, eps=0.001, momentum=0.03, affine=True, track_running_stats=True)\n",
      "                (act): SiLU(inplace=True)\n",
      "              )\n",
      "            )\n",
      "            (2): Bottleneck(\n",
      "              (conv1): BaseConv(\n",
      "                (conv): Conv2d(128, 128, kernel_size=(1, 1), stride=(1, 1), bias=False)\n",
      "                (bn): BatchNorm2d(128, eps=0.001, momentum=0.03, affine=True, track_running_stats=True)\n",
      "                (act): SiLU(inplace=True)\n",
      "              )\n",
      "              (conv2): BaseConv(\n",
      "                (conv): Conv2d(128, 128, kernel_size=(3, 3), stride=(1, 1), padding=(1, 1), bias=False)\n",
      "                (bn): BatchNorm2d(128, eps=0.001, momentum=0.03, affine=True, track_running_stats=True)\n",
      "                (act): SiLU(inplace=True)\n",
      "              )\n",
      "            )\n",
      "          )\n",
      "        )\n",
      "      )\n",
      "      (dark5): Sequential(\n",
      "        (0): BaseConv(\n",
      "          (conv): Conv2d(256, 512, kernel_size=(3, 3), stride=(2, 2), padding=(1, 1), bias=False)\n",
      "          (bn): BatchNorm2d(512, eps=0.001, momentum=0.03, affine=True, track_running_stats=True)\n",
      "          (act): SiLU(inplace=True)\n",
      "        )\n",
      "        (1): SPPBottleneck(\n",
      "          (conv1): BaseConv(\n",
      "            (conv): Conv2d(512, 256, kernel_size=(1, 1), stride=(1, 1), bias=False)\n",
      "            (bn): BatchNorm2d(256, eps=0.001, momentum=0.03, affine=True, track_running_stats=True)\n",
      "            (act): SiLU(inplace=True)\n",
      "          )\n",
      "          (m): ModuleList(\n",
      "            (0): MaxPool2d(kernel_size=5, stride=1, padding=2, dilation=1, ceil_mode=False)\n",
      "            (1): MaxPool2d(kernel_size=9, stride=1, padding=4, dilation=1, ceil_mode=False)\n",
      "            (2): MaxPool2d(kernel_size=13, stride=1, padding=6, dilation=1, ceil_mode=False)\n",
      "          )\n",
      "          (conv2): BaseConv(\n",
      "            (conv): Conv2d(1024, 512, kernel_size=(1, 1), stride=(1, 1), bias=False)\n",
      "            (bn): BatchNorm2d(512, eps=0.001, momentum=0.03, affine=True, track_running_stats=True)\n",
      "            (act): SiLU(inplace=True)\n",
      "          )\n",
      "        )\n",
      "        (2): CSPLayer(\n",
      "          (conv1): BaseConv(\n",
      "            (conv): Conv2d(512, 256, kernel_size=(1, 1), stride=(1, 1), bias=False)\n",
      "            (bn): BatchNorm2d(256, eps=0.001, momentum=0.03, affine=True, track_running_stats=True)\n",
      "            (act): SiLU(inplace=True)\n",
      "          )\n",
      "          (conv2): BaseConv(\n",
      "            (conv): Conv2d(512, 256, kernel_size=(1, 1), stride=(1, 1), bias=False)\n",
      "            (bn): BatchNorm2d(256, eps=0.001, momentum=0.03, affine=True, track_running_stats=True)\n",
      "            (act): SiLU(inplace=True)\n",
      "          )\n",
      "          (conv3): BaseConv(\n",
      "            (conv): Conv2d(512, 512, kernel_size=(1, 1), stride=(1, 1), bias=False)\n",
      "            (bn): BatchNorm2d(512, eps=0.001, momentum=0.03, affine=True, track_running_stats=True)\n",
      "            (act): SiLU(inplace=True)\n",
      "          )\n",
      "          (m): Sequential(\n",
      "            (0): Bottleneck(\n",
      "              (conv1): BaseConv(\n",
      "                (conv): Conv2d(256, 256, kernel_size=(1, 1), stride=(1, 1), bias=False)\n",
      "                (bn): BatchNorm2d(256, eps=0.001, momentum=0.03, affine=True, track_running_stats=True)\n",
      "                (act): SiLU(inplace=True)\n",
      "              )\n",
      "              (conv2): BaseConv(\n",
      "                (conv): Conv2d(256, 256, kernel_size=(3, 3), stride=(1, 1), padding=(1, 1), bias=False)\n",
      "                (bn): BatchNorm2d(256, eps=0.001, momentum=0.03, affine=True, track_running_stats=True)\n",
      "                (act): SiLU(inplace=True)\n",
      "              )\n",
      "            )\n",
      "          )\n",
      "        )\n",
      "      )\n",
      "    )\n",
      "    (upsample): Upsample(scale_factor=2.0, mode='nearest')\n",
      "    (lateral_conv0): BaseConv(\n",
      "      (conv): Conv2d(512, 256, kernel_size=(1, 1), stride=(1, 1), bias=False)\n",
      "      (bn): BatchNorm2d(256, eps=0.001, momentum=0.03, affine=True, track_running_stats=True)\n",
      "      (act): SiLU(inplace=True)\n",
      "    )\n",
      "    (C3_p4): CSPLayer(\n",
      "      (conv1): BaseConv(\n",
      "        (conv): Conv2d(512, 128, kernel_size=(1, 1), stride=(1, 1), bias=False)\n",
      "        (bn): BatchNorm2d(128, eps=0.001, momentum=0.03, affine=True, track_running_stats=True)\n",
      "        (act): SiLU(inplace=True)\n",
      "      )\n",
      "      (conv2): BaseConv(\n",
      "        (conv): Conv2d(512, 128, kernel_size=(1, 1), stride=(1, 1), bias=False)\n",
      "        (bn): BatchNorm2d(128, eps=0.001, momentum=0.03, affine=True, track_running_stats=True)\n",
      "        (act): SiLU(inplace=True)\n",
      "      )\n",
      "      (conv3): BaseConv(\n",
      "        (conv): Conv2d(256, 256, kernel_size=(1, 1), stride=(1, 1), bias=False)\n",
      "        (bn): BatchNorm2d(256, eps=0.001, momentum=0.03, affine=True, track_running_stats=True)\n",
      "        (act): SiLU(inplace=True)\n",
      "      )\n",
      "      (m): Sequential(\n",
      "        (0): Bottleneck(\n",
      "          (conv1): BaseConv(\n",
      "            (conv): Conv2d(128, 128, kernel_size=(1, 1), stride=(1, 1), bias=False)\n",
      "            (bn): BatchNorm2d(128, eps=0.001, momentum=0.03, affine=True, track_running_stats=True)\n",
      "            (act): SiLU(inplace=True)\n",
      "          )\n",
      "          (conv2): BaseConv(\n",
      "            (conv): Conv2d(128, 128, kernel_size=(3, 3), stride=(1, 1), padding=(1, 1), bias=False)\n",
      "            (bn): BatchNorm2d(128, eps=0.001, momentum=0.03, affine=True, track_running_stats=True)\n",
      "            (act): SiLU(inplace=True)\n",
      "          )\n",
      "        )\n",
      "      )\n",
      "    )\n",
      "    (reduce_conv1): BaseConv(\n",
      "      (conv): Conv2d(256, 128, kernel_size=(1, 1), stride=(1, 1), bias=False)\n",
      "      (bn): BatchNorm2d(128, eps=0.001, momentum=0.03, affine=True, track_running_stats=True)\n",
      "      (act): SiLU(inplace=True)\n",
      "    )\n",
      "    (C3_p3): CSPLayer(\n",
      "      (conv1): BaseConv(\n",
      "        (conv): Conv2d(256, 64, kernel_size=(1, 1), stride=(1, 1), bias=False)\n",
      "        (bn): BatchNorm2d(64, eps=0.001, momentum=0.03, affine=True, track_running_stats=True)\n",
      "        (act): SiLU(inplace=True)\n",
      "      )\n",
      "      (conv2): BaseConv(\n",
      "        (conv): Conv2d(256, 64, kernel_size=(1, 1), stride=(1, 1), bias=False)\n",
      "        (bn): BatchNorm2d(64, eps=0.001, momentum=0.03, affine=True, track_running_stats=True)\n",
      "        (act): SiLU(inplace=True)\n",
      "      )\n",
      "      (conv3): BaseConv(\n",
      "        (conv): Conv2d(128, 128, kernel_size=(1, 1), stride=(1, 1), bias=False)\n",
      "        (bn): BatchNorm2d(128, eps=0.001, momentum=0.03, affine=True, track_running_stats=True)\n",
      "        (act): SiLU(inplace=True)\n",
      "      )\n",
      "      (m): Sequential(\n",
      "        (0): Bottleneck(\n",
      "          (conv1): BaseConv(\n",
      "            (conv): Conv2d(64, 64, kernel_size=(1, 1), stride=(1, 1), bias=False)\n",
      "            (bn): BatchNorm2d(64, eps=0.001, momentum=0.03, affine=True, track_running_stats=True)\n",
      "            (act): SiLU(inplace=True)\n",
      "          )\n",
      "          (conv2): BaseConv(\n",
      "            (conv): Conv2d(64, 64, kernel_size=(3, 3), stride=(1, 1), padding=(1, 1), bias=False)\n",
      "            (bn): BatchNorm2d(64, eps=0.001, momentum=0.03, affine=True, track_running_stats=True)\n",
      "            (act): SiLU(inplace=True)\n",
      "          )\n",
      "        )\n",
      "      )\n",
      "    )\n",
      "    (bu_conv2): BaseConv(\n",
      "      (conv): Conv2d(128, 128, kernel_size=(3, 3), stride=(2, 2), padding=(1, 1), bias=False)\n",
      "      (bn): BatchNorm2d(128, eps=0.001, momentum=0.03, affine=True, track_running_stats=True)\n",
      "      (act): SiLU(inplace=True)\n",
      "    )\n",
      "    (C3_n3): CSPLayer(\n",
      "      (conv1): BaseConv(\n",
      "        (conv): Conv2d(256, 128, kernel_size=(1, 1), stride=(1, 1), bias=False)\n",
      "        (bn): BatchNorm2d(128, eps=0.001, momentum=0.03, affine=True, track_running_stats=True)\n",
      "        (act): SiLU(inplace=True)\n",
      "      )\n",
      "      (conv2): BaseConv(\n",
      "        (conv): Conv2d(256, 128, kernel_size=(1, 1), stride=(1, 1), bias=False)\n",
      "        (bn): BatchNorm2d(128, eps=0.001, momentum=0.03, affine=True, track_running_stats=True)\n",
      "        (act): SiLU(inplace=True)\n",
      "      )\n",
      "      (conv3): BaseConv(\n",
      "        (conv): Conv2d(256, 256, kernel_size=(1, 1), stride=(1, 1), bias=False)\n",
      "        (bn): BatchNorm2d(256, eps=0.001, momentum=0.03, affine=True, track_running_stats=True)\n",
      "        (act): SiLU(inplace=True)\n",
      "      )\n",
      "      (m): Sequential(\n",
      "        (0): Bottleneck(\n",
      "          (conv1): BaseConv(\n",
      "            (conv): Conv2d(128, 128, kernel_size=(1, 1), stride=(1, 1), bias=False)\n",
      "            (bn): BatchNorm2d(128, eps=0.001, momentum=0.03, affine=True, track_running_stats=True)\n",
      "            (act): SiLU(inplace=True)\n",
      "          )\n",
      "          (conv2): BaseConv(\n",
      "            (conv): Conv2d(128, 128, kernel_size=(3, 3), stride=(1, 1), padding=(1, 1), bias=False)\n",
      "            (bn): BatchNorm2d(128, eps=0.001, momentum=0.03, affine=True, track_running_stats=True)\n",
      "            (act): SiLU(inplace=True)\n",
      "          )\n",
      "        )\n",
      "      )\n",
      "    )\n",
      "    (bu_conv1): BaseConv(\n",
      "      (conv): Conv2d(256, 256, kernel_size=(3, 3), stride=(2, 2), padding=(1, 1), bias=False)\n",
      "      (bn): BatchNorm2d(256, eps=0.001, momentum=0.03, affine=True, track_running_stats=True)\n",
      "      (act): SiLU(inplace=True)\n",
      "    )\n",
      "    (C3_n4): CSPLayer(\n",
      "      (conv1): BaseConv(\n",
      "        (conv): Conv2d(512, 256, kernel_size=(1, 1), stride=(1, 1), bias=False)\n",
      "        (bn): BatchNorm2d(256, eps=0.001, momentum=0.03, affine=True, track_running_stats=True)\n",
      "        (act): SiLU(inplace=True)\n",
      "      )\n",
      "      (conv2): BaseConv(\n",
      "        (conv): Conv2d(512, 256, kernel_size=(1, 1), stride=(1, 1), bias=False)\n",
      "        (bn): BatchNorm2d(256, eps=0.001, momentum=0.03, affine=True, track_running_stats=True)\n",
      "        (act): SiLU(inplace=True)\n",
      "      )\n",
      "      (conv3): BaseConv(\n",
      "        (conv): Conv2d(512, 512, kernel_size=(1, 1), stride=(1, 1), bias=False)\n",
      "        (bn): BatchNorm2d(512, eps=0.001, momentum=0.03, affine=True, track_running_stats=True)\n",
      "        (act): SiLU(inplace=True)\n",
      "      )\n",
      "      (m): Sequential(\n",
      "        (0): Bottleneck(\n",
      "          (conv1): BaseConv(\n",
      "            (conv): Conv2d(256, 256, kernel_size=(1, 1), stride=(1, 1), bias=False)\n",
      "            (bn): BatchNorm2d(256, eps=0.001, momentum=0.03, affine=True, track_running_stats=True)\n",
      "            (act): SiLU(inplace=True)\n",
      "          )\n",
      "          (conv2): BaseConv(\n",
      "            (conv): Conv2d(256, 256, kernel_size=(3, 3), stride=(1, 1), padding=(1, 1), bias=False)\n",
      "            (bn): BatchNorm2d(256, eps=0.001, momentum=0.03, affine=True, track_running_stats=True)\n",
      "            (act): SiLU(inplace=True)\n",
      "          )\n",
      "        )\n",
      "      )\n",
      "    )\n",
      "  )\n",
      "  (head): YOLOXHead(\n",
      "    (cls_convs): ModuleList(\n",
      "      (0-2): 3 x Sequential(\n",
      "        (0): BaseConv(\n",
      "          (conv): Conv2d(128, 128, kernel_size=(3, 3), stride=(1, 1), padding=(1, 1), bias=False)\n",
      "          (bn): BatchNorm2d(128, eps=0.001, momentum=0.03, affine=True, track_running_stats=True)\n",
      "          (act): SiLU(inplace=True)\n",
      "        )\n",
      "        (1): BaseConv(\n",
      "          (conv): Conv2d(128, 128, kernel_size=(3, 3), stride=(1, 1), padding=(1, 1), bias=False)\n",
      "          (bn): BatchNorm2d(128, eps=0.001, momentum=0.03, affine=True, track_running_stats=True)\n",
      "          (act): SiLU(inplace=True)\n",
      "        )\n",
      "      )\n",
      "    )\n",
      "    (reg_convs): ModuleList(\n",
      "      (0-2): 3 x Sequential(\n",
      "        (0): BaseConv(\n",
      "          (conv): Conv2d(128, 128, kernel_size=(3, 3), stride=(1, 1), padding=(1, 1), bias=False)\n",
      "          (bn): BatchNorm2d(128, eps=0.001, momentum=0.03, affine=True, track_running_stats=True)\n",
      "          (act): SiLU(inplace=True)\n",
      "        )\n",
      "        (1): BaseConv(\n",
      "          (conv): Conv2d(128, 128, kernel_size=(3, 3), stride=(1, 1), padding=(1, 1), bias=False)\n",
      "          (bn): BatchNorm2d(128, eps=0.001, momentum=0.03, affine=True, track_running_stats=True)\n",
      "          (act): SiLU(inplace=True)\n",
      "        )\n",
      "      )\n",
      "    )\n",
      "    (cls_preds): ModuleList(\n",
      "      (0-2): 3 x Conv2d(128, 80, kernel_size=(1, 1), stride=(1, 1))\n",
      "    )\n",
      "    (reg_preds): ModuleList(\n",
      "      (0-2): 3 x Conv2d(128, 4, kernel_size=(1, 1), stride=(1, 1))\n",
      "    )\n",
      "    (obj_preds): ModuleList(\n",
      "      (0-2): 3 x Conv2d(128, 1, kernel_size=(1, 1), stride=(1, 1))\n",
      "    )\n",
      "    (stems): ModuleList(\n",
      "      (0): BaseConv(\n",
      "        (conv): Conv2d(128, 128, kernel_size=(1, 1), stride=(1, 1), bias=False)\n",
      "        (bn): BatchNorm2d(128, eps=0.001, momentum=0.03, affine=True, track_running_stats=True)\n",
      "        (act): SiLU(inplace=True)\n",
      "      )\n",
      "      (1): BaseConv(\n",
      "        (conv): Conv2d(256, 128, kernel_size=(1, 1), stride=(1, 1), bias=False)\n",
      "        (bn): BatchNorm2d(128, eps=0.001, momentum=0.03, affine=True, track_running_stats=True)\n",
      "        (act): SiLU(inplace=True)\n",
      "      )\n",
      "      (2): BaseConv(\n",
      "        (conv): Conv2d(512, 128, kernel_size=(1, 1), stride=(1, 1), bias=False)\n",
      "        (bn): BatchNorm2d(128, eps=0.001, momentum=0.03, affine=True, track_running_stats=True)\n",
      "        (act): SiLU(inplace=True)\n",
      "      )\n",
      "    )\n",
      "    (l1_loss): L1Loss()\n",
      "    (bcewithlog_loss): BCEWithLogitsLoss()\n",
      "    (iou_loss): IOUloss()\n",
      "  )\n",
      ")\n",
      "2024-08-28 17:50:27 | INFO     | yolox.core.trainer:218 - ---> start train epoch 1\n",
      "2024-08-28 17:50:27.000636:  102435  INFO ||NEURON_CACHE||: Compile cache path: ./compiler_cache\n",
      "2024-08-28 17:50:27.000637:  102435  INFO ||NEURON_CC_WRAPPER||: Extracting graphs (/home/ubuntu/neuron-adoption/compiler_cache/neuronxcc-2.14.227.0+2d4f85be/MODULE_728667847965197534+6d464acc/model.hlo_module.pb) for ahead-of-time parallel compilation. No compilation was done.\n",
      "2024-08-28 17:50:28.000047:  102435  INFO ||NEURON_CACHE||: Compile cache path: ./compiler_cache\n",
      "2024-08-28 17:50:28.000048:  102435  INFO ||NEURON_CC_WRAPPER||: Extracting graphs (/home/ubuntu/neuron-adoption/compiler_cache/neuronxcc-2.14.227.0+2d4f85be/MODULE_11790936170214357810+6d464acc/model.hlo_module.pb) for ahead-of-time parallel compilation. No compilation was done.\n",
      "XXXXXXXXXXXXXXXXXXXXXXXXXX batch_idx = 0\n",
      "XXXXXXXXXXXXXXXXXXXXXXXXXX num_gt = 4789578204823420928\n",
      "2024-08-28 17:50:28.000051:  102435  INFO ||NEURON_CACHE||: Compile cache path: ./compiler_cache\n",
      "2024-08-28 17:50:28.000052:  102435  INFO ||NEURON_CC_WRAPPER||: Extracting graphs (/home/ubuntu/neuron-adoption/compiler_cache/neuronxcc-2.14.227.0+2d4f85be/MODULE_12252831604813668132+6d464acc/model.hlo_module.pb) for ahead-of-time parallel compilation. No compilation was done.\n",
      "XXXXXXXXXXXXXXXXXXXXXXXXXX gt_bboxes_per_image = tensor([[ 61.,  62.,  61.,  63.],\n",
      "        [ 62.,  62.,  61.,  60.],\n",
      "        [ 59.,  60.,  61.,  60.],\n",
      "        [ 60.,  62.,  60.,  61.],\n",
      "        [ 62.,  61.,  61.,  60.],\n",
      "        [ 60.,  62.,  64.,  65.],\n",
      "        [ 65.,  63.,  61.,  60.],\n",
      "        [ 61.,  63.,  63.,  63.],\n",
      "        [ 62.,  61.,  60.,  59.],\n",
      "        [ 60.,  61.,  61.,  61.],\n",
      "        [ 62.,  64.,  65.,  66.],\n",
      "        [ 63.,  60.,  61.,  63.],\n",
      "        [ 64.,  65.,  64.,  64.],\n",
      "        [ 64.,  63.,  63.,  64.],\n",
      "        [ 63.,  63.,  61.,  61.],\n",
      "        [ 61.,  60.,  59.,  60.],\n",
      "        [ 61.,  62.,  63.,  62.],\n",
      "        [ 61.,  60.,  62.,  65.],\n",
      "        [ 63.,  63.,  62.,  61.],\n",
      "        [ 61.,  60.,  61.,  62.],\n",
      "        [ 63.,  64.,  64.,  64.],\n",
      "        [ 63.,  65.,  64.,  64.],\n",
      "        [ 62.,  64.,  66.,  66.],\n",
      "        [ 65.,  62.,  62.,  65.],\n",
      "        [ 66.,  67.,  66.,  67.],\n",
      "        [ 67.,  64.,  65.,  65.],\n",
      "        [ 64.,  64.,  63.,  63.],\n",
      "        [ 64.,  64.,  64.,  63.],\n",
      "        [ 63.,  63.,  66.,  64.],\n",
      "        [ 65.,  65.,  67.,  68.],\n",
      "        [ 67.,  66.,  67.,  68.],\n",
      "        [ 67.,  65.,  58.,  60.],\n",
      "        [ 61.,  63.,  61.,  62.],\n",
      "        [ 62.,  61.,  60.,  58.],\n",
      "        [ 60.,  61.,  63.,  62.],\n",
      "        [ 60.,  59.,  59.,  58.],\n",
      "        [ 58.,  60.,  61.,  62.],\n",
      "        [ 62.,  62.,  63.,  59.],\n",
      "        [ 61.,  63.,  65.,  63.],\n",
      "        [ 60.,  62.,  64.,  64.],\n",
      "        [ 59.,  61.,  64.,  64.],\n",
      "        [ 62.,  62.,  61.,  60.],\n",
      "        [ 61.,  62.,  62.,  60.],\n",
      "        [ 60.,  62.,  64.,  63.],\n",
      "        [ 63.,  62.,  61.,  60.],\n",
      "        [ 58.,  57.,  59.,  60.],\n",
      "        [ 60.,  61.,  60.,  59.],\n",
      "        [ 59.,  58.,  58.,  57.],\n",
      "        [ 57.,  57.,  59.,  59.],\n",
      "        [ 59.,  59.,  59.,  58.],\n",
      "        [ 58.,  59.,  59.,  60.],\n",
      "        [ 61.,  61.,  58.,  59.],\n",
      "        [ 60.,  59.,  59.,  57.],\n",
      "        [ 57.,  57.,  57.,  58.],\n",
      "        [ 59.,  58.,  58.,  58.],\n",
      "        [ 57.,  59.,  60.,  61.],\n",
      "        [ 60.,  61.,  60.,  61.],\n",
      "        [ 62.,  62.,  61.,  61.],\n",
      "        [ 60.,  59.,  59.,  59.],\n",
      "        [ 59.,  59.,  59.,  60.],\n",
      "        [ 59.,  59.,  60.,  60.],\n",
      "        [ 59.,  61.,  61.,  60.],\n",
      "        [ 60.,  59.,  58.,  58.],\n",
      "        [ 58.,  58.,  57.,  56.],\n",
      "        [ 56.,  56.,  56.,  56.],\n",
      "        [ 57.,  56.,  59.,  62.],\n",
      "        [ 62.,  59.,  58.,  58.],\n",
      "        [ 66.,  75.,  91., 103.],\n",
      "        [115., 115., 114., 114.],\n",
      "        [116., 116., 116., 114.],\n",
      "        [111., 108., 106., 112.],\n",
      "        [122., 130., 129., 122.],\n",
      "        [112., 113., 115., 120.],\n",
      "        [128., 135., 136., 137.],\n",
      "        [136., 135., 137., 138.],\n",
      "        [137., 136., 135., 136.],\n",
      "        [137., 137., 137., 136.],\n",
      "        [135., 135., 135., 135.],\n",
      "        [135., 136., 136., 136.],\n",
      "        [136., 136., 136., 136.],\n",
      "        [136., 136., 136., 136.],\n",
      "        [135., 134., 134., 135.],\n",
      "        [134., 134., 135., 135.],\n",
      "        [136., 138., 134., 138.],\n",
      "        [140., 126., 120., 120.],\n",
      "        [124., 124., 124., 124.],\n",
      "        [124., 124., 124., 124.],\n",
      "        [124., 124., 123., 124.],\n",
      "        [125., 124., 123., 124.],\n",
      "        [126., 131., 137., 137.],\n",
      "        [135., 131., 121., 115.],\n",
      "        [114., 124., 124., 119.],\n",
      "        [115., 114., 116., 118.],\n",
      "        [119., 118., 118., 122.],\n",
      "        [131., 131., 125., 119.],\n",
      "        [126., 130., 131., 135.],\n",
      "        [ 58.,  58.,  58.,  58.],\n",
      "        [ 57.,  58.,  59.,  59.],\n",
      "        [ 59.,  59.,  60.,  58.],\n",
      "        [ 59.,  59.,  58.,  57.],\n",
      "        [ 57.,  58.,  58.,  60.],\n",
      "        [ 59.,  59.,  59.,  59.],\n",
      "        [ 59.,  59.,  59.,  59.],\n",
      "        [ 59.,  59.,  59.,  60.],\n",
      "        [ 60.,  60.,  60.,  60.],\n",
      "        [ 61.,  60.,  60.,  59.],\n",
      "        [ 59.,  60.,  60.,  60.],\n",
      "        [ 60.,  60.,  61.,  62.],\n",
      "        [ 63.,  61.,  60.,  59.],\n",
      "        [ 59.,  59.,  60.,  60.],\n",
      "        [ 60.,  60.,  61.,  62.],\n",
      "        [ 63.,  64.,  62.,  61.],\n",
      "        [ 61.,  62.,  62.,  63.],\n",
      "        [ 61.,  59.,  59.,  59.],\n",
      "        [ 58.,  56.,  56.,  57.],\n",
      "        [ 57.,  58.,  60.,  58.],\n",
      "        [ 58.,  58.,  59.,  57.],\n",
      "        [ 59.,  58.,  58.,  59.],\n",
      "        [ 61.,  62.,  63.,  64.],\n",
      "        [ 63.,  62.,  61.,  61.]], device='xla:0')\n",
      "2024-08-28 17:50:28.000059:  102435  INFO ||NEURON_CACHE||: Compile cache path: ./compiler_cache\n",
      "2024-08-28 17:50:28.000060:  102435  INFO ||NEURON_CC_WRAPPER||: Extracting graphs (/home/ubuntu/neuron-adoption/compiler_cache/neuronxcc-2.14.227.0+2d4f85be/MODULE_6427028763540755556+6d464acc/model.hlo_module.pb) for ahead-of-time parallel compilation. No compilation was done.\n",
      "XXXXXXXXXXXXXXXXXXXXXXXXXX gt_classes = tensor([ 87.,  88.,  90.,  91.,  90.,  90.,  90.,  92.,  92.,  91.,  89.,  88.,\n",
      "         89.,  91.,  91.,  90.,  91.,  92.,  93.,  93.,  93.,  93.,  93.,  95.,\n",
      "         95.,  94.,  96.,  97.,  98.,  96.,  93.,  89.,  75.,  84., 112., 151.,\n",
      "        159., 143., 148., 151., 151., 151., 152., 151., 151., 150., 150., 150.,\n",
      "        150., 149., 153., 153., 152., 153., 153., 154., 155., 155., 155., 154.,\n",
      "        155., 156., 154., 154., 154., 154., 152., 152., 152., 153., 154., 154.,\n",
      "        153., 153., 154., 154., 154., 152., 153., 154., 153., 153., 154., 156.,\n",
      "        153., 152., 153., 154., 154., 154., 155., 155., 156., 156., 157., 157.,\n",
      "        157., 156., 155., 155., 155., 155., 154., 155., 155., 155., 155., 155.,\n",
      "        156., 156., 156., 153., 153., 154., 154., 154., 154., 154., 154., 155.],\n",
      "       device='xla:0')\n",
      "2024-08-28 17:50:28.000120:  102435  INFO ||NEURON_CACHE||: Compile cache path: ./compiler_cache\n",
      "2024-08-28 17:50:28.000121:  102435  INFO ||NEURON_CC_WRAPPER||: Extracting graphs (/home/ubuntu/neuron-adoption/compiler_cache/neuronxcc-2.14.227.0+2d4f85be/MODULE_17067470237953524932+6d464acc/model.hlo_module.pb) for ahead-of-time parallel compilation. No compilation was done.\n",
      "XXXXXXXXXXXXXXXXXXXXXXXXXX bboxes_preds_per_image = tensor([[119., 112., 106., 104.],\n",
      "        [106., 110., 117., 127.],\n",
      "        [134., 139., 140., 145.],\n",
      "        ...,\n",
      "        [154., 154., 151., 147.],\n",
      "        [147., 147., 147., 149.],\n",
      "        [152., 155., 164., 173.]], device='xla:0', grad_fn=<SelectBackward0>)\n",
      "2024-08-28 17:50:28.000223:  102435  INFO ||NEURON_CACHE||: Compile cache path: ./compiler_cache\n",
      "2024-08-28 17:50:28.000224:  102435  INFO ||NEURON_CC_WRAPPER||: Extracting graphs (/home/ubuntu/neuron-adoption/compiler_cache/neuronxcc-2.14.227.0+2d4f85be/MODULE_13900649739497659452+6d464acc/model.hlo_module.pb) for ahead-of-time parallel compilation. No compilation was done.\n",
      "XXXXXXXXXXXXXXXXXXXXXXXXXX cls_preds = tensor([[[ 0.0253,  0.0294, -0.0104,  ...,  0.0168, -0.0041, -0.0257],\n",
      "         [ 0.0246, -0.0149, -0.0150,  ..., -0.0328, -0.0034,  0.0240],\n",
      "         [ 0.0385, -0.0164, -0.0238,  ...,  0.0034,  0.0053,  0.0206],\n",
      "         ...,\n",
      "         [-0.0286,  0.0105, -0.0225,  ..., -0.0172, -0.0433, -0.0130],\n",
      "         [ 0.0236,  0.0150,  0.0431,  ..., -0.0180, -0.0353, -0.0063],\n",
      "         [-0.0056, -0.0272, -0.0044,  ...,  0.0174, -0.0243, -0.0203]],\n",
      "\n",
      "        [[-0.0016, -0.0432, -0.0125,  ..., -0.0043,  0.0027,  0.0401],\n",
      "         [-0.0239,  0.0354, -0.0241,  ..., -0.0092, -0.0365, -0.0185],\n",
      "         [ 0.0428,  0.0109, -0.0293,  ..., -0.0280, -0.0300, -0.0070],\n",
      "         ...,\n",
      "         [ 0.0011,  0.0128, -0.0250,  ...,  0.0274,  0.0142, -0.0267],\n",
      "         [-0.0109,  0.0083, -0.0269,  ...,  0.0135,  0.0263, -0.0133],\n",
      "         [ 0.0011, -0.0098,  0.0275,  ..., -0.0028, -0.0139, -0.0062]]],\n",
      "       device='xla:0', grad_fn=<SliceBackward0>)\n",
      "2024-08-28 17:50:28.000321:  102435  INFO ||NEURON_CACHE||: Compile cache path: ./compiler_cache\n",
      "2024-08-28 17:50:28.000322:  102435  INFO ||NEURON_CC_WRAPPER||: Extracting graphs (/home/ubuntu/neuron-adoption/compiler_cache/neuronxcc-2.14.227.0+2d4f85be/MODULE_16206633299416188819+6d464acc/model.hlo_module.pb) for ahead-of-time parallel compilation. No compilation was done.\n",
      "XXXXXXXXXXXXXXXXXXXXXXXXXX obj_preds = tensor([[[-0.0088],\n",
      "         [-0.0173],\n",
      "         [-0.0015],\n",
      "         ...,\n",
      "         [ 0.0264],\n",
      "         [-0.0221],\n",
      "         [ 0.0237]],\n",
      "\n",
      "        [[ 0.0002],\n",
      "         [ 0.0068],\n",
      "         [-0.0116],\n",
      "         ...,\n",
      "         [ 0.0038],\n",
      "         [ 0.0005],\n",
      "         [-0.0081]]], device='xla:0', grad_fn=<SliceBackward0>)\n",
      "2024-08-28 17:50:28.000352:  102435  INFO ||NEURON_CACHE||: Compile cache path: ./compiler_cache\n",
      "2024-08-28 17:50:28.000353:  102435  INFO ||NEURON_CC_WRAPPER||: Extracting graphs (/home/ubuntu/neuron-adoption/compiler_cache/neuronxcc-2.14.227.0+2d4f85be/MODULE_9549245743732236407+6d464acc/model.hlo_module.pb) for ahead-of-time parallel compilation. No compilation was done.\n",
      "XXXXXXXXXXXXXXXXXXXXXXXXXXXXXX TL Type = torch.xla.FloatTensor\n",
      "XXXXXXXXXXXXXXXXXXXXXXXXXXXXXX BR Type = torch.xla.FloatTensor\n",
      "XXXXXXXXXXXXXXXXXXXXXXXXXXXXXX output_size = torch.xla.BoolTensor\n",
      "XXXXXXXXXXXXXXXXXXXXXXXXXX GT_CLASSES = tensor([ 87.,  88.,  90.,  91.,  90.,  90.,  90.,  92.,  92.,  91.,  89.,  88.,\n",
      "         89.,  91.,  91.,  90.,  91.,  92.,  93.,  93.,  93.,  93.,  93.,  95.,\n",
      "         95.,  94.,  96.,  97.,  98.,  96.,  93.,  89.,  75.,  84., 112., 151.,\n",
      "        159., 143., 148., 151., 151., 151., 152., 151., 151., 150., 150., 150.,\n",
      "        150., 149., 153., 153., 152., 153., 153., 154., 155., 155., 155., 154.,\n",
      "        155., 156., 154., 154., 154., 154., 152., 152., 152., 153., 154., 154.,\n",
      "        153., 153., 154., 154., 154., 152., 153., 154., 153., 153., 154., 156.,\n",
      "        153., 152., 153., 154., 154., 154., 155., 155., 156., 156., 157., 157.,\n",
      "        157., 156., 155., 155., 155., 155., 154., 155., 155., 155., 155., 155.,\n",
      "        156., 156., 156., 153., 153., 154., 154., 154., 154., 154., 154., 155.],\n",
      "       device='xla:0')\n",
      "2024-08-28 17:50:28.000360:  102435  INFO ||NEURON_CACHE||: Compile cache path: ./compiler_cache\n",
      "2024-08-28 17:50:28.000361:  102435  INFO ||NEURON_CC_WRAPPER||: Extracting graphs (/home/ubuntu/neuron-adoption/compiler_cache/neuronxcc-2.14.227.0+2d4f85be/MODULE_7708634430612474676+6d464acc/model.hlo_module.pb) for ahead-of-time parallel compilation. No compilation was done.\n",
      "XXXXXXXXXXXXXXXXXXXXXXXXXX GT_CLASSES.norm() = -0.017288684844970703\n",
      "2024-08-28 17:50:28.000363:  102435  INFO ||NEURON_CACHE||: Compile cache path: ./compiler_cache\n",
      "2024-08-28 17:50:28.000364:  102435  INFO ||NEURON_CC_WRAPPER||: Extracting graphs (/home/ubuntu/neuron-adoption/compiler_cache/neuronxcc-2.14.227.0+2d4f85be/MODULE_7194119531862016104+6d464acc/model.hlo_module.pb) for ahead-of-time parallel compilation. No compilation was done.\n",
      "XXXXXXXXXXXXXXXXXXXXXXXXXX Class values norm: -0.017288684844970703, max: -0.017288684844970703\n",
      "XXXXXXXXXXXXXXXXXXXXXXXXXX GT_CLASSES.max() = -0.017288684844970703\n",
      "XXXXXXXXXXXXXXXXXXXXXXXXXX GT_CLASSES_SHAPE = torch.Size([120])\n",
      "XXXXXXXXXXXXXXXXXXXXXXXXXX NUM_CLASSES = 80\n",
      "XXXXXXXXXXXXXXXXXXXXXXXXXX DTYPE = torch.float32\n",
      "2024-08-28 17:50:28.000367:  102435  INFO ||NEURON_CACHE||: Compile cache path: ./compiler_cache\n",
      "2024-08-28 17:50:28.000367:  102435  INFO ||NEURON_CC_WRAPPER||: Extracting graphs (/home/ubuntu/neuron-adoption/compiler_cache/neuronxcc-2.14.227.0+2d4f85be/MODULE_10671889549378464913+6d464acc/model.hlo_module.pb) for ahead-of-time parallel compilation. No compilation was done.\n",
      "2024-08-28 17:50:28.000369:  102435  INFO ||NEURON_CACHE||: Compile cache path: ./compiler_cache\n",
      "2024-08-28 17:50:28.000370:  102435  INFO ||NEURON_CC_WRAPPER||: Extracting graphs (/home/ubuntu/neuron-adoption/compiler_cache/neuronxcc-2.14.227.0+2d4f85be/MODULE_11561221628757401613+6d464acc/model.hlo_module.pb) for ahead-of-time parallel compilation. No compilation was done.\n",
      "2024-08-28 17:50:28 | ERROR    | yolox.core.trainer:80 - Exception in training: Class values must be smaller than num_classes.\n",
      "2024-08-28 17:50:28 | INFO     | yolox.core.trainer:200 - Training of experiment is done and the best AP is 0.00\n",
      "2024-08-28 17:50:28.000501:  102435  INFO ||NEURON_CACHE||: Compile cache path: ./compiler_cache\n",
      "2024-08-28 17:50:28.000502:  102435  INFO ||NEURON_CC_WRAPPER||: Extracting graphs (/home/ubuntu/neuron-adoption/compiler_cache/neuronxcc-2.14.227.0+2d4f85be/MODULE_3941120121036684346+6d464acc/model.hlo_module.pb) for ahead-of-time parallel compilation. No compilation was done.\n",
      "2024-08-28 17:50:28.000584:  102435  INFO ||NEURON_CACHE||: Compile cache path: ./compiler_cache\n",
      "2024-08-28 17:50:28.000585:  102435  INFO ||NEURON_CC_WRAPPER||: Extracting graphs (/home/ubuntu/neuron-adoption/compiler_cache/neuronxcc-2.14.227.0+2d4f85be/MODULE_15457411607563270555+6d464acc/model.hlo_module.pb) for ahead-of-time parallel compilation. No compilation was done.\n",
      "2024-08-28 17:50:28.000652:  102435  INFO ||NEURON_CACHE||: Compile cache path: ./compiler_cache\n",
      "2024-08-28 17:50:28.000653:  102435  INFO ||NEURON_CC_WRAPPER||: Extracting graphs (/home/ubuntu/neuron-adoption/compiler_cache/neuronxcc-2.14.227.0+2d4f85be/MODULE_18058599337860878096+6d464acc/model.hlo_module.pb) for ahead-of-time parallel compilation. No compilation was done.\n",
      "2024-08-28 17:50:28 | ERROR    | yolox.core.launch:98 - An error has been caught in function 'launch', process 'MainProcess' (102435), thread 'MainThread' (140214457660032):\n",
      "Traceback (most recent call last):\n",
      "\n",
      "  File \"/usr/lib/python3.10/runpy.py\", line 196, in _run_module_as_main\n",
      "    return _run_code(code, main_globals, None,\n",
      "           ���         │     └ {'__name__': '__main__', '__doc__': None, '__package__': 'yolox.tools', '__loader__': <_frozen_importlib_external.SourceFileL...\n",
      "           │         └ <code object <module> at 0x7f863886c9d0, file \"/home/ubuntu/neuron-adoption/tools/train.py\", line 1>\n",
      "           ��� <function _run_code at 0x7f8638865360>\n",
      "  File \"/usr/lib/python3.10/runpy.py\", line 86, in _run_code\n",
      "    exec(code, run_globals)\n",
      "         │     └ {'__name__': '__main__', '__doc__': None, '__package__': 'yolox.tools', '__loader__': <_frozen_importlib_external.SourceFileL...\n",
      "         └ <code object <module> at 0x7f863886c9d0, file \"/home/ubuntu/neuron-adoption/tools/train.py\", line 1>\n",
      "\n",
      "  File \"/home/ubuntu/neuron-adoption/tools/train.py\", line 138, in <module>\n",
      "    launch(\n",
      "    ��� <function launch at 0x7f8577e94dc0>\n",
      "\n",
      "> File \"/home/ubuntu/neuron-adoption/yolox/core/launch.py\", line 98, in launch\n",
      "    main_func(*args)\n",
      "    ���          └ (╒═��═══���══���══���═��══��══��══���═��══��═══════���══���═���══���═��══��════════════���══���═���══��═══���══���══���═��══��═══════���══���═���═════���══��═��══════════════...\n",
      "    └ <function main at 0x7f8569fa2170>\n",
      "\n",
      "  File \"/home/ubuntu/neuron-adoption/tools/train.py\", line 118, in main\n",
      "    trainer.train()\n",
      "    │       └ <function Trainer.train at 0x7f8533fbbc70>\n",
      "    ��� <yolox.core.trainer.Trainer object at 0x7f8533fdc340>\n",
      "\n",
      "  File \"/home/ubuntu/neuron-adoption/yolox/core/trainer.py\", line 78, in train\n",
      "    self.train_in_epoch()\n",
      "    │    └ <function Trainer.train_in_epoch at 0x7f8533fd4550>\n",
      "    └ <yolox.core.trainer.Trainer object at 0x7f8533fdc340>\n",
      "\n",
      "  File \"/home/ubuntu/neuron-adoption/yolox/core/trainer.py\", line 88, in train_in_epoch\n",
      "    self.train_in_iter()\n",
      "    │    └ <function Trainer.train_in_iter at 0x7f8533fd45e0>\n",
      "    └ <yolox.core.trainer.Trainer object at 0x7f8533fdc340>\n",
      "\n",
      "  File \"/home/ubuntu/neuron-adoption/yolox/core/trainer.py\", line 95, in train_in_iter\n",
      "    self.train_one_iter()\n",
      "    │    └ <function Trainer.train_one_iter at 0x7f8533fd4670>\n",
      "    └ <yolox.core.trainer.Trainer object at 0x7f8533fdc340>\n",
      "\n",
      "  File \"/home/ubuntu/neuron-adoption/yolox/core/trainer.py\", line 112, in train_one_iter\n",
      "    outputs = self.model(inps, targets)\n",
      "              │    │     │     └ tensor([[[  0.0000, 140.1551, 307.9936,  52.6100,  86.3130],\n",
      "              ��    │     │                [  0.0000,  79.6451, 254.1355,  35.1272,  96.9663],\n",
      "              │    │     │          ...\n",
      "              ���    ���     �� tensor([[[[143., 181., 180.,  ...,  57.,  57.,  57.],\n",
      "              │    │                 [142., 180., 176.,  ...,  57.,  57.,  57.],\n",
      "              │    ��                 [143., ...\n",
      "              │    �� YOLOX(\n",
      "              │        (backbone): YOLOPAFPN(\n",
      "              ��          (backbone): CSPDarknet(\n",
      "              │            (stem): Focus(\n",
      "              ���              (conv): BaseConv(\n",
      "              │                (conv): ...\n",
      "              └ <yolox.core.trainer.Trainer object at 0x7f8533fdc340>\n",
      "\n",
      "  File \"/opt/aws_neuronx_venv_pytorch_2_1/lib/python3.10/site-packages/torch/nn/modules/module.py\", line 1518, in _wrapped_call_impl\n",
      "    return self._call_impl(*args, **kwargs)\n",
      "           │    │           │       └ {}\n",
      "           ���    │           └ (tensor([[[[143., 181., 180.,  ...,  57.,  57.,  57.],\n",
      "           ��    │                       [142., 180., 176.,  ...,  57.,  57.,  57.],\n",
      "           │    ���                       [143.,...\n",
      "           ��    └ <function Module._call_impl at 0x7f858c1d91b0>\n",
      "           └ YOLOX(\n",
      "               (backbone): YOLOPAFPN(\n",
      "                 (backbone): CSPDarknet(\n",
      "                   (stem): Focus(\n",
      "                     (conv): BaseConv(\n",
      "                       (conv): ...\n",
      "  File \"/opt/aws_neuronx_venv_pytorch_2_1/lib/python3.10/site-packages/torch/nn/modules/module.py\", line 1527, in _call_impl\n",
      "    return forward_call(*args, **kwargs)\n",
      "           ���             │       └ {}\n",
      "           │             �� (tensor([[[[143., 181., 180.,  ...,  57.,  57.,  57.],\n",
      "           │                         [142., 180., 176.,  ...,  57.,  57.,  57.],\n",
      "           ��                         [143.,...\n",
      "           └ <bound method YOLOX.forward of YOLOX(\n",
      "               (backbone): YOLOPAFPN(\n",
      "                 (backbone): CSPDarknet(\n",
      "                   (stem): Focus(\n",
      "                     (conv...\n",
      "\n",
      "  File \"/home/ubuntu/neuron-adoption/yolox/models/yolox.py\", line 34, in forward\n",
      "    loss, iou_loss, conf_loss, cls_loss, l1_loss, num_fg = self.head(\n",
      "                                                           └ YOLOX(\n",
      "                                                               (backbone): YOLOPAFPN(\n",
      "                                                                 (backbone): CSPDarknet(\n",
      "                                                                   (stem): Focus(\n",
      "                                                                     (conv): BaseConv(\n",
      "                                                                       (conv): ...\n",
      "\n",
      "  File \"/opt/aws_neuronx_venv_pytorch_2_1/lib/python3.10/site-packages/torch/nn/modules/module.py\", line 1518, in _wrapped_call_impl\n",
      "    return self._call_impl(*args, **kwargs)\n",
      "           │    │           │       └ {}\n",
      "           │    │           └ ((tensor([[[[-1.7289e-02,  4.1551e-02, -3.8129e-03,  ..., -4.8162e-02,\n",
      "           │    │                         3.5546e-03,  2.2918e-02],\n",
      "           │    │                       [-5.35...\n",
      "           │    └ <function Module._call_impl at 0x7f858c1d91b0>\n",
      "           └ YOLOXHead(\n",
      "               (cls_convs): ModuleList(\n",
      "                 (0-2): 3 x Sequential(\n",
      "                   (0): BaseConv(\n",
      "                     (conv): Conv2d(128, 128, kernel...\n",
      "  File \"/opt/aws_neuronx_venv_pytorch_2_1/lib/python3.10/site-packages/torch/nn/modules/module.py\", line 1527, in _call_impl\n",
      "    return forward_call(*args, **kwargs)\n",
      "           │             ��       ��� {}\n",
      "           │             └ ((tensor([[[[-1.7289e-02,  4.1551e-02, -3.8129e-03,  ..., -4.8162e-02,\n",
      "           │                           3.5546e-03,  2.2918e-02],\n",
      "           ��                         [-5.35...\n",
      "           └ <bound method YOLOXHead.forward of YOLOXHead(\n",
      "               (cls_convs): ModuleList(\n",
      "                 (0-2): 3 x Sequential(\n",
      "                   (0): BaseConv(\n",
      "                 ...\n",
      "\n",
      "  File \"/home/ubuntu/neuron-adoption/yolox/models/yolo_head.py\", line 204, in forward\n",
      "    return self.get_losses(\n",
      "           │    └ <function YOLOXHead.get_losses at 0x7f8533ff2830>\n",
      "           └ YOLOXHead(\n",
      "               (cls_convs): ModuleList(\n",
      "                 (0-2): 3 x Sequential(\n",
      "                   (0): BaseConv(\n",
      "                     (conv): Conv2d(128, 128, kernel...\n",
      "\n",
      "  File \"/home/ubuntu/neuron-adoption/yolox/models/yolo_head.py\", line 328, in get_losses\n",
      "    ) = self.get_assignments(  # noqa\n",
      "        │    └ <function YOLOXHead.get_assignments at 0x7f8533ff29e0>\n",
      "        └ YOLOXHead(\n",
      "            (cls_convs): ModuleList(\n",
      "              (0-2): 3 x Sequential(\n",
      "                (0): BaseConv(\n",
      "                  (conv): Conv2d(128, 128, kernel...\n",
      "\n",
      "  File \"/opt/aws_neuronx_venv_pytorch_2_1/lib/python3.10/site-packages/torch/utils/_contextlib.py\", line 115, in decorate_context\n",
      "    return func(*args, **kwargs)\n",
      "           │     │       ��� {}\n",
      "           │     └ (YOLOXHead(\n",
      "           │         (cls_convs): ModuleList(\n",
      "           │           (0-2): 3 x Sequential(\n",
      "           │             (0): BaseConv(\n",
      "           │               (conv): Conv2d(128, 128, kerne...\n",
      "           └ <function YOLOXHead.get_assignments at 0x7f8533ff2950>\n",
      "\n",
      "  File \"/home/ubuntu/neuron-adoption/yolox/models/yolo_head.py\", line 500, in get_assignments\n",
      "    F.one_hot(gt_classes.to(torch.int64), self.num_classes)\n",
      "    │ ���       ���          │  ��     │       ��    └ 80\n",
      "    ��� │       │          ��  │     │       └ YOLOXHead(\n",
      "    │ │       │          │  ���     │           (cls_convs): ModuleList(\n",
      "    │ ���       ���          │  ��     │             (0-2): 3 x Sequential(\n",
      "    │ │       ���          │  │     │               (0): BaseConv(\n",
      "    │ │       │          │  │     │                 (conv): Conv2d(128, 128, kernel...\n",
      "    │ ��       ���          │  │     ��� torch.int64\n",
      "    │ │       │          │  �� <module 'torch' from '/opt/aws_neuronx_venv_pytorch_2_1/lib/python3.10/site-packages/torch/__init__.py'>\n",
      "    │ ���       │          └ <method 'to' of 'torch._C._TensorBase' objects>\n",
      "    �� │       �� tensor([ 87.,  88.,  90.,  91.,  90.,  90.,  90.,  92.,  92.,  91.,  89.,  88.,\n",
      "    �� │                  89.,  91.,  91.,  90.,  91.,  92.,  ...\n",
      "    │ └ <built-in function one_hot>\n",
      "    └ <module 'torch.nn.functional' from '/opt/aws_neuronx_venv_pytorch_2_1/lib/python3.10/site-packages/torch/nn/functional.py'>\n",
      "\n",
      "RuntimeError: Class values must be smaller than num_classes.\n",
      "2024-08-28 17:50:34.000858:  102418  INFO ||NEURON_PARALLEL_COMPILE||: New graph list from script 15: /home/ubuntu/neuron-adoption/compiler_cache/neuronxcc-2.14.227.0+2d4f85be/MODULE_728667847965197534+6d464acc/model.hlo_module.pb\n",
      "\t/home/ubuntu/neuron-adoption/compiler_cache/neuronxcc-2.14.227.0+2d4f85be/MODULE_11790936170214357810+6d464acc/model.hlo_module.pb\n",
      "\t/home/ubuntu/neuron-adoption/compiler_cache/neuronxcc-2.14.227.0+2d4f85be/MODULE_12252831604813668132+6d464acc/model.hlo_module.pb\n",
      "\t/home/ubuntu/neuron-adoption/compiler_cache/neuronxcc-2.14.227.0+2d4f85be/MODULE_6427028763540755556+6d464acc/model.hlo_module.pb\n",
      "\t/home/ubuntu/neuron-adoption/compiler_cache/neuronxcc-2.14.227.0+2d4f85be/MODULE_17067470237953524932+6d464acc/model.hlo_module.pb\n",
      "\t/home/ubuntu/neuron-adoption/compiler_cache/neuronxcc-2.14.227.0+2d4f85be/MODULE_13900649739497659452+6d464acc/model.hlo_module.pb\n",
      "\t/home/ubuntu/neuron-adoption/compiler_cache/neuronxcc-2.14.227.0+2d4f85be/MODULE_16206633299416188819+6d464acc/model.hlo_module.pb\n",
      "\t/home/ubuntu/neuron-adoption/compiler_cache/neuronxcc-2.14.227.0+2d4f85be/MODULE_9549245743732236407+6d464acc/model.hlo_module.pb\n",
      "\t/home/ubuntu/neuron-adoption/compiler_cache/neuronxcc-2.14.227.0+2d4f85be/MODULE_7708634430612474676+6d464acc/model.hlo_module.pb\n",
      "\t/home/ubuntu/neuron-adoption/compiler_cache/neuronxcc-2.14.227.0+2d4f85be/MODULE_7194119531862016104+6d464acc/model.hlo_module.pb\n",
      "\t/home/ubuntu/neuron-adoption/compiler_cache/neuronxcc-2.14.227.0+2d4f85be/MODULE_10671889549378464913+6d464acc/model.hlo_module.pb\n",
      "\t/home/ubuntu/neuron-adoption/compiler_cache/neuronxcc-2.14.227.0+2d4f85be/MODULE_11561221628757401613+6d464acc/model.hlo_module.pb\n",
      "\t/home/ubuntu/neuron-adoption/compiler_cache/neuronxcc-2.14.227.0+2d4f85be/MODULE_3941120121036684346+6d464acc/model.hlo_module.pb\n",
      "\t/home/ubuntu/neuron-adoption/compiler_cache/neuronxcc-2.14.227.0+2d4f85be/MODULE_15457411607563270555+6d464acc/model.hlo_module.pb\n",
      "\t/home/ubuntu/neuron-adoption/compiler_cache/neuronxcc-2.14.227.0+2d4f85be/MODULE_18058599337860878096+6d464acc/model.hlo_module.pb\n",
      "2024-08-28 17:50:34.000858:  102418  INFO ||NEURON_CACHE||: Compile cache path: ./compiler_cache\n",
      "2024-08-28 17:50:34.000891:  102738  INFO ||NEURON_PARALLEL_COMPILE||: worker 0 starts dynamic scheduleing on 15....\n",
      "2024-08-28 17:50:34.000891:  102739  INFO ||NEURON_PARALLEL_COMPILE||: worker 1 starts dynamic scheduleing on 15....\n",
      "2024-08-28 17:50:34.000892:  102740  INFO ||NEURON_PARALLEL_COMPILE||: worker 2 starts dynamic scheduleing on 15....\n",
      "2024-08-28 17:50:34.000892:  102742  INFO ||NEURON_PARALLEL_COMPILE||: worker 4 starts dynamic scheduleing on 15....\n",
      "2024-08-28 17:50:34.000892:  102741  INFO ||NEURON_PARALLEL_COMPILE||: worker 3 starts dynamic scheduleing on 15....\n",
      "2024-08-28 17:50:34.000892:  102743  INFO ||NEURON_PARALLEL_COMPILE||: worker 5 starts dynamic scheduleing on 15....\n",
      "2024-08-28 17:50:34.000892:  102744  INFO ||NEURON_PARALLEL_COMPILE||: worker 6 starts dynamic scheduleing on 15....\n",
      "2024-08-28 17:50:34.000893:  102745  INFO ||NEURON_PARALLEL_COMPILE||: worker 7 starts dynamic scheduleing on 15....\n",
      "2024-08-28 17:50:34.000893:  102738  INFO ||NEURON_CC_WRAPPER||: Call compiler with cmd: neuronx-cc compile --target=trn1 --framework=XLA /tmp/ubuntu/neuroncc_compile_workdir/0fc8f6cd-97b6-41bb-8bf3-43eafe4e1e74/model.MODULE_10671889549378464913+6d464acc.hlo_module.pb --output /tmp/ubuntu/neuroncc_compile_workdir/0fc8f6cd-97b6-41bb-8bf3-43eafe4e1e74/model.MODULE_10671889549378464913+6d464acc.neff --model-type=cnn-training --target=trn1 --framework=XLA --verbose=35\n",
      "2024-08-28 17:50:34.000894:  102739  INFO ||NEURON_CC_WRAPPER||: Call compiler with cmd: neuronx-cc compile --target=trn1 --framework=XLA /tmp/ubuntu/neuroncc_compile_workdir/343acda4-8bad-4e18-b3b3-59acd7310306/model.MODULE_11561221628757401613+6d464acc.hlo_module.pb --output /tmp/ubuntu/neuroncc_compile_workdir/343acda4-8bad-4e18-b3b3-59acd7310306/model.MODULE_11561221628757401613+6d464acc.neff --model-type=cnn-training --target=trn1 --framework=XLA --verbose=35\n",
      "2024-08-28 17:50:34.000894:  102740  INFO ||NEURON_CC_WRAPPER||: Call compiler with cmd: neuronx-cc compile --target=trn1 --framework=XLA /tmp/ubuntu/neuroncc_compile_workdir/68684515-1673-4693-8bbd-b6cfb14b382f/model.MODULE_11790936170214357810+6d464acc.hlo_module.pb --output /tmp/ubuntu/neuroncc_compile_workdir/68684515-1673-4693-8bbd-b6cfb14b382f/model.MODULE_11790936170214357810+6d464acc.neff --model-type=cnn-training --target=trn1 --framework=XLA --verbose=35\n",
      "2024-08-28 17:50:34.000895:  102742  INFO ||NEURON_CC_WRAPPER||: Call compiler with cmd: neuronx-cc compile --target=trn1 --framework=XLA /tmp/ubuntu/neuroncc_compile_workdir/cfa2c696-864b-4aa9-b789-8a722f6e3f90/model.MODULE_13900649739497659452+6d464acc.hlo_module.pb --output /tmp/ubuntu/neuroncc_compile_workdir/cfa2c696-864b-4aa9-b789-8a722f6e3f90/model.MODULE_13900649739497659452+6d464acc.neff --model-type=cnn-training --target=trn1 --framework=XLA --verbose=35\n",
      "2024-08-28 17:50:34.000895:  102741  INFO ||NEURON_CC_WRAPPER||: Call compiler with cmd: neuronx-cc compile --target=trn1 --framework=XLA /tmp/ubuntu/neuroncc_compile_workdir/7cb3d3d5-9ddc-4495-8553-8c9e8d3952f2/model.MODULE_12252831604813668132+6d464acc.hlo_module.pb --output /tmp/ubuntu/neuroncc_compile_workdir/7cb3d3d5-9ddc-4495-8553-8c9e8d3952f2/model.MODULE_12252831604813668132+6d464acc.neff --model-type=cnn-training --target=trn1 --framework=XLA --verbose=35\n",
      "2024-08-28 17:50:34.000896:  102745  INFO ||NEURON_CC_WRAPPER||: Call compiler with cmd: neuronx-cc compile --target=trn1 --framework=XLA /tmp/ubuntu/neuroncc_compile_workdir/56ce34a6-194f-4da7-9b39-6a7a1024ddf9/model.MODULE_16206633299416188819+6d464acc.hlo_module.pb --output /tmp/ubuntu/neuroncc_compile_workdir/56ce34a6-194f-4da7-9b39-6a7a1024ddf9/model.MODULE_16206633299416188819+6d464acc.neff --model-type=cnn-training --target=trn1 --framework=XLA --verbose=35\n",
      "2024-08-28 17:50:34.000897:  102744  INFO ||NEURON_CC_WRAPPER||: Call compiler with cmd: neuronx-cc compile --target=trn1 --framework=XLA /tmp/ubuntu/neuroncc_compile_workdir/b9186119-e27b-4aed-ab7c-7cbd52a5c34f/model.MODULE_15457411607563270555+6d464acc.hlo_module.pb --output /tmp/ubuntu/neuroncc_compile_workdir/b9186119-e27b-4aed-ab7c-7cbd52a5c34f/model.MODULE_15457411607563270555+6d464acc.neff --model-type=cnn-training --target=trn1 --framework=XLA --verbose=35\n",
      "2024-08-28 17:50:34.000897:  102743  INFO ||NEURON_CC_WRAPPER||: Call compiler with cmd: neuronx-cc compile --target=trn1 --framework=XLA /tmp/ubuntu/neuroncc_compile_workdir/c89d8ae7-49f5-46ea-93de-3019fb21056f/model.MODULE_17067470237953524932+6d464acc.hlo_module.pb --output /tmp/ubuntu/neuroncc_compile_workdir/c89d8ae7-49f5-46ea-93de-3019fb21056f/model.MODULE_17067470237953524932+6d464acc.neff --model-type=cnn-training --target=trn1 --framework=XLA --verbose=35\n",
      "........\n",
      "Compiler status PASS\n",
      "2024-08-28 17:50:37.000766:  102741  INFO ||NEURON_CC_WRAPPER||: Call compiler with cmd: neuronx-cc compile --target=trn1 --framework=XLA /tmp/ubuntu/neuroncc_compile_workdir/4470b1a1-a74e-4015-8809-544d363023c6/model.MODULE_18058599337860878096+6d464acc.hlo_module.pb --output /tmp/ubuntu/neuroncc_compile_workdir/4470b1a1-a74e-4015-8809-544d363023c6/model.MODULE_18058599337860878096+6d464acc.neff --model-type=cnn-training --target=trn1 --framework=XLA --verbose=35\n",
      "\n",
      "Compiler status PASS\n",
      "\n",
      "Compiler status PASS\n",
      "\n",
      "Compiler status PASS\n",
      "2024-08-28 17:50:37.000905:  102739  INFO ||NEURON_CC_WRAPPER||: Call compiler with cmd: neuronx-cc compile --target=trn1 --framework=XLA /tmp/ubuntu/neuroncc_compile_workdir/f1d5ba79-a22a-4077-9809-561b2d7a2167/model.MODULE_3941120121036684346+6d464acc.hlo_module.pb --output /tmp/ubuntu/neuroncc_compile_workdir/f1d5ba79-a22a-4077-9809-561b2d7a2167/model.MODULE_3941120121036684346+6d464acc.neff --model-type=cnn-training --target=trn1 --framework=XLA --verbose=35\n",
      "2024-08-28 17:50:37.000919:  102738  INFO ||NEURON_CC_WRAPPER||: Call compiler with cmd: neuronx-cc compile --target=trn1 --framework=XLA /tmp/ubuntu/neuroncc_compile_workdir/93d0e9ab-f5cf-4191-9577-860eff1264f7/model.MODULE_6427028763540755556+6d464acc.hlo_module.pb --output /tmp/ubuntu/neuroncc_compile_workdir/93d0e9ab-f5cf-4191-9577-860eff1264f7/model.MODULE_6427028763540755556+6d464acc.neff --model-type=cnn-training --target=trn1 --framework=XLA --verbose=35\n",
      "2024-08-28 17:50:37.000954:  102740  INFO ||NEURON_CC_WRAPPER||: Call compiler with cmd: neuronx-cc compile --target=trn1 --framework=XLA /tmp/ubuntu/neuroncc_compile_workdir/1e653cb0-256f-4e9d-a430-f38e14b95300/model.MODULE_7194119531862016104+6d464acc.hlo_module.pb --output /tmp/ubuntu/neuroncc_compile_workdir/1e653cb0-256f-4e9d-a430-f38e14b95300/model.MODULE_7194119531862016104+6d464acc.neff --model-type=cnn-training --target=trn1 --framework=XLA --verbose=35\n",
      "....\n",
      "Compiler status PASS\n",
      "2024-08-28 17:50:40.000453:  102738  INFO ||NEURON_CC_WRAPPER||: Call compiler with cmd: neuronx-cc compile --target=trn1 --framework=XLA /tmp/ubuntu/neuroncc_compile_workdir/227b7e5d-a216-4ad2-8b5b-9c96df3fa844/model.MODULE_728667847965197534+6d464acc.hlo_module.pb --output /tmp/ubuntu/neuroncc_compile_workdir/227b7e5d-a216-4ad2-8b5b-9c96df3fa844/model.MODULE_728667847965197534+6d464acc.neff --model-type=cnn-training --target=trn1 --framework=XLA --verbose=35\n",
      "\n",
      "Compiler status PASS\n",
      "2024-08-28 17:50:40.000587:  102740  INFO ||NEURON_CC_WRAPPER||: Call compiler with cmd: neuronx-cc compile --target=trn1 --framework=XLA /tmp/ubuntu/neuroncc_compile_workdir/0b2e8575-aef8-4471-a040-2bcf188750f2/model.MODULE_7708634430612474676+6d464acc.hlo_module.pb --output /tmp/ubuntu/neuroncc_compile_workdir/0b2e8575-aef8-4471-a040-2bcf188750f2/model.MODULE_7708634430612474676+6d464acc.neff --model-type=cnn-training --target=trn1 --framework=XLA --verbose=35\n",
      "..\n",
      "Compiler status PASS\n",
      "2024-08-28 17:50:42.000577:  102740  INFO ||NEURON_CC_WRAPPER||: Call compiler with cmd: neuronx-cc compile --target=trn1 --framework=XLA /tmp/ubuntu/neuroncc_compile_workdir/20889a1a-3768-4768-976a-9c2667a698cb/model.MODULE_9549245743732236407+6d464acc.hlo_module.pb --output /tmp/ubuntu/neuroncc_compile_workdir/20889a1a-3768-4768-976a-9c2667a698cb/model.MODULE_9549245743732236407+6d464acc.neff --model-type=cnn-training --target=trn1 --framework=XLA --verbose=35\n",
      ".\n",
      "Compiler status PASS\n",
      "2024-08-28 17:50:46.000196:  102740  INFO ||NEURON_PARALLEL_COMPILE||: worker 2 finished with num of tasks 4....\n",
      "2024-08-28 17:50:46.000201:  102740  INFO ||NEURON_CACHE||: Current remaining items are 16, locked are 7, failed are 0, done are 143, total is 166\n"
     ]
    },
    {
     "name": "stderr",
     "output_type": "stream",
     "text": [
      "Process ForkProcess-3:\n",
      "Traceback (most recent call last):\n",
      "  File \"/usr/lib/python3.10/multiprocessing/process.py\", line 314, in _bootstrap\n",
      "    self.run()\n",
      "  File \"/usr/lib/python3.10/multiprocessing/process.py\", line 108, in run\n",
      "    self._target(*self._args, **self._kwargs)\n",
      "  File \"/usr/lib/python3.10/concurrent/futures/process.py\", line 240, in _process_worker\n",
      "    call_item = call_queue.get(block=True)\n",
      "  File \"/usr/lib/python3.10/multiprocessing/queues.py\", line 103, in get\n",
      "    res = self._recv_bytes()\n",
      "  File \"/usr/lib/python3.10/multiprocessing/connection.py\", line 216, in recv_bytes\n",
      "    buf = self._recv_bytes(maxlength)\n",
      "  File \"/usr/lib/python3.10/multiprocessing/connection.py\", line 414, in _recv_bytes\n",
      "    buf = self._recv(4)\n",
      "  File \"/usr/lib/python3.10/multiprocessing/connection.py\", line 379, in _recv\n",
      "    chunk = read(handle, remaining)\n",
      "KeyboardInterrupt\n",
      "Traceback (most recent call last):\n",
      "  File \"/opt/aws_neuronx_venv_pytorch_2_1/bin/neuron_parallel_compile\", line 8, in <module>\n",
      "    sys.exit(main())\n",
      "  File \"/opt/aws_neuronx_venv_pytorch_2_1/lib/python3.10/site-packages/torch_neuronx/parallel_compile/neuron_parallel_compile.py\", line 508, in main\n",
      "    ret = parallel_compile(args.parallel_compile_workdir, cache_url, args.num_parallel, hlo_tasklist=new_hlo_list,\n",
      "  File \"/opt/aws_neuronx_venv_pytorch_2_1/lib/python3.10/site-packages/torch_neuronx/parallel_compile/neuron_parallel_compile.py\", line 235, in parallel_compile\n",
      "    concurrent.futures.wait(features)\n",
      "  File \"/usr/lib/python3.10/concurrent/futures/_base.py\", line 307, in wait\n",
      "    waiter.event.wait(timeout)\n",
      "  File \"/usr/lib/python3.10/threading.py\", line 607, in wait\n",
      "    signaled = self._cond.wait(timeout)\n",
      "  File \"/usr/lib/python3.10/threading.py\", line 320, in wait\n",
      "    waiter.acquire()\n",
      "KeyboardInterrupt\n"
     ]
    },
    {
     "ename": "KeyboardInterrupt",
     "evalue": "",
     "output_type": "error",
     "traceback": [
      "\u001b[0;31m---------------------------------------------------------------------------\u001b[0m",
      "\u001b[0;31mKeyboardInterrupt\u001b[0m                         Traceback (most recent call last)",
      "File \u001b[0;32m<timed exec>:11\u001b[0m\n",
      "File \u001b[0;32m/usr/lib/python3.10/subprocess.py:364\u001b[0m, in \u001b[0;36mcheck_call\u001b[0;34m(*popenargs, **kwargs)\u001b[0m\n\u001b[1;32m    354\u001b[0m \u001b[38;5;28;01mdef\u001b[39;00m \u001b[38;5;21mcheck_call\u001b[39m(\u001b[38;5;241m*\u001b[39mpopenargs, \u001b[38;5;241m*\u001b[39m\u001b[38;5;241m*\u001b[39mkwargs):\n\u001b[1;32m    355\u001b[0m \u001b[38;5;250m    \u001b[39m\u001b[38;5;124;03m\"\"\"Run command with arguments.  Wait for command to complete.  If\u001b[39;00m\n\u001b[1;32m    356\u001b[0m \u001b[38;5;124;03m    the exit code was zero then return, otherwise raise\u001b[39;00m\n\u001b[1;32m    357\u001b[0m \u001b[38;5;124;03m    CalledProcessError.  The CalledProcessError object will have the\u001b[39;00m\n\u001b[0;32m   (...)\u001b[0m\n\u001b[1;32m    362\u001b[0m \u001b[38;5;124;03m    check_call([\"ls\", \"-l\"])\u001b[39;00m\n\u001b[1;32m    363\u001b[0m \u001b[38;5;124;03m    \"\"\"\u001b[39;00m\n\u001b[0;32m--> 364\u001b[0m     retcode \u001b[38;5;241m=\u001b[39m \u001b[43mcall\u001b[49m\u001b[43m(\u001b[49m\u001b[38;5;241;43m*\u001b[39;49m\u001b[43mpopenargs\u001b[49m\u001b[43m,\u001b[49m\u001b[43m \u001b[49m\u001b[38;5;241;43m*\u001b[39;49m\u001b[38;5;241;43m*\u001b[39;49m\u001b[43mkwargs\u001b[49m\u001b[43m)\u001b[49m\n\u001b[1;32m    365\u001b[0m     \u001b[38;5;28;01mif\u001b[39;00m retcode:\n\u001b[1;32m    366\u001b[0m         cmd \u001b[38;5;241m=\u001b[39m kwargs\u001b[38;5;241m.\u001b[39mget(\u001b[38;5;124m\"\u001b[39m\u001b[38;5;124margs\u001b[39m\u001b[38;5;124m\"\u001b[39m)\n",
      "File \u001b[0;32m/usr/lib/python3.10/subprocess.py:347\u001b[0m, in \u001b[0;36mcall\u001b[0;34m(timeout, *popenargs, **kwargs)\u001b[0m\n\u001b[1;32m    345\u001b[0m \u001b[38;5;28;01mwith\u001b[39;00m Popen(\u001b[38;5;241m*\u001b[39mpopenargs, \u001b[38;5;241m*\u001b[39m\u001b[38;5;241m*\u001b[39mkwargs) \u001b[38;5;28;01mas\u001b[39;00m p:\n\u001b[1;32m    346\u001b[0m     \u001b[38;5;28;01mtry\u001b[39;00m:\n\u001b[0;32m--> 347\u001b[0m         \u001b[38;5;28;01mreturn\u001b[39;00m \u001b[43mp\u001b[49m\u001b[38;5;241;43m.\u001b[39;49m\u001b[43mwait\u001b[49m\u001b[43m(\u001b[49m\u001b[43mtimeout\u001b[49m\u001b[38;5;241;43m=\u001b[39;49m\u001b[43mtimeout\u001b[49m\u001b[43m)\u001b[49m\n\u001b[1;32m    348\u001b[0m     \u001b[38;5;28;01mexcept\u001b[39;00m:  \u001b[38;5;66;03m# Including KeyboardInterrupt, wait handled that.\u001b[39;00m\n\u001b[1;32m    349\u001b[0m         p\u001b[38;5;241m.\u001b[39mkill()\n",
      "File \u001b[0;32m/usr/lib/python3.10/subprocess.py:1209\u001b[0m, in \u001b[0;36mPopen.wait\u001b[0;34m(self, timeout)\u001b[0m\n\u001b[1;32m   1207\u001b[0m     endtime \u001b[38;5;241m=\u001b[39m _time() \u001b[38;5;241m+\u001b[39m timeout\n\u001b[1;32m   1208\u001b[0m \u001b[38;5;28;01mtry\u001b[39;00m:\n\u001b[0;32m-> 1209\u001b[0m     \u001b[38;5;28;01mreturn\u001b[39;00m \u001b[38;5;28;43mself\u001b[39;49m\u001b[38;5;241;43m.\u001b[39;49m\u001b[43m_wait\u001b[49m\u001b[43m(\u001b[49m\u001b[43mtimeout\u001b[49m\u001b[38;5;241;43m=\u001b[39;49m\u001b[43mtimeout\u001b[49m\u001b[43m)\u001b[49m\n\u001b[1;32m   1210\u001b[0m \u001b[38;5;28;01mexcept\u001b[39;00m \u001b[38;5;167;01mKeyboardInterrupt\u001b[39;00m:\n\u001b[1;32m   1211\u001b[0m     \u001b[38;5;66;03m# https://bugs.python.org/issue25942\u001b[39;00m\n\u001b[1;32m   1212\u001b[0m     \u001b[38;5;66;03m# The first keyboard interrupt waits briefly for the child to\u001b[39;00m\n\u001b[1;32m   1213\u001b[0m     \u001b[38;5;66;03m# exit under the common assumption that it also received the ^C\u001b[39;00m\n\u001b[1;32m   1214\u001b[0m     \u001b[38;5;66;03m# generated SIGINT and will exit rapidly.\u001b[39;00m\n\u001b[1;32m   1215\u001b[0m     \u001b[38;5;28;01mif\u001b[39;00m timeout \u001b[38;5;129;01mis\u001b[39;00m \u001b[38;5;129;01mnot\u001b[39;00m \u001b[38;5;28;01mNone\u001b[39;00m:\n",
      "File \u001b[0;32m/usr/lib/python3.10/subprocess.py:1959\u001b[0m, in \u001b[0;36mPopen._wait\u001b[0;34m(self, timeout)\u001b[0m\n\u001b[1;32m   1957\u001b[0m \u001b[38;5;28;01mif\u001b[39;00m \u001b[38;5;28mself\u001b[39m\u001b[38;5;241m.\u001b[39mreturncode \u001b[38;5;129;01mis\u001b[39;00m \u001b[38;5;129;01mnot\u001b[39;00m \u001b[38;5;28;01mNone\u001b[39;00m:\n\u001b[1;32m   1958\u001b[0m     \u001b[38;5;28;01mbreak\u001b[39;00m  \u001b[38;5;66;03m# Another thread waited.\u001b[39;00m\n\u001b[0;32m-> 1959\u001b[0m (pid, sts) \u001b[38;5;241m=\u001b[39m \u001b[38;5;28;43mself\u001b[39;49m\u001b[38;5;241;43m.\u001b[39;49m\u001b[43m_try_wait\u001b[49m\u001b[43m(\u001b[49m\u001b[38;5;241;43m0\u001b[39;49m\u001b[43m)\u001b[49m\n\u001b[1;32m   1960\u001b[0m \u001b[38;5;66;03m# Check the pid and loop as waitpid has been known to\u001b[39;00m\n\u001b[1;32m   1961\u001b[0m \u001b[38;5;66;03m# return 0 even without WNOHANG in odd situations.\u001b[39;00m\n\u001b[1;32m   1962\u001b[0m \u001b[38;5;66;03m# http://bugs.python.org/issue14396.\u001b[39;00m\n\u001b[1;32m   1963\u001b[0m \u001b[38;5;28;01mif\u001b[39;00m pid \u001b[38;5;241m==\u001b[39m \u001b[38;5;28mself\u001b[39m\u001b[38;5;241m.\u001b[39mpid:\n",
      "File \u001b[0;32m/usr/lib/python3.10/subprocess.py:1917\u001b[0m, in \u001b[0;36mPopen._try_wait\u001b[0;34m(self, wait_flags)\u001b[0m\n\u001b[1;32m   1915\u001b[0m \u001b[38;5;250m\u001b[39m\u001b[38;5;124;03m\"\"\"All callers to this function MUST hold self._waitpid_lock.\"\"\"\u001b[39;00m\n\u001b[1;32m   1916\u001b[0m \u001b[38;5;28;01mtry\u001b[39;00m:\n\u001b[0;32m-> 1917\u001b[0m     (pid, sts) \u001b[38;5;241m=\u001b[39m \u001b[43mos\u001b[49m\u001b[38;5;241;43m.\u001b[39;49m\u001b[43mwaitpid\u001b[49m\u001b[43m(\u001b[49m\u001b[38;5;28;43mself\u001b[39;49m\u001b[38;5;241;43m.\u001b[39;49m\u001b[43mpid\u001b[49m\u001b[43m,\u001b[49m\u001b[43m \u001b[49m\u001b[43mwait_flags\u001b[49m\u001b[43m)\u001b[49m\n\u001b[1;32m   1918\u001b[0m \u001b[38;5;28;01mexcept\u001b[39;00m \u001b[38;5;167;01mChildProcessError\u001b[39;00m:\n\u001b[1;32m   1919\u001b[0m     \u001b[38;5;66;03m# This happens if SIGCLD is set to be ignored or waiting\u001b[39;00m\n\u001b[1;32m   1920\u001b[0m     \u001b[38;5;66;03m# for child processes has otherwise been disabled for our\u001b[39;00m\n\u001b[1;32m   1921\u001b[0m     \u001b[38;5;66;03m# process.  This child is dead, we can't get the status.\u001b[39;00m\n\u001b[1;32m   1922\u001b[0m     pid \u001b[38;5;241m=\u001b[39m \u001b[38;5;28mself\u001b[39m\u001b[38;5;241m.\u001b[39mpid\n",
      "\u001b[0;31mKeyboardInterrupt\u001b[0m: "
     ]
    }
   ],
   "source": [
    "%%time\n",
    "import subprocess\n",
    "print(\"Compile model\")\n",
    "COMPILE_CMD = f\"\"\"{env_var_options} neuron_parallel_compile python -m \\\n",
    "   yolox.tools.train \\\n",
    "    -n {model} \\\n",
    "    -d {num_accelerators} \\\n",
    "    -b {total_batch_size} \\\n",
    "    \"\"\"\n",
    "\n",
    "print(f'Running command: \\n{COMPILE_CMD}')\n",
    "if subprocess.check_call(COMPILE_CMD,shell=True):\n",
    "   print(\"There was an error with the compilation command\")\n",
    "else:\n",
    "   print(\"Compilation Success!!!\")"
   ]
  },
  {
   "cell_type": "code",
   "execution_count": 1,
   "id": "071f7b26-b224-4538-bd6c-6a3d323686d5",
   "metadata": {},
   "outputs": [],
   "source": [
    "import torch_xla.distributed.xla_backend\n",
    "import torch_xla\n",
    "import torch_xla.debug.metrics as met\n",
    "import torch_xla.distributed.parallel_loader as pl\n",
    "import torch_xla.utils.utils as xu\n",
    "import torch_xla.core.xla_model as xm\n",
    "import torch_xla.distributed.xla_multiprocessing as xmp"
   ]
  },
  {
   "cell_type": "code",
   "execution_count": 2,
   "id": "d880e4b8-38d3-458c-994c-a7fbb1631533",
   "metadata": {},
   "outputs": [],
   "source": [
    "import torch "
   ]
  },
  {
   "cell_type": "code",
   "execution_count": 3,
   "id": "23705c52-b381-4b5d-8b89-d66fac678cc9",
   "metadata": {},
   "outputs": [],
   "source": [
    "device = xm.xla_device()"
   ]
  },
  {
   "cell_type": "code",
   "execution_count": 13,
   "id": "65913172-098c-4f8e-840e-91bd30831e78",
   "metadata": {},
   "outputs": [],
   "source": [
    "tens = torch.randn((2,120,5))"
   ]
  },
  {
   "cell_type": "code",
   "execution_count": 14,
   "id": "ae0ea001-86eb-43d1-abef-247281aa642d",
   "metadata": {},
   "outputs": [],
   "source": [
    "tens = tens.to(device)"
   ]
  },
  {
   "cell_type": "code",
   "execution_count": 18,
   "id": "3c685dad-95fb-4165-87b4-fab124e0bd74",
   "metadata": {},
   "outputs": [],
   "source": [
    "batch_idx = 1"
   ]
  },
  {
   "cell_type": "code",
   "execution_count": 4,
   "id": "d2f9ad70-3444-4fe0-b8a1-d17c6a037b7e",
   "metadata": {},
   "outputs": [],
   "source": [
    "nlabel = torch.tensor([ 1, 11], device='xla:0')"
   ]
  },
  {
   "cell_type": "code",
   "execution_count": 5,
   "id": "699e97fd-816f-4b02-8a3d-4672ca25e3f7",
   "metadata": {},
   "outputs": [
    {
     "data": {
      "text/plain": [
       "tensor([ 1, 11], device='xla:0')"
      ]
     },
     "execution_count": 5,
     "metadata": {},
     "output_type": "execute_result"
    }
   ],
   "source": [
    "nlabel"
   ]
  },
  {
   "cell_type": "code",
   "execution_count": 6,
   "id": "70c684cc-ed14-4612-b08b-9de33c64135d",
   "metadata": {},
   "outputs": [
    {
     "name": "stdout",
     "output_type": "stream",
     "text": [
      "2024-08-27 15:57:19.000657:  70723  INFO ||NEURON_CACHE||: Compile cache path: /var/tmp/neuron-compile-cache\n",
      "2024-08-27 15:57:19.000659:  70723  INFO ||NEURON_CC_WRAPPER||: Using a cached neff at /var/tmp/neuron-compile-cache/neuronxcc-2.14.227.0+2d4f85be/MODULE_16647071372593374447+d41d8cd9/model.neff. Exiting with a successfully compiled graph.\n"
     ]
    },
    {
     "data": {
      "text/plain": [
       "tensor(1, device='xla:0')"
      ]
     },
     "execution_count": 6,
     "metadata": {},
     "output_type": "execute_result"
    }
   ],
   "source": [
    "nlabel[0]"
   ]
  },
  {
   "cell_type": "code",
   "execution_count": 7,
   "id": "4d66478f-21cb-4fc8-9ba5-0a0da83a0a31",
   "metadata": {},
   "outputs": [
    {
     "name": "stdout",
     "output_type": "stream",
     "text": [
      "2024-08-27 15:57:24.000065:  70723  INFO ||NEURON_CACHE||: Compile cache path: /var/tmp/neuron-compile-cache\n",
      "2024-08-27 15:57:24.000067:  70723  INFO ||NEURON_CC_WRAPPER||: Using a cached neff at /var/tmp/neuron-compile-cache/neuronxcc-2.14.227.0+2d4f85be/MODULE_1801352655633372538+d41d8cd9/model.neff. Exiting with a successfully compiled graph.\n"
     ]
    },
    {
     "data": {
      "text/plain": [
       "tensor(16., device='xla:0')"
      ]
     },
     "execution_count": 7,
     "metadata": {},
     "output_type": "execute_result"
    }
   ],
   "source": [
    "(nlabel[1])+5.0"
   ]
  },
  {
   "cell_type": "code",
   "execution_count": 19,
   "id": "bc1ef592-9001-4941-a759-0ddd5ecce603",
   "metadata": {},
   "outputs": [],
   "source": [
    "not_labels = torch.tensor([[False, False,  True,  True, False, False,  True,  True, False, False,\n",
    "          True,  True, False, False,  True,  True, False, False,  True,  True,\n",
    "         False, False,  True,  True, False, False,  True,  True, False, False,\n",
    "          True,  True, False, False,  True,  True, False, False,  True,  True,\n",
    "         False, False,  True,  True, False, False,  True,  True, False, False,\n",
    "          True,  True, False, False,  True,  True, False, False,  True,  True,\n",
    "         False, False,  True,  True, False, False,  True,  True, False, False,\n",
    "          True,  True, False, False,  True,  True, False, False,  True,  True,\n",
    "         False, False,  True,  True, False, False,  True,  True, False, False,\n",
    "          True,  True, False, False,  True,  True, False, False,  True,  True,\n",
    "         False, False,  True,  True, False, False,  True,  True, False, False,\n",
    "          True,  True, False, False,  True,  True, False, False,  True,  True],\n",
    "        [False, False,  True,  True, False, False,  True,  True, False, False,\n",
    "          True,  True, False, False,  True,  True, False, False,  True,  True,\n",
    "         False, False,  True,  True, False, False,  True,  True, False, False,\n",
    "          True,  True, False, False,  True,  True, False, False,  True,  True,\n",
    "         False, False,  True,  True, False, False,  True,  True, False, False,\n",
    "          True,  True, False, False,  True,  True, False, False,  True,  True,\n",
    "         False, False,  True,  True, False, False,  True,  True, False, False,\n",
    "          True,  True, False, False,  True,  True, False, False,  True,  True,\n",
    "         False, False,  True,  True, False, False,  True,  True, False, False,\n",
    "          True,  True, False, False,  True,  True, False, False,  True,  True,\n",
    "         False, False,  True,  True, False, False,  True,  True, False, False,\n",
    "          True,  True, False, False,  True,  True, False, False,  True,  True]],\n",
    "       device='xla:0').sum(dim=1)"
   ]
  },
  {
   "cell_type": "code",
   "execution_count": 25,
   "id": "cae9758d-736d-4ea1-b19b-d20f51ca4f9e",
   "metadata": {},
   "outputs": [
    {
     "name": "stdout",
     "output_type": "stream",
     "text": [
      "2024-08-27 13:49:58.000466:  54555  INFO ||NEURON_CACHE||: Compile cache path: /var/tmp/neuron-compile-cache\n",
      "2024-08-27 13:49:58.000468:  54555  INFO ||NEURON_CC_WRAPPER||: Call compiler with cmd: neuronx-cc compile --target=trn1 --framework=XLA /tmp/ubuntu/neuroncc_compile_workdir/ae93512e-4b45-47cd-8ce3-120b12a08314/model.MODULE_3687020469296241480+d41d8cd9.hlo_module.pb --output /tmp/ubuntu/neuroncc_compile_workdir/ae93512e-4b45-47cd-8ce3-120b12a08314/model.MODULE_3687020469296241480+d41d8cd9.neff --verbose=35\n",
      ".\n",
      "Compiler status PASS\n"
     ]
    },
    {
     "data": {
      "text/plain": [
       "tensor([[0., 0., 1., 1., 0., 0., 1., 1., 0., 0., 1., 1., 0., 0., 1., 1., 0., 0.,\n",
       "         1., 1., 0., 0., 1., 1., 0., 0., 1., 1., 0., 0., 1., 1., 0., 0., 1., 1.,\n",
       "         0., 0., 1., 1., 0., 0., 1., 1., 0., 0., 1., 1., 0., 0., 1., 1., 0., 0.,\n",
       "         1., 1., 0., 0., 1., 1., 0., 0., 1., 1., 0., 0., 1., 1., 0., 0., 1., 1.,\n",
       "         0., 0., 1., 1., 0., 0., 1., 1., 0., 0., 1., 1., 0., 0., 1., 1., 0., 0.,\n",
       "         1., 1., 0., 0., 1., 1., 0., 0., 1., 1., 0., 0., 1., 1., 0., 0., 1., 1.,\n",
       "         0., 0., 1., 1., 0., 0., 1., 1., 0., 0., 1., 1.],\n",
       "        [0., 0., 1., 1., 0., 0., 1., 1., 0., 0., 1., 1., 0., 0., 1., 1., 0., 0.,\n",
       "         1., 1., 0., 0., 1., 1., 0., 0., 1., 1., 0., 0., 1., 1., 0., 0., 1., 1.,\n",
       "         0., 0., 1., 1., 0., 0., 1., 1., 0., 0., 1., 1., 0., 0., 1., 1., 0., 0.,\n",
       "         1., 1., 0., 0., 1., 1., 0., 0., 1., 1., 0., 0., 1., 1., 0., 0., 1., 1.,\n",
       "         0., 0., 1., 1., 0., 0., 1., 1., 0., 0., 1., 1., 0., 0., 1., 1., 0., 0.,\n",
       "         1., 1., 0., 0., 1., 1., 0., 0., 1., 1., 0., 0., 1., 1., 0., 0., 1., 1.,\n",
       "         0., 0., 1., 1., 0., 0., 1., 1., 0., 0., 1., 1.]], device='xla:0')"
      ]
     },
     "execution_count": 25,
     "metadata": {},
     "output_type": "execute_result"
    }
   ],
   "source": [
    "labels.float()"
   ]
  },
  {
   "cell_type": "code",
   "execution_count": 28,
   "id": "9e06d3b9-50b9-4837-96cf-3d30475a7829",
   "metadata": {},
   "outputs": [
    {
     "data": {
      "text/plain": [
       "torch.int64"
      ]
     },
     "execution_count": 28,
     "metadata": {},
     "output_type": "execute_result"
    }
   ],
   "source": [
    "labels.int().sum().dtype"
   ]
  },
  {
   "cell_type": "code",
   "execution_count": 22,
   "id": "af6306d9-e766-48ca-8670-ff78630708a2",
   "metadata": {},
   "outputs": [
    {
     "name": "stdout",
     "output_type": "stream",
     "text": [
      "2024-08-27 14:18:51.000587:  59328  INFO ||NEURON_CACHE||: Compile cache path: /var/tmp/neuron-compile-cache\n",
      "2024-08-27 14:18:51.000589:  59328  INFO ||NEURON_CC_WRAPPER||: Using a cached neff at /var/tmp/neuron-compile-cache/neuronxcc-2.14.227.0+2d4f85be/MODULE_5511776925357686574+d41d8cd9/model.neff. Exiting with a successfully compiled graph.\n"
     ]
    },
    {
     "data": {
      "text/plain": [
       "60"
      ]
     },
     "execution_count": 22,
     "metadata": {},
     "output_type": "execute_result"
    }
   ],
   "source": [
    "int(labels.int().sum(dim=1)[0])"
   ]
  },
  {
   "cell_type": "code",
   "execution_count": 18,
   "id": "c97cb3d6-b7a9-4f7e-9bc5-5f9e44e98277",
   "metadata": {},
   "outputs": [
    {
     "data": {
      "text/plain": [
       "tensor([[[-0.2449, -1.1971,  0.1564, -0.1102,  1.6893],\n",
       "         [ 0.4234,  0.1447,  0.1682, -0.2968, -0.3987],\n",
       "         [-1.5582,  0.7849, -0.8766, -0.5025,  1.9070],\n",
       "         ...,\n",
       "         [-0.6063,  0.0431, -0.8488, -0.2062, -0.9328],\n",
       "         [-0.5865, -0.1821, -1.0805,  1.3836, -1.2305],\n",
       "         [ 0.1348,  0.1601,  1.4559, -0.2639, -1.7168]],\n",
       "\n",
       "        [[-0.3150, -0.6927, -0.8262,  0.2997,  0.9659],\n",
       "         [-1.2939, -0.5188, -0.1757, -0.4744, -0.3728],\n",
       "         [ 1.3201, -1.8020, -0.3249,  0.2704,  0.6179],\n",
       "         ...,\n",
       "         [ 1.6895,  0.4514,  0.0423, -0.1617,  0.4631],\n",
       "         [ 0.4546,  0.2350, -0.5688, -0.2983,  1.6746],\n",
       "         [-0.8419, -0.4173, -0.2859,  0.4508, -0.4095]]], device='xla:0')"
      ]
     },
     "execution_count": 18,
     "metadata": {},
     "output_type": "execute_result"
    }
   ],
   "source": [
    "tens"
   ]
  },
  {
   "cell_type": "code",
   "execution_count": 19,
   "id": "fb6dd31e-b4b8-49a9-a8a8-f4a82765ea79",
   "metadata": {},
   "outputs": [
    {
     "data": {
      "text/plain": [
       "'torch.xla.FloatTensor'"
      ]
     },
     "execution_count": 19,
     "metadata": {},
     "output_type": "execute_result"
    }
   ],
   "source": [
    "tens.type()"
   ]
  },
  {
   "cell_type": "code",
   "execution_count": 20,
   "id": "3e4ba6e7-0571-4798-b5b0-0046619e48b1",
   "metadata": {},
   "outputs": [
    {
     "data": {
      "text/plain": [
       "torch.float32"
      ]
     },
     "execution_count": 20,
     "metadata": {},
     "output_type": "execute_result"
    }
   ],
   "source": [
    "tens.sum(dim=2).dtype"
   ]
  },
  {
   "cell_type": "code",
   "execution_count": 30,
   "id": "99a2a1b5-c9dd-406d-8a86-28cb647e8923",
   "metadata": {},
   "outputs": [
    {
     "name": "stdout",
     "output_type": "stream",
     "text": [
      "2024-08-27 12:58:00.000631:  49910  INFO ||NEURON_CACHE||: Compile cache path: /var/tmp/neuron-compile-cache\n",
      "2024-08-27 12:58:00.000634:  49910  INFO ||NEURON_CC_WRAPPER||: Call compiler with cmd: neuronx-cc compile --target=trn1 --framework=XLA /tmp/ubuntu/neuroncc_compile_workdir/03adde20-d67a-48c2-981e-192defd61efc/model.MODULE_6877146587899539883+d41d8cd9.hlo_module.pb --output /tmp/ubuntu/neuroncc_compile_workdir/03adde20-d67a-48c2-981e-192defd61efc/model.MODULE_6877146587899539883+d41d8cd9.neff --verbose=35\n",
      ".\n",
      "Compiler status PASS\n"
     ]
    },
    {
     "data": {
      "text/plain": [
       "tensor([62., 53.], device='xla:0')"
      ]
     },
     "execution_count": 30,
     "metadata": {},
     "output_type": "execute_result"
    }
   ],
   "source": [
    "(tens.sum(dim=2) > 0).to(dtype=tens.dtype).sum(dim=1)"
   ]
  },
  {
   "cell_type": "code",
   "execution_count": 23,
   "id": "d424439a-0515-47ff-bc10-f6fb855ac224",
   "metadata": {},
   "outputs": [
    {
     "data": {
      "text/plain": [
       "'torch.xla.BoolTensor'"
      ]
     },
     "execution_count": 23,
     "metadata": {},
     "output_type": "execute_result"
    }
   ],
   "source": [
    "(tens.sum(dim=2) > 0).type()"
   ]
  },
  {
   "cell_type": "code",
   "execution_count": 22,
   "id": "bcf0b2c0-d075-4b48-95fb-213fa1ee051e",
   "metadata": {},
   "outputs": [
    {
     "name": "stdout",
     "output_type": "stream",
     "text": [
      "2024-08-27 12:54:11.000622:  49910  INFO ||NEURON_CACHE||: Compile cache path: /var/tmp/neuron-compile-cache\n",
      "2024-08-27 12:54:11.000624:  49910  INFO ||NEURON_CC_WRAPPER||: Using a cached neff at /var/tmp/neuron-compile-cache/neuronxcc-2.14.227.0+2d4f85be/MODULE_11250971159319000456+d41d8cd9/model.neff. Exiting with a successfully compiled graph.\n"
     ]
    },
    {
     "data": {
      "text/plain": [
       "tensor([62, 53], device='xla:0')"
      ]
     },
     "execution_count": 22,
     "metadata": {},
     "output_type": "execute_result"
    }
   ],
   "source": [
    "(tens.sum(dim=2) > 0).sum(dim=1)"
   ]
  },
  {
   "cell_type": "code",
   "execution_count": 11,
   "id": "b080db64-9fd2-402b-8592-bd59d712519d",
   "metadata": {},
   "outputs": [],
   "source": [
    "nlabel = (tens.sum(dim=2) > 0).sum(dim=1)"
   ]
  },
  {
   "cell_type": "code",
   "execution_count": 14,
   "id": "4cf3c71c-b6f3-4d4c-926b-eb18b294c009",
   "metadata": {},
   "outputs": [
    {
     "data": {
      "text/plain": [
       "tensor([60, 67], device='xla:0')"
      ]
     },
     "execution_count": 14,
     "metadata": {},
     "output_type": "execute_result"
    }
   ],
   "source": [
    "nlabel"
   ]
  },
  {
   "cell_type": "code",
   "execution_count": 15,
   "id": "bedfc921-03a3-42a3-bf20-9e8da0bc9e0e",
   "metadata": {},
   "outputs": [
    {
     "name": "stdout",
     "output_type": "stream",
     "text": [
      "2024-08-27 12:19:50.000363:  49017  INFO ||NEURON_CACHE||: Compile cache path: /var/tmp/neuron-compile-cache\n",
      "2024-08-27 12:19:50.000366:  49017  INFO ||NEURON_CC_WRAPPER||: Call compiler with cmd: neuronx-cc compile --target=trn1 --framework=XLA /tmp/ubuntu/neuroncc_compile_workdir/d375e641-1c14-42c5-a39d-d229774269dd/model.MODULE_6039759920654611522+d41d8cd9.hlo_module.pb --output /tmp/ubuntu/neuroncc_compile_workdir/d375e641-1c14-42c5-a39d-d229774269dd/model.MODULE_6039759920654611522+d41d8cd9.neff --verbose=35\n",
      ".\n",
      "Compiler status PASS\n"
     ]
    }
   ],
   "source": [
    "num_gt = int(nlabel[batch_idx])"
   ]
  },
  {
   "cell_type": "code",
   "execution_count": 16,
   "id": "37953b0a-c2e3-4eaa-a6df-3cba95e3e1a9",
   "metadata": {},
   "outputs": [
    {
     "data": {
      "text/plain": [
       "67"
      ]
     },
     "execution_count": 16,
     "metadata": {},
     "output_type": "execute_result"
    }
   ],
   "source": [
    "num_gt"
   ]
  },
  {
   "cell_type": "code",
   "execution_count": 17,
   "id": "9e9eb9da-a00a-4a8f-807f-11e0abb8b8ce",
   "metadata": {},
   "outputs": [],
   "source": [
    "num_gts = 0.0"
   ]
  },
  {
   "cell_type": "code",
   "execution_count": 18,
   "id": "d947c51c-7fcd-4b9c-a568-506a68ab08c7",
   "metadata": {},
   "outputs": [],
   "source": [
    "num_gts += num_gt"
   ]
  },
  {
   "cell_type": "code",
   "execution_count": 19,
   "id": "fd0b2873-66f5-4c0a-b41a-3d34671464c4",
   "metadata": {},
   "outputs": [
    {
     "data": {
      "text/plain": [
       "67.0"
      ]
     },
     "execution_count": 19,
     "metadata": {},
     "output_type": "execute_result"
    }
   ],
   "source": [
    "num_gts"
   ]
  },
  {
   "cell_type": "code",
   "execution_count": 17,
   "id": "a1af89fe-034e-47e8-8506-5376f17ff1bb",
   "metadata": {},
   "outputs": [],
   "source": [
    "gt_classes = tens[0, :12, 1:5]"
   ]
  },
  {
   "cell_type": "code",
   "execution_count": 18,
   "id": "7f61db33-59b2-452d-85d6-96d9cfd1d457",
   "metadata": {},
   "outputs": [
    {
     "name": "stdout",
     "output_type": "stream",
     "text": [
      "2024-08-27 12:13:41.000522:  47388  INFO ||NEURON_CACHE||: Compile cache path: /var/tmp/neuron-compile-cache\n",
      "2024-08-27 12:13:41.000524:  47388  INFO ||NEURON_CC_WRAPPER||: Call compiler with cmd: neuronx-cc compile --target=trn1 --framework=XLA /tmp/ubuntu/neuroncc_compile_workdir/a3de99a1-4c13-483b-9d52-2ec497c6cd1c/model.MODULE_10441631103026055065+d41d8cd9.hlo_module.pb --output /tmp/ubuntu/neuroncc_compile_workdir/a3de99a1-4c13-483b-9d52-2ec497c6cd1c/model.MODULE_10441631103026055065+d41d8cd9.neff --verbose=35\n",
      ".\n",
      "Compiler status PASS\n"
     ]
    },
    {
     "data": {
      "text/plain": [
       "tensor([[-0.0070,  0.3554,  0.6552,  0.2503],\n",
       "        [ 0.7107, -0.6251,  0.3495,  0.0628],\n",
       "        [ 0.6770,  1.2086,  0.2129,  1.1978],\n",
       "        [-1.4641, -0.0977, -1.3328, -1.1305],\n",
       "        [-1.5518,  0.3596,  1.2465, -0.6324],\n",
       "        [ 2.1655,  0.7212, -0.2368,  0.8614],\n",
       "        [ 0.0651,  0.3983,  0.5659, -0.9727],\n",
       "        [ 0.0075, -2.6241, -1.0251, -0.5041],\n",
       "        [ 0.4719,  0.8205,  0.0857, -0.8424],\n",
       "        [-1.1100,  1.3116, -1.3192, -0.3926],\n",
       "        [ 0.2933,  0.8186, -1.5588,  1.1497],\n",
       "        [ 1.1985,  0.1529, -1.0026, -0.9975]], device='xla:0')"
      ]
     },
     "execution_count": 18,
     "metadata": {},
     "output_type": "execute_result"
    }
   ],
   "source": [
    "gt_classes"
   ]
  },
  {
   "cell_type": "code",
   "execution_count": 23,
   "id": "348aadb9-82d5-43d4-be83-68c8dd8c66ef",
   "metadata": {},
   "outputs": [],
   "source": [
    "n_tens = torch_xla.torch.tensor([[[1000,1223231,12131]]])"
   ]
  },
  {
   "cell_type": "code",
   "execution_count": 25,
   "id": "f7999adb-2dc5-4b8a-9b60-a79aac014c1a",
   "metadata": {},
   "outputs": [
    {
     "ename": "RuntimeError",
     "evalue": "linalg.vector_norm: Expected a floating point or complex tensor as input. Got Long",
     "output_type": "error",
     "traceback": [
      "\u001b[0;31m---------------------------------------------------------------------------\u001b[0m",
      "\u001b[0;31mRuntimeError\u001b[0m                              Traceback (most recent call last)",
      "Cell \u001b[0;32mIn[25], line 1\u001b[0m\n\u001b[0;32m----> 1\u001b[0m (\u001b[43mn_tens\u001b[49m\u001b[38;5;241;43m.\u001b[39;49m\u001b[43mnorm\u001b[49m\u001b[43m(\u001b[49m\u001b[43m)\u001b[49m)\u001b[38;5;241m.\u001b[39mto(torch\u001b[38;5;241m.\u001b[39mint64)\n",
      "File \u001b[0;32m/opt/aws_neuronx_venv_pytorch_2_1/lib/python3.10/site-packages/torch/_tensor.py:708\u001b[0m, in \u001b[0;36mTensor.norm\u001b[0;34m(self, p, dim, keepdim, dtype)\u001b[0m\n\u001b[1;32m    704\u001b[0m \u001b[38;5;28;01mif\u001b[39;00m has_torch_function_unary(\u001b[38;5;28mself\u001b[39m):\n\u001b[1;32m    705\u001b[0m     \u001b[38;5;28;01mreturn\u001b[39;00m handle_torch_function(\n\u001b[1;32m    706\u001b[0m         Tensor\u001b[38;5;241m.\u001b[39mnorm, (\u001b[38;5;28mself\u001b[39m,), \u001b[38;5;28mself\u001b[39m, p\u001b[38;5;241m=\u001b[39mp, dim\u001b[38;5;241m=\u001b[39mdim, keepdim\u001b[38;5;241m=\u001b[39mkeepdim, dtype\u001b[38;5;241m=\u001b[39mdtype\n\u001b[1;32m    707\u001b[0m     )\n\u001b[0;32m--> 708\u001b[0m \u001b[38;5;28;01mreturn\u001b[39;00m \u001b[43mtorch\u001b[49m\u001b[38;5;241;43m.\u001b[39;49m\u001b[43mnorm\u001b[49m\u001b[43m(\u001b[49m\u001b[38;5;28;43mself\u001b[39;49m\u001b[43m,\u001b[49m\u001b[43m \u001b[49m\u001b[43mp\u001b[49m\u001b[43m,\u001b[49m\u001b[43m \u001b[49m\u001b[43mdim\u001b[49m\u001b[43m,\u001b[49m\u001b[43m \u001b[49m\u001b[43mkeepdim\u001b[49m\u001b[43m,\u001b[49m\u001b[43m \u001b[49m\u001b[43mdtype\u001b[49m\u001b[38;5;241;43m=\u001b[39;49m\u001b[43mdtype\u001b[49m\u001b[43m)\u001b[49m\n",
      "File \u001b[0;32m/opt/aws_neuronx_venv_pytorch_2_1/lib/python3.10/site-packages/torch/functional.py:1595\u001b[0m, in \u001b[0;36mnorm\u001b[0;34m(input, p, dim, keepdim, out, dtype)\u001b[0m\n\u001b[1;32m   1593\u001b[0m \u001b[38;5;28;01mif\u001b[39;00m p \u001b[38;5;241m==\u001b[39m \u001b[38;5;124m\"\u001b[39m\u001b[38;5;124mfro\u001b[39m\u001b[38;5;124m\"\u001b[39m \u001b[38;5;129;01mand\u001b[39;00m (dim \u001b[38;5;129;01mis\u001b[39;00m \u001b[38;5;28;01mNone\u001b[39;00m \u001b[38;5;129;01mor\u001b[39;00m \u001b[38;5;28misinstance\u001b[39m(dim, \u001b[38;5;28mint\u001b[39m) \u001b[38;5;129;01mor\u001b[39;00m \u001b[38;5;28mlen\u001b[39m(dim) \u001b[38;5;241m<\u001b[39m\u001b[38;5;241m=\u001b[39m \u001b[38;5;241m2\u001b[39m):\n\u001b[1;32m   1594\u001b[0m     \u001b[38;5;28;01mif\u001b[39;00m out \u001b[38;5;129;01mis\u001b[39;00m \u001b[38;5;28;01mNone\u001b[39;00m:\n\u001b[0;32m-> 1595\u001b[0m         \u001b[38;5;28;01mreturn\u001b[39;00m \u001b[43mtorch\u001b[49m\u001b[38;5;241;43m.\u001b[39;49m\u001b[43mlinalg\u001b[49m\u001b[38;5;241;43m.\u001b[39;49m\u001b[43mvector_norm\u001b[49m\u001b[43m(\u001b[49m\u001b[38;5;28;43minput\u001b[39;49m\u001b[43m,\u001b[49m\u001b[43m \u001b[49m\u001b[38;5;241;43m2\u001b[39;49m\u001b[43m,\u001b[49m\u001b[43m \u001b[49m\u001b[43m_dim\u001b[49m\u001b[43m,\u001b[49m\u001b[43m \u001b[49m\u001b[43mkeepdim\u001b[49m\u001b[43m,\u001b[49m\u001b[43m \u001b[49m\u001b[43mdtype\u001b[49m\u001b[38;5;241;43m=\u001b[39;49m\u001b[43mdtype\u001b[49m\u001b[43m)\u001b[49m\n\u001b[1;32m   1596\u001b[0m     \u001b[38;5;28;01melse\u001b[39;00m:\n\u001b[1;32m   1597\u001b[0m         \u001b[38;5;28;01mreturn\u001b[39;00m torch\u001b[38;5;241m.\u001b[39mlinalg\u001b[38;5;241m.\u001b[39mvector_norm(\u001b[38;5;28minput\u001b[39m, \u001b[38;5;241m2\u001b[39m, _dim, keepdim, dtype\u001b[38;5;241m=\u001b[39mdtype, out\u001b[38;5;241m=\u001b[39mout)\n",
      "\u001b[0;31mRuntimeError\u001b[0m: linalg.vector_norm: Expected a floating point or complex tensor as input. Got Long"
     ]
    }
   ],
   "source": [
    "(n_tens.norm()).to(torch.int64)"
   ]
  },
  {
   "cell_type": "code",
   "execution_count": 20,
   "id": "1a3a6859-27dd-4ab8-82c6-07c40fba9cca",
   "metadata": {},
   "outputs": [],
   "source": [
    "n_tens = n_tens.to(device)"
   ]
  },
  {
   "cell_type": "code",
   "execution_count": 21,
   "id": "6da471de-941d-460b-8443-6116579fc5de",
   "metadata": {},
   "outputs": [
    {
     "data": {
      "text/plain": [
       "'torch.xla.LongTensor'"
      ]
     },
     "execution_count": 21,
     "metadata": {},
     "output_type": "execute_result"
    }
   ],
   "source": [
    "torch.stack((n_tens, n_tens), 2).view(1,2,1,3).type()"
   ]
  },
  {
   "cell_type": "code",
   "execution_count": 23,
   "id": "4173a228-4eae-4740-ba2c-493202cad341",
   "metadata": {},
   "outputs": [
    {
     "name": "stdout",
     "output_type": "stream",
     "text": [
      "2024-08-26 16:47:32.000558:  17656  INFO ||NEURON_CACHE||: Compile cache path: /var/tmp/neuron-compile-cache\n",
      "2024-08-26 16:47:32.000560:  17656  INFO ||NEURON_CC_WRAPPER||: Call compiler with cmd: neuronx-cc compile --target=trn1 --framework=XLA /tmp/ubuntu/neuroncc_compile_workdir/1f02e8d0-4c69-4361-b943-a91ce88f09d3/model.MODULE_16302122862933890670+d41d8cd9.hlo_module.pb --output /tmp/ubuntu/neuroncc_compile_workdir/1f02e8d0-4c69-4361-b943-a91ce88f09d3/model.MODULE_16302122862933890670+d41d8cd9.neff --verbose=35\n",
      ".\n",
      "Compiler status PASS\n"
     ]
    },
    {
     "data": {
      "text/plain": [
       "tensor([[0, 0, 0]], device='xla:0')"
      ]
     },
     "execution_count": 23,
     "metadata": {},
     "output_type": "execute_result"
    }
   ],
   "source": [
    "(n_tens < n_tens).type_as(n_tens).prod(dim=1)"
   ]
  },
  {
   "cell_type": "code",
   "execution_count": 18,
   "id": "7d0d7706-047b-4b5a-92a8-cb24213f65e8",
   "metadata": {},
   "outputs": [
    {
     "name": "stdout",
     "output_type": "stream",
     "text": [
      "2024-08-26 14:58:45.000366:  13842  INFO ||NEURON_CACHE||: Compile cache path: /var/tmp/neuron-compile-cache\n",
      "2024-08-26 14:58:45.000369:  13842  INFO ||NEURON_CC_WRAPPER||: Call compiler with cmd: neuronx-cc compile --target=trn1 --framework=XLA /tmp/ubuntu/neuroncc_compile_workdir/e684824e-fb48-467c-852b-e3ad912eb2a2/model.MODULE_11410224952559862343+d41d8cd9.hlo_module.pb --output /tmp/ubuntu/neuroncc_compile_workdir/e684824e-fb48-467c-852b-e3ad912eb2a2/model.MODULE_11410224952559862343+d41d8cd9.neff --verbose=35\n",
      ".\n",
      "Compiler status PASS\n"
     ]
    },
    {
     "data": {
      "text/plain": [
       "tensor([[[False, False, False]]], device='xla:0')"
      ]
     },
     "execution_count": 18,
     "metadata": {},
     "output_type": "execute_result"
    }
   ],
   "source": [
    "(n_tens < n_tens)"
   ]
  },
  {
   "cell_type": "code",
   "execution_count": 24,
   "id": "83b59796-0a46-4a38-8252-fbe180a9c834",
   "metadata": {},
   "outputs": [
    {
     "data": {
      "text/plain": [
       "'torch.xla.BoolTensor'"
      ]
     },
     "execution_count": 24,
     "metadata": {},
     "output_type": "execute_result"
    }
   ],
   "source": [
    "(n_tens < n_tens).type()"
   ]
  },
  {
   "cell_type": "code",
   "execution_count": null,
   "id": "a3dbfbb2-406a-4088-9ab5-19b50767f1cd",
   "metadata": {},
   "outputs": [],
   "source": []
  },
  {
   "cell_type": "code",
   "execution_count": 28,
   "id": "174a16e1-15b2-4d13-b767-c71b6450ecd6",
   "metadata": {},
   "outputs": [
    {
     "ename": "AttributeError",
     "evalue": "module 'torch_xla' has no attribute 'FloatTensor'",
     "output_type": "error",
     "traceback": [
      "\u001b[0;31m---------------------------------------------------------------------------\u001b[0m",
      "\u001b[0;31mAttributeError\u001b[0m                            Traceback (most recent call last)",
      "Cell \u001b[0;32mIn[28], line 1\u001b[0m\n\u001b[0;32m----> 1\u001b[0m (n_tens \u001b[38;5;241m<\u001b[39m n_tens)\u001b[38;5;241m.\u001b[39mtype(dtype\u001b[38;5;241m=\u001b[39m\u001b[43mtorch_xla\u001b[49m\u001b[38;5;241;43m.\u001b[39;49m\u001b[43mFloatTensor\u001b[49m)\n",
      "\u001b[0;31mAttributeError\u001b[0m: module 'torch_xla' has no attribute 'FloatTensor'"
     ]
    }
   ],
   "source": [
    "(n_tens < n_tens).type(dtype=torch_xla.FloatTensor)"
   ]
  },
  {
   "cell_type": "code",
   "execution_count": 21,
   "id": "af46082d-b9b8-4c24-b079-eb2d4ada5ab5",
   "metadata": {},
   "outputs": [
    {
     "ename": "ValueError",
     "evalue": "invalid type: 'torch.xla.LongTensor'",
     "output_type": "error",
     "traceback": [
      "\u001b[0;31m---------------------------------------------------------------------------\u001b[0m",
      "\u001b[0;31mValueError\u001b[0m                                Traceback (most recent call last)",
      "Cell \u001b[0;32mIn[21], line 1\u001b[0m\n\u001b[0;32m----> 1\u001b[0m \u001b[43m(\u001b[49m\u001b[43mn_tens\u001b[49m\u001b[43m \u001b[49m\u001b[38;5;241;43m<\u001b[39;49m\u001b[43m \u001b[49m\u001b[43mn_tens\u001b[49m\u001b[43m)\u001b[49m\u001b[38;5;241;43m.\u001b[39;49m\u001b[43mtype\u001b[49m\u001b[43m(\u001b[49m\u001b[38;5;124;43m\"\u001b[39;49m\u001b[38;5;124;43mtorch.xla.LongTensor\u001b[39;49m\u001b[38;5;124;43m\"\u001b[39;49m\u001b[43m)\u001b[49m\n",
      "\u001b[0;31mValueError\u001b[0m: invalid type: 'torch.xla.LongTensor'"
     ]
    }
   ],
   "source": [
    "(n_tens < n_tens).type(\"torch.xla.LongTensor\")"
   ]
  },
  {
   "cell_type": "code",
   "execution_count": 5,
   "id": "c306f8d1-3d40-46b4-ad6a-95e7efbc9760",
   "metadata": {},
   "outputs": [],
   "source": [
    "import torch"
   ]
  },
  {
   "cell_type": "code",
   "execution_count": 12,
   "id": "f2b5a5a6-3590-4e75-8f33-d7f1f310dbb2",
   "metadata": {},
   "outputs": [],
   "source": [
    "a = torch.tensor([[1,1,1,]])"
   ]
  },
  {
   "cell_type": "code",
   "execution_count": 13,
   "id": "86f92b7e-70d5-4f6c-9b34-fb9f2ffaea6a",
   "metadata": {},
   "outputs": [
    {
     "data": {
      "text/plain": [
       "tensor([[0., 0., 0.]])"
      ]
     },
     "execution_count": 13,
     "metadata": {},
     "output_type": "execute_result"
    }
   ],
   "source": [
    "(a > a).type('torch.FloatTensor')"
   ]
  },
  {
   "cell_type": "code",
   "execution_count": 14,
   "id": "4acc1a40-a47c-4a56-b4f2-524da1407c29",
   "metadata": {},
   "outputs": [
    {
     "ename": "SyntaxError",
     "evalue": "invalid syntax (1307965163.py, line 1)",
     "output_type": "error",
     "traceback": [
      "\u001b[0;36m  Cell \u001b[0;32mIn[14], line 1\u001b[0;36m\u001b[0m\n\u001b[0;31m    .type()\u001b[0m\n\u001b[0m    ^\u001b[0m\n\u001b[0;31mSyntaxError\u001b[0m\u001b[0;31m:\u001b[0m invalid syntax\n"
     ]
    }
   ],
   "source": [
    ".type()\n",
    "\n",
    "\n",
    ".to(dtype=...)\n",
    "\n"
   ]
  },
  {
   "cell_type": "code",
   "execution_count": null,
   "id": "3a9eabe2-6e43-416a-8bd4-2abe50cddf85",
   "metadata": {},
   "outputs": [],
   "source": []
  },
  {
   "cell_type": "code",
   "execution_count": null,
   "id": "5493342c-4b85-45c2-950b-ff6d34f47f72",
   "metadata": {},
   "outputs": [],
   "source": []
  }
 ],
 "metadata": {
  "kernelspec": {
   "display_name": "Python (torch-neuronx)",
   "language": "python",
   "name": "aws_neuron_venv_pytorch"
  },
  "language_info": {
   "codemirror_mode": {
    "name": "ipython",
    "version": 3
   },
   "file_extension": ".py",
   "mimetype": "text/x-python",
   "name": "python",
   "nbconvert_exporter": "python",
   "pygments_lexer": "ipython3",
   "version": "3.10.12"
  }
 },
 "nbformat": 4,
 "nbformat_minor": 5
}
