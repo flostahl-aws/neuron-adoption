{
 "cells": [
  {
   "cell_type": "code",
   "execution_count": 6,
   "id": "355abaae-dcce-4b51-9744-5a41ff9d2d5a",
   "metadata": {},
   "outputs": [],
   "source": [
    "model = \"yolox-s\"\n",
    "num_accelerators = 1\n",
    "total_batch_size = 2\n",
    "num_workers = 1"
   ]
  },
  {
   "cell_type": "code",
   "execution_count": 7,
   "id": "216f99e0-5e3e-4c95-a3b9-c18186c228ba",
   "metadata": {},
   "outputs": [
    {
     "data": {
      "text/plain": [
       "\"NEURON_RT_ASYNC_EXEC_MAX_INFLIGHT_REQUESTS=3  NEURON_CC_FLAGS='--cache_dir=./compiler_cache --model-type=cnn-training --target=trn1 --framework=XLA --retry_failed_compilation --verbose=debug'\""
      ]
     },
     "execution_count": 7,
     "metadata": {},
     "output_type": "execute_result"
    }
   ],
   "source": [
    "env_var_options"
   ]
  },
  {
   "cell_type": "code",
   "execution_count": 8,
   "id": "cb363a9f-fbd6-48ae-8c8a-23bed718ac3a",
   "metadata": {},
   "outputs": [],
   "source": [
    "env_var_options = \"NEURON_RT_ASYNC_EXEC_MAX_INFLIGHT_REQUESTS=3 XLA_IR_DEBUG=1 XLA_HLO_DEBUG=1\" + \\\n",
    "    \"NEURON_CC_FLAGS=\\'--cache_dir=./compiler_cache --model-type=cnn-training --target=trn1 --framework=XLA --retry_failed_compilation\\'\"\n"
   ]
  },
  {
   "cell_type": "code",
   "execution_count": 10,
   "id": "785d533e-6259-48fb-86cd-5a8c7444a02f",
   "metadata": {},
   "outputs": [
    {
     "name": "stdout",
     "output_type": "stream",
     "text": [
      "Compile model\n",
      "Running command: \n",
      "\n",
      "   NEURON_RT_ASYNC_EXEC_MAX_INFLIGHT_REQUESTS=3  NEURON_CC_FLAGS='--cache_dir=./compiler_cache --model-type=cnn-training --target=trn1 --framework=XLA --retry_failed_compilation' torchrun --nproc_per_node=1 -m    yolox.tools.train     -n yolox-s     -d 1     -b 2     \n"
     ]
    },
    {
     "name": "stderr",
     "output_type": "stream",
     "text": [
      "/bin/sh: 1: nvidia-smi: not found\n",
      "2024-08-29 11:22:11 | INFO     | yolox.core.trainer:138 - args: Namespace(experiment_name='yolox_s', name='yolox-s', dist_backend='nccl', dist_url=None, batch_size=2, devices=1, exp_file=None, resume=False, ckpt=None, start_epoch=None, num_machines=1, machine_rank=0, fp16=False, cache=None, occupy=False, logger='tensorboard', opts=[])\n",
      "2024-08-29 11:22:11 | INFO     | yolox.core.trainer:139 - exp value:\n",
      "╒═══════════════════╤════════════════════════════╕\n",
      "│ keys              │ values                     │\n",
      "╞═══════════════════╪════════════════════════════╡\n",
      "│ seed              │ None                       │\n",
      "├───────────────────┼────────────────────────────┤\n",
      "│ output_dir        │ './YOLOX_outputs'          │\n",
      "├───────────────────┼────────────────────────────┤\n",
      "│ print_interval    │ 10                         │\n",
      "├───────────────────┼────────────────────────────┤\n",
      "│ eval_interval     │ 10                         │\n",
      "├───────────────────┼────────────────────────────┤\n",
      "│ dataset           │ None                       │\n",
      "├───────────────────┼────────────────────────────┤\n",
      "│ num_classes       │ 80                         │\n",
      "├───────────────────┼────────────────────────────┤\n",
      "│ depth             │ 0.33                       │\n",
      "├───────────────────┼────────────────────────────┤\n",
      "│ width             │ 0.5                        │\n",
      "├──────────────────��┼────────────────────────────┤\n",
      "│ act               │ 'silu'                     │\n",
      "├───────────────────┼────────────────────────────┤\n",
      "│ data_num_workers  │ 4                          │\n",
      "├───────────────────┼────────────────────────────┤\n",
      "│ input_size        │ (640, 640)                 │\n",
      "├───────────────────┼────────────────────────────┤\n",
      "│ multiscale_range  │ 5                          │\n",
      "├───────────────────┼────────────────────────────┤\n",
      "│ data_dir          │ None                       │\n",
      "├─────���─────────────┼────────────────────────────┤\n",
      "│ train_ann         │ 'instances_train2017.json' │\n",
      "├───────────────────┼────────────────────────────┤\n",
      "│ val_ann           │ 'instances_val2017.json'   │\n",
      "├───────────────────┼────────────────────────────┤\n",
      "│ test_ann          │ 'instances_test2017.json'  │\n",
      "├───────────────────┼────────────────────────────┤\n",
      "│ mosaic_prob       │ 1.0                        │\n",
      "├───────────────────┼────────────────────────────┤\n",
      "│ mixup_prob        │ 1.0                        │\n",
      "├───────────────────┼────────────────────────────┤\n",
      "│ hsv_prob          │ 1.0                        │\n",
      "├───────────────────┼────────────────────────────┤\n",
      "│ flip_prob         │ 0.5                        │\n",
      "├───────────────────┼────────────────────────────┤\n",
      "│ degrees           │ 10.0                       │\n",
      "├───────────────────┼────────────────────────────┤\n",
      "│ translate         │ 0.1                        │\n",
      "├───────────────────┼────────────────────────────┤\n",
      "│ mosaic_scale      │ (0.1, 2)                   │\n",
      "├───────────────────┼────────────────────────────┤\n",
      "│ enable_mixup      │ True                       │\n",
      "├───────────────────┼────────────────────────────┤\n",
      "│ mixup_scale       │ (0.5, 1.5)                 │\n",
      "├───────────────────┼────────────────────────────┤\n",
      "│ shear             │ 2.0                        │\n",
      "├───────────────────┼────────────────────────────┤\n",
      "│ warmup_epochs     │ 5                          │\n",
      "├───────────────────┼──────────────��─────────────┤\n",
      "│ max_epoch         │ 300                        │\n",
      "├───────────────────┼────────────────────────────┤\n",
      "│ warmup_lr         │ 0                          │\n",
      "├───────────────────┼────────────────────────────┤\n",
      "│ min_lr_ratio      │ 0.05                       │\n",
      "├───────────────────┼────────────────────────────┤\n",
      "│ basic_lr_per_img  │ 0.00015625                 │\n",
      "├───────────────────┼────────────────────────────┤\n",
      "│ scheduler         │ 'yoloxwarmcos'             │\n",
      "├───────────────────┼─���──────────────────────────┤\n",
      "│ no_aug_epochs     │ 15                         │\n",
      "├───────────────────┼────────────────────────────┤\n",
      "│ ema               │ True                       │\n",
      "├───────────────────┼────────────────────────────┤\n",
      "│ weight_decay      │ 0.0005                     │\n",
      "├───────────────────┼────────────────────────────┤\n",
      "│ momentum          │ 0.9                        │\n",
      "├───────────────────┼────────────────────────────┤\n",
      "│ save_history_ckpt │ True                       │\n",
      "├───────────────────┼────────────────────────────┤\n",
      "│ exp_name          │ 'yolox_s'                  │\n",
      "├───────────────────┼────────────────────────────┤\n",
      "│ test_size         │ (640, 640)                 │\n",
      "├───────────────────┼────────────────────────────┤\n",
      "│ test_conf         │ 0.01                       │\n",
      "├───────────────────┼────────────────────────────┤\n",
      "│ nmsthre           │ 0.65                       │\n",
      "╘═══════════════════╧════════════════════════════╛\n",
      "2024-08-29 11:22:11 | INFO     | yolox.core.trainer:143 - Model Summary: Params: 8.97M, Gflops: 26.93\n",
      "2024-08-29 11:22:11 | INFO     | yolox.data.datasets.coco:63 - loading annotations into memory...\n",
      "2024-08-29 11:22:22 | INFO     | yolox.data.datasets.coco:63 - Done (t=10.82s)\n",
      "2024-08-29 11:22:22 | INFO     | pycocotools.coco:86 - creating index...\n",
      "2024-08-29 11:22:23 | INFO     | pycocotools.coco:86 - index created!\n",
      "2024-08-29 11:22:47 | INFO     | yolox.core.trainer:160 - init prefetcher, this might take one minute or less...\n",
      "2024-08-29 11:22:47 | INFO     | yolox.data.datasets.coco:63 - loading annotations into memory...\n",
      "2024-08-29 11:22:47 | INFO     | yolox.data.datasets.coco:63 - Done (t=0.26s)\n",
      "2024-08-29 11:22:47 | INFO     | pycocotools.coco:86 - creating index...\n",
      "2024-08-29 11:22:47 | INFO     | pycocotools.coco:86 - index created!\n",
      "2024-08-29 11:22:48 | INFO     | yolox.core.trainer:197 - Training start...\n",
      "2024-08-29 11:22:48 | INFO     | yolox.core.trainer:198 - \n",
      "YOLOX(\n",
      "  (backbone): YOLOPAFPN(\n",
      "    (backbone): CSPDarknet(\n",
      "      (stem): Focus(\n",
      "        (conv): BaseConv(\n",
      "          (conv): Conv2d(12, 32, kernel_size=(3, 3), stride=(1, 1), padding=(1, 1), bias=False)\n",
      "          (bn): BatchNorm2d(32, eps=0.001, momentum=0.03, affine=True, track_running_stats=True)\n",
      "          (act): SiLU(inplace=True)\n",
      "        )\n",
      "      )\n",
      "      (dark2): Sequential(\n",
      "        (0): BaseConv(\n",
      "          (conv): Conv2d(32, 64, kernel_size=(3, 3), stride=(2, 2), padding=(1, 1), bias=False)\n",
      "          (bn): BatchNorm2d(64, eps=0.001, momentum=0.03, affine=True, track_running_stats=True)\n",
      "          (act): SiLU(inplace=True)\n",
      "        )\n",
      "        (1): CSPLayer(\n",
      "          (conv1): BaseConv(\n",
      "            (conv): Conv2d(64, 32, kernel_size=(1, 1), stride=(1, 1), bias=False)\n",
      "            (bn): BatchNorm2d(32, eps=0.001, momentum=0.03, affine=True, track_running_stats=True)\n",
      "            (act): SiLU(inplace=True)\n",
      "          )\n",
      "          (conv2): BaseConv(\n",
      "            (conv): Conv2d(64, 32, kernel_size=(1, 1), stride=(1, 1), bias=False)\n",
      "            (bn): BatchNorm2d(32, eps=0.001, momentum=0.03, affine=True, track_running_stats=True)\n",
      "            (act): SiLU(inplace=True)\n",
      "          )\n",
      "          (conv3): BaseConv(\n",
      "            (conv): Conv2d(64, 64, kernel_size=(1, 1), stride=(1, 1), bias=False)\n",
      "            (bn): BatchNorm2d(64, eps=0.001, momentum=0.03, affine=True, track_running_stats=True)\n",
      "            (act): SiLU(inplace=True)\n",
      "          )\n",
      "          (m): Sequential(\n",
      "            (0): Bottleneck(\n",
      "              (conv1): BaseConv(\n",
      "                (conv): Conv2d(32, 32, kernel_size=(1, 1), stride=(1, 1), bias=False)\n",
      "                (bn): BatchNorm2d(32, eps=0.001, momentum=0.03, affine=True, track_running_stats=True)\n",
      "                (act): SiLU(inplace=True)\n",
      "              )\n",
      "              (conv2): BaseConv(\n",
      "                (conv): Conv2d(32, 32, kernel_size=(3, 3), stride=(1, 1), padding=(1, 1), bias=False)\n",
      "                (bn): BatchNorm2d(32, eps=0.001, momentum=0.03, affine=True, track_running_stats=True)\n",
      "                (act): SiLU(inplace=True)\n",
      "              )\n",
      "            )\n",
      "          )\n",
      "        )\n",
      "      )\n",
      "      (dark3): Sequential(\n",
      "        (0): BaseConv(\n",
      "          (conv): Conv2d(64, 128, kernel_size=(3, 3), stride=(2, 2), padding=(1, 1), bias=False)\n",
      "          (bn): BatchNorm2d(128, eps=0.001, momentum=0.03, affine=True, track_running_stats=True)\n",
      "          (act): SiLU(inplace=True)\n",
      "        )\n",
      "        (1): CSPLayer(\n",
      "          (conv1): BaseConv(\n",
      "            (conv): Conv2d(128, 64, kernel_size=(1, 1), stride=(1, 1), bias=False)\n",
      "            (bn): BatchNorm2d(64, eps=0.001, momentum=0.03, affine=True, track_running_stats=True)\n",
      "            (act): SiLU(inplace=True)\n",
      "          )\n",
      "          (conv2): BaseConv(\n",
      "            (conv): Conv2d(128, 64, kernel_size=(1, 1), stride=(1, 1), bias=False)\n",
      "            (bn): BatchNorm2d(64, eps=0.001, momentum=0.03, affine=True, track_running_stats=True)\n",
      "            (act): SiLU(inplace=True)\n",
      "          )\n",
      "          (conv3): BaseConv(\n",
      "            (conv): Conv2d(128, 128, kernel_size=(1, 1), stride=(1, 1), bias=False)\n",
      "            (bn): BatchNorm2d(128, eps=0.001, momentum=0.03, affine=True, track_running_stats=True)\n",
      "            (act): SiLU(inplace=True)\n",
      "          )\n",
      "          (m): Sequential(\n",
      "            (0): Bottleneck(\n",
      "              (conv1): BaseConv(\n",
      "                (conv): Conv2d(64, 64, kernel_size=(1, 1), stride=(1, 1), bias=False)\n",
      "                (bn): BatchNorm2d(64, eps=0.001, momentum=0.03, affine=True, track_running_stats=True)\n",
      "                (act): SiLU(inplace=True)\n",
      "              )\n",
      "              (conv2): BaseConv(\n",
      "                (conv): Conv2d(64, 64, kernel_size=(3, 3), stride=(1, 1), padding=(1, 1), bias=False)\n",
      "                (bn): BatchNorm2d(64, eps=0.001, momentum=0.03, affine=True, track_running_stats=True)\n",
      "                (act): SiLU(inplace=True)\n",
      "              )\n",
      "            )\n",
      "            (1): Bottleneck(\n",
      "              (conv1): BaseConv(\n",
      "                (conv): Conv2d(64, 64, kernel_size=(1, 1), stride=(1, 1), bias=False)\n",
      "                (bn): BatchNorm2d(64, eps=0.001, momentum=0.03, affine=True, track_running_stats=True)\n",
      "                (act): SiLU(inplace=True)\n",
      "              )\n",
      "              (conv2): BaseConv(\n",
      "                (conv): Conv2d(64, 64, kernel_size=(3, 3), stride=(1, 1), padding=(1, 1), bias=False)\n",
      "                (bn): BatchNorm2d(64, eps=0.001, momentum=0.03, affine=True, track_running_stats=True)\n",
      "                (act): SiLU(inplace=True)\n",
      "              )\n",
      "            )\n",
      "            (2): Bottleneck(\n",
      "              (conv1): BaseConv(\n",
      "                (conv): Conv2d(64, 64, kernel_size=(1, 1), stride=(1, 1), bias=False)\n",
      "                (bn): BatchNorm2d(64, eps=0.001, momentum=0.03, affine=True, track_running_stats=True)\n",
      "                (act): SiLU(inplace=True)\n",
      "              )\n",
      "              (conv2): BaseConv(\n",
      "                (conv): Conv2d(64, 64, kernel_size=(3, 3), stride=(1, 1), padding=(1, 1), bias=False)\n",
      "                (bn): BatchNorm2d(64, eps=0.001, momentum=0.03, affine=True, track_running_stats=True)\n",
      "                (act): SiLU(inplace=True)\n",
      "              )\n",
      "            )\n",
      "          )\n",
      "        )\n",
      "      )\n",
      "      (dark4): Sequential(\n",
      "        (0): BaseConv(\n",
      "          (conv): Conv2d(128, 256, kernel_size=(3, 3), stride=(2, 2), padding=(1, 1), bias=False)\n",
      "          (bn): BatchNorm2d(256, eps=0.001, momentum=0.03, affine=True, track_running_stats=True)\n",
      "          (act): SiLU(inplace=True)\n",
      "        )\n",
      "        (1): CSPLayer(\n",
      "          (conv1): BaseConv(\n",
      "            (conv): Conv2d(256, 128, kernel_size=(1, 1), stride=(1, 1), bias=False)\n",
      "            (bn): BatchNorm2d(128, eps=0.001, momentum=0.03, affine=True, track_running_stats=True)\n",
      "            (act): SiLU(inplace=True)\n",
      "          )\n",
      "          (conv2): BaseConv(\n",
      "            (conv): Conv2d(256, 128, kernel_size=(1, 1), stride=(1, 1), bias=False)\n",
      "            (bn): BatchNorm2d(128, eps=0.001, momentum=0.03, affine=True, track_running_stats=True)\n",
      "            (act): SiLU(inplace=True)\n",
      "          )\n",
      "          (conv3): BaseConv(\n",
      "            (conv): Conv2d(256, 256, kernel_size=(1, 1), stride=(1, 1), bias=False)\n",
      "            (bn): BatchNorm2d(256, eps=0.001, momentum=0.03, affine=True, track_running_stats=True)\n",
      "            (act): SiLU(inplace=True)\n",
      "          )\n",
      "          (m): Sequential(\n",
      "            (0): Bottleneck(\n",
      "              (conv1): BaseConv(\n",
      "                (conv): Conv2d(128, 128, kernel_size=(1, 1), stride=(1, 1), bias=False)\n",
      "                (bn): BatchNorm2d(128, eps=0.001, momentum=0.03, affine=True, track_running_stats=True)\n",
      "                (act): SiLU(inplace=True)\n",
      "              )\n",
      "              (conv2): BaseConv(\n",
      "                (conv): Conv2d(128, 128, kernel_size=(3, 3), stride=(1, 1), padding=(1, 1), bias=False)\n",
      "                (bn): BatchNorm2d(128, eps=0.001, momentum=0.03, affine=True, track_running_stats=True)\n",
      "                (act): SiLU(inplace=True)\n",
      "              )\n",
      "            )\n",
      "            (1): Bottleneck(\n",
      "              (conv1): BaseConv(\n",
      "                (conv): Conv2d(128, 128, kernel_size=(1, 1), stride=(1, 1), bias=False)\n",
      "                (bn): BatchNorm2d(128, eps=0.001, momentum=0.03, affine=True, track_running_stats=True)\n",
      "                (act): SiLU(inplace=True)\n",
      "              )\n",
      "              (conv2): BaseConv(\n",
      "                (conv): Conv2d(128, 128, kernel_size=(3, 3), stride=(1, 1), padding=(1, 1), bias=False)\n",
      "                (bn): BatchNorm2d(128, eps=0.001, momentum=0.03, affine=True, track_running_stats=True)\n",
      "                (act): SiLU(inplace=True)\n",
      "              )\n",
      "            )\n",
      "            (2): Bottleneck(\n",
      "              (conv1): BaseConv(\n",
      "                (conv): Conv2d(128, 128, kernel_size=(1, 1), stride=(1, 1), bias=False)\n",
      "                (bn): BatchNorm2d(128, eps=0.001, momentum=0.03, affine=True, track_running_stats=True)\n",
      "                (act): SiLU(inplace=True)\n",
      "              )\n",
      "              (conv2): BaseConv(\n",
      "                (conv): Conv2d(128, 128, kernel_size=(3, 3), stride=(1, 1), padding=(1, 1), bias=False)\n",
      "                (bn): BatchNorm2d(128, eps=0.001, momentum=0.03, affine=True, track_running_stats=True)\n",
      "                (act): SiLU(inplace=True)\n",
      "              )\n",
      "            )\n",
      "          )\n",
      "        )\n",
      "      )\n",
      "      (dark5): Sequential(\n",
      "        (0): BaseConv(\n",
      "          (conv): Conv2d(256, 512, kernel_size=(3, 3), stride=(2, 2), padding=(1, 1), bias=False)\n",
      "          (bn): BatchNorm2d(512, eps=0.001, momentum=0.03, affine=True, track_running_stats=True)\n",
      "          (act): SiLU(inplace=True)\n",
      "        )\n",
      "        (1): SPPBottleneck(\n",
      "          (conv1): BaseConv(\n",
      "            (conv): Conv2d(512, 256, kernel_size=(1, 1), stride=(1, 1), bias=False)\n",
      "            (bn): BatchNorm2d(256, eps=0.001, momentum=0.03, affine=True, track_running_stats=True)\n",
      "            (act): SiLU(inplace=True)\n",
      "          )\n",
      "          (m): ModuleList(\n",
      "            (0): MaxPool2d(kernel_size=5, stride=1, padding=2, dilation=1, ceil_mode=False)\n",
      "            (1): MaxPool2d(kernel_size=9, stride=1, padding=4, dilation=1, ceil_mode=False)\n",
      "            (2): MaxPool2d(kernel_size=13, stride=1, padding=6, dilation=1, ceil_mode=False)\n",
      "          )\n",
      "          (conv2): BaseConv(\n",
      "            (conv): Conv2d(1024, 512, kernel_size=(1, 1), stride=(1, 1), bias=False)\n",
      "            (bn): BatchNorm2d(512, eps=0.001, momentum=0.03, affine=True, track_running_stats=True)\n",
      "            (act): SiLU(inplace=True)\n",
      "          )\n",
      "        )\n",
      "        (2): CSPLayer(\n",
      "          (conv1): BaseConv(\n",
      "            (conv): Conv2d(512, 256, kernel_size=(1, 1), stride=(1, 1), bias=False)\n",
      "            (bn): BatchNorm2d(256, eps=0.001, momentum=0.03, affine=True, track_running_stats=True)\n",
      "            (act): SiLU(inplace=True)\n",
      "          )\n",
      "          (conv2): BaseConv(\n",
      "            (conv): Conv2d(512, 256, kernel_size=(1, 1), stride=(1, 1), bias=False)\n",
      "            (bn): BatchNorm2d(256, eps=0.001, momentum=0.03, affine=True, track_running_stats=True)\n",
      "            (act): SiLU(inplace=True)\n",
      "          )\n",
      "          (conv3): BaseConv(\n",
      "            (conv): Conv2d(512, 512, kernel_size=(1, 1), stride=(1, 1), bias=False)\n",
      "            (bn): BatchNorm2d(512, eps=0.001, momentum=0.03, affine=True, track_running_stats=True)\n",
      "            (act): SiLU(inplace=True)\n",
      "          )\n",
      "          (m): Sequential(\n",
      "            (0): Bottleneck(\n",
      "              (conv1): BaseConv(\n",
      "                (conv): Conv2d(256, 256, kernel_size=(1, 1), stride=(1, 1), bias=False)\n",
      "                (bn): BatchNorm2d(256, eps=0.001, momentum=0.03, affine=True, track_running_stats=True)\n",
      "                (act): SiLU(inplace=True)\n",
      "              )\n",
      "              (conv2): BaseConv(\n",
      "                (conv): Conv2d(256, 256, kernel_size=(3, 3), stride=(1, 1), padding=(1, 1), bias=False)\n",
      "                (bn): BatchNorm2d(256, eps=0.001, momentum=0.03, affine=True, track_running_stats=True)\n",
      "                (act): SiLU(inplace=True)\n",
      "              )\n",
      "            )\n",
      "          )\n",
      "        )\n",
      "      )\n",
      "    )\n",
      "    (upsample): Upsample(scale_factor=2.0, mode='nearest')\n",
      "    (lateral_conv0): BaseConv(\n",
      "      (conv): Conv2d(512, 256, kernel_size=(1, 1), stride=(1, 1), bias=False)\n",
      "      (bn): BatchNorm2d(256, eps=0.001, momentum=0.03, affine=True, track_running_stats=True)\n",
      "      (act): SiLU(inplace=True)\n",
      "    )\n",
      "    (C3_p4): CSPLayer(\n",
      "      (conv1): BaseConv(\n",
      "        (conv): Conv2d(512, 128, kernel_size=(1, 1), stride=(1, 1), bias=False)\n",
      "        (bn): BatchNorm2d(128, eps=0.001, momentum=0.03, affine=True, track_running_stats=True)\n",
      "        (act): SiLU(inplace=True)\n",
      "      )\n",
      "      (conv2): BaseConv(\n",
      "        (conv): Conv2d(512, 128, kernel_size=(1, 1), stride=(1, 1), bias=False)\n",
      "        (bn): BatchNorm2d(128, eps=0.001, momentum=0.03, affine=True, track_running_stats=True)\n",
      "        (act): SiLU(inplace=True)\n",
      "      )\n",
      "      (conv3): BaseConv(\n",
      "        (conv): Conv2d(256, 256, kernel_size=(1, 1), stride=(1, 1), bias=False)\n",
      "        (bn): BatchNorm2d(256, eps=0.001, momentum=0.03, affine=True, track_running_stats=True)\n",
      "        (act): SiLU(inplace=True)\n",
      "      )\n",
      "      (m): Sequential(\n",
      "        (0): Bottleneck(\n",
      "          (conv1): BaseConv(\n",
      "            (conv): Conv2d(128, 128, kernel_size=(1, 1), stride=(1, 1), bias=False)\n",
      "            (bn): BatchNorm2d(128, eps=0.001, momentum=0.03, affine=True, track_running_stats=True)\n",
      "            (act): SiLU(inplace=True)\n",
      "          )\n",
      "          (conv2): BaseConv(\n",
      "            (conv): Conv2d(128, 128, kernel_size=(3, 3), stride=(1, 1), padding=(1, 1), bias=False)\n",
      "            (bn): BatchNorm2d(128, eps=0.001, momentum=0.03, affine=True, track_running_stats=True)\n",
      "            (act): SiLU(inplace=True)\n",
      "          )\n",
      "        )\n",
      "      )\n",
      "    )\n",
      "    (reduce_conv1): BaseConv(\n",
      "      (conv): Conv2d(256, 128, kernel_size=(1, 1), stride=(1, 1), bias=False)\n",
      "      (bn): BatchNorm2d(128, eps=0.001, momentum=0.03, affine=True, track_running_stats=True)\n",
      "      (act): SiLU(inplace=True)\n",
      "    )\n",
      "    (C3_p3): CSPLayer(\n",
      "      (conv1): BaseConv(\n",
      "        (conv): Conv2d(256, 64, kernel_size=(1, 1), stride=(1, 1), bias=False)\n",
      "        (bn): BatchNorm2d(64, eps=0.001, momentum=0.03, affine=True, track_running_stats=True)\n",
      "        (act): SiLU(inplace=True)\n",
      "      )\n",
      "      (conv2): BaseConv(\n",
      "        (conv): Conv2d(256, 64, kernel_size=(1, 1), stride=(1, 1), bias=False)\n",
      "        (bn): BatchNorm2d(64, eps=0.001, momentum=0.03, affine=True, track_running_stats=True)\n",
      "        (act): SiLU(inplace=True)\n",
      "      )\n",
      "      (conv3): BaseConv(\n",
      "        (conv): Conv2d(128, 128, kernel_size=(1, 1), stride=(1, 1), bias=False)\n",
      "        (bn): BatchNorm2d(128, eps=0.001, momentum=0.03, affine=True, track_running_stats=True)\n",
      "        (act): SiLU(inplace=True)\n",
      "      )\n",
      "      (m): Sequential(\n",
      "        (0): Bottleneck(\n",
      "          (conv1): BaseConv(\n",
      "            (conv): Conv2d(64, 64, kernel_size=(1, 1), stride=(1, 1), bias=False)\n",
      "            (bn): BatchNorm2d(64, eps=0.001, momentum=0.03, affine=True, track_running_stats=True)\n",
      "            (act): SiLU(inplace=True)\n",
      "          )\n",
      "          (conv2): BaseConv(\n",
      "            (conv): Conv2d(64, 64, kernel_size=(3, 3), stride=(1, 1), padding=(1, 1), bias=False)\n",
      "            (bn): BatchNorm2d(64, eps=0.001, momentum=0.03, affine=True, track_running_stats=True)\n",
      "            (act): SiLU(inplace=True)\n",
      "          )\n",
      "        )\n",
      "      )\n",
      "    )\n",
      "    (bu_conv2): BaseConv(\n",
      "      (conv): Conv2d(128, 128, kernel_size=(3, 3), stride=(2, 2), padding=(1, 1), bias=False)\n",
      "      (bn): BatchNorm2d(128, eps=0.001, momentum=0.03, affine=True, track_running_stats=True)\n",
      "      (act): SiLU(inplace=True)\n",
      "    )\n",
      "    (C3_n3): CSPLayer(\n",
      "      (conv1): BaseConv(\n",
      "        (conv): Conv2d(256, 128, kernel_size=(1, 1), stride=(1, 1), bias=False)\n",
      "        (bn): BatchNorm2d(128, eps=0.001, momentum=0.03, affine=True, track_running_stats=True)\n",
      "        (act): SiLU(inplace=True)\n",
      "      )\n",
      "      (conv2): BaseConv(\n",
      "        (conv): Conv2d(256, 128, kernel_size=(1, 1), stride=(1, 1), bias=False)\n",
      "        (bn): BatchNorm2d(128, eps=0.001, momentum=0.03, affine=True, track_running_stats=True)\n",
      "        (act): SiLU(inplace=True)\n",
      "      )\n",
      "      (conv3): BaseConv(\n",
      "        (conv): Conv2d(256, 256, kernel_size=(1, 1), stride=(1, 1), bias=False)\n",
      "        (bn): BatchNorm2d(256, eps=0.001, momentum=0.03, affine=True, track_running_stats=True)\n",
      "        (act): SiLU(inplace=True)\n",
      "      )\n",
      "      (m): Sequential(\n",
      "        (0): Bottleneck(\n",
      "          (conv1): BaseConv(\n",
      "            (conv): Conv2d(128, 128, kernel_size=(1, 1), stride=(1, 1), bias=False)\n",
      "            (bn): BatchNorm2d(128, eps=0.001, momentum=0.03, affine=True, track_running_stats=True)\n",
      "            (act): SiLU(inplace=True)\n",
      "          )\n",
      "          (conv2): BaseConv(\n",
      "            (conv): Conv2d(128, 128, kernel_size=(3, 3), stride=(1, 1), padding=(1, 1), bias=False)\n",
      "            (bn): BatchNorm2d(128, eps=0.001, momentum=0.03, affine=True, track_running_stats=True)\n",
      "            (act): SiLU(inplace=True)\n",
      "          )\n",
      "        )\n",
      "      )\n",
      "    )\n",
      "    (bu_conv1): BaseConv(\n",
      "      (conv): Conv2d(256, 256, kernel_size=(3, 3), stride=(2, 2), padding=(1, 1), bias=False)\n",
      "      (bn): BatchNorm2d(256, eps=0.001, momentum=0.03, affine=True, track_running_stats=True)\n",
      "      (act): SiLU(inplace=True)\n",
      "    )\n",
      "    (C3_n4): CSPLayer(\n",
      "      (conv1): BaseConv(\n",
      "        (conv): Conv2d(512, 256, kernel_size=(1, 1), stride=(1, 1), bias=False)\n",
      "        (bn): BatchNorm2d(256, eps=0.001, momentum=0.03, affine=True, track_running_stats=True)\n",
      "        (act): SiLU(inplace=True)\n",
      "      )\n",
      "      (conv2): BaseConv(\n",
      "        (conv): Conv2d(512, 256, kernel_size=(1, 1), stride=(1, 1), bias=False)\n",
      "        (bn): BatchNorm2d(256, eps=0.001, momentum=0.03, affine=True, track_running_stats=True)\n",
      "        (act): SiLU(inplace=True)\n",
      "      )\n",
      "      (conv3): BaseConv(\n",
      "        (conv): Conv2d(512, 512, kernel_size=(1, 1), stride=(1, 1), bias=False)\n",
      "        (bn): BatchNorm2d(512, eps=0.001, momentum=0.03, affine=True, track_running_stats=True)\n",
      "        (act): SiLU(inplace=True)\n",
      "      )\n",
      "      (m): Sequential(\n",
      "        (0): Bottleneck(\n",
      "          (conv1): BaseConv(\n",
      "            (conv): Conv2d(256, 256, kernel_size=(1, 1), stride=(1, 1), bias=False)\n",
      "            (bn): BatchNorm2d(256, eps=0.001, momentum=0.03, affine=True, track_running_stats=True)\n",
      "            (act): SiLU(inplace=True)\n",
      "          )\n",
      "          (conv2): BaseConv(\n",
      "            (conv): Conv2d(256, 256, kernel_size=(3, 3), stride=(1, 1), padding=(1, 1), bias=False)\n",
      "            (bn): BatchNorm2d(256, eps=0.001, momentum=0.03, affine=True, track_running_stats=True)\n",
      "            (act): SiLU(inplace=True)\n",
      "          )\n",
      "        )\n",
      "      )\n",
      "    )\n",
      "  )\n",
      "  (head): YOLOXHead(\n",
      "    (cls_convs): ModuleList(\n",
      "      (0-2): 3 x Sequential(\n",
      "        (0): BaseConv(\n",
      "          (conv): Conv2d(128, 128, kernel_size=(3, 3), stride=(1, 1), padding=(1, 1), bias=False)\n",
      "          (bn): BatchNorm2d(128, eps=0.001, momentum=0.03, affine=True, track_running_stats=True)\n",
      "          (act): SiLU(inplace=True)\n",
      "        )\n",
      "        (1): BaseConv(\n",
      "          (conv): Conv2d(128, 128, kernel_size=(3, 3), stride=(1, 1), padding=(1, 1), bias=False)\n",
      "          (bn): BatchNorm2d(128, eps=0.001, momentum=0.03, affine=True, track_running_stats=True)\n",
      "          (act): SiLU(inplace=True)\n",
      "        )\n",
      "      )\n",
      "    )\n",
      "    (reg_convs): ModuleList(\n",
      "      (0-2): 3 x Sequential(\n",
      "        (0): BaseConv(\n",
      "          (conv): Conv2d(128, 128, kernel_size=(3, 3), stride=(1, 1), padding=(1, 1), bias=False)\n",
      "          (bn): BatchNorm2d(128, eps=0.001, momentum=0.03, affine=True, track_running_stats=True)\n",
      "          (act): SiLU(inplace=True)\n",
      "        )\n",
      "        (1): BaseConv(\n",
      "          (conv): Conv2d(128, 128, kernel_size=(3, 3), stride=(1, 1), padding=(1, 1), bias=False)\n",
      "          (bn): BatchNorm2d(128, eps=0.001, momentum=0.03, affine=True, track_running_stats=True)\n",
      "          (act): SiLU(inplace=True)\n",
      "        )\n",
      "      )\n",
      "    )\n",
      "    (cls_preds): ModuleList(\n",
      "      (0-2): 3 x Conv2d(128, 80, kernel_size=(1, 1), stride=(1, 1))\n",
      "    )\n",
      "    (reg_preds): ModuleList(\n",
      "      (0-2): 3 x Conv2d(128, 4, kernel_size=(1, 1), stride=(1, 1))\n",
      "    )\n",
      "    (obj_preds): ModuleList(\n",
      "      (0-2): 3 x Conv2d(128, 1, kernel_size=(1, 1), stride=(1, 1))\n",
      "    )\n",
      "    (stems): ModuleList(\n",
      "      (0): BaseConv(\n",
      "        (conv): Conv2d(128, 128, kernel_size=(1, 1), stride=(1, 1), bias=False)\n",
      "        (bn): BatchNorm2d(128, eps=0.001, momentum=0.03, affine=True, track_running_stats=True)\n",
      "        (act): SiLU(inplace=True)\n",
      "      )\n",
      "      (1): BaseConv(\n",
      "        (conv): Conv2d(256, 128, kernel_size=(1, 1), stride=(1, 1), bias=False)\n",
      "        (bn): BatchNorm2d(128, eps=0.001, momentum=0.03, affine=True, track_running_stats=True)\n",
      "        (act): SiLU(inplace=True)\n",
      "      )\n",
      "      (2): BaseConv(\n",
      "        (conv): Conv2d(512, 128, kernel_size=(1, 1), stride=(1, 1), bias=False)\n",
      "        (bn): BatchNorm2d(128, eps=0.001, momentum=0.03, affine=True, track_running_stats=True)\n",
      "        (act): SiLU(inplace=True)\n",
      "      )\n",
      "    )\n",
      "    (l1_loss): L1Loss()\n",
      "    (bcewithlog_loss): BCEWithLogitsLoss()\n",
      "    (iou_loss): IOUloss()\n",
      "  )\n",
      ")\n",
      "2024-08-29 11:22:48 | INFO     | yolox.core.trainer:219 - ---> start train epoch 1\n"
     ]
    },
    {
     "name": "stdout",
     "output_type": "stream",
     "text": [
      "2024-08-29 11:22:49.000784:  191323  INFO ||NEURON_CACHE||: Compile cache path: ./compiler_cache\n",
      "2024-08-29 11:22:49.000785:  191323  INFO ||NEURON_CC_WRAPPER||: Using a cached neff at /home/ubuntu/neuron-adoption/compiler_cache/neuronxcc-2.14.227.0+2d4f85be/MODULE_1063321486754228937+6d464acc/model.neff. Exiting with a successfully compiled graph.\n",
      "XXXXXXXXXXXXXXXXXXXXXXXXXX batch_idx = 0\n",
      "XXXXXXXXXXXXXXXXXXXXXXXXXX num_gt = 17\n",
      "2024-08-29 11:22:49.000791:  191323  INFO ||NEURON_CACHE||: Compile cache path: ./compiler_cache\n",
      "2024-08-29 11:22:49.000792:  191323  INFO ||NEURON_CC_WRAPPER||: Call compiler with cmd: neuronx-cc compile --target=trn1 --framework=XLA /tmp/ubuntu/neuroncc_compile_workdir/670eb2ea-2fa4-4a62-97c1-702dc1bacec4/model.MODULE_13284607353104428545+6d464acc.hlo_module.pb --output /tmp/ubuntu/neuroncc_compile_workdir/670eb2ea-2fa4-4a62-97c1-702dc1bacec4/model.MODULE_13284607353104428545+6d464acc.neff --model-type=cnn-training --target=trn1 --framework=XLA --verbose=35\n",
      ".\n",
      "Compiler status PASS\n",
      "XXXXXXXXXXXXXXXXXXXXXXXXXX gt_bboxes_per_image = tensor([[225.2677, 539.3143, 140.5572, 201.3713],\n",
      "        [ 71.9119, 442.2927,   9.4614, 289.1721],\n",
      "        [254.2194, 602.4172,  52.9908,  63.3405],\n",
      "        [302.2724, 466.8449, 229.0353, 105.8657],\n",
      "        [145.7924, 466.6375,  46.6579,  14.1984],\n",
      "        [ 44.3405, 247.1848,  24.8551,  53.1881],\n",
      "        [ 68.9776, 248.3015,  21.8666,  49.4231],\n",
      "        [300.6292, 311.2743,  30.5877,  47.4237],\n",
      "        [380.6879, 539.5432, 187.5356, 200.9137],\n",
      "        [163.3676, 504.4786,  39.1173,  70.7154],\n",
      "        [473.4507, 502.1707,  44.5308,  45.5731],\n",
      "        [132.4608, 513.0455,  24.4616,  39.3088],\n",
      "        [454.4184, 452.6412,  16.7190,  12.4967],\n",
      "        [ 64.5798, 444.9518,  28.2798,  18.5377],\n",
      "        [111.8333, 466.6322,  22.2175,  22.2282],\n",
      "        [150.4295, 317.6981,  23.0897,  46.1687],\n",
      "        [110.1157, 489.5730,  60.9201,  30.9706]], device='xla:0')\n",
      "2024-08-29 11:22:51.000285:  191323  INFO ||NEURON_CACHE||: Compile cache path: ./compiler_cache\n",
      "2024-08-29 11:22:51.000286:  191323  INFO ||NEURON_CC_WRAPPER||: Call compiler with cmd: neuronx-cc compile --target=trn1 --framework=XLA /tmp/ubuntu/neuroncc_compile_workdir/18464e3b-9029-4d03-87e9-7ceb4c349e87/model.MODULE_17117849156995698516+6d464acc.hlo_module.pb --output /tmp/ubuntu/neuroncc_compile_workdir/18464e3b-9029-4d03-87e9-7ceb4c349e87/model.MODULE_17117849156995698516+6d464acc.neff --model-type=cnn-training --target=trn1 --framework=XLA --verbose=35\n",
      ".\n",
      "Compiler status PASS\n",
      "XXXXXXXXXXXXXXXXXXXXXXXXXX gt_classes = tensor([ 0.,  0., 35., 25., 25.,  9.,  9.,  9.,  0.,  0.,  1.,  1.,  9.,  9.,\n",
      "         9.,  9.,  2.], device='xla:0')\n",
      "2024-08-29 11:22:52.000821:  191323  INFO ||NEURON_CACHE||: Compile cache path: ./compiler_cache\n",
      "2024-08-29 11:22:52.000836:  191323  INFO ||NEURON_CC_WRAPPER||: Using a cached neff at /home/ubuntu/neuron-adoption/compiler_cache/neuronxcc-2.14.227.0+2d4f85be/MODULE_6154945732678565767+6d464acc/model.neff. Exiting with a successfully compiled graph.\n",
      "XXXXXXXXXXXXXXXXXXXXXXXXXX bboxes_preds_per_image = tensor([[-8.2941e-02,  3.7651e-01,  7.8475e+00,  8.5250e+00],\n",
      "        [ 7.3928e+00,  6.4592e-01,  8.0410e+00,  8.6250e+00],\n",
      "        [ 1.6118e+01,  7.0139e-01,  7.7536e+00,  8.9067e+00],\n",
      "        ...,\n",
      "        [ 5.4219e+02,  6.0788e+02,  3.3804e+01,  2.7408e+01],\n",
      "        [ 5.7778e+02,  6.0611e+02,  3.7447e+01,  2.7042e+01],\n",
      "        [ 6.0777e+02,  6.0537e+02,  4.0552e+01,  2.7816e+01]], device='xla:0',\n",
      "       grad_fn=<SelectBackward0>)\n",
      "2024-08-29 11:22:53.000019:  191323  INFO ||NEURON_CACHE||: Compile cache path: ./compiler_cache\n",
      "2024-08-29 11:22:53.000035:  191323  INFO ||NEURON_CC_WRAPPER||: Using a cached neff at /home/ubuntu/neuron-adoption/compiler_cache/neuronxcc-2.14.227.0+2d4f85be/MODULE_4053348082200220564+6d464acc/model.neff. Exiting with a successfully compiled graph.\n",
      "XXXXXXXXXXXXXXXXXXXXXXXXXX cls_preds = tensor([[[-4.6452, -4.5346, -4.5947,  ..., -4.5804, -4.5016, -4.5920],\n",
      "         [-4.6573, -4.4812, -4.6255,  ..., -4.5553, -4.5489, -4.5863],\n",
      "         [-4.7155, -4.6109, -4.5784,  ..., -4.5801, -4.5512, -4.5940],\n",
      "         ...,\n",
      "         [-4.3746, -4.7404, -4.4958,  ..., -4.4745, -4.5982, -4.4411],\n",
      "         [-4.5762, -4.7844, -4.4781,  ..., -4.5280, -4.6485, -4.4785],\n",
      "         [-4.5194, -4.5958, -4.5529,  ..., -4.4733, -4.4831, -4.5024]],\n",
      "\n",
      "        [[-4.6747, -4.5665, -4.5262,  ..., -4.5433, -4.4929, -4.6300],\n",
      "         [-4.6832, -4.6133, -4.7096,  ..., -4.4744, -4.4849, -4.6913],\n",
      "         [-4.4992, -4.6651, -4.6580,  ..., -4.4857, -4.3946, -4.8310],\n",
      "         ...,\n",
      "         [-4.5580, -4.7139, -4.4899,  ..., -4.4666, -4.4880, -4.4837],\n",
      "         [-4.5448, -4.7161, -4.5317,  ..., -4.5199, -4.5309, -4.4798],\n",
      "         [-4.5058, -4.7210, -4.4749,  ..., -4.5610, -4.4821, -4.4666]]],\n",
      "       device='xla:0', grad_fn=<SliceBackward0>)\n",
      "2024-08-29 11:22:53.000243:  191323  INFO ||NEURON_CACHE||: Compile cache path: ./compiler_cache\n",
      "2024-08-29 11:22:53.000258:  191323  INFO ||NEURON_CC_WRAPPER||: Using a cached neff at /home/ubuntu/neuron-adoption/compiler_cache/neuronxcc-2.14.227.0+2d4f85be/MODULE_15609649136708605030+6d464acc/model.neff. Exiting with a successfully compiled graph.\n",
      "XXXXXXXXXXXXXXXXXXXXXXXXXX obj_preds = tensor([[[-4.6091],\n",
      "         [-4.6626],\n",
      "         [-4.6959],\n",
      "         ...,\n",
      "         [-4.4312],\n",
      "         [-4.5643],\n",
      "         [-4.5622]],\n",
      "\n",
      "        [[-4.6867],\n",
      "         [-4.8031],\n",
      "         [-4.5424],\n",
      "         ...,\n",
      "         [-4.5497],\n",
      "         [-4.5513],\n",
      "         [-4.6166]]], device='xla:0', grad_fn=<SliceBackward0>)\n",
      "2024-08-29 11:22:53.000394:  191323  INFO ||NEURON_CACHE||: Compile cache path: ./compiler_cache\n",
      "2024-08-29 11:22:53.000395:  191323  INFO ||NEURON_CC_WRAPPER||: Call compiler with cmd: neuronx-cc compile --target=trn1 --framework=XLA /tmp/ubuntu/neuroncc_compile_workdir/2b8bed23-fce3-4db2-bd9e-e66748b9d0a6/model.MODULE_14942131916128377241+6d464acc.hlo_module.pb --output /tmp/ubuntu/neuroncc_compile_workdir/2b8bed23-fce3-4db2-bd9e-e66748b9d0a6/model.MODULE_14942131916128377241+6d464acc.neff --model-type=cnn-training --target=trn1 --framework=XLA --verbose=35\n",
      ".\n",
      "Compiler status PASS\n",
      "XXXXXXXXXXXXXXXXXXXXXXXXXXXXXX TL Type = torch.xla.FloatTensor\n",
      "XXXXXXXXXXXXXXXXXXXXXXXXXXXXXX BR Type = torch.xla.FloatTensor\n",
      "XXXXXXXXXXXXXXXXXXXXXXXXXXXXXX output_size = torch.xla.BoolTensor\n",
      "XXXXXXXXXXXXXXXXXXXXXXXXXX GT_CLASSES = tensor([ 0.,  0., 35., 25., 25.,  9.,  9.,  9.,  0.,  0.,  1.,  1.,  9.,  9.,\n",
      "         9.,  9.,  2.], device='xla:0')\n",
      "2024-08-29 11:22:55.000706:  191323  INFO ||NEURON_CACHE||: Compile cache path: ./compiler_cache\n",
      "2024-08-29 11:22:55.000707:  191323  INFO ||NEURON_CC_WRAPPER||: Call compiler with cmd: neuronx-cc compile --target=trn1 --framework=XLA /tmp/ubuntu/neuroncc_compile_workdir/c283d8cf-8e3d-4eef-af07-2f2bd8f87a95/model.MODULE_1650863953707014544+6d464acc.hlo_module.pb --output /tmp/ubuntu/neuroncc_compile_workdir/c283d8cf-8e3d-4eef-af07-2f2bd8f87a95/model.MODULE_1650863953707014544+6d464acc.neff --model-type=cnn-training --target=trn1 --framework=XLA --verbose=35\n",
      ".\n",
      "Compiler status PASS\n",
      "XXXXXXXXXXXXXXXXXXXXXXXXXX GT_CLASSES.norm() = 55.20869827270508\n",
      "2024-08-29 11:22:57.000209:  191323  INFO ||NEURON_CACHE||: Compile cache path: ./compiler_cache\n",
      "2024-08-29 11:22:57.000210:  191323  INFO ||NEURON_CC_WRAPPER||: Call compiler with cmd: neuronx-cc compile --target=trn1 --framework=XLA /tmp/ubuntu/neuroncc_compile_workdir/7b8b7326-76f1-4f31-a9f9-dd508f1c7410/model.MODULE_6024269679792506487+6d464acc.hlo_module.pb --output /tmp/ubuntu/neuroncc_compile_workdir/7b8b7326-76f1-4f31-a9f9-dd508f1c7410/model.MODULE_6024269679792506487+6d464acc.neff --model-type=cnn-training --target=trn1 --framework=XLA --verbose=35\n",
      ".\n",
      "Compiler status PASS\n",
      "XXXXXXXXXXXXXXXXXXXXXXXXXX Class values norm: 55.20869827270508, max: 35.0\n",
      "XXXXXXXXXXXXXXXXXXXXXXXXXX GT_CLASSES.max() = 35.0\n",
      "XXXXXXXXXXXXXXXXXXXXXXXXXX GT_CLASSES_SHAPE = torch.Size([17])\n",
      "XXXXXXXXXXXXXXXXXXXXXXXXXX NUM_CLASSES = 80\n",
      "XXXXXXXXXXXXXXXXXXXXXXXXXX DTYPE = torch.float32\n",
      "2024-08-29 11:22:58.000697:  191323  INFO ||NEURON_CACHE||: Compile cache path: ./compiler_cache\n",
      "2024-08-29 11:22:58.000698:  191323  INFO ||NEURON_CC_WRAPPER||: Call compiler with cmd: neuronx-cc compile --target=trn1 --framework=XLA /tmp/ubuntu/neuroncc_compile_workdir/d3da1f4b-408f-4f13-bddf-b1490d94b1ad/model.MODULE_15902040264060758747+6d464acc.hlo_module.pb --output /tmp/ubuntu/neuroncc_compile_workdir/d3da1f4b-408f-4f13-bddf-b1490d94b1ad/model.MODULE_15902040264060758747+6d464acc.neff --model-type=cnn-training --target=trn1 --framework=XLA --verbose=35\n",
      ".\n",
      "Compiler status PASS\n",
      "2024-08-29 11:23:00.000252:  191323  INFO ||NEURON_CACHE||: Compile cache path: ./compiler_cache\n",
      "2024-08-29 11:23:00.000253:  191323  INFO ||NEURON_CC_WRAPPER||: Call compiler with cmd: neuronx-cc compile --target=trn1 --framework=XLA /tmp/ubuntu/neuroncc_compile_workdir/4b71d9d7-1ad5-4caa-b666-47aab89e22ab/model.MODULE_17436510500866707538+6d464acc.hlo_module.pb --output /tmp/ubuntu/neuroncc_compile_workdir/4b71d9d7-1ad5-4caa-b666-47aab89e22ab/model.MODULE_17436510500866707538+6d464acc.neff --model-type=cnn-training --target=trn1 --framework=XLA --verbose=35\n",
      ".\n",
      "Compiler status PASS\n",
      "2024-08-29 11:23:01.000790:  191323  INFO ||NEURON_CACHE||: Compile cache path: ./compiler_cache\n",
      "2024-08-29 11:23:01.000791:  191323  INFO ||NEURON_CC_WRAPPER||: Call compiler with cmd: neuronx-cc compile --target=trn1 --framework=XLA /tmp/ubuntu/neuroncc_compile_workdir/55af5805-faed-4ea3-b23e-ee83a7dc2ba5/model.MODULE_6679376776446140047+6d464acc.hlo_module.pb --output /tmp/ubuntu/neuroncc_compile_workdir/55af5805-faed-4ea3-b23e-ee83a7dc2ba5/model.MODULE_6679376776446140047+6d464acc.neff --model-type=cnn-training --target=trn1 --framework=XLA --verbose=35\n",
      ".\n",
      "Compiler status PASS\n",
      "XXXXXXXXXXXXXXXXX gt_cls_per_image = tensor([[1., 0., 0.,  ..., 0., 0., 0.],\n",
      "        [1., 0., 0.,  ..., 0., 0., 0.],\n",
      "        [0., 0., 0.,  ..., 0., 0., 0.],\n",
      "        ...,\n",
      "        [0., 0., 0.,  ..., 0., 0., 0.],\n",
      "        [0., 0., 0.,  ..., 0., 0., 0.],\n",
      "        [0., 0., 1.,  ..., 0., 0., 0.]], device='xla:0') , SIZE = torch.Size([17, 80])\n",
      "2024-08-29 11:23:03.000320:  191323  INFO ||NEURON_CACHE||: Compile cache path: ./compiler_cache\n",
      "2024-08-29 11:23:03.000321:  191323  INFO ||NEURON_CC_WRAPPER||: Call compiler with cmd: neuronx-cc compile --target=trn1 --framework=XLA /tmp/ubuntu/neuroncc_compile_workdir/904b90d0-a1b9-4686-8dd2-bc035f36d395/model.MODULE_18369182949532740853+6d464acc.hlo_module.pb --output /tmp/ubuntu/neuroncc_compile_workdir/904b90d0-a1b9-4686-8dd2-bc035f36d395/model.MODULE_18369182949532740853+6d464acc.neff --model-type=cnn-training --target=trn1 --framework=XLA --verbose=35\n",
      ".\n",
      "Compiler status PASS\n",
      "2024-08-29 11:23:05.000679:  191323  INFO ||NEURON_CACHE||: Compile cache path: ./compiler_cache\n",
      "2024-08-29 11:23:05.000680:  191323  INFO ||NEURON_CC_WRAPPER||: Call compiler with cmd: neuronx-cc compile --target=trn1 --framework=XLA /tmp/ubuntu/neuroncc_compile_workdir/a9843fc3-cfbd-491b-a431-d92ad4a85630/model.MODULE_5605247227720634905+6d464acc.hlo_module.pb --output /tmp/ubuntu/neuroncc_compile_workdir/a9843fc3-cfbd-491b-a431-d92ad4a85630/model.MODULE_5605247227720634905+6d464acc.neff --model-type=cnn-training --target=trn1 --framework=XLA --verbose=35\n",
      ".\n",
      "Compiler status PASS\n",
      "2024-08-29 11:23:08.000067:  191323  INFO ||NEURON_CACHE||: Compile cache path: ./compiler_cache\n",
      "2024-08-29 11:23:08.000068:  191323  INFO ||NEURON_CC_WRAPPER||: Call compiler with cmd: neuronx-cc compile --target=trn1 --framework=XLA /tmp/ubuntu/neuroncc_compile_workdir/6c6a9898-7dd1-497f-8315-c0cb23bb7df3/model.MODULE_10510222325112253925+6d464acc.hlo_module.pb --output /tmp/ubuntu/neuroncc_compile_workdir/6c6a9898-7dd1-497f-8315-c0cb23bb7df3/model.MODULE_10510222325112253925+6d464acc.neff --model-type=cnn-training --target=trn1 --framework=XLA --verbose=35\n",
      ".\n",
      "Compiler status PASS\n",
      "2024-08-29 11:23:10.000429:  191323  INFO ||NEURON_CACHE||: Compile cache path: ./compiler_cache\n",
      "2024-08-29 11:23:10.000430:  191323  INFO ||NEURON_CC_WRAPPER||: Call compiler with cmd: neuronx-cc compile --target=trn1 --framework=XLA /tmp/ubuntu/neuroncc_compile_workdir/4451450b-8636-4a02-942c-2c4d5e416833/model.MODULE_9379984194631755717+6d464acc.hlo_module.pb --output /tmp/ubuntu/neuroncc_compile_workdir/4451450b-8636-4a02-942c-2c4d5e416833/model.MODULE_9379984194631755717+6d464acc.neff --model-type=cnn-training --target=trn1 --framework=XLA --verbose=35\n",
      ".\n",
      "Compiler status PASS\n",
      "2024-08-29 11:23:12.000794:  191323  INFO ||NEURON_CACHE||: Compile cache path: ./compiler_cache\n",
      "2024-08-29 11:23:12.000795:  191323  INFO ||NEURON_CC_WRAPPER||: Call compiler with cmd: neuronx-cc compile --target=trn1 --framework=XLA /tmp/ubuntu/neuroncc_compile_workdir/d562c89d-9399-43ae-9a15-8e6e6b4abb14/model.MODULE_15982931861903316003+6d464acc.hlo_module.pb --output /tmp/ubuntu/neuroncc_compile_workdir/d562c89d-9399-43ae-9a15-8e6e6b4abb14/model.MODULE_15982931861903316003+6d464acc.neff --model-type=cnn-training --target=trn1 --framework=XLA --verbose=35\n",
      ".\n",
      "Compiler status PASS\n",
      "2024-08-29 11:23:15.000156:  191323  INFO ||NEURON_CACHE||: Compile cache path: ./compiler_cache\n",
      "2024-08-29 11:23:15.000157:  191323  INFO ||NEURON_CC_WRAPPER||: Call compiler with cmd: neuronx-cc compile --target=trn1 --framework=XLA /tmp/ubuntu/neuroncc_compile_workdir/ba703ecc-127a-4b6a-b202-1b39d7ca549c/model.MODULE_7801254560898066134+6d464acc.hlo_module.pb --output /tmp/ubuntu/neuroncc_compile_workdir/ba703ecc-127a-4b6a-b202-1b39d7ca549c/model.MODULE_7801254560898066134+6d464acc.neff --model-type=cnn-training --target=trn1 --framework=XLA --verbose=35\n",
      ".\n",
      "Compiler status PASS\n",
      "2024-08-29 11:23:17.000505:  191323  INFO ||NEURON_CACHE||: Compile cache path: ./compiler_cache\n",
      "2024-08-29 11:23:17.000506:  191323  INFO ||NEURON_CC_WRAPPER||: Call compiler with cmd: neuronx-cc compile --target=trn1 --framework=XLA /tmp/ubuntu/neuroncc_compile_workdir/f2165d5d-4872-4023-b1bd-7e55aa1c4f6e/model.MODULE_16125959044366930472+6d464acc.hlo_module.pb --output /tmp/ubuntu/neuroncc_compile_workdir/f2165d5d-4872-4023-b1bd-7e55aa1c4f6e/model.MODULE_16125959044366930472+6d464acc.neff --model-type=cnn-training --target=trn1 --framework=XLA --verbose=35\n",
      ".\n",
      "Compiler status PASS\n",
      "2024-08-29 11:23:19.000869:  191323  INFO ||NEURON_CACHE||: Compile cache path: ./compiler_cache\n",
      "2024-08-29 11:23:19.000870:  191323  INFO ||NEURON_CC_WRAPPER||: Call compiler with cmd: neuronx-cc compile --target=trn1 --framework=XLA /tmp/ubuntu/neuroncc_compile_workdir/56ae6358-7ff6-44fb-9684-db54515b8f6c/model.MODULE_17261696327402783503+6d464acc.hlo_module.pb --output /tmp/ubuntu/neuroncc_compile_workdir/56ae6358-7ff6-44fb-9684-db54515b8f6c/model.MODULE_17261696327402783503+6d464acc.neff --model-type=cnn-training --target=trn1 --framework=XLA --verbose=35\n",
      ".\n",
      "Compiler status PASS\n",
      "2024-08-29 11:23:22.000228:  191323  INFO ||NEURON_CACHE||: Compile cache path: ./compiler_cache\n",
      "2024-08-29 11:23:22.000229:  191323  INFO ||NEURON_CC_WRAPPER||: Call compiler with cmd: neuronx-cc compile --target=trn1 --framework=XLA /tmp/ubuntu/neuroncc_compile_workdir/669ed703-2f1e-49f7-9480-3783488aa48a/model.MODULE_651059847158613691+6d464acc.hlo_module.pb --output /tmp/ubuntu/neuroncc_compile_workdir/669ed703-2f1e-49f7-9480-3783488aa48a/model.MODULE_651059847158613691+6d464acc.neff --model-type=cnn-training --target=trn1 --framework=XLA --verbose=35\n",
      ".\n",
      "Compiler status PASS\n",
      "2024-08-29 11:23:24.000597:  191323  INFO ||NEURON_CACHE||: Compile cache path: ./compiler_cache\n",
      "2024-08-29 11:23:24.000598:  191323  INFO ||NEURON_CC_WRAPPER||: Call compiler with cmd: neuronx-cc compile --target=trn1 --framework=XLA /tmp/ubuntu/neuroncc_compile_workdir/bd5ea0d7-d598-4eb7-9470-1cfb5dc00b7c/model.MODULE_16501665155551989528+6d464acc.hlo_module.pb --output /tmp/ubuntu/neuroncc_compile_workdir/bd5ea0d7-d598-4eb7-9470-1cfb5dc00b7c/model.MODULE_16501665155551989528+6d464acc.neff --model-type=cnn-training --target=trn1 --framework=XLA --verbose=35\n",
      ".\n",
      "Compiler status PASS\n",
      "2024-08-29 11:23:26.000961:  191323  INFO ||NEURON_CACHE||: Compile cache path: ./compiler_cache\n",
      "2024-08-29 11:23:26.000962:  191323  INFO ||NEURON_CC_WRAPPER||: Call compiler with cmd: neuronx-cc compile --target=trn1 --framework=XLA /tmp/ubuntu/neuroncc_compile_workdir/68c03f22-fa4b-468d-98a2-18c7adf75320/model.MODULE_17340315626156162308+6d464acc.hlo_module.pb --output /tmp/ubuntu/neuroncc_compile_workdir/68c03f22-fa4b-468d-98a2-18c7adf75320/model.MODULE_17340315626156162308+6d464acc.neff --model-type=cnn-training --target=trn1 --framework=XLA --verbose=35\n",
      ".\n",
      "Compiler status PASS\n",
      "2024-08-29 11:23:29.000321:  191323  INFO ||NEURON_CACHE||: Compile cache path: ./compiler_cache\n",
      "2024-08-29 11:23:29.000322:  191323  INFO ||NEURON_CC_WRAPPER||: Call compiler with cmd: neuronx-cc compile --target=trn1 --framework=XLA /tmp/ubuntu/neuroncc_compile_workdir/c6c3ad0d-2089-41f0-95a0-1d8074ab8d28/model.MODULE_13688799650637201133+6d464acc.hlo_module.pb --output /tmp/ubuntu/neuroncc_compile_workdir/c6c3ad0d-2089-41f0-95a0-1d8074ab8d28/model.MODULE_13688799650637201133+6d464acc.neff --model-type=cnn-training --target=trn1 --framework=XLA --verbose=35\n",
      ".\n",
      "Compiler status PASS\n",
      "2024-08-29 11:23:31.000665:  191323  INFO ||NEURON_CACHE||: Compile cache path: ./compiler_cache\n",
      "2024-08-29 11:23:31.000666:  191323  INFO ||NEURON_CC_WRAPPER||: Call compiler with cmd: neuronx-cc compile --target=trn1 --framework=XLA /tmp/ubuntu/neuroncc_compile_workdir/06184843-cb76-4957-a0b9-06e3ee8bef04/model.MODULE_1501243460044304173+6d464acc.hlo_module.pb --output /tmp/ubuntu/neuroncc_compile_workdir/06184843-cb76-4957-a0b9-06e3ee8bef04/model.MODULE_1501243460044304173+6d464acc.neff --model-type=cnn-training --target=trn1 --framework=XLA --verbose=35\n",
      ".\n",
      "Compiler status PASS\n",
      "2024-08-29 11:23:34.000016:  191323  INFO ||NEURON_CACHE||: Compile cache path: ./compiler_cache\n",
      "2024-08-29 11:23:34.000017:  191323  INFO ||NEURON_CC_WRAPPER||: Call compiler with cmd: neuronx-cc compile --target=trn1 --framework=XLA /tmp/ubuntu/neuroncc_compile_workdir/44aec81f-32e0-4322-93ca-6b2a6a3e5a51/model.MODULE_1900566768244787335+6d464acc.hlo_module.pb --output /tmp/ubuntu/neuroncc_compile_workdir/44aec81f-32e0-4322-93ca-6b2a6a3e5a51/model.MODULE_1900566768244787335+6d464acc.neff --model-type=cnn-training --target=trn1 --framework=XLA --verbose=35\n",
      ".\n",
      "Compiler status PASS\n",
      "2024-08-29 11:23:36.000396:  191323  INFO ||NEURON_CACHE||: Compile cache path: ./compiler_cache\n",
      "2024-08-29 11:23:36.000397:  191323  INFO ||NEURON_CC_WRAPPER||: Call compiler with cmd: neuronx-cc compile --target=trn1 --framework=XLA /tmp/ubuntu/neuroncc_compile_workdir/2cac1eab-e7f0-4c52-b638-786f94ef76c2/model.MODULE_8805748672716716425+6d464acc.hlo_module.pb --output /tmp/ubuntu/neuroncc_compile_workdir/2cac1eab-e7f0-4c52-b638-786f94ef76c2/model.MODULE_8805748672716716425+6d464acc.neff --model-type=cnn-training --target=trn1 --framework=XLA --verbose=35\n",
      ".\n",
      "Compiler status PASS\n",
      "2024-08-29 11:23:38.000729:  191323  INFO ||NEURON_CACHE||: Compile cache path: ./compiler_cache\n",
      "2024-08-29 11:23:38.000730:  191323  INFO ||NEURON_CC_WRAPPER||: Call compiler with cmd: neuronx-cc compile --target=trn1 --framework=XLA /tmp/ubuntu/neuroncc_compile_workdir/038e970e-b657-4513-beb1-017b1a940c19/model.MODULE_3533263094056029446+6d464acc.hlo_module.pb --output /tmp/ubuntu/neuroncc_compile_workdir/038e970e-b657-4513-beb1-017b1a940c19/model.MODULE_3533263094056029446+6d464acc.neff --model-type=cnn-training --target=trn1 --framework=XLA --verbose=35\n",
      ".\n",
      "Compiler status PASS\n",
      "2024-08-29 11:23:41.000086:  191323  INFO ||NEURON_CACHE||: Compile cache path: ./compiler_cache\n",
      "2024-08-29 11:23:41.000087:  191323  INFO ||NEURON_CC_WRAPPER||: Call compiler with cmd: neuronx-cc compile --target=trn1 --framework=XLA /tmp/ubuntu/neuroncc_compile_workdir/48ff8d2b-f714-4022-80a6-eef6decefb85/model.MODULE_2918008588946762938+6d464acc.hlo_module.pb --output /tmp/ubuntu/neuroncc_compile_workdir/48ff8d2b-f714-4022-80a6-eef6decefb85/model.MODULE_2918008588946762938+6d464acc.neff --model-type=cnn-training --target=trn1 --framework=XLA --verbose=35\n",
      ".\n",
      "Compiler status PASS\n",
      "2024-08-29 11:23:43.000478:  191323  INFO ||NEURON_CACHE||: Compile cache path: ./compiler_cache\n",
      "2024-08-29 11:23:43.000479:  191323  INFO ||NEURON_CC_WRAPPER||: Call compiler with cmd: neuronx-cc compile --target=trn1 --framework=XLA /tmp/ubuntu/neuroncc_compile_workdir/9afc616a-a3e2-438b-927e-45ffce48da1e/model.MODULE_8891367138518527445+6d464acc.hlo_module.pb --output /tmp/ubuntu/neuroncc_compile_workdir/9afc616a-a3e2-438b-927e-45ffce48da1e/model.MODULE_8891367138518527445+6d464acc.neff --model-type=cnn-training --target=trn1 --framework=XLA --verbose=35\n",
      ".\n",
      "Compiler status PASS\n",
      "2024-08-29 11:23:52.000676:  191323  INFO ||NEURON_CACHE||: Compile cache path: ./compiler_cache\n",
      "2024-08-29 11:23:52.000677:  191323  INFO ||NEURON_CC_WRAPPER||: Call compiler with cmd: neuronx-cc compile --target=trn1 --framework=XLA /tmp/ubuntu/neuroncc_compile_workdir/7f47b531-4702-4be7-a34b-4563f651d3e0/model.MODULE_16662836809920359963+6d464acc.hlo_module.pb --output /tmp/ubuntu/neuroncc_compile_workdir/7f47b531-4702-4be7-a34b-4563f651d3e0/model.MODULE_16662836809920359963+6d464acc.neff --model-type=cnn-training --target=trn1 --framework=XLA --verbose=35\n",
      ".\n",
      "Compiler status PASS\n",
      "2024-08-29 11:24:01.000928:  191323  INFO ||NEURON_CACHE||: Compile cache path: ./compiler_cache\n",
      "2024-08-29 11:24:01.000929:  191323  INFO ||NEURON_CC_WRAPPER||: Call compiler with cmd: neuronx-cc compile --target=trn1 --framework=XLA /tmp/ubuntu/neuroncc_compile_workdir/62965765-baa6-448c-b6f1-66f4c1c47030/model.MODULE_12420875433508009898+6d464acc.hlo_module.pb --output /tmp/ubuntu/neuroncc_compile_workdir/62965765-baa6-448c-b6f1-66f4c1c47030/model.MODULE_12420875433508009898+6d464acc.neff --model-type=cnn-training --target=trn1 --framework=XLA --verbose=35\n",
      ".\n",
      "Compiler status PASS\n",
      "2024-08-29 11:24:11.000202:  191323  INFO ||NEURON_CACHE||: Compile cache path: ./compiler_cache\n",
      "2024-08-29 11:24:11.000203:  191323  INFO ||NEURON_CC_WRAPPER||: Call compiler with cmd: neuronx-cc compile --target=trn1 --framework=XLA /tmp/ubuntu/neuroncc_compile_workdir/f51f45b8-4fb7-4aaa-9f1a-745c8f77e3e3/model.MODULE_8318990020527218782+6d464acc.hlo_module.pb --output /tmp/ubuntu/neuroncc_compile_workdir/f51f45b8-4fb7-4aaa-9f1a-745c8f77e3e3/model.MODULE_8318990020527218782+6d464acc.neff --model-type=cnn-training --target=trn1 --framework=XLA --verbose=35\n",
      ".\n",
      "Compiler status PASS\n",
      "2024-08-29 11:24:20.000770:  191323  INFO ||NEURON_CACHE||: Compile cache path: ./compiler_cache\n",
      "2024-08-29 11:24:20.000771:  191323  INFO ||NEURON_CC_WRAPPER||: Call compiler with cmd: neuronx-cc compile --target=trn1 --framework=XLA /tmp/ubuntu/neuroncc_compile_workdir/22ce1f8c-6ac2-4d76-b5b1-04ae2bbc5508/model.MODULE_7538776235784962280+6d464acc.hlo_module.pb --output /tmp/ubuntu/neuroncc_compile_workdir/22ce1f8c-6ac2-4d76-b5b1-04ae2bbc5508/model.MODULE_7538776235784962280+6d464acc.neff --model-type=cnn-training --target=trn1 --framework=XLA --verbose=35\n",
      ".\n",
      "Compiler status PASS\n",
      "2024-08-29 11:24:30.000266:  191323  INFO ||NEURON_CACHE||: Compile cache path: ./compiler_cache\n",
      "2024-08-29 11:24:30.000267:  191323  INFO ||NEURON_CC_WRAPPER||: Using a cached neff at /home/ubuntu/neuron-adoption/compiler_cache/neuronxcc-2.14.227.0+2d4f85be/MODULE_10700863612710851880+6d464acc/model.neff. Exiting with a successfully compiled graph.\n",
      "XXXXXXXXXXXXXXXXXXXXXXXXXX batch_idx = 1\n",
      "XXXXXXXXXXXXXXXXXXXXXXXXXX num_gt = 13\n",
      "2024-08-29 11:24:30.000273:  191323  INFO ||NEURON_CACHE||: Compile cache path: ./compiler_cache\n",
      "2024-08-29 11:24:30.000274:  191323  INFO ||NEURON_CC_WRAPPER||: Call compiler with cmd: neuronx-cc compile --target=trn1 --framework=XLA /tmp/ubuntu/neuroncc_compile_workdir/d0a2f47f-97f1-45b8-bd4f-dbf1b73ab4e7/model.MODULE_9667555719762993222+6d464acc.hlo_module.pb --output /tmp/ubuntu/neuroncc_compile_workdir/d0a2f47f-97f1-45b8-bd4f-dbf1b73ab4e7/model.MODULE_9667555719762993222+6d464acc.neff --model-type=cnn-training --target=trn1 --framework=XLA --verbose=35\n",
      ".\n",
      "Compiler status PASS\n",
      "XXXXXXXXXXXXXXXXXXXXXXXXXX gt_bboxes_per_image = tensor([[337.1638, 369.3354, 442.7607, 190.1292],\n",
      "        [ 29.2354, 222.9006,  58.4708, 222.7189],\n",
      "        [ 34.8434, 206.8491,  13.7398,  21.8259],\n",
      "        [ 42.9441, 409.5395,  79.1920,  49.9170],\n",
      "        [342.7257, 615.2834, 391.9617,  49.4331],\n",
      "        [  7.3215, 586.4760,  14.6429, 107.0480],\n",
      "        [370.3084, 402.6175, 184.2678, 244.2995],\n",
      "        [480.4804, 213.6493, 138.7783, 163.9136],\n",
      "        [196.2178, 298.1395, 125.1675, 171.1537],\n",
      "        [161.6194, 176.2195, 252.3591, 151.0976],\n",
      "        [ 78.4145,  23.1385, 101.1250,  46.2771],\n",
      "        [219.8939, 280.2628,  55.8839, 156.7853],\n",
      "        [286.3212, 256.2452, 173.4139, 226.0565]], device='xla:0')\n",
      "2024-08-29 11:24:31.000752:  191323  INFO ||NEURON_CACHE||: Compile cache path: ./compiler_cache\n",
      "2024-08-29 11:24:31.000753:  191323  INFO ||NEURON_CC_WRAPPER||: Call compiler with cmd: neuronx-cc compile --target=trn1 --framework=XLA /tmp/ubuntu/neuroncc_compile_workdir/1a4d7423-6ba8-47eb-88a7-ead83c2d2229/model.MODULE_16788315670860895511+6d464acc.hlo_module.pb --output /tmp/ubuntu/neuroncc_compile_workdir/1a4d7423-6ba8-47eb-88a7-ead83c2d2229/model.MODULE_16788315670860895511+6d464acc.neff --model-type=cnn-training --target=trn1 --framework=XLA --verbose=35\n",
      ".\n",
      "Compiler status PASS\n",
      "XXXXXXXXXXXXXXXXXXXXXXXXXX gt_classes = tensor([46.,  0., 76., 78.,  7., 63., 50., 50., 50., 50., 44., 50., 50.],\n",
      "       device='xla:0')\n",
      "2024-08-29 11:24:33.000305:  191323  INFO ||NEURON_CACHE||: Compile cache path: ./compiler_cache\n",
      "2024-08-29 11:24:33.000321:  191323  INFO ||NEURON_CC_WRAPPER||: Using a cached neff at /home/ubuntu/neuron-adoption/compiler_cache/neuronxcc-2.14.227.0+2d4f85be/MODULE_5790633924184955946+6d464acc/model.neff. Exiting with a successfully compiled graph.\n",
      "XXXXXXXXXXXXXXXXXXXXXXXXXX bboxes_preds_per_image = tensor([[-3.0220e-01,  5.1895e-01,  7.2097e+00,  7.4913e+00],\n",
      "        [ 8.1199e+00, -1.2103e+00,  6.9665e+00,  9.5273e+00],\n",
      "        [ 1.6317e+01, -3.1300e-01,  7.3647e+00,  8.2983e+00],\n",
      "        ...,\n",
      "        [ 5.4176e+02,  6.0447e+02,  3.7535e+01,  2.7648e+01],\n",
      "        [ 5.7667e+02,  6.0492e+02,  3.6656e+01,  2.8555e+01],\n",
      "        [ 6.0751e+02,  6.0493e+02,  4.1281e+01,  2.8536e+01]], device='xla:0',\n",
      "       grad_fn=<SelectBackward0>)\n",
      "XXXXXXXXXXXXXXXXXXXXXXXXXX cls_preds = tensor([[[-4.6452, -4.5346, -4.5947,  ..., -4.5804, -4.5016, -4.5920],\n",
      "         [-4.6573, -4.4812, -4.6255,  ..., -4.5553, -4.5489, -4.5863],\n",
      "         [-4.7155, -4.6109, -4.5784,  ..., -4.5801, -4.5512, -4.5940],\n",
      "         ...,\n",
      "         [-4.3746, -4.7404, -4.4958,  ..., -4.4745, -4.5982, -4.4411],\n",
      "         [-4.5762, -4.7844, -4.4781,  ..., -4.5280, -4.6485, -4.4785],\n",
      "         [-4.5194, -4.5958, -4.5529,  ..., -4.4733, -4.4831, -4.5024]],\n",
      "\n",
      "        [[-4.6747, -4.5665, -4.5262,  ..., -4.5433, -4.4929, -4.6300],\n",
      "         [-4.6832, -4.6133, -4.7096,  ..., -4.4744, -4.4849, -4.6913],\n",
      "         [-4.4992, -4.6651, -4.6580,  ..., -4.4857, -4.3946, -4.8310],\n",
      "         ...,\n",
      "         [-4.5580, -4.7139, -4.4899,  ..., -4.4666, -4.4880, -4.4837],\n",
      "         [-4.5448, -4.7161, -4.5317,  ..., -4.5199, -4.5309, -4.4798],\n",
      "         [-4.5058, -4.7210, -4.4749,  ..., -4.5610, -4.4821, -4.4666]]],\n",
      "       device='xla:0', grad_fn=<SliceBackward0>)\n",
      "XXXXXXXXXXXXXXXXXXXXXXXXXX obj_preds = tensor([[[-4.6091],\n",
      "         [-4.6626],\n",
      "         [-4.6959],\n",
      "         ...,\n",
      "         [-4.4312],\n",
      "         [-4.5643],\n",
      "         [-4.5622]],\n",
      "\n",
      "        [[-4.6867],\n",
      "         [-4.8031],\n",
      "         [-4.5424],\n",
      "         ...,\n",
      "         [-4.5497],\n",
      "         [-4.5513],\n",
      "         [-4.6166]]], device='xla:0', grad_fn=<SliceBackward0>)\n",
      "2024-08-29 11:24:33.000468:  191323  INFO ||NEURON_CACHE||: Compile cache path: ./compiler_cache\n",
      "2024-08-29 11:24:33.000469:  191323  INFO ||NEURON_CC_WRAPPER||: Call compiler with cmd: neuronx-cc compile --target=trn1 --framework=XLA /tmp/ubuntu/neuroncc_compile_workdir/d892a967-cf60-4ab5-aaa7-6fd4902b04e5/model.MODULE_5248273610035045958+6d464acc.hlo_module.pb --output /tmp/ubuntu/neuroncc_compile_workdir/d892a967-cf60-4ab5-aaa7-6fd4902b04e5/model.MODULE_5248273610035045958+6d464acc.neff --model-type=cnn-training --target=trn1 --framework=XLA --verbose=35\n",
      ".\n",
      "Compiler status PASS\n",
      "XXXXXXXXXXXXXXXXXXXXXXXXXXXXXX TL Type = torch.xla.FloatTensor\n",
      "XXXXXXXXXXXXXXXXXXXXXXXXXXXXXX BR Type = torch.xla.FloatTensor\n",
      "XXXXXXXXXXXXXXXXXXXXXXXXXXXXXX output_size = torch.xla.BoolTensor\n",
      "XXXXXXXXXXXXXXXXXXXXXXXXXX GT_CLASSES = tensor([46.,  0., 76., 78.,  7., 63., 50., 50., 50., 50., 44., 50., 50.],\n",
      "       device='xla:0')\n",
      "2024-08-29 11:24:35.000818:  191323  INFO ||NEURON_CACHE||: Compile cache path: ./compiler_cache\n",
      "2024-08-29 11:24:35.000819:  191323  INFO ||NEURON_CC_WRAPPER||: Call compiler with cmd: neuronx-cc compile --target=trn1 --framework=XLA /tmp/ubuntu/neuroncc_compile_workdir/be539fc2-6bca-4e3a-a89b-cfbaffb0abd4/model.MODULE_15736214913856986907+6d464acc.hlo_module.pb --output /tmp/ubuntu/neuroncc_compile_workdir/be539fc2-6bca-4e3a-a89b-cfbaffb0abd4/model.MODULE_15736214913856986907+6d464acc.neff --model-type=cnn-training --target=trn1 --framework=XLA --verbose=35\n",
      ".\n",
      "Compiler status PASS\n",
      "XXXXXXXXXXXXXXXXXXXXXXXXXX GT_CLASSES.norm() = 186.89569091796875\n",
      "2024-08-29 11:24:37.000184:  191323  INFO ||NEURON_CACHE||: Compile cache path: ./compiler_cache\n",
      "2024-08-29 11:24:37.000185:  191323  INFO ||NEURON_CC_WRAPPER||: Call compiler with cmd: neuronx-cc compile --target=trn1 --framework=XLA /tmp/ubuntu/neuroncc_compile_workdir/8b28eced-7bec-44fa-a1e5-ef136097c013/model.MODULE_18386061205378206069+6d464acc.hlo_module.pb --output /tmp/ubuntu/neuroncc_compile_workdir/8b28eced-7bec-44fa-a1e5-ef136097c013/model.MODULE_18386061205378206069+6d464acc.neff --model-type=cnn-training --target=trn1 --framework=XLA --verbose=35\n",
      ".\n",
      "Compiler status PASS\n",
      "XXXXXXXXXXXXXXXXXXXXXXXXXX Class values norm: 186.89569091796875, max: 78.0\n",
      "XXXXXXXXXXXXXXXXXXXXXXXXXX GT_CLASSES.max() = 78.0\n",
      "XXXXXXXXXXXXXXXXXXXXXXXXXX GT_CLASSES_SHAPE = torch.Size([13])\n",
      "XXXXXXXXXXXXXXXXXXXXXXXXXX NUM_CLASSES = 80\n",
      "XXXXXXXXXXXXXXXXXXXXXXXXXX DTYPE = torch.float32\n",
      "2024-08-29 11:24:38.000667:  191323  INFO ||NEURON_CACHE||: Compile cache path: ./compiler_cache\n",
      "2024-08-29 11:24:38.000668:  191323  INFO ||NEURON_CC_WRAPPER||: Call compiler with cmd: neuronx-cc compile --target=trn1 --framework=XLA /tmp/ubuntu/neuroncc_compile_workdir/06a0108f-a466-42ca-bf09-292e6e210636/model.MODULE_344919379577157749+6d464acc.hlo_module.pb --output /tmp/ubuntu/neuroncc_compile_workdir/06a0108f-a466-42ca-bf09-292e6e210636/model.MODULE_344919379577157749+6d464acc.neff --model-type=cnn-training --target=trn1 --framework=XLA --verbose=35\n",
      ".\n",
      "Compiler status PASS\n",
      "2024-08-29 11:24:40.000196:  191323  INFO ||NEURON_CACHE||: Compile cache path: ./compiler_cache\n",
      "2024-08-29 11:24:40.000197:  191323  INFO ||NEURON_CC_WRAPPER||: Call compiler with cmd: neuronx-cc compile --target=trn1 --framework=XLA /tmp/ubuntu/neuroncc_compile_workdir/8b932f16-31f3-4d0e-ae2a-e345a3f01590/model.MODULE_11274255195325536394+6d464acc.hlo_module.pb --output /tmp/ubuntu/neuroncc_compile_workdir/8b932f16-31f3-4d0e-ae2a-e345a3f01590/model.MODULE_11274255195325536394+6d464acc.neff --model-type=cnn-training --target=trn1 --framework=XLA --verbose=35\n",
      ".\n",
      "Compiler status PASS\n",
      "2024-08-29 11:24:41.000728:  191323  INFO ||NEURON_CACHE||: Compile cache path: ./compiler_cache\n",
      "2024-08-29 11:24:41.000729:  191323  INFO ||NEURON_CC_WRAPPER||: Call compiler with cmd: neuronx-cc compile --target=trn1 --framework=XLA /tmp/ubuntu/neuroncc_compile_workdir/bb7551aa-b6e8-4158-92b4-f24ca0a2ce1d/model.MODULE_8786491735800490332+6d464acc.hlo_module.pb --output /tmp/ubuntu/neuroncc_compile_workdir/bb7551aa-b6e8-4158-92b4-f24ca0a2ce1d/model.MODULE_8786491735800490332+6d464acc.neff --model-type=cnn-training --target=trn1 --framework=XLA --verbose=35\n",
      ".\n",
      "Compiler status PASS\n",
      "XXXXXXXXXXXXXXXXX gt_cls_per_image = tensor([[0., 0., 0.,  ..., 0., 0., 0.],\n",
      "        [1., 0., 0.,  ..., 0., 0., 0.],\n",
      "        [0., 0., 0.,  ..., 0., 0., 0.],\n",
      "        ...,\n",
      "        [0., 0., 0.,  ..., 0., 0., 0.],\n",
      "        [0., 0., 0.,  ..., 0., 0., 0.],\n",
      "        [0., 0., 0.,  ..., 0., 0., 0.]], device='xla:0') , SIZE = torch.Size([13, 80])\n",
      "2024-08-29 11:24:43.000277:  191323  INFO ||NEURON_CACHE||: Compile cache path: ./compiler_cache\n",
      "2024-08-29 11:24:43.000278:  191323  INFO ||NEURON_CC_WRAPPER||: Call compiler with cmd: neuronx-cc compile --target=trn1 --framework=XLA /tmp/ubuntu/neuroncc_compile_workdir/415960ee-4dac-425e-acdf-87d07ba4901a/model.MODULE_7882481579168187221+6d464acc.hlo_module.pb --output /tmp/ubuntu/neuroncc_compile_workdir/415960ee-4dac-425e-acdf-87d07ba4901a/model.MODULE_7882481579168187221+6d464acc.neff --model-type=cnn-training --target=trn1 --framework=XLA --verbose=35\n",
      ".\n",
      "Compiler status PASS\n",
      "2024-08-29 11:24:45.000628:  191323  INFO ||NEURON_CACHE||: Compile cache path: ./compiler_cache\n",
      "2024-08-29 11:24:45.000629:  191323  INFO ||NEURON_CC_WRAPPER||: Call compiler with cmd: neuronx-cc compile --target=trn1 --framework=XLA /tmp/ubuntu/neuroncc_compile_workdir/7cfb693e-8a6b-4210-a6f9-588e454f5bca/model.MODULE_2156053569965147476+6d464acc.hlo_module.pb --output /tmp/ubuntu/neuroncc_compile_workdir/7cfb693e-8a6b-4210-a6f9-588e454f5bca/model.MODULE_2156053569965147476+6d464acc.neff --model-type=cnn-training --target=trn1 --framework=XLA --verbose=35\n",
      ".\n",
      "Compiler status PASS\n",
      "2024-08-29 11:24:47.000967:  191323  INFO ||NEURON_CACHE||: Compile cache path: ./compiler_cache\n",
      "2024-08-29 11:24:47.000968:  191323  INFO ||NEURON_CC_WRAPPER||: Call compiler with cmd: neuronx-cc compile --target=trn1 --framework=XLA /tmp/ubuntu/neuroncc_compile_workdir/f7c74f91-ec7e-47a8-8d0e-ae0f632cd844/model.MODULE_15741321664387411030+6d464acc.hlo_module.pb --output /tmp/ubuntu/neuroncc_compile_workdir/f7c74f91-ec7e-47a8-8d0e-ae0f632cd844/model.MODULE_15741321664387411030+6d464acc.neff --model-type=cnn-training --target=trn1 --framework=XLA --verbose=35\n",
      ".\n",
      "Compiler status PASS\n",
      "2024-08-29 11:24:50.000315:  191323  INFO ||NEURON_CACHE||: Compile cache path: ./compiler_cache\n",
      "2024-08-29 11:24:50.000316:  191323  INFO ||NEURON_CC_WRAPPER||: Call compiler with cmd: neuronx-cc compile --target=trn1 --framework=XLA /tmp/ubuntu/neuroncc_compile_workdir/95b0c2f6-f382-45be-a701-a13d7b4fd5da/model.MODULE_13346309858983683779+6d464acc.hlo_module.pb --output /tmp/ubuntu/neuroncc_compile_workdir/95b0c2f6-f382-45be-a701-a13d7b4fd5da/model.MODULE_13346309858983683779+6d464acc.neff --model-type=cnn-training --target=trn1 --framework=XLA --verbose=35\n",
      ".\n",
      "Compiler status PASS\n",
      "2024-08-29 11:24:52.000568:  191323  INFO ||NEURON_CACHE||: Compile cache path: ./compiler_cache\n",
      "2024-08-29 11:24:52.000569:  191323  INFO ||NEURON_CC_WRAPPER||: Call compiler with cmd: neuronx-cc compile --target=trn1 --framework=XLA /tmp/ubuntu/neuroncc_compile_workdir/5a580300-84ca-4326-9cad-2deb5bdf0d90/model.MODULE_14675266058009522548+6d464acc.hlo_module.pb --output /tmp/ubuntu/neuroncc_compile_workdir/5a580300-84ca-4326-9cad-2deb5bdf0d90/model.MODULE_14675266058009522548+6d464acc.neff --model-type=cnn-training --target=trn1 --framework=XLA --verbose=35\n",
      ".\n",
      "Compiler status PASS\n",
      "2024-08-29 11:24:54.000905:  191323  INFO ||NEURON_CACHE||: Compile cache path: ./compiler_cache\n",
      "2024-08-29 11:24:54.000906:  191323  INFO ||NEURON_CC_WRAPPER||: Call compiler with cmd: neuronx-cc compile --target=trn1 --framework=XLA /tmp/ubuntu/neuroncc_compile_workdir/4f8b80aa-0a1a-4b86-8021-8ab690836946/model.MODULE_18075689659267526655+6d464acc.hlo_module.pb --output /tmp/ubuntu/neuroncc_compile_workdir/4f8b80aa-0a1a-4b86-8021-8ab690836946/model.MODULE_18075689659267526655+6d464acc.neff --model-type=cnn-training --target=trn1 --framework=XLA --verbose=35\n",
      ".\n",
      "Compiler status PASS\n",
      "2024-08-29 11:24:57.000246:  191323  INFO ||NEURON_CACHE||: Compile cache path: ./compiler_cache\n",
      "2024-08-29 11:24:57.000247:  191323  INFO ||NEURON_CC_WRAPPER||: Call compiler with cmd: neuronx-cc compile --target=trn1 --framework=XLA /tmp/ubuntu/neuroncc_compile_workdir/488f97c2-a767-41bc-8a0a-818124fbc7ad/model.MODULE_8486507373853963690+6d464acc.hlo_module.pb --output /tmp/ubuntu/neuroncc_compile_workdir/488f97c2-a767-41bc-8a0a-818124fbc7ad/model.MODULE_8486507373853963690+6d464acc.neff --model-type=cnn-training --target=trn1 --framework=XLA --verbose=35\n",
      ".\n",
      "Compiler status PASS\n",
      "2024-08-29 11:24:59.000603:  191323  INFO ||NEURON_CACHE||: Compile cache path: ./compiler_cache\n",
      "2024-08-29 11:24:59.000604:  191323  INFO ||NEURON_CC_WRAPPER||: Call compiler with cmd: neuronx-cc compile --target=trn1 --framework=XLA /tmp/ubuntu/neuroncc_compile_workdir/58b6723d-8e83-4d8f-9eae-da72bd705600/model.MODULE_7710774133978117536+6d464acc.hlo_module.pb --output /tmp/ubuntu/neuroncc_compile_workdir/58b6723d-8e83-4d8f-9eae-da72bd705600/model.MODULE_7710774133978117536+6d464acc.neff --model-type=cnn-training --target=trn1 --framework=XLA --verbose=35\n",
      ".\n",
      "Compiler status PASS\n",
      "2024-08-29 11:25:01.000905:  191323  INFO ||NEURON_CACHE||: Compile cache path: ./compiler_cache\n",
      "2024-08-29 11:25:01.000906:  191323  INFO ||NEURON_CC_WRAPPER||: Call compiler with cmd: neuronx-cc compile --target=trn1 --framework=XLA /tmp/ubuntu/neuroncc_compile_workdir/c57ff5f4-80fe-48de-9400-8bd7ebb56663/model.MODULE_6989411880018226737+6d464acc.hlo_module.pb --output /tmp/ubuntu/neuroncc_compile_workdir/c57ff5f4-80fe-48de-9400-8bd7ebb56663/model.MODULE_6989411880018226737+6d464acc.neff --model-type=cnn-training --target=trn1 --framework=XLA --verbose=35\n",
      ".\n",
      "Compiler status PASS\n",
      "2024-08-29 11:25:04.000092:  191323  INFO ||NEURON_CACHE||: Compile cache path: ./compiler_cache\n",
      "2024-08-29 11:25:04.000093:  191323  INFO ||NEURON_CC_WRAPPER||: Call compiler with cmd: neuronx-cc compile --target=trn1 --framework=XLA /tmp/ubuntu/neuroncc_compile_workdir/e21a6ea2-99a2-4f68-b07d-6c47e13c24fb/model.MODULE_5467420077853847642+6d464acc.hlo_module.pb --output /tmp/ubuntu/neuroncc_compile_workdir/e21a6ea2-99a2-4f68-b07d-6c47e13c24fb/model.MODULE_5467420077853847642+6d464acc.neff --model-type=cnn-training --target=trn1 --framework=XLA --verbose=35\n",
      ".\n",
      "Compiler status PASS\n",
      "2024-08-29 11:25:06.000434:  191323  INFO ||NEURON_CACHE||: Compile cache path: ./compiler_cache\n",
      "2024-08-29 11:25:06.000435:  191323  INFO ||NEURON_CC_WRAPPER||: Call compiler with cmd: neuronx-cc compile --target=trn1 --framework=XLA /tmp/ubuntu/neuroncc_compile_workdir/b05ed316-ce69-4b08-a7be-9cdb88afbd3a/model.MODULE_7161068352574425639+6d464acc.hlo_module.pb --output /tmp/ubuntu/neuroncc_compile_workdir/b05ed316-ce69-4b08-a7be-9cdb88afbd3a/model.MODULE_7161068352574425639+6d464acc.neff --model-type=cnn-training --target=trn1 --framework=XLA --verbose=35\n",
      ".\n",
      "Compiler status PASS\n",
      "2024-08-29 11:25:08.000785:  191323  INFO ||NEURON_CACHE||: Compile cache path: ./compiler_cache\n",
      "2024-08-29 11:25:08.000786:  191323  INFO ||NEURON_CC_WRAPPER||: Call compiler with cmd: neuronx-cc compile --target=trn1 --framework=XLA /tmp/ubuntu/neuroncc_compile_workdir/6241d6bd-2a41-4c31-b9a5-30e81f76fe78/model.MODULE_16039148488933938125+6d464acc.hlo_module.pb --output /tmp/ubuntu/neuroncc_compile_workdir/6241d6bd-2a41-4c31-b9a5-30e81f76fe78/model.MODULE_16039148488933938125+6d464acc.neff --model-type=cnn-training --target=trn1 --framework=XLA --verbose=35\n",
      ".\n",
      "Compiler status PASS\n",
      "2024-08-29 11:25:11.000138:  191323  INFO ||NEURON_CACHE||: Compile cache path: ./compiler_cache\n",
      "2024-08-29 11:25:11.000139:  191323  INFO ||NEURON_CC_WRAPPER||: Call compiler with cmd: neuronx-cc compile --target=trn1 --framework=XLA /tmp/ubuntu/neuroncc_compile_workdir/8afc9b5d-eebb-4505-b623-48e91a7ca5af/model.MODULE_3079091585060933742+6d464acc.hlo_module.pb --output /tmp/ubuntu/neuroncc_compile_workdir/8afc9b5d-eebb-4505-b623-48e91a7ca5af/model.MODULE_3079091585060933742+6d464acc.neff --model-type=cnn-training --target=trn1 --framework=XLA --verbose=35\n",
      ".\n",
      "Compiler status PASS\n",
      "2024-08-29 11:25:13.000499:  191323  INFO ||NEURON_CACHE||: Compile cache path: ./compiler_cache\n",
      "2024-08-29 11:25:13.000499:  191323  INFO ||NEURON_CC_WRAPPER||: Call compiler with cmd: neuronx-cc compile --target=trn1 --framework=XLA /tmp/ubuntu/neuroncc_compile_workdir/855827e6-2a45-4829-940b-851732c5cc63/model.MODULE_4684948589903852044+6d464acc.hlo_module.pb --output /tmp/ubuntu/neuroncc_compile_workdir/855827e6-2a45-4829-940b-851732c5cc63/model.MODULE_4684948589903852044+6d464acc.neff --model-type=cnn-training --target=trn1 --framework=XLA --verbose=35\n",
      ".\n",
      "Compiler status PASS\n",
      "2024-08-29 11:25:21.000842:  191323  INFO ||NEURON_CACHE||: Compile cache path: ./compiler_cache\n",
      "2024-08-29 11:25:21.000843:  191323  INFO ||NEURON_CC_WRAPPER||: Call compiler with cmd: neuronx-cc compile --target=trn1 --framework=XLA /tmp/ubuntu/neuroncc_compile_workdir/57844dec-a333-4d07-bc63-9d17505cd231/model.MODULE_11617813264118284967+6d464acc.hlo_module.pb --output /tmp/ubuntu/neuroncc_compile_workdir/57844dec-a333-4d07-bc63-9d17505cd231/model.MODULE_11617813264118284967+6d464acc.neff --model-type=cnn-training --target=trn1 --framework=XLA --verbose=35\n",
      ".\n",
      "Compiler status PASS\n",
      "2024-08-29 11:25:31.000342:  191323  INFO ||NEURON_CACHE||: Compile cache path: ./compiler_cache\n",
      "2024-08-29 11:25:31.000343:  191323  INFO ||NEURON_CC_WRAPPER||: Call compiler with cmd: neuronx-cc compile --target=trn1 --framework=XLA /tmp/ubuntu/neuroncc_compile_workdir/c9a2e3f8-0a94-49d2-b734-5ff31e77cf8e/model.MODULE_11760484871791458346+6d464acc.hlo_module.pb --output /tmp/ubuntu/neuroncc_compile_workdir/c9a2e3f8-0a94-49d2-b734-5ff31e77cf8e/model.MODULE_11760484871791458346+6d464acc.neff --model-type=cnn-training --target=trn1 --framework=XLA --verbose=35\n",
      ".\n",
      "Compiler status PASS\n",
      "2024-08-29 11:25:39.000686:  191323  INFO ||NEURON_CACHE||: Compile cache path: ./compiler_cache\n",
      "2024-08-29 11:25:39.000687:  191323  INFO ||NEURON_CC_WRAPPER||: Call compiler with cmd: neuronx-cc compile --target=trn1 --framework=XLA /tmp/ubuntu/neuroncc_compile_workdir/be433925-f779-439c-84a3-0ff22fdac3ed/model.MODULE_3225753317372725008+6d464acc.hlo_module.pb --output /tmp/ubuntu/neuroncc_compile_workdir/be433925-f779-439c-84a3-0ff22fdac3ed/model.MODULE_3225753317372725008+6d464acc.neff --model-type=cnn-training --target=trn1 --framework=XLA --verbose=35\n",
      ".\n",
      "Compiler status PASS\n",
      "2024-08-29 11:25:49.000042:  191323  INFO ||NEURON_CACHE||: Compile cache path: ./compiler_cache\n",
      "2024-08-29 11:25:49.000044:  191323  INFO ||NEURON_CC_WRAPPER||: Call compiler with cmd: neuronx-cc compile --target=trn1 --framework=XLA /tmp/ubuntu/neuroncc_compile_workdir/08134d6b-f524-4101-8a2f-b885151fa5ed/model.MODULE_9732557251895118470+6d464acc.hlo_module.pb --output /tmp/ubuntu/neuroncc_compile_workdir/08134d6b-f524-4101-8a2f-b885151fa5ed/model.MODULE_9732557251895118470+6d464acc.neff --model-type=cnn-training --target=trn1 --framework=XLA --verbose=35\n",
      ".\n",
      "Compiler status PASS\n",
      "2024-08-29 11:25:59.000248:  191323  INFO ||NEURON_CACHE||: Compile cache path: ./compiler_cache\n",
      "2024-08-29 11:25:59.000249:  191323  INFO ||NEURON_CC_WRAPPER||: Call compiler with cmd: neuronx-cc compile --target=trn1 --framework=XLA /tmp/ubuntu/neuroncc_compile_workdir/4e9cf755-55ed-4b63-a205-726f39662f07/model.MODULE_13371232362744398351+6d464acc.hlo_module.pb --output /tmp/ubuntu/neuroncc_compile_workdir/4e9cf755-55ed-4b63-a205-726f39662f07/model.MODULE_13371232362744398351+6d464acc.neff --model-type=cnn-training --target=trn1 --framework=XLA --verbose=35\n",
      ".\n",
      "Compiler status PASS\n",
      "2024-08-29 11:26:09.000488:  191323  INFO ||NEURON_CACHE||: Compile cache path: ./compiler_cache\n",
      "2024-08-29 11:26:09.000489:  191323  INFO ||NEURON_CC_WRAPPER||: Call compiler with cmd: neuronx-cc compile --target=trn1 --framework=XLA /tmp/ubuntu/neuroncc_compile_workdir/c9549209-0f96-4eff-bc7e-d173c3c6ab4e/model.MODULE_1921954226916924410+6d464acc.hlo_module.pb --output /tmp/ubuntu/neuroncc_compile_workdir/c9549209-0f96-4eff-bc7e-d173c3c6ab4e/model.MODULE_1921954226916924410+6d464acc.neff --model-type=cnn-training --target=trn1 --framework=XLA --verbose=35\n",
      ".\n",
      "Compiler status PASS\n",
      "XXXXXXXXXXXXXXXXXXXXXXXXXXXXXXXXXXX pred.shape = torch.Size([30, 4])\n",
      "2024-08-29 11:26:26.000352:  191323  INFO ||NEURON_CACHE||: Compile cache path: ./compiler_cache\n",
      "2024-08-29 11:26:26.000353:  191323  INFO ||NEURON_CC_WRAPPER||: Call compiler with cmd: neuronx-cc compile --target=trn1 --framework=XLA /tmp/ubuntu/neuroncc_compile_workdir/ad454368-b9fd-40ab-8391-0c33b9b08a59/model.MODULE_12576607479816010019+6d464acc.hlo_module.pb --output /tmp/ubuntu/neuroncc_compile_workdir/ad454368-b9fd-40ab-8391-0c33b9b08a59/model.MODULE_12576607479816010019+6d464acc.neff --model-type=cnn-training --target=trn1 --framework=XLA --verbose=35\n",
      "...\n",
      "Compiler status PASS\n",
      "XXXXXXXXXXXXXXXXXXXXXXXXXXXXXXXXXXX pred  = tensor([[457.3938, 447.7708,   9.1730,   9.4185],\n",
      "        [ 50.0742, 249.1157,  18.1145,  26.8420],\n",
      "        [ 64.7882, 247.0253,  11.7379,  38.2500],\n",
      "        [151.9534, 293.0910,  20.4689,  27.5233],\n",
      "        [103.9714, 470.2250,  38.2989,  17.7796],\n",
      "        [137.3559, 469.2884,  23.7297,  13.4079],\n",
      "        [100.2735, 482.4885,  29.3838,  15.3220],\n",
      "        [168.3167, 507.3650,  34.2796,  26.6583],\n",
      "        [ 71.8804, 247.0155,  27.0621,  35.6782],\n",
      "        [291.1173, 329.0891,  47.0274,  58.1342],\n",
      "        [ 77.5164, 368.9400,  21.7066,  34.8314],\n",
      "        [ 60.4256, 451.7575,  25.8400,  24.0036],\n",
      "        [221.1380, 470.0517,  61.5270,  53.6510],\n",
      "        [146.3288, 463.1302,  33.4949,  18.9373],\n",
      "        [132.3278, 507.5484,  45.3508,  39.1513],\n",
      "        [484.2124, 507.3081,  42.1838,  37.6292],\n",
      "        [222.0110, 541.8165,  47.5708,  33.1837],\n",
      "        [315.8661, 535.7025,  44.3262,  28.1104],\n",
      "        [257.0548, 603.1198,  39.5186,  30.1302],\n",
      "        [ 32.4362, 203.2585,  45.1719,  14.2930],\n",
      "        [ 41.0423, 221.8469,  42.0217,  40.9607],\n",
      "        [ 92.1553,  21.1514,  22.2800,  43.3269],\n",
      "        [201.0388, 162.6250,  34.4163,  37.3698],\n",
      "        [444.8638, 191.4207,  40.5620,  31.8366],\n",
      "        [230.4886, 217.0267,  43.1125,  41.8953],\n",
      "        [167.1215, 327.5453,  50.5318,  30.1226],\n",
      "        [352.0101, 388.6471,  48.6632,  43.8874],\n",
      "        [ 31.9990, 398.6595,  37.1139,  54.2832],\n",
      "        [  1.2373, 603.7959,  37.2400,  29.2265],\n",
      "        [319.0992, 607.6757,  44.6105,  31.2954]], device='xla:0',\n",
      "       grad_fn=<IndexBackward0>)\n",
      "XXXXXXXXXXXXXXXXXXXXXXXXXXXXXXXXXXX target.shape = torch.Size([30, 4])\n",
      "2024-08-29 11:27:21.000681:  191323  INFO ||NEURON_CACHE||: Compile cache path: ./compiler_cache\n",
      "2024-08-29 11:27:21.000682:  191323  INFO ||NEURON_CC_WRAPPER||: Call compiler with cmd: neuronx-cc compile --target=trn1 --framework=XLA /tmp/ubuntu/neuroncc_compile_workdir/ce792dfb-bd5d-44c6-a271-6168bfa5e1e9/model.MODULE_18277659562872821304+6d464acc.hlo_module.pb --output /tmp/ubuntu/neuroncc_compile_workdir/ce792dfb-bd5d-44c6-a271-6168bfa5e1e9/model.MODULE_18277659562872821304+6d464acc.neff --model-type=cnn-training --target=trn1 --framework=XLA --verbose=35\n",
      ".\n",
      "Compiler status PASS\n",
      "XXXXXXXXXXXXXXXXXXXXXXXXXXXXXXXXXXX target  = tensor([[454.4184, 452.6412,  16.7190,  12.4967],\n",
      "        [ 44.3405, 247.1848,  24.8551,  53.1881],\n",
      "        [ 68.9776, 248.3015,  21.8666,  49.4231],\n",
      "        [150.4295, 317.6981,  23.0897,  46.1687],\n",
      "        [111.8333, 466.6322,  22.2175,  22.2282],\n",
      "        [145.7924, 466.6375,  46.6579,  14.1984],\n",
      "        [110.1157, 489.5730,  60.9201,  30.9706],\n",
      "        [163.3676, 504.4786,  39.1173,  70.7154],\n",
      "        [ 68.9776, 248.3015,  21.8666,  49.4231],\n",
      "        [300.6292, 311.2743,  30.5877,  47.4237],\n",
      "        [ 71.9119, 442.2927,   9.4614, 289.1721],\n",
      "        [ 64.5798, 444.9518,  28.2798,  18.5377],\n",
      "        [302.2724, 466.8449, 229.0353, 105.8657],\n",
      "        [145.7924, 466.6375,  46.6579,  14.1984],\n",
      "        [132.4608, 513.0455,  24.4616,  39.3088],\n",
      "        [473.4507, 502.1707,  44.5308,  45.5731],\n",
      "        [225.2677, 539.3143, 140.5572, 201.3713],\n",
      "        [380.6879, 539.5432, 187.5356, 200.9137],\n",
      "        [254.2194, 602.4172,  52.9908,  63.3405],\n",
      "        [ 34.8434, 206.8491,  13.7398,  21.8259],\n",
      "        [ 29.2354, 222.9006,  58.4708, 222.7189],\n",
      "        [ 78.4145,  23.1385, 101.1250,  46.2771],\n",
      "        [161.6194, 176.2195, 252.3591, 151.0976],\n",
      "        [480.4804, 213.6493, 138.7783, 163.9136],\n",
      "        [219.8939, 280.2628,  55.8839, 156.7853],\n",
      "        [196.2178, 298.1395, 125.1675, 171.1537],\n",
      "        [370.3084, 402.6175, 184.2678, 244.2995],\n",
      "        [ 42.9441, 409.5395,  79.1920,  49.9170],\n",
      "        [  7.3215, 586.4760,  14.6429, 107.0480],\n",
      "        [342.7257, 615.2834, 391.9617,  49.4331]], device='xla:0')\n",
      "2024-08-29 11:27:39.000944:  191323  INFO ||NEURON_CACHE||: Compile cache path: ./compiler_cache\n",
      "2024-08-29 11:27:39.000945:  191323  INFO ||NEURON_CC_WRAPPER||: Call compiler with cmd: neuronx-cc compile --target=trn1 --framework=XLA /tmp/ubuntu/neuroncc_compile_workdir/fba89c0b-79bc-456c-ae57-3c52f5c22ef4/model.MODULE_16404164261801651177+6d464acc.hlo_module.pb --output /tmp/ubuntu/neuroncc_compile_workdir/fba89c0b-79bc-456c-ae57-3c52f5c22ef4/model.MODULE_16404164261801651177+6d464acc.neff --model-type=cnn-training --target=trn1 --framework=XLA --verbose=35\n",
      ".\n",
      "Compiler status PASS\n",
      "XXXXXXXXXXXXXXXXXXXXXXXXXXXXXX Losses.py Line 30 en = tensor([1., 1., 1., 1., 1., 1., 1., 1., 1., 1., 1., 1., 1., 1., 1., 1., 1., 1.,\n",
      "        1., 1., 1., 1., 1., 1., 1., 1., 1., 1., 1., 1.], device='xla:0')\n",
      "XXXXXXXXXXXXXXXXXXXXXXXXXXXXXX Losses.py Line 30 en.dtype = torch.float32\n",
      "2024-08-29 11:27:41.000628:  191323  INFO ||NEURON_CACHE||: Compile cache path: ./compiler_cache\n",
      "2024-08-29 11:27:41.000629:  191323  INFO ||NEURON_CC_WRAPPER||: Call compiler with cmd: neuronx-cc compile --target=trn1 --framework=XLA /tmp/ubuntu/neuroncc_compile_workdir/063ceb1c-6ee2-491f-94bd-d4d2a05ed4aa/model.MODULE_2387300482578629247+6d464acc.hlo_module.pb --output /tmp/ubuntu/neuroncc_compile_workdir/063ceb1c-6ee2-491f-94bd-d4d2a05ed4aa/model.MODULE_2387300482578629247+6d464acc.neff --model-type=cnn-training --target=trn1 --framework=XLA --verbose=35\n",
      ".\n",
      "Compiler status PASS\n",
      "2024-08-29 11:27:43.000272:  191323  INFO ||NEURON_CACHE||: Compile cache path: ./compiler_cache\n",
      "2024-08-29 11:27:43.000273:  191323  INFO ||NEURON_CC_WRAPPER||: Call compiler with cmd: neuronx-cc compile --target=trn1 --framework=XLA /tmp/ubuntu/neuroncc_compile_workdir/00ae05cb-9a91-49eb-85be-86f1bb2f6a68/model.MODULE_18126922354917514296+6d464acc.hlo_module.pb --output /tmp/ubuntu/neuroncc_compile_workdir/00ae05cb-9a91-49eb-85be-86f1bb2f6a68/model.MODULE_18126922354917514296+6d464acc.neff --model-type=cnn-training --target=trn1 --framework=XLA --verbose=35\n",
      ".\n",
      "Compiler status PASS\n",
      "2024-08-29 11:27:45.000778:  191323  INFO ||NEURON_CACHE||: Compile cache path: ./compiler_cache\n",
      "2024-08-29 11:27:45.000781:  191323  INFO ||NEURON_CC_WRAPPER||: Call compiler with cmd: neuronx-cc compile --target=trn1 --framework=XLA /tmp/ubuntu/neuroncc_compile_workdir/5ab28044-3b16-445d-ba7c-155fdb9d80bf/model.MODULE_17239876833817366816+6d464acc.hlo_module.pb --output /tmp/ubuntu/neuroncc_compile_workdir/5ab28044-3b16-445d-ba7c-155fdb9d80bf/model.MODULE_17239876833817366816+6d464acc.neff --model-type=cnn-training --target=trn1 --framework=XLA --verbose=35\n",
      "..........root = neuronxcc/starfish/penguin/targets/transforms/TargetLowering.py\n",
      "root = neuronxcc/starfish/penguin/targets/transforms\n",
      "root = neuronxcc/starfish/penguin/targets\n",
      "root = neuronxcc/starfish/penguin\n",
      "root = neuronxcc/starfish\n",
      "\n",
      "2024-08-29 11:30:52.000309:  191323  ERROR ||NEURON_CC_WRAPPER||: Failed compilation with ['neuronx-cc', 'compile', '--target=trn1', '--framework=XLA', '/tmp/ubuntu/neuroncc_compile_workdir/5ab28044-3b16-445d-ba7c-155fdb9d80bf/model.MODULE_17239876833817366816+6d464acc.hlo_module.pb', '--output', '/tmp/ubuntu/neuroncc_compile_workdir/5ab28044-3b16-445d-ba7c-155fdb9d80bf/model.MODULE_17239876833817366816+6d464acc.neff', '--model-type=cnn-training', '--target=trn1', '--framework=XLA', '--verbose=35']: 2024-08-29T11:30:52Z [TEN404] Internal tensorizer error: TensorInitialization:Incorrect IR by <class 'neuronxcc.starfish.penguin.targets.transforms.TensorInitialization.TensorInitialization'> - Please open a support ticket at https://github.com/aws-neuron/aws-neuron-sdk/issues/new. You may also be able to obtain more information using the 'XLA_IR_DEBUG' and 'XLA_HLO_DEBUG' environment variables.\n",
      "\n",
      "2024-08-29 11:30:52.000309:  191323  ERROR ||NEURON_CC_WRAPPER||: Compilation failed for /tmp/ubuntu/neuroncc_compile_workdir/5ab28044-3b16-445d-ba7c-155fdb9d80bf/model.MODULE_17239876833817366816+6d464acc.hlo_module.pb after 0 retries.\n"
     ]
    },
    {
     "name": "stderr",
     "output_type": "stream",
     "text": [
      "2024-08-29 11:30:52 | ERROR    | yolox.core.trainer:80 - Exception in training: Bad StatusOr access: INTERNAL: RunNeuronCCImpl: error condition error != 0: <class 'subprocess.CalledProcessError'>: Command '['neuronx-cc', 'compile', '--target=trn1', '--framework=XLA', '/tmp/ubuntu/neuroncc_compile_workdir/5ab28044-3b16-445d-ba7c-155fdb9d80bf/model.MODULE_17239876833817366816+6d464acc.hlo_module.pb', '--output', '/tmp/ubuntu/neuroncc_compile_workdir/5ab28044-3b16-445d-ba7c-155fdb9d80bf/model.MODULE_17239876833817366816+6d464acc.neff', '--model-type=cnn-training', '--target=trn1', '--framework=XLA', '--verbose=35']' returned non-zero exit status 70.\n",
      "2024-08-29 11:30:52 | INFO     | yolox.core.trainer:201 - Training of experiment is done and the best AP is 0.00\n",
      "2024-08-29 11:30:52 | ERROR    | yolox.core.launch:98 - An error has been caught in function 'launch', process 'MainProcess' (191323), thread 'MainThread' (139920490504832):\n",
      "Traceback (most recent call last):\n",
      "\n",
      "  File \"/usr/lib/python3.10/runpy.py\", line 196, in _run_module_as_main\n",
      "    return _run_code(code, main_globals, None,\n",
      "           │         │     └ {'__name__': '__main__', '__doc__': None, '__package__': 'yolox.tools', '__loader__': <_frozen_importlib_external.SourceFileL...\n",
      "           │         └ <code object <module> at 0x7f41c6b84870, file \"/home/ubuntu/neuron-adoption/tools/train.py\", line 1>\n",
      "           └ <function _run_code at 0x7f41c6b7d360>\n",
      "  File \"/usr/lib/python3.10/runpy.py\", line 86, in _run_code\n",
      "    exec(code, run_globals)\n",
      "         │     └ {'__name__': '__main__', '__doc__': None, '__package__': 'yolox.tools', '__loader__': <_frozen_importlib_external.SourceFileL...\n",
      "         └ <code object <module> at 0x7f41c6b84870, file \"/home/ubuntu/neuron-adoption/tools/train.py\", line 1>\n",
      "\n",
      "  File \"/home/ubuntu/neuron-adoption/tools/train.py\", line 138, in <module>\n",
      "    launch(\n",
      "    └ <function launch at 0x7f410627cdc0>\n",
      "\n",
      "> File \"/home/ubuntu/neuron-adoption/yolox/core/launch.py\", line 98, in launch\n",
      "    main_func(*args)\n",
      "    │          └ (╒═══════════════════╤═══════════════════════════════════════════════════════════════════════════════════════════════════════...\n",
      "    └ <function main at 0x7f40f828e200>\n",
      "\n",
      "  File \"/home/ubuntu/neuron-adoption/tools/train.py\", line 118, in main\n",
      "    trainer.train()\n",
      "    │       └ <function Trainer.train at 0x7f40c22d3c70>\n",
      "    └ <yolox.core.trainer.Trainer object at 0x7f40c22f4580>\n",
      "\n",
      "  File \"/home/ubuntu/neuron-adoption/yolox/core/trainer.py\", line 78, in train\n",
      "    self.train_in_epoch()\n",
      "    │    └ <function Trainer.train_in_epoch at 0x7f40c22ec550>\n",
      "    └ <yolox.core.trainer.Trainer object at 0x7f40c22f4580>\n",
      "\n",
      "  File \"/home/ubuntu/neuron-adoption/yolox/core/trainer.py\", line 88, in train_in_epoch\n",
      "    self.train_in_iter()\n",
      "    │    └ <function Trainer.train_in_iter at 0x7f40c22ec5e0>\n",
      "    └ <yolox.core.trainer.Trainer object at 0x7f40c22f4580>\n",
      "\n",
      "  File \"/home/ubuntu/neuron-adoption/yolox/core/trainer.py\", line 95, in train_in_iter\n",
      "    self.train_one_iter()\n",
      "    │    └ <function Trainer.train_one_iter at 0x7f40c22ec670>\n",
      "    └ <yolox.core.trainer.Trainer object at 0x7f40c22f4580>\n",
      "\n",
      "  File \"/home/ubuntu/neuron-adoption/yolox/core/trainer.py\", line 120, in train_one_iter\n",
      "    xm.mark_step()\n",
      "    │  └ <function mark_step at 0x7f40e82485e0>\n",
      "    └ <module 'torch_xla.core.xla_model' from '/opt/aws_neuronx_venv_pytorch_2_1/lib/python3.10/site-packages/torch_xla/core/xla_mo...\n",
      "\n",
      "  File \"/opt/aws_neuronx_venv_pytorch_2_1/lib/python3.10/site-packages/torch_xla/core/xla_model.py\", line 969, in mark_step\n",
      "    torch_xla._XLAC._xla_step_marker(\n",
      "    │         │     └ <built-in method _xla_step_marker of PyCapsule object at 0x7f40f82dbf90>\n",
      "    │         └ <module '_XLAC' from '/opt/aws_neuronx_venv_pytorch_2_1/lib/python3.10/site-packages/_XLAC.cpython-310-x86_64-linux-gnu.so'>\n",
      "    └ <module 'torch_xla' from '/opt/aws_neuronx_venv_pytorch_2_1/lib/python3.10/site-packages/torch_xla/__init__.py'>\n",
      "\n",
      "RuntimeError: Bad StatusOr access: INTERNAL: RunNeuronCCImpl: error condition error != 0: <class 'subprocess.CalledProcessError'>: Command '['neuronx-cc', 'compile', '--target=trn1', '--framework=XLA', '/tmp/ubuntu/neuroncc_compile_workdir/5ab28044-3b16-445d-ba7c-155fdb9d80bf/model.MODULE_17239876833817366816+6d464acc.hlo_module.pb', '--output', '/tmp/ubuntu/neuroncc_compile_workdir/5ab28044-3b16-445d-ba7c-155fdb9d80bf/model.MODULE_17239876833817366816+6d464acc.neff', '--model-type=cnn-training', '--target=trn1', '--framework=XLA', '--verbose=35']' returned non-zero exit status 70.\n"
     ]
    },
    {
     "name": "stdout",
     "output_type": "stream",
     "text": [
      "Compilation Success!!!\n",
      "CPU times: user 155 ms, sys: 11.2 ms, total: 166 ms\n",
      "Wall time: 9min 1s\n"
     ]
    }
   ],
   "source": [
    "%%time\n",
    "import subprocess\n",
    "print(\"Compile model\")\n",
    "COMPILE_CMD = f\"\"\"\n",
    "   {env_var_options} torchrun --nproc_per_node={num_workers} -m \\\n",
    "   yolox.tools.train \\\n",
    "    -n {model} \\\n",
    "    -d {num_accelerators} \\\n",
    "    -b {total_batch_size} \\\n",
    "    \"\"\"\n",
    "\n",
    "print(f'Running command: \\n{COMPILE_CMD}')\n",
    "if subprocess.check_call(COMPILE_CMD,shell=True):\n",
    "   print(\"There was an error with the compilation command\")\n",
    "else:\n",
    "   print(\"Compilation Success!!!\")"
   ]
  },
  {
   "cell_type": "code",
   "execution_count": 2,
   "id": "d0dffca9-5fe2-4031-9752-e3096d0e99da",
   "metadata": {},
   "outputs": [],
   "source": [
    "env_var_options = \"NEURON_RT_ASYNC_EXEC_MAX_INFLIGHT_REQUESTS=3  \" + \\\n",
    "    \"NEURON_CC_FLAGS=\\'--cache_dir=./compiler_cache --model-type=cnn-training\\'\""
   ]
  },
  {
   "cell_type": "code",
   "execution_count": 3,
   "id": "9c029114-86ef-4354-85ad-cc9beee29c53",
   "metadata": {},
   "outputs": [],
   "source": [
    "!source /opt/aws_neuronx_venv_pytorch_2_1/bin/activate"
   ]
  },
  {
   "cell_type": "code",
   "execution_count": 8,
   "id": "546779e9-bcea-43e0-8ae4-5537712a765f",
   "metadata": {},
   "outputs": [
    {
     "name": "stdout",
     "output_type": "stream",
     "text": [
      "Compile model\n",
      "Running command: \n",
      "NEURON_RT_ASYNC_EXEC_MAX_INFLIGHT_REQUESTS=3  NEURON_CC_FLAGS='--cache_dir=./compiler_cache --model-type=cnn-training' neuronx-cc compile --target=trn1 --framework=XLA python -m    yolox.tools.train     -n yolox-s     -d 1     -b 2     \n"
     ]
    },
    {
     "name": "stderr",
     "output_type": "stream",
     "text": [
      "usage: neuronx-cc compile [--framework {XLA}] [--target {trn1,inf2,trn1n}]\n",
      "                          [--enable-fast-loading-neuron-binaries]\n",
      "                          [--enable-fast-context-switch]\n",
      "                          [--auto-cast <cast mode>]\n",
      "                          [--auto-cast-type {fp16,bf16,tf32,fp8_e4m3}]\n",
      "                          [--output <filename>] [--optlevel {1,2,3}] [--help]\n",
      "                          [--model-type {transformer,unet-inference,generic}]\n",
      "                          [--distribution-strategy {fsdp,nemo,llm-training,generic}]\n",
      "                          [--verbose {debug|info|warning|user|off}]\n",
      "                          [--logfile <filename>]\n",
      "                          [--logfile-verbose {debug|info|warning|user}]\n",
      "                          [--enable-mixed-precision-accumulation]\n",
      "                          [--enable-saturate-infinity]\n",
      "                          [--hbm-scratchpad-page-size HBM_SCRATCHPAD_PAGE_SIZE]\n",
      "                          [<file_names> ...]\n",
      "neuronx-cc compile: error: unrecognized arguments: -m yolox.tools.train -n yolox-s -d 1 -b 2\n"
     ]
    },
    {
     "ename": "CalledProcessError",
     "evalue": "Command 'NEURON_RT_ASYNC_EXEC_MAX_INFLIGHT_REQUESTS=3  NEURON_CC_FLAGS='--cache_dir=./compiler_cache --model-type=cnn-training' neuronx-cc compile --target=trn1 --framework=XLA python -m    yolox.tools.train     -n yolox-s     -d 1     -b 2     ' returned non-zero exit status 2.",
     "output_type": "error",
     "traceback": [
      "\u001b[0;31m---------------------------------------------------------------------------\u001b[0m",
      "\u001b[0;31mCalledProcessError\u001b[0m                        Traceback (most recent call last)",
      "File \u001b[0;32m<timed exec>:11\u001b[0m\n",
      "File \u001b[0;32m/usr/lib/python3.10/subprocess.py:369\u001b[0m, in \u001b[0;36mcheck_call\u001b[0;34m(*popenargs, **kwargs)\u001b[0m\n\u001b[1;32m    367\u001b[0m     \u001b[38;5;28;01mif\u001b[39;00m cmd \u001b[38;5;129;01mis\u001b[39;00m \u001b[38;5;28;01mNone\u001b[39;00m:\n\u001b[1;32m    368\u001b[0m         cmd \u001b[38;5;241m=\u001b[39m popenargs[\u001b[38;5;241m0\u001b[39m]\n\u001b[0;32m--> 369\u001b[0m     \u001b[38;5;28;01mraise\u001b[39;00m CalledProcessError(retcode, cmd)\n\u001b[1;32m    370\u001b[0m \u001b[38;5;28;01mreturn\u001b[39;00m \u001b[38;5;241m0\u001b[39m\n",
      "\u001b[0;31mCalledProcessError\u001b[0m: Command 'NEURON_RT_ASYNC_EXEC_MAX_INFLIGHT_REQUESTS=3  NEURON_CC_FLAGS='--cache_dir=./compiler_cache --model-type=cnn-training' neuronx-cc compile --target=trn1 --framework=XLA python -m    yolox.tools.train     -n yolox-s     -d 1     -b 2     ' returned non-zero exit status 2."
     ]
    }
   ],
   "source": [
    "%%time\n",
    "import subprocess\n",
    "print(\"Compile model\")\n",
    "COMPILE_CMD = f\"\"\"{env_var_options} neuronx-cc compile --target=trn1 --framework=XLA python -m \\\n",
    "   yolox.tools.train \\\n",
    "    -n {model} \\\n",
    "    -d {num_accelerators} \\\n",
    "    -b {total_batch_size} \\\n",
    "    \"\"\"\n",
    "\n",
    "print(f'Running command: \\n{COMPILE_CMD}')\n",
    "if subprocess.check_call(COMPILE_CMD,shell=True):\n",
    "   print(\"There was an error with the compilation command\")\n",
    "else:\n",
    "   print(\"Compilation Success!!!\")"
   ]
  },
  {
   "cell_type": "code",
   "execution_count": 3,
   "id": "122d2c69-3166-4439-bbf1-55dcb8d61081",
   "metadata": {},
   "outputs": [
    {
     "name": "stdout",
     "output_type": "stream",
     "text": [
      "/home/ubuntu/neuron-adoption\n"
     ]
    }
   ],
   "source": [
    "!pwd"
   ]
  },
  {
   "cell_type": "code",
   "execution_count": 6,
   "id": "d32761f7-6075-413c-8b5b-9e9388e92eb5",
   "metadata": {
    "scrolled": true
   },
   "outputs": [
    {
     "name": "stdout",
     "output_type": "stream",
     "text": [
      "Compile model\n",
      "Running command: \n",
      "NEURON_RT_ASYNC_EXEC_MAX_INFLIGHT_REQUESTS=3  NEURON_CC_FLAGS='--cache_dir=./compiler_cache --model-type=cnn-training' neuron_parallel_compile torchrun tools/train.py     -n yolox-s     -d 1     -b 2     \n",
      "2024-08-28 18:26:37.000248:  121045  INFO ||NEURON_PARALLEL_COMPILE||: Removing existing workdir /tmp/ubuntu/parallel_compile_workdir\n",
      "2024-08-28 18:26:37.000249:  121045  INFO ||NEURON_PARALLEL_COMPILE||: Running trial run (add option to terminate trial run early; also ignore trial run's generated outputs, i.e. loss, checkpoints)\n",
      "2024-08-28 18:26:37.000249:  121045  INFO ||NEURON_PARALLEL_COMPILE||: Running cmd: ['torchrun', 'tools/train.py', '-n', 'yolox-s', '-d', '1', '-b', '2']\n",
      "Traceback (most recent call last):\n",
      "  File \"/home/ubuntu/neuron-adoption/tools/train.py\", line 13, in <module>\n",
      "    from yolox.core import launch\n",
      "ModuleNotFoundError: No module named 'yolox'\n",
      "[2024-08-28 18:26:43,328] torch.distributed.elastic.multiprocessing.api: [ERROR] failed (exitcode: 1) local_rank: 0 (pid: 121083) of binary: /opt/aws_neuronx_venv_pytorch_2_1/bin/python3\n",
      "Traceback (most recent call last):\n",
      "  File \"/opt/aws_neuronx_venv_pytorch_2_1/bin/torchrun\", line 8, in <module>\n",
      "    sys.exit(main())\n",
      "  File \"/opt/aws_neuronx_venv_pytorch_2_1/lib/python3.10/site-packages/torch/distributed/elastic/multiprocessing/errors/__init__.py\", line 346, in wrapper\n",
      "    return f(*args, **kwargs)\n",
      "  File \"/opt/aws_neuronx_venv_pytorch_2_1/lib/python3.10/site-packages/torch/distributed/run.py\", line 806, in main\n",
      "    run(args)\n",
      "  File \"/opt/aws_neuronx_venv_pytorch_2_1/lib/python3.10/site-packages/torch/distributed/run.py\", line 797, in run\n",
      "    elastic_launch(\n",
      "  File \"/opt/aws_neuronx_venv_pytorch_2_1/lib/python3.10/site-packages/torch/distributed/launcher/api.py\", line 134, in __call__\n",
      "    return launch_agent(self._config, self._entrypoint, list(args))\n",
      "  File \"/opt/aws_neuronx_venv_pytorch_2_1/lib/python3.10/site-packages/torch/distributed/launcher/api.py\", line 264, in launch_agent\n",
      "    raise ChildFailedError(\n",
      "torch.distributed.elastic.multiprocessing.errors.ChildFailedError: \n",
      "============================================================\n",
      "tools/train.py FAILED\n",
      "------------------------------------------------------------\n",
      "Failures:\n",
      "  <NO_OTHER_FAILURES>\n",
      "------------------------------------------------------------\n",
      "Root Cause (first observed failure):\n",
      "[0]:\n",
      "  time      : 2024-08-28_18:26:43\n",
      "  host      : ip-172-31-78-152.ec2.internal\n",
      "  rank      : 0 (local_rank: 0)\n",
      "  exitcode  : 1 (pid: 121083)\n",
      "  error_file: <N/A>\n",
      "  traceback : To enable traceback see: https://pytorch.org/docs/stable/elastic/errors.html\n",
      "============================================================\n",
      "2024-08-28 18:26:43.000526:  121045  ERROR ||NEURON_PARALLEL_COMPILE||: There was an error in the training script.\n"
     ]
    },
    {
     "ename": "CalledProcessError",
     "evalue": "Command 'NEURON_RT_ASYNC_EXEC_MAX_INFLIGHT_REQUESTS=3  NEURON_CC_FLAGS='--cache_dir=./compiler_cache --model-type=cnn-training' neuron_parallel_compile torchrun tools/train.py     -n yolox-s     -d 1     -b 2     ' returned non-zero exit status 1.",
     "output_type": "error",
     "traceback": [
      "\u001b[0;31m---------------------------------------------------------------------------\u001b[0m",
      "\u001b[0;31mCalledProcessError\u001b[0m                        Traceback (most recent call last)",
      "File \u001b[0;32m<timed exec>:10\u001b[0m\n",
      "File \u001b[0;32m/usr/lib/python3.10/subprocess.py:369\u001b[0m, in \u001b[0;36mcheck_call\u001b[0;34m(*popenargs, **kwargs)\u001b[0m\n\u001b[1;32m    367\u001b[0m     \u001b[38;5;28;01mif\u001b[39;00m cmd \u001b[38;5;129;01mis\u001b[39;00m \u001b[38;5;28;01mNone\u001b[39;00m:\n\u001b[1;32m    368\u001b[0m         cmd \u001b[38;5;241m=\u001b[39m popenargs[\u001b[38;5;241m0\u001b[39m]\n\u001b[0;32m--> 369\u001b[0m     \u001b[38;5;28;01mraise\u001b[39;00m CalledProcessError(retcode, cmd)\n\u001b[1;32m    370\u001b[0m \u001b[38;5;28;01mreturn\u001b[39;00m \u001b[38;5;241m0\u001b[39m\n",
      "\u001b[0;31mCalledProcessError\u001b[0m: Command 'NEURON_RT_ASYNC_EXEC_MAX_INFLIGHT_REQUESTS=3  NEURON_CC_FLAGS='--cache_dir=./compiler_cache --model-type=cnn-training' neuron_parallel_compile torchrun tools/train.py     -n yolox-s     -d 1     -b 2     ' returned non-zero exit status 1."
     ]
    }
   ],
   "source": [
    "%%time\n",
    "import subprocess\n",
    "print(\"Compile model\")\n",
    "COMPILE_CMD = f\"\"\"{env_var_options} neuron_parallel_compile torchrun tools/train.py \\\n",
    "    -n {model} \\\n",
    "    -d {num_accelerators} \\\n",
    "    -b {total_batch_size} \\\n",
    "    \"\"\"\n",
    "\n",
    "print(f'Running command: \\n{COMPILE_CMD}')\n",
    "if subprocess.check_call(COMPILE_CMD,shell=True):\n",
    "   print(\"There was an error with the compilation command\")\n",
    "else:\n",
    "   print(\"Compilation Success!!!\")"
   ]
  },
  {
   "cell_type": "code",
   "execution_count": 1,
   "id": "071f7b26-b224-4538-bd6c-6a3d323686d5",
   "metadata": {},
   "outputs": [],
   "source": [
    "import torch_xla.distributed.xla_backend\n",
    "import torch_xla\n",
    "import torch_xla.debug.metrics as met\n",
    "import torch_xla.distributed.parallel_loader as pl\n",
    "import torch_xla.utils.utils as xu\n",
    "import torch_xla.core.xla_model as xm\n",
    "import torch_xla.distributed.xla_multiprocessing as xmp"
   ]
  },
  {
   "cell_type": "code",
   "execution_count": 2,
   "id": "d880e4b8-38d3-458c-994c-a7fbb1631533",
   "metadata": {},
   "outputs": [],
   "source": [
    "import torch "
   ]
  },
  {
   "cell_type": "code",
   "execution_count": 3,
   "id": "23705c52-b381-4b5d-8b89-d66fac678cc9",
   "metadata": {},
   "outputs": [],
   "source": [
    "device = xm.xla_device()"
   ]
  },
  {
   "cell_type": "code",
   "execution_count": 13,
   "id": "65913172-098c-4f8e-840e-91bd30831e78",
   "metadata": {},
   "outputs": [],
   "source": [
    "tens = torch.randn((2,120,5))"
   ]
  },
  {
   "cell_type": "code",
   "execution_count": 14,
   "id": "ae0ea001-86eb-43d1-abef-247281aa642d",
   "metadata": {},
   "outputs": [],
   "source": [
    "tens = tens.to(device)"
   ]
  },
  {
   "cell_type": "code",
   "execution_count": 18,
   "id": "3c685dad-95fb-4165-87b4-fab124e0bd74",
   "metadata": {},
   "outputs": [],
   "source": [
    "batch_idx = 1"
   ]
  },
  {
   "cell_type": "code",
   "execution_count": 4,
   "id": "d2f9ad70-3444-4fe0-b8a1-d17c6a037b7e",
   "metadata": {},
   "outputs": [],
   "source": [
    "nlabel = torch.tensor([ 1, 11], device='xla:0')"
   ]
  },
  {
   "cell_type": "code",
   "execution_count": 5,
   "id": "699e97fd-816f-4b02-8a3d-4672ca25e3f7",
   "metadata": {},
   "outputs": [
    {
     "data": {
      "text/plain": [
       "tensor([ 1, 11], device='xla:0')"
      ]
     },
     "execution_count": 5,
     "metadata": {},
     "output_type": "execute_result"
    }
   ],
   "source": [
    "nlabel"
   ]
  },
  {
   "cell_type": "code",
   "execution_count": 6,
   "id": "70c684cc-ed14-4612-b08b-9de33c64135d",
   "metadata": {},
   "outputs": [
    {
     "name": "stdout",
     "output_type": "stream",
     "text": [
      "2024-08-27 15:57:19.000657:  70723  INFO ||NEURON_CACHE||: Compile cache path: /var/tmp/neuron-compile-cache\n",
      "2024-08-27 15:57:19.000659:  70723  INFO ||NEURON_CC_WRAPPER||: Using a cached neff at /var/tmp/neuron-compile-cache/neuronxcc-2.14.227.0+2d4f85be/MODULE_16647071372593374447+d41d8cd9/model.neff. Exiting with a successfully compiled graph.\n"
     ]
    },
    {
     "data": {
      "text/plain": [
       "tensor(1, device='xla:0')"
      ]
     },
     "execution_count": 6,
     "metadata": {},
     "output_type": "execute_result"
    }
   ],
   "source": [
    "nlabel[0]"
   ]
  },
  {
   "cell_type": "code",
   "execution_count": 7,
   "id": "4d66478f-21cb-4fc8-9ba5-0a0da83a0a31",
   "metadata": {},
   "outputs": [
    {
     "name": "stdout",
     "output_type": "stream",
     "text": [
      "2024-08-27 15:57:24.000065:  70723  INFO ||NEURON_CACHE||: Compile cache path: /var/tmp/neuron-compile-cache\n",
      "2024-08-27 15:57:24.000067:  70723  INFO ||NEURON_CC_WRAPPER||: Using a cached neff at /var/tmp/neuron-compile-cache/neuronxcc-2.14.227.0+2d4f85be/MODULE_1801352655633372538+d41d8cd9/model.neff. Exiting with a successfully compiled graph.\n"
     ]
    },
    {
     "data": {
      "text/plain": [
       "tensor(16., device='xla:0')"
      ]
     },
     "execution_count": 7,
     "metadata": {},
     "output_type": "execute_result"
    }
   ],
   "source": [
    "(nlabel[1])+5.0"
   ]
  },
  {
   "cell_type": "code",
   "execution_count": 19,
   "id": "bc1ef592-9001-4941-a759-0ddd5ecce603",
   "metadata": {},
   "outputs": [],
   "source": [
    "not_labels = torch.tensor([[False, False,  True,  True, False, False,  True,  True, False, False,\n",
    "          True,  True, False, False,  True,  True, False, False,  True,  True,\n",
    "         False, False,  True,  True, False, False,  True,  True, False, False,\n",
    "          True,  True, False, False,  True,  True, False, False,  True,  True,\n",
    "         False, False,  True,  True, False, False,  True,  True, False, False,\n",
    "          True,  True, False, False,  True,  True, False, False,  True,  True,\n",
    "         False, False,  True,  True, False, False,  True,  True, False, False,\n",
    "          True,  True, False, False,  True,  True, False, False,  True,  True,\n",
    "         False, False,  True,  True, False, False,  True,  True, False, False,\n",
    "          True,  True, False, False,  True,  True, False, False,  True,  True,\n",
    "         False, False,  True,  True, False, False,  True,  True, False, False,\n",
    "          True,  True, False, False,  True,  True, False, False,  True,  True],\n",
    "        [False, False,  True,  True, False, False,  True,  True, False, False,\n",
    "          True,  True, False, False,  True,  True, False, False,  True,  True,\n",
    "         False, False,  True,  True, False, False,  True,  True, False, False,\n",
    "          True,  True, False, False,  True,  True, False, False,  True,  True,\n",
    "         False, False,  True,  True, False, False,  True,  True, False, False,\n",
    "          True,  True, False, False,  True,  True, False, False,  True,  True,\n",
    "         False, False,  True,  True, False, False,  True,  True, False, False,\n",
    "          True,  True, False, False,  True,  True, False, False,  True,  True,\n",
    "         False, False,  True,  True, False, False,  True,  True, False, False,\n",
    "          True,  True, False, False,  True,  True, False, False,  True,  True,\n",
    "         False, False,  True,  True, False, False,  True,  True, False, False,\n",
    "          True,  True, False, False,  True,  True, False, False,  True,  True]],\n",
    "       device='xla:0').sum(dim=1)"
   ]
  },
  {
   "cell_type": "code",
   "execution_count": 25,
   "id": "cae9758d-736d-4ea1-b19b-d20f51ca4f9e",
   "metadata": {},
   "outputs": [
    {
     "name": "stdout",
     "output_type": "stream",
     "text": [
      "2024-08-27 13:49:58.000466:  54555  INFO ||NEURON_CACHE||: Compile cache path: /var/tmp/neuron-compile-cache\n",
      "2024-08-27 13:49:58.000468:  54555  INFO ||NEURON_CC_WRAPPER||: Call compiler with cmd: neuronx-cc compile --target=trn1 --framework=XLA /tmp/ubuntu/neuroncc_compile_workdir/ae93512e-4b45-47cd-8ce3-120b12a08314/model.MODULE_3687020469296241480+d41d8cd9.hlo_module.pb --output /tmp/ubuntu/neuroncc_compile_workdir/ae93512e-4b45-47cd-8ce3-120b12a08314/model.MODULE_3687020469296241480+d41d8cd9.neff --verbose=35\n",
      ".\n",
      "Compiler status PASS\n"
     ]
    },
    {
     "data": {
      "text/plain": [
       "tensor([[0., 0., 1., 1., 0., 0., 1., 1., 0., 0., 1., 1., 0., 0., 1., 1., 0., 0.,\n",
       "         1., 1., 0., 0., 1., 1., 0., 0., 1., 1., 0., 0., 1., 1., 0., 0., 1., 1.,\n",
       "         0., 0., 1., 1., 0., 0., 1., 1., 0., 0., 1., 1., 0., 0., 1., 1., 0., 0.,\n",
       "         1., 1., 0., 0., 1., 1., 0., 0., 1., 1., 0., 0., 1., 1., 0., 0., 1., 1.,\n",
       "         0., 0., 1., 1., 0., 0., 1., 1., 0., 0., 1., 1., 0., 0., 1., 1., 0., 0.,\n",
       "         1., 1., 0., 0., 1., 1., 0., 0., 1., 1., 0., 0., 1., 1., 0., 0., 1., 1.,\n",
       "         0., 0., 1., 1., 0., 0., 1., 1., 0., 0., 1., 1.],\n",
       "        [0., 0., 1., 1., 0., 0., 1., 1., 0., 0., 1., 1., 0., 0., 1., 1., 0., 0.,\n",
       "         1., 1., 0., 0., 1., 1., 0., 0., 1., 1., 0., 0., 1., 1., 0., 0., 1., 1.,\n",
       "         0., 0., 1., 1., 0., 0., 1., 1., 0., 0., 1., 1., 0., 0., 1., 1., 0., 0.,\n",
       "         1., 1., 0., 0., 1., 1., 0., 0., 1., 1., 0., 0., 1., 1., 0., 0., 1., 1.,\n",
       "         0., 0., 1., 1., 0., 0., 1., 1., 0., 0., 1., 1., 0., 0., 1., 1., 0., 0.,\n",
       "         1., 1., 0., 0., 1., 1., 0., 0., 1., 1., 0., 0., 1., 1., 0., 0., 1., 1.,\n",
       "         0., 0., 1., 1., 0., 0., 1., 1., 0., 0., 1., 1.]], device='xla:0')"
      ]
     },
     "execution_count": 25,
     "metadata": {},
     "output_type": "execute_result"
    }
   ],
   "source": [
    "labels.float()"
   ]
  },
  {
   "cell_type": "code",
   "execution_count": 28,
   "id": "9e06d3b9-50b9-4837-96cf-3d30475a7829",
   "metadata": {},
   "outputs": [
    {
     "data": {
      "text/plain": [
       "torch.int64"
      ]
     },
     "execution_count": 28,
     "metadata": {},
     "output_type": "execute_result"
    }
   ],
   "source": [
    "labels.int().sum().dtype"
   ]
  },
  {
   "cell_type": "code",
   "execution_count": 22,
   "id": "af6306d9-e766-48ca-8670-ff78630708a2",
   "metadata": {},
   "outputs": [
    {
     "name": "stdout",
     "output_type": "stream",
     "text": [
      "2024-08-27 14:18:51.000587:  59328  INFO ||NEURON_CACHE||: Compile cache path: /var/tmp/neuron-compile-cache\n",
      "2024-08-27 14:18:51.000589:  59328  INFO ||NEURON_CC_WRAPPER||: Using a cached neff at /var/tmp/neuron-compile-cache/neuronxcc-2.14.227.0+2d4f85be/MODULE_5511776925357686574+d41d8cd9/model.neff. Exiting with a successfully compiled graph.\n"
     ]
    },
    {
     "data": {
      "text/plain": [
       "60"
      ]
     },
     "execution_count": 22,
     "metadata": {},
     "output_type": "execute_result"
    }
   ],
   "source": [
    "int(labels.int().sum(dim=1)[0])"
   ]
  },
  {
   "cell_type": "code",
   "execution_count": 18,
   "id": "c97cb3d6-b7a9-4f7e-9bc5-5f9e44e98277",
   "metadata": {},
   "outputs": [
    {
     "data": {
      "text/plain": [
       "tensor([[[-0.2449, -1.1971,  0.1564, -0.1102,  1.6893],\n",
       "         [ 0.4234,  0.1447,  0.1682, -0.2968, -0.3987],\n",
       "         [-1.5582,  0.7849, -0.8766, -0.5025,  1.9070],\n",
       "         ...,\n",
       "         [-0.6063,  0.0431, -0.8488, -0.2062, -0.9328],\n",
       "         [-0.5865, -0.1821, -1.0805,  1.3836, -1.2305],\n",
       "         [ 0.1348,  0.1601,  1.4559, -0.2639, -1.7168]],\n",
       "\n",
       "        [[-0.3150, -0.6927, -0.8262,  0.2997,  0.9659],\n",
       "         [-1.2939, -0.5188, -0.1757, -0.4744, -0.3728],\n",
       "         [ 1.3201, -1.8020, -0.3249,  0.2704,  0.6179],\n",
       "         ...,\n",
       "         [ 1.6895,  0.4514,  0.0423, -0.1617,  0.4631],\n",
       "         [ 0.4546,  0.2350, -0.5688, -0.2983,  1.6746],\n",
       "         [-0.8419, -0.4173, -0.2859,  0.4508, -0.4095]]], device='xla:0')"
      ]
     },
     "execution_count": 18,
     "metadata": {},
     "output_type": "execute_result"
    }
   ],
   "source": [
    "tens"
   ]
  },
  {
   "cell_type": "code",
   "execution_count": 19,
   "id": "fb6dd31e-b4b8-49a9-a8a8-f4a82765ea79",
   "metadata": {},
   "outputs": [
    {
     "data": {
      "text/plain": [
       "'torch.xla.FloatTensor'"
      ]
     },
     "execution_count": 19,
     "metadata": {},
     "output_type": "execute_result"
    }
   ],
   "source": [
    "tens.type()"
   ]
  },
  {
   "cell_type": "code",
   "execution_count": 20,
   "id": "3e4ba6e7-0571-4798-b5b0-0046619e48b1",
   "metadata": {},
   "outputs": [
    {
     "data": {
      "text/plain": [
       "torch.float32"
      ]
     },
     "execution_count": 20,
     "metadata": {},
     "output_type": "execute_result"
    }
   ],
   "source": [
    "tens.sum(dim=2).dtype"
   ]
  },
  {
   "cell_type": "code",
   "execution_count": 30,
   "id": "99a2a1b5-c9dd-406d-8a86-28cb647e8923",
   "metadata": {},
   "outputs": [
    {
     "name": "stdout",
     "output_type": "stream",
     "text": [
      "2024-08-27 12:58:00.000631:  49910  INFO ||NEURON_CACHE||: Compile cache path: /var/tmp/neuron-compile-cache\n",
      "2024-08-27 12:58:00.000634:  49910  INFO ||NEURON_CC_WRAPPER||: Call compiler with cmd: neuronx-cc compile --target=trn1 --framework=XLA /tmp/ubuntu/neuroncc_compile_workdir/03adde20-d67a-48c2-981e-192defd61efc/model.MODULE_6877146587899539883+d41d8cd9.hlo_module.pb --output /tmp/ubuntu/neuroncc_compile_workdir/03adde20-d67a-48c2-981e-192defd61efc/model.MODULE_6877146587899539883+d41d8cd9.neff --verbose=35\n",
      ".\n",
      "Compiler status PASS\n"
     ]
    },
    {
     "data": {
      "text/plain": [
       "tensor([62., 53.], device='xla:0')"
      ]
     },
     "execution_count": 30,
     "metadata": {},
     "output_type": "execute_result"
    }
   ],
   "source": [
    "(tens.sum(dim=2) > 0).to(dtype=tens.dtype).sum(dim=1)"
   ]
  },
  {
   "cell_type": "code",
   "execution_count": 23,
   "id": "d424439a-0515-47ff-bc10-f6fb855ac224",
   "metadata": {},
   "outputs": [
    {
     "data": {
      "text/plain": [
       "'torch.xla.BoolTensor'"
      ]
     },
     "execution_count": 23,
     "metadata": {},
     "output_type": "execute_result"
    }
   ],
   "source": [
    "(tens.sum(dim=2) > 0).type()"
   ]
  },
  {
   "cell_type": "code",
   "execution_count": 22,
   "id": "bcf0b2c0-d075-4b48-95fb-213fa1ee051e",
   "metadata": {},
   "outputs": [
    {
     "name": "stdout",
     "output_type": "stream",
     "text": [
      "2024-08-27 12:54:11.000622:  49910  INFO ||NEURON_CACHE||: Compile cache path: /var/tmp/neuron-compile-cache\n",
      "2024-08-27 12:54:11.000624:  49910  INFO ||NEURON_CC_WRAPPER||: Using a cached neff at /var/tmp/neuron-compile-cache/neuronxcc-2.14.227.0+2d4f85be/MODULE_11250971159319000456+d41d8cd9/model.neff. Exiting with a successfully compiled graph.\n"
     ]
    },
    {
     "data": {
      "text/plain": [
       "tensor([62, 53], device='xla:0')"
      ]
     },
     "execution_count": 22,
     "metadata": {},
     "output_type": "execute_result"
    }
   ],
   "source": [
    "(tens.sum(dim=2) > 0).sum(dim=1)"
   ]
  },
  {
   "cell_type": "code",
   "execution_count": 11,
   "id": "b080db64-9fd2-402b-8592-bd59d712519d",
   "metadata": {},
   "outputs": [],
   "source": [
    "nlabel = (tens.sum(dim=2) > 0).sum(dim=1)"
   ]
  },
  {
   "cell_type": "code",
   "execution_count": 14,
   "id": "4cf3c71c-b6f3-4d4c-926b-eb18b294c009",
   "metadata": {},
   "outputs": [
    {
     "data": {
      "text/plain": [
       "tensor([60, 67], device='xla:0')"
      ]
     },
     "execution_count": 14,
     "metadata": {},
     "output_type": "execute_result"
    }
   ],
   "source": [
    "nlabel"
   ]
  },
  {
   "cell_type": "code",
   "execution_count": 15,
   "id": "bedfc921-03a3-42a3-bf20-9e8da0bc9e0e",
   "metadata": {},
   "outputs": [
    {
     "name": "stdout",
     "output_type": "stream",
     "text": [
      "2024-08-27 12:19:50.000363:  49017  INFO ||NEURON_CACHE||: Compile cache path: /var/tmp/neuron-compile-cache\n",
      "2024-08-27 12:19:50.000366:  49017  INFO ||NEURON_CC_WRAPPER||: Call compiler with cmd: neuronx-cc compile --target=trn1 --framework=XLA /tmp/ubuntu/neuroncc_compile_workdir/d375e641-1c14-42c5-a39d-d229774269dd/model.MODULE_6039759920654611522+d41d8cd9.hlo_module.pb --output /tmp/ubuntu/neuroncc_compile_workdir/d375e641-1c14-42c5-a39d-d229774269dd/model.MODULE_6039759920654611522+d41d8cd9.neff --verbose=35\n",
      ".\n",
      "Compiler status PASS\n"
     ]
    }
   ],
   "source": [
    "num_gt = int(nlabel[batch_idx])"
   ]
  },
  {
   "cell_type": "code",
   "execution_count": 16,
   "id": "37953b0a-c2e3-4eaa-a6df-3cba95e3e1a9",
   "metadata": {},
   "outputs": [
    {
     "data": {
      "text/plain": [
       "67"
      ]
     },
     "execution_count": 16,
     "metadata": {},
     "output_type": "execute_result"
    }
   ],
   "source": [
    "num_gt"
   ]
  },
  {
   "cell_type": "code",
   "execution_count": 17,
   "id": "9e9eb9da-a00a-4a8f-807f-11e0abb8b8ce",
   "metadata": {},
   "outputs": [],
   "source": [
    "num_gts = 0.0"
   ]
  },
  {
   "cell_type": "code",
   "execution_count": 18,
   "id": "d947c51c-7fcd-4b9c-a568-506a68ab08c7",
   "metadata": {},
   "outputs": [],
   "source": [
    "num_gts += num_gt"
   ]
  },
  {
   "cell_type": "code",
   "execution_count": 19,
   "id": "fd0b2873-66f5-4c0a-b41a-3d34671464c4",
   "metadata": {},
   "outputs": [
    {
     "data": {
      "text/plain": [
       "67.0"
      ]
     },
     "execution_count": 19,
     "metadata": {},
     "output_type": "execute_result"
    }
   ],
   "source": [
    "num_gts"
   ]
  },
  {
   "cell_type": "code",
   "execution_count": 17,
   "id": "a1af89fe-034e-47e8-8506-5376f17ff1bb",
   "metadata": {},
   "outputs": [],
   "source": [
    "gt_classes = tens[0, :12, 1:5]"
   ]
  },
  {
   "cell_type": "code",
   "execution_count": 18,
   "id": "7f61db33-59b2-452d-85d6-96d9cfd1d457",
   "metadata": {},
   "outputs": [
    {
     "name": "stdout",
     "output_type": "stream",
     "text": [
      "2024-08-27 12:13:41.000522:  47388  INFO ||NEURON_CACHE||: Compile cache path: /var/tmp/neuron-compile-cache\n",
      "2024-08-27 12:13:41.000524:  47388  INFO ||NEURON_CC_WRAPPER||: Call compiler with cmd: neuronx-cc compile --target=trn1 --framework=XLA /tmp/ubuntu/neuroncc_compile_workdir/a3de99a1-4c13-483b-9d52-2ec497c6cd1c/model.MODULE_10441631103026055065+d41d8cd9.hlo_module.pb --output /tmp/ubuntu/neuroncc_compile_workdir/a3de99a1-4c13-483b-9d52-2ec497c6cd1c/model.MODULE_10441631103026055065+d41d8cd9.neff --verbose=35\n",
      ".\n",
      "Compiler status PASS\n"
     ]
    },
    {
     "data": {
      "text/plain": [
       "tensor([[-0.0070,  0.3554,  0.6552,  0.2503],\n",
       "        [ 0.7107, -0.6251,  0.3495,  0.0628],\n",
       "        [ 0.6770,  1.2086,  0.2129,  1.1978],\n",
       "        [-1.4641, -0.0977, -1.3328, -1.1305],\n",
       "        [-1.5518,  0.3596,  1.2465, -0.6324],\n",
       "        [ 2.1655,  0.7212, -0.2368,  0.8614],\n",
       "        [ 0.0651,  0.3983,  0.5659, -0.9727],\n",
       "        [ 0.0075, -2.6241, -1.0251, -0.5041],\n",
       "        [ 0.4719,  0.8205,  0.0857, -0.8424],\n",
       "        [-1.1100,  1.3116, -1.3192, -0.3926],\n",
       "        [ 0.2933,  0.8186, -1.5588,  1.1497],\n",
       "        [ 1.1985,  0.1529, -1.0026, -0.9975]], device='xla:0')"
      ]
     },
     "execution_count": 18,
     "metadata": {},
     "output_type": "execute_result"
    }
   ],
   "source": [
    "gt_classes"
   ]
  },
  {
   "cell_type": "code",
   "execution_count": 23,
   "id": "348aadb9-82d5-43d4-be83-68c8dd8c66ef",
   "metadata": {},
   "outputs": [],
   "source": [
    "n_tens = torch_xla.torch.tensor([[[1000,1223231,12131]]])"
   ]
  },
  {
   "cell_type": "code",
   "execution_count": 25,
   "id": "f7999adb-2dc5-4b8a-9b60-a79aac014c1a",
   "metadata": {},
   "outputs": [
    {
     "ename": "RuntimeError",
     "evalue": "linalg.vector_norm: Expected a floating point or complex tensor as input. Got Long",
     "output_type": "error",
     "traceback": [
      "\u001b[0;31m---------------------------------------------------------------------------\u001b[0m",
      "\u001b[0;31mRuntimeError\u001b[0m                              Traceback (most recent call last)",
      "Cell \u001b[0;32mIn[25], line 1\u001b[0m\n\u001b[0;32m----> 1\u001b[0m (\u001b[43mn_tens\u001b[49m\u001b[38;5;241;43m.\u001b[39;49m\u001b[43mnorm\u001b[49m\u001b[43m(\u001b[49m\u001b[43m)\u001b[49m)\u001b[38;5;241m.\u001b[39mto(torch\u001b[38;5;241m.\u001b[39mint64)\n",
      "File \u001b[0;32m/opt/aws_neuronx_venv_pytorch_2_1/lib/python3.10/site-packages/torch/_tensor.py:708\u001b[0m, in \u001b[0;36mTensor.norm\u001b[0;34m(self, p, dim, keepdim, dtype)\u001b[0m\n\u001b[1;32m    704\u001b[0m \u001b[38;5;28;01mif\u001b[39;00m has_torch_function_unary(\u001b[38;5;28mself\u001b[39m):\n\u001b[1;32m    705\u001b[0m     \u001b[38;5;28;01mreturn\u001b[39;00m handle_torch_function(\n\u001b[1;32m    706\u001b[0m         Tensor\u001b[38;5;241m.\u001b[39mnorm, (\u001b[38;5;28mself\u001b[39m,), \u001b[38;5;28mself\u001b[39m, p\u001b[38;5;241m=\u001b[39mp, dim\u001b[38;5;241m=\u001b[39mdim, keepdim\u001b[38;5;241m=\u001b[39mkeepdim, dtype\u001b[38;5;241m=\u001b[39mdtype\n\u001b[1;32m    707\u001b[0m     )\n\u001b[0;32m--> 708\u001b[0m \u001b[38;5;28;01mreturn\u001b[39;00m \u001b[43mtorch\u001b[49m\u001b[38;5;241;43m.\u001b[39;49m\u001b[43mnorm\u001b[49m\u001b[43m(\u001b[49m\u001b[38;5;28;43mself\u001b[39;49m\u001b[43m,\u001b[49m\u001b[43m \u001b[49m\u001b[43mp\u001b[49m\u001b[43m,\u001b[49m\u001b[43m \u001b[49m\u001b[43mdim\u001b[49m\u001b[43m,\u001b[49m\u001b[43m \u001b[49m\u001b[43mkeepdim\u001b[49m\u001b[43m,\u001b[49m\u001b[43m \u001b[49m\u001b[43mdtype\u001b[49m\u001b[38;5;241;43m=\u001b[39;49m\u001b[43mdtype\u001b[49m\u001b[43m)\u001b[49m\n",
      "File \u001b[0;32m/opt/aws_neuronx_venv_pytorch_2_1/lib/python3.10/site-packages/torch/functional.py:1595\u001b[0m, in \u001b[0;36mnorm\u001b[0;34m(input, p, dim, keepdim, out, dtype)\u001b[0m\n\u001b[1;32m   1593\u001b[0m \u001b[38;5;28;01mif\u001b[39;00m p \u001b[38;5;241m==\u001b[39m \u001b[38;5;124m\"\u001b[39m\u001b[38;5;124mfro\u001b[39m\u001b[38;5;124m\"\u001b[39m \u001b[38;5;129;01mand\u001b[39;00m (dim \u001b[38;5;129;01mis\u001b[39;00m \u001b[38;5;28;01mNone\u001b[39;00m \u001b[38;5;129;01mor\u001b[39;00m \u001b[38;5;28misinstance\u001b[39m(dim, \u001b[38;5;28mint\u001b[39m) \u001b[38;5;129;01mor\u001b[39;00m \u001b[38;5;28mlen\u001b[39m(dim) \u001b[38;5;241m<\u001b[39m\u001b[38;5;241m=\u001b[39m \u001b[38;5;241m2\u001b[39m):\n\u001b[1;32m   1594\u001b[0m     \u001b[38;5;28;01mif\u001b[39;00m out \u001b[38;5;129;01mis\u001b[39;00m \u001b[38;5;28;01mNone\u001b[39;00m:\n\u001b[0;32m-> 1595\u001b[0m         \u001b[38;5;28;01mreturn\u001b[39;00m \u001b[43mtorch\u001b[49m\u001b[38;5;241;43m.\u001b[39;49m\u001b[43mlinalg\u001b[49m\u001b[38;5;241;43m.\u001b[39;49m\u001b[43mvector_norm\u001b[49m\u001b[43m(\u001b[49m\u001b[38;5;28;43minput\u001b[39;49m\u001b[43m,\u001b[49m\u001b[43m \u001b[49m\u001b[38;5;241;43m2\u001b[39;49m\u001b[43m,\u001b[49m\u001b[43m \u001b[49m\u001b[43m_dim\u001b[49m\u001b[43m,\u001b[49m\u001b[43m \u001b[49m\u001b[43mkeepdim\u001b[49m\u001b[43m,\u001b[49m\u001b[43m \u001b[49m\u001b[43mdtype\u001b[49m\u001b[38;5;241;43m=\u001b[39;49m\u001b[43mdtype\u001b[49m\u001b[43m)\u001b[49m\n\u001b[1;32m   1596\u001b[0m     \u001b[38;5;28;01melse\u001b[39;00m:\n\u001b[1;32m   1597\u001b[0m         \u001b[38;5;28;01mreturn\u001b[39;00m torch\u001b[38;5;241m.\u001b[39mlinalg\u001b[38;5;241m.\u001b[39mvector_norm(\u001b[38;5;28minput\u001b[39m, \u001b[38;5;241m2\u001b[39m, _dim, keepdim, dtype\u001b[38;5;241m=\u001b[39mdtype, out\u001b[38;5;241m=\u001b[39mout)\n",
      "\u001b[0;31mRuntimeError\u001b[0m: linalg.vector_norm: Expected a floating point or complex tensor as input. Got Long"
     ]
    }
   ],
   "source": [
    "(n_tens.norm()).to(torch.int64)"
   ]
  },
  {
   "cell_type": "code",
   "execution_count": 20,
   "id": "1a3a6859-27dd-4ab8-82c6-07c40fba9cca",
   "metadata": {},
   "outputs": [],
   "source": [
    "n_tens = n_tens.to(device)"
   ]
  },
  {
   "cell_type": "code",
   "execution_count": 21,
   "id": "6da471de-941d-460b-8443-6116579fc5de",
   "metadata": {},
   "outputs": [
    {
     "data": {
      "text/plain": [
       "'torch.xla.LongTensor'"
      ]
     },
     "execution_count": 21,
     "metadata": {},
     "output_type": "execute_result"
    }
   ],
   "source": [
    "torch.stack((n_tens, n_tens), 2).view(1,2,1,3).type()"
   ]
  },
  {
   "cell_type": "code",
   "execution_count": 23,
   "id": "4173a228-4eae-4740-ba2c-493202cad341",
   "metadata": {},
   "outputs": [
    {
     "name": "stdout",
     "output_type": "stream",
     "text": [
      "2024-08-26 16:47:32.000558:  17656  INFO ||NEURON_CACHE||: Compile cache path: /var/tmp/neuron-compile-cache\n",
      "2024-08-26 16:47:32.000560:  17656  INFO ||NEURON_CC_WRAPPER||: Call compiler with cmd: neuronx-cc compile --target=trn1 --framework=XLA /tmp/ubuntu/neuroncc_compile_workdir/1f02e8d0-4c69-4361-b943-a91ce88f09d3/model.MODULE_16302122862933890670+d41d8cd9.hlo_module.pb --output /tmp/ubuntu/neuroncc_compile_workdir/1f02e8d0-4c69-4361-b943-a91ce88f09d3/model.MODULE_16302122862933890670+d41d8cd9.neff --verbose=35\n",
      ".\n",
      "Compiler status PASS\n"
     ]
    },
    {
     "data": {
      "text/plain": [
       "tensor([[0, 0, 0]], device='xla:0')"
      ]
     },
     "execution_count": 23,
     "metadata": {},
     "output_type": "execute_result"
    }
   ],
   "source": [
    "(n_tens < n_tens).type_as(n_tens).prod(dim=1)"
   ]
  },
  {
   "cell_type": "code",
   "execution_count": 18,
   "id": "7d0d7706-047b-4b5a-92a8-cb24213f65e8",
   "metadata": {},
   "outputs": [
    {
     "name": "stdout",
     "output_type": "stream",
     "text": [
      "2024-08-26 14:58:45.000366:  13842  INFO ||NEURON_CACHE||: Compile cache path: /var/tmp/neuron-compile-cache\n",
      "2024-08-26 14:58:45.000369:  13842  INFO ||NEURON_CC_WRAPPER||: Call compiler with cmd: neuronx-cc compile --target=trn1 --framework=XLA /tmp/ubuntu/neuroncc_compile_workdir/e684824e-fb48-467c-852b-e3ad912eb2a2/model.MODULE_11410224952559862343+d41d8cd9.hlo_module.pb --output /tmp/ubuntu/neuroncc_compile_workdir/e684824e-fb48-467c-852b-e3ad912eb2a2/model.MODULE_11410224952559862343+d41d8cd9.neff --verbose=35\n",
      ".\n",
      "Compiler status PASS\n"
     ]
    },
    {
     "data": {
      "text/plain": [
       "tensor([[[False, False, False]]], device='xla:0')"
      ]
     },
     "execution_count": 18,
     "metadata": {},
     "output_type": "execute_result"
    }
   ],
   "source": [
    "(n_tens < n_tens)"
   ]
  },
  {
   "cell_type": "code",
   "execution_count": 24,
   "id": "83b59796-0a46-4a38-8252-fbe180a9c834",
   "metadata": {},
   "outputs": [
    {
     "data": {
      "text/plain": [
       "'torch.xla.BoolTensor'"
      ]
     },
     "execution_count": 24,
     "metadata": {},
     "output_type": "execute_result"
    }
   ],
   "source": [
    "(n_tens < n_tens).type()"
   ]
  },
  {
   "cell_type": "code",
   "execution_count": null,
   "id": "a3dbfbb2-406a-4088-9ab5-19b50767f1cd",
   "metadata": {},
   "outputs": [],
   "source": []
  },
  {
   "cell_type": "code",
   "execution_count": 28,
   "id": "174a16e1-15b2-4d13-b767-c71b6450ecd6",
   "metadata": {},
   "outputs": [
    {
     "ename": "AttributeError",
     "evalue": "module 'torch_xla' has no attribute 'FloatTensor'",
     "output_type": "error",
     "traceback": [
      "\u001b[0;31m---------------------------------------------------------------------------\u001b[0m",
      "\u001b[0;31mAttributeError\u001b[0m                            Traceback (most recent call last)",
      "Cell \u001b[0;32mIn[28], line 1\u001b[0m\n\u001b[0;32m----> 1\u001b[0m (n_tens \u001b[38;5;241m<\u001b[39m n_tens)\u001b[38;5;241m.\u001b[39mtype(dtype\u001b[38;5;241m=\u001b[39m\u001b[43mtorch_xla\u001b[49m\u001b[38;5;241;43m.\u001b[39;49m\u001b[43mFloatTensor\u001b[49m)\n",
      "\u001b[0;31mAttributeError\u001b[0m: module 'torch_xla' has no attribute 'FloatTensor'"
     ]
    }
   ],
   "source": [
    "(n_tens < n_tens).type(dtype=torch_xla.FloatTensor)"
   ]
  },
  {
   "cell_type": "code",
   "execution_count": 21,
   "id": "af46082d-b9b8-4c24-b079-eb2d4ada5ab5",
   "metadata": {},
   "outputs": [
    {
     "ename": "ValueError",
     "evalue": "invalid type: 'torch.xla.LongTensor'",
     "output_type": "error",
     "traceback": [
      "\u001b[0;31m---------------------------------------------------------------------------\u001b[0m",
      "\u001b[0;31mValueError\u001b[0m                                Traceback (most recent call last)",
      "Cell \u001b[0;32mIn[21], line 1\u001b[0m\n\u001b[0;32m----> 1\u001b[0m \u001b[43m(\u001b[49m\u001b[43mn_tens\u001b[49m\u001b[43m \u001b[49m\u001b[38;5;241;43m<\u001b[39;49m\u001b[43m \u001b[49m\u001b[43mn_tens\u001b[49m\u001b[43m)\u001b[49m\u001b[38;5;241;43m.\u001b[39;49m\u001b[43mtype\u001b[49m\u001b[43m(\u001b[49m\u001b[38;5;124;43m\"\u001b[39;49m\u001b[38;5;124;43mtorch.xla.LongTensor\u001b[39;49m\u001b[38;5;124;43m\"\u001b[39;49m\u001b[43m)\u001b[49m\n",
      "\u001b[0;31mValueError\u001b[0m: invalid type: 'torch.xla.LongTensor'"
     ]
    }
   ],
   "source": [
    "(n_tens < n_tens).type(\"torch.xla.LongTensor\")"
   ]
  },
  {
   "cell_type": "code",
   "execution_count": 5,
   "id": "c306f8d1-3d40-46b4-ad6a-95e7efbc9760",
   "metadata": {},
   "outputs": [],
   "source": [
    "import torch"
   ]
  },
  {
   "cell_type": "code",
   "execution_count": 12,
   "id": "f2b5a5a6-3590-4e75-8f33-d7f1f310dbb2",
   "metadata": {},
   "outputs": [],
   "source": [
    "a = torch.tensor([[1,1,1,]])"
   ]
  },
  {
   "cell_type": "code",
   "execution_count": 13,
   "id": "86f92b7e-70d5-4f6c-9b34-fb9f2ffaea6a",
   "metadata": {},
   "outputs": [
    {
     "data": {
      "text/plain": [
       "tensor([[0., 0., 0.]])"
      ]
     },
     "execution_count": 13,
     "metadata": {},
     "output_type": "execute_result"
    }
   ],
   "source": [
    "(a > a).type('torch.FloatTensor')"
   ]
  },
  {
   "cell_type": "code",
   "execution_count": 14,
   "id": "4acc1a40-a47c-4a56-b4f2-524da1407c29",
   "metadata": {},
   "outputs": [
    {
     "ename": "SyntaxError",
     "evalue": "invalid syntax (1307965163.py, line 1)",
     "output_type": "error",
     "traceback": [
      "\u001b[0;36m  Cell \u001b[0;32mIn[14], line 1\u001b[0;36m\u001b[0m\n\u001b[0;31m    .type()\u001b[0m\n\u001b[0m    ^\u001b[0m\n\u001b[0;31mSyntaxError\u001b[0m\u001b[0;31m:\u001b[0m invalid syntax\n"
     ]
    }
   ],
   "source": [
    ".type()\n",
    "\n",
    "\n",
    ".to(dtype=...)\n",
    "\n"
   ]
  },
  {
   "cell_type": "code",
   "execution_count": null,
   "id": "3a9eabe2-6e43-416a-8bd4-2abe50cddf85",
   "metadata": {},
   "outputs": [],
   "source": []
  },
  {
   "cell_type": "code",
   "execution_count": null,
   "id": "5493342c-4b85-45c2-950b-ff6d34f47f72",
   "metadata": {},
   "outputs": [],
   "source": []
  }
 ],
 "metadata": {
  "kernelspec": {
   "display_name": "Python (torch-neuronx)",
   "language": "python",
   "name": "aws_neuron_venv_pytorch"
  },
  "language_info": {
   "codemirror_mode": {
    "name": "ipython",
    "version": 3
   },
   "file_extension": ".py",
   "mimetype": "text/x-python",
   "name": "python",
   "nbconvert_exporter": "python",
   "pygments_lexer": "ipython3",
   "version": "3.10.12"
  }
 },
 "nbformat": 4,
 "nbformat_minor": 5
}
